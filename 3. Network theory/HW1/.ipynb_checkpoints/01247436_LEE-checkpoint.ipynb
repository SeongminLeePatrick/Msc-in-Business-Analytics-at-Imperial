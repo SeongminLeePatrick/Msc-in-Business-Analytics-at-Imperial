{
 "cells": [
  {
   "cell_type": "markdown",
   "metadata": {},
   "source": [
    "## Network Analytics HW1\n",
    "## Name : Seongmin Lee (CID: 01247436)\n"
   ]
  },
  {
   "cell_type": "code",
   "execution_count": 1,
   "metadata": {
    "collapsed": true
   },
   "outputs": [],
   "source": [
    "import numpy as np, pandas as pd, pandas_datareader.data as data\n",
    "import matplotlib.pyplot as plt\n",
    "from datetime import datetime as dt\n",
    "import nxviz as nv\n",
    "%matplotlib inline\n",
    "import networkx as nx\n",
    "from nxviz import CircosPlot\n",
    "import string"
   ]
  },
  {
   "cell_type": "markdown",
   "metadata": {},
   "source": [
    " ## 1 - a)\n",
    "- When it comes to the sum of each node degree, the each edge is counted  twice, which makes the twice number of the edges 'm'(2m). In addition, the set of edges without a direction is same as the number of edges, which indicates the sum of each node degree(deg(v)) is twice greater than the number of edge set(2|E|)."
   ]
  },
  {
   "cell_type": "markdown",
   "metadata": {},
   "source": [
    "## 1 - b)\n",
    "- A outdegree for one node is always an indegree for another linked node in a directed graph, which indicates that the sum of indegree for all nodes is same as the sum of outdegfree for all nodes. For instance, there are 100 people who exchange a certain limited money with one another. In this case, the sum of the income for all people is same as the sum of the outcome for all people."
   ]
  },
  {
   "cell_type": "markdown",
   "metadata": {},
   "source": [
    "## 2 - a) \n",
    "- If a connected network with the 'n' number of nodes and 'n' number of edges, the network has a cycle, which means it is not a tree anymore. As depicted, there is an example with 3 nodes and 3 edges in a tree, which shows a cycle. However, a connected graph with the n nodes and n-1 edges creates a tree because n nodes with n-1 edges cannot form a cycle."
   ]
  },
  {
   "cell_type": "code",
   "execution_count": 2,
   "metadata": {
    "collapsed": true
   },
   "outputs": [],
   "source": [
    "plt.rcParams['figure.figsize'] = (2, 3)\n",
    "def tree_example(node_num, edge_num):\n",
    "    K = nx.Graph()\n",
    "    node_list = list(range(1,node_num+1)) #generate the node list\n",
    "    K.add_nodes_from(node_list) \n",
    "    for i in range(1, edge_num+1):\n",
    "        if i < node_num: # a tree\n",
    "            K.add_edge(i, i+1)\n",
    "        elif i == node_num: # a cycle\n",
    "            K.add_edge(i-node_num+1, node_num)\n",
    "    nx.draw(K)"
   ]
  },
  {
   "cell_type": "code",
   "execution_count": 3,
   "metadata": {
    "scrolled": true
   },
   "outputs": [
    {
     "data": {
      "image/png": "[encoded data removed]",
      "text/plain": [
       "<matplotlib.figure.Figure at 0x22fefff0668>"
      ]
     },
     "metadata": {},
     "output_type": "display_data"
    }
   ],
   "source": [
    "# Exmaple for 2-a) 3 nodes with 3 edges\n",
    "tree_example(node_num = 3, edge_num= 3)"
   ]
  },
  {
   "cell_type": "code",
   "execution_count": 4,
   "metadata": {
    "scrolled": false
   },
   "outputs": [
    {
     "data": {
      "image/png": "[encoded data removed]",
      "text/plain": [
       "<matplotlib.figure.Figure at 0x22ff02a0748>"
      ]
     },
     "metadata": {},
     "output_type": "display_data"
    }
   ],
   "source": [
    "# # Exmaple for 2-a) 3(n) nodes with 3(n-1) edges\n",
    "tree_example(node_num = 3, edge_num= 2)"
   ]
  },
  {
   "cell_type": "markdown",
   "metadata": {},
   "source": [
    "## 2 - b) \n",
    "- The main characteristic of a tree is no cycle, which indicates that there must be at least three nodes with only two edges to form a tree as above. if one of the leaves has more than one edge, then the leave cannot be a leave, but it can form a cycle or a root to create a leave. However, if a network is not a tree, there is no constraint for the leaves with one link."
   ]
  },
  {
   "cell_type": "markdown",
   "metadata": {},
   "source": [
    "## 2 - c) \n",
    "- In a tree, there is no cycle, which also means there is no other path between any two nodes, but there is only one way to go along. If there are more than one path between any two nodes, the network is not a tree because there is at least a cycle."
   ]
  },
  {
   "cell_type": "markdown",
   "metadata": {},
   "source": [
    "## 3)\n",
    "- By cutting the numbered node and the edge linked to the next numbering node, we can see every arc go from a lower-numbered node to a higher-numbered node. Supposed there is a DAG with nodes (A to Z), we can cut the start node A, which does not have any indegree edges, and remove the every edge linked to the node A. The network is still a DAG. And we label the node A as 1. Once again, we pick a node without any incoming edges to remove the node and the linked edges, and label the node as 2. At the end, the DAG will have no nodes and edges with the number labeling in an ascending order."
   ]
  },
  {
   "cell_type": "markdown",
   "metadata": {},
   "source": [
    "## Excercise 2"
   ]
  },
  {
   "cell_type": "code",
   "execution_count": 5,
   "metadata": {},
   "outputs": [
    {
     "ename": "FileNotFoundError",
     "evalue": "File b'C:/Users/min/Documents/2ndSemster/Network/HW/HW1_asset_prices.csv' does not exist",
     "output_type": "error",
     "traceback": [
      "\u001b[1;31m---------------------------------------------------------------------------\u001b[0m",
      "\u001b[1;31mFileNotFoundError\u001b[0m                         Traceback (most recent call last)",
      "\u001b[1;32m<ipython-input-5-a96dab6ee7f5>\u001b[0m in \u001b[0;36m<module>\u001b[1;34m()\u001b[0m\n\u001b[1;32m----> 1\u001b[1;33m \u001b[0mstocks_data\u001b[0m \u001b[1;33m=\u001b[0m \u001b[0mpd\u001b[0m\u001b[1;33m.\u001b[0m\u001b[0mread_csv\u001b[0m\u001b[1;33m(\u001b[0m\u001b[1;34m'C:/Users/min/Documents/2ndSemster/Network/HW/HW1_asset_prices.csv'\u001b[0m\u001b[1;33m,\u001b[0m \u001b[0mindex_col\u001b[0m\u001b[1;33m=\u001b[0m\u001b[1;34m'Date'\u001b[0m\u001b[1;33m)\u001b[0m\u001b[1;33m\u001b[0m\u001b[0m\n\u001b[0m",
      "\u001b[1;32mC:\\Users\\min\\Anaconda3\\lib\\site-packages\\pandas\\io\\parsers.py\u001b[0m in \u001b[0;36mparser_f\u001b[1;34m(filepath_or_buffer, sep, delimiter, header, names, index_col, usecols, squeeze, prefix, mangle_dupe_cols, dtype, engine, converters, true_values, false_values, skipinitialspace, skiprows, nrows, na_values, keep_default_na, na_filter, verbose, skip_blank_lines, parse_dates, infer_datetime_format, keep_date_col, date_parser, dayfirst, iterator, chunksize, compression, thousands, decimal, lineterminator, quotechar, quoting, escapechar, comment, encoding, dialect, tupleize_cols, error_bad_lines, warn_bad_lines, skipfooter, skip_footer, doublequote, delim_whitespace, as_recarray, compact_ints, use_unsigned, low_memory, buffer_lines, memory_map, float_precision)\u001b[0m\n\u001b[0;32m    703\u001b[0m                     skip_blank_lines=skip_blank_lines)\n\u001b[0;32m    704\u001b[0m \u001b[1;33m\u001b[0m\u001b[0m\n\u001b[1;32m--> 705\u001b[1;33m         \u001b[1;32mreturn\u001b[0m \u001b[0m_read\u001b[0m\u001b[1;33m(\u001b[0m\u001b[0mfilepath_or_buffer\u001b[0m\u001b[1;33m,\u001b[0m \u001b[0mkwds\u001b[0m\u001b[1;33m)\u001b[0m\u001b[1;33m\u001b[0m\u001b[0m\n\u001b[0m\u001b[0;32m    706\u001b[0m \u001b[1;33m\u001b[0m\u001b[0m\n\u001b[0;32m    707\u001b[0m     \u001b[0mparser_f\u001b[0m\u001b[1;33m.\u001b[0m\u001b[0m__name__\u001b[0m \u001b[1;33m=\u001b[0m \u001b[0mname\u001b[0m\u001b[1;33m\u001b[0m\u001b[0m\n",
      "\u001b[1;32mC:\\Users\\min\\Anaconda3\\lib\\site-packages\\pandas\\io\\parsers.py\u001b[0m in \u001b[0;36m_read\u001b[1;34m(filepath_or_buffer, kwds)\u001b[0m\n\u001b[0;32m    443\u001b[0m \u001b[1;33m\u001b[0m\u001b[0m\n\u001b[0;32m    444\u001b[0m     \u001b[1;31m# Create the parser.\u001b[0m\u001b[1;33m\u001b[0m\u001b[1;33m\u001b[0m\u001b[0m\n\u001b[1;32m--> 445\u001b[1;33m     \u001b[0mparser\u001b[0m \u001b[1;33m=\u001b[0m \u001b[0mTextFileReader\u001b[0m\u001b[1;33m(\u001b[0m\u001b[0mfilepath_or_buffer\u001b[0m\u001b[1;33m,\u001b[0m \u001b[1;33m**\u001b[0m\u001b[0mkwds\u001b[0m\u001b[1;33m)\u001b[0m\u001b[1;33m\u001b[0m\u001b[0m\n\u001b[0m\u001b[0;32m    446\u001b[0m \u001b[1;33m\u001b[0m\u001b[0m\n\u001b[0;32m    447\u001b[0m     \u001b[1;32mif\u001b[0m \u001b[0mchunksize\u001b[0m \u001b[1;32mor\u001b[0m \u001b[0miterator\u001b[0m\u001b[1;33m:\u001b[0m\u001b[1;33m\u001b[0m\u001b[0m\n",
      "\u001b[1;32mC:\\Users\\min\\Anaconda3\\lib\\site-packages\\pandas\\io\\parsers.py\u001b[0m in \u001b[0;36m__init__\u001b[1;34m(self, f, engine, **kwds)\u001b[0m\n\u001b[0;32m    812\u001b[0m             \u001b[0mself\u001b[0m\u001b[1;33m.\u001b[0m\u001b[0moptions\u001b[0m\u001b[1;33m[\u001b[0m\u001b[1;34m'has_index_names'\u001b[0m\u001b[1;33m]\u001b[0m \u001b[1;33m=\u001b[0m \u001b[0mkwds\u001b[0m\u001b[1;33m[\u001b[0m\u001b[1;34m'has_index_names'\u001b[0m\u001b[1;33m]\u001b[0m\u001b[1;33m\u001b[0m\u001b[0m\n\u001b[0;32m    813\u001b[0m \u001b[1;33m\u001b[0m\u001b[0m\n\u001b[1;32m--> 814\u001b[1;33m         \u001b[0mself\u001b[0m\u001b[1;33m.\u001b[0m\u001b[0m_make_engine\u001b[0m\u001b[1;33m(\u001b[0m\u001b[0mself\u001b[0m\u001b[1;33m.\u001b[0m\u001b[0mengine\u001b[0m\u001b[1;33m)\u001b[0m\u001b[1;33m\u001b[0m\u001b[0m\n\u001b[0m\u001b[0;32m    815\u001b[0m \u001b[1;33m\u001b[0m\u001b[0m\n\u001b[0;32m    816\u001b[0m     \u001b[1;32mdef\u001b[0m \u001b[0mclose\u001b[0m\u001b[1;33m(\u001b[0m\u001b[0mself\u001b[0m\u001b[1;33m)\u001b[0m\u001b[1;33m:\u001b[0m\u001b[1;33m\u001b[0m\u001b[0m\n",
      "\u001b[1;32mC:\\Users\\min\\Anaconda3\\lib\\site-packages\\pandas\\io\\parsers.py\u001b[0m in \u001b[0;36m_make_engine\u001b[1;34m(self, engine)\u001b[0m\n\u001b[0;32m   1043\u001b[0m     \u001b[1;32mdef\u001b[0m \u001b[0m_make_engine\u001b[0m\u001b[1;33m(\u001b[0m\u001b[0mself\u001b[0m\u001b[1;33m,\u001b[0m \u001b[0mengine\u001b[0m\u001b[1;33m=\u001b[0m\u001b[1;34m'c'\u001b[0m\u001b[1;33m)\u001b[0m\u001b[1;33m:\u001b[0m\u001b[1;33m\u001b[0m\u001b[0m\n\u001b[0;32m   1044\u001b[0m         \u001b[1;32mif\u001b[0m \u001b[0mengine\u001b[0m \u001b[1;33m==\u001b[0m \u001b[1;34m'c'\u001b[0m\u001b[1;33m:\u001b[0m\u001b[1;33m\u001b[0m\u001b[0m\n\u001b[1;32m-> 1045\u001b[1;33m             \u001b[0mself\u001b[0m\u001b[1;33m.\u001b[0m\u001b[0m_engine\u001b[0m \u001b[1;33m=\u001b[0m \u001b[0mCParserWrapper\u001b[0m\u001b[1;33m(\u001b[0m\u001b[0mself\u001b[0m\u001b[1;33m.\u001b[0m\u001b[0mf\u001b[0m\u001b[1;33m,\u001b[0m \u001b[1;33m**\u001b[0m\u001b[0mself\u001b[0m\u001b[1;33m.\u001b[0m\u001b[0moptions\u001b[0m\u001b[1;33m)\u001b[0m\u001b[1;33m\u001b[0m\u001b[0m\n\u001b[0m\u001b[0;32m   1046\u001b[0m         \u001b[1;32melse\u001b[0m\u001b[1;33m:\u001b[0m\u001b[1;33m\u001b[0m\u001b[0m\n\u001b[0;32m   1047\u001b[0m             \u001b[1;32mif\u001b[0m \u001b[0mengine\u001b[0m \u001b[1;33m==\u001b[0m \u001b[1;34m'python'\u001b[0m\u001b[1;33m:\u001b[0m\u001b[1;33m\u001b[0m\u001b[0m\n",
      "\u001b[1;32mC:\\Users\\min\\Anaconda3\\lib\\site-packages\\pandas\\io\\parsers.py\u001b[0m in \u001b[0;36m__init__\u001b[1;34m(self, src, **kwds)\u001b[0m\n\u001b[0;32m   1682\u001b[0m         \u001b[0mkwds\u001b[0m\u001b[1;33m[\u001b[0m\u001b[1;34m'allow_leading_cols'\u001b[0m\u001b[1;33m]\u001b[0m \u001b[1;33m=\u001b[0m \u001b[0mself\u001b[0m\u001b[1;33m.\u001b[0m\u001b[0mindex_col\u001b[0m \u001b[1;32mis\u001b[0m \u001b[1;32mnot\u001b[0m \u001b[1;32mFalse\u001b[0m\u001b[1;33m\u001b[0m\u001b[0m\n\u001b[0;32m   1683\u001b[0m \u001b[1;33m\u001b[0m\u001b[0m\n\u001b[1;32m-> 1684\u001b[1;33m         \u001b[0mself\u001b[0m\u001b[1;33m.\u001b[0m\u001b[0m_reader\u001b[0m \u001b[1;33m=\u001b[0m \u001b[0mparsers\u001b[0m\u001b[1;33m.\u001b[0m\u001b[0mTextReader\u001b[0m\u001b[1;33m(\u001b[0m\u001b[0msrc\u001b[0m\u001b[1;33m,\u001b[0m \u001b[1;33m**\u001b[0m\u001b[0mkwds\u001b[0m\u001b[1;33m)\u001b[0m\u001b[1;33m\u001b[0m\u001b[0m\n\u001b[0m\u001b[0;32m   1685\u001b[0m \u001b[1;33m\u001b[0m\u001b[0m\n\u001b[0;32m   1686\u001b[0m         \u001b[1;31m# XXX\u001b[0m\u001b[1;33m\u001b[0m\u001b[1;33m\u001b[0m\u001b[0m\n",
      "\u001b[1;32mpandas/_libs/parsers.pyx\u001b[0m in \u001b[0;36mpandas._libs.parsers.TextReader.__cinit__\u001b[1;34m()\u001b[0m\n",
      "\u001b[1;32mpandas/_libs/parsers.pyx\u001b[0m in \u001b[0;36mpandas._libs.parsers.TextReader._setup_parser_source\u001b[1;34m()\u001b[0m\n",
      "\u001b[1;31mFileNotFoundError\u001b[0m: File b'C:/Users/min/Documents/2ndSemster/Network/HW/HW1_asset_prices.csv' does not exist"
     ]
    }
   ],
   "source": [
    "stocks_data = pd.read_csv('C:/Users/min/Documents/2ndSemster/Network/HW/HW1_asset_prices.csv', index_col='Date')"
   ]
  },
  {
   "cell_type": "code",
   "execution_count": null,
   "metadata": {
    "collapsed": true
   },
   "outputs": [],
   "source": [
    "#Colname Abbreviation\n",
    "col_name = []\n",
    "for i in list(stocks_data.columns):\n",
    "    name = i.split('~')[1].split('.')[0]\n",
    "    col_name.append(name)"
   ]
  },
  {
   "cell_type": "code",
   "execution_count": null,
   "metadata": {
    "collapsed": true
   },
   "outputs": [],
   "source": [
    "stocks_data = pd.read_csv('C:/Users/min/Documents/2ndSemster/Network/HW/HW1_asset_prices.csv', header=0, names = col_name)"
   ]
  },
  {
   "cell_type": "code",
   "execution_count": null,
   "metadata": {
    "scrolled": false
   },
   "outputs": [],
   "source": [
    "stocks_data.shape"
   ]
  },
  {
   "cell_type": "markdown",
   "metadata": {},
   "source": [
    "### Calculation of return"
   ]
  },
  {
   "cell_type": "code",
   "execution_count": null,
   "metadata": {
    "collapsed": true
   },
   "outputs": [],
   "source": [
    "#calculation of return\n",
    "for col in stocks_data.columns:\n",
    "    result = [0]\n",
    "    each_col = {}\n",
    "    for i in range(len(stocks_data)-1):\n",
    "        ret = (stocks_data[col].iloc[i] - stocks_data[col].iloc[i+1])/stocks_data[col].iloc[i+1]\n",
    "        result.append(ret)\n",
    "    each_col = {col:result}\n",
    "    dat = pd.DataFrame(each_col, index=stocks_data.index)\n",
    "    stocks_data = pd.concat([stocks_data, dat], axis = 1)"
   ]
  },
  {
   "cell_type": "code",
   "execution_count": null,
   "metadata": {
    "scrolled": false
   },
   "outputs": [],
   "source": [
    "stocks_data.columns[0:39]"
   ]
  },
  {
   "cell_type": "code",
   "execution_count": null,
   "metadata": {
    "scrolled": false
   },
   "outputs": [],
   "source": [
    "stocks_data.head()"
   ]
  },
  {
   "cell_type": "code",
   "execution_count": null,
   "metadata": {
    "collapsed": true
   },
   "outputs": [],
   "source": [
    "stocks_data = stocks_data.iloc[1:,39:]"
   ]
  },
  {
   "cell_type": "code",
   "execution_count": null,
   "metadata": {},
   "outputs": [],
   "source": [
    "stocks_data.shape"
   ]
  },
  {
   "cell_type": "code",
   "execution_count": null,
   "metadata": {},
   "outputs": [],
   "source": [
    "stocks_data.head()"
   ]
  },
  {
   "cell_type": "markdown",
   "metadata": {},
   "source": [
    " ## a) Correlation Matrix"
   ]
  },
  {
   "cell_type": "code",
   "execution_count": null,
   "metadata": {
    "scrolled": true
   },
   "outputs": [],
   "source": [
    "corr_stocks = stocks_data.corr()\n",
    "corr_stocks"
   ]
  },
  {
   "cell_type": "markdown",
   "metadata": {},
   "source": [
    "### Create a undirected graph"
   ]
  },
  {
   "cell_type": "code",
   "execution_count": null,
   "metadata": {
    "collapsed": true
   },
   "outputs": [],
   "source": [
    "G= nx.Graph()\n",
    "G.add_nodes_from(list(corr_stocks.columns)) #Create Nodes\n",
    "count = 0\n",
    "i = -1\n",
    "for col in list(G.nodes()):\n",
    "    i += 1\n",
    "    for count in range(i,len(G.nodes())-1):\n",
    "        count += 1\n",
    "        weight = corr_stocks[col][count]\n",
    "        G.add_edge(col, corr_stocks[col].index[count], weight = weight)"
   ]
  },
  {
   "cell_type": "code",
   "execution_count": null,
   "metadata": {
    "scrolled": true
   },
   "outputs": [],
   "source": [
    "len(G.edges(data=True)) #(39*39 - 39) = total 741 elements"
   ]
  },
  {
   "cell_type": "code",
   "execution_count": null,
   "metadata": {
    "scrolled": false
   },
   "outputs": [],
   "source": [
    "G.nodes(data=True)"
   ]
  },
  {
   "cell_type": "code",
   "execution_count": null,
   "metadata": {},
   "outputs": [],
   "source": [
    "G.edges(data=True)"
   ]
  },
  {
   "cell_type": "markdown",
   "metadata": {},
   "source": [
    "## Spectral Layout"
   ]
  },
  {
   "cell_type": "code",
   "execution_count": null,
   "metadata": {
    "scrolled": false
   },
   "outputs": [],
   "source": [
    "weights = [abs(G[u][v]['weight'])*4 for u, v in edges] #calculate the each edge weight(=corrleation * 4)\n",
    "pos = nx.spectral_layout(G)\n",
    "nx.draw_networkx_edges(G, pos, width=weights)\n",
    "nx.draw_networkx_nodes(G, pos, node_size= 5000, node_color = '#ffc0cb')\n",
    "\n",
    "labels = {u:u for u in dict(G.nodes(data=True)).keys()}\n",
    "nx.draw_networkx_labels(G, pos, labels, font_size = 30)\n",
    "\n",
    "plt.rcParams['figure.figsize'] = (40, 25)\n",
    "plt.show()"
   ]
  },
  {
   "cell_type": "markdown",
   "metadata": {},
   "source": [
    "## Spring Layout"
   ]
  },
  {
   "cell_type": "code",
   "execution_count": null,
   "metadata": {},
   "outputs": [],
   "source": [
    "pos = nx.spring_layout(G)\n",
    "nx.draw_networkx_edges(G, pos, width=weights)\n",
    "nx.draw_networkx_nodes(G, pos, node_size= 5000, node_color = '#ffc0cb')\n",
    "\n",
    "labels = {u:u for u in dict(G.nodes(data=True)).keys()}\n",
    "nx.draw_networkx_labels(G, pos, labels, font_size = 30)\n",
    "\n",
    "plt.rcParams['figure.figsize'] = (40, 25)\n",
    "plt.show()"
   ]
  },
  {
   "cell_type": "markdown",
   "metadata": {},
   "source": [
    "## B) Circular Layout (The layout to use)\n",
    "- I picked the circular layout becuase the location of nodes is not changing, and there is no overlap between nodes every time I run the program, which makes it easy to find out stocks. In other word, in view of visualization, the depict shows information in a regular way."
   ]
  },
  {
   "cell_type": "code",
   "execution_count": null,
   "metadata": {},
   "outputs": [],
   "source": [
    "pos = nx.circular_layout(G)\n",
    "nx.draw_networkx_edges(G, pos, width=weights)\n",
    "nx.draw_networkx_nodes(G, pos, node_size= 5000, node_color = '#ffc0cb')\n",
    "\n",
    "labels = {u:u for u in dict(G.nodes(data=True)).keys()}\n",
    "nx.draw_networkx_labels(G, pos, labels, font_size = 30)\n",
    "\n",
    "plt.rcParams['figure.figsize'] = (40, 25)\n",
    "plt.show()\n"
   ]
  },
  {
   "cell_type": "markdown",
   "metadata": {},
   "source": [
    "."
   ]
  },
  {
   "cell_type": "markdown",
   "metadata": {},
   "source": [
    "### Node size change based on the degree of each node having correlation value above 0.8"
   ]
  },
  {
   "cell_type": "code",
   "execution_count": null,
   "metadata": {
    "collapsed": true
   },
   "outputs": [],
   "source": [
    "\n",
    "for i, j in G.nodes(data=True):\n",
    "    count = 0.1\n",
    "    for u, v, d in G.edges(data=True):\n",
    "        if i == u and abs(d['weight']) > 0.8:\n",
    "            count += 1\n",
    "    j['count'] = count\n",
    "\n",
    "#Node Size set to draw    \n",
    "size = [v['count'] for u, v in G.nodes(data=True)]\n",
    "node_size = np.array(size) * 5000"
   ]
  },
  {
   "cell_type": "markdown",
   "metadata": {},
   "source": [
    "## C) Information\n",
    "- The nodes size has been changed, based on the number of indegree nodes above the correlation value of 0.8. By looking at the network map, we can find out that the bigger a node is, the more it affects other stocks price. Furthermore, the thicker edges shows which stock is highly and positively or nagatively related to one another. (Blue: Positive, Red: Nagative, high : above absolute value of 0.8) If one stock is highly correlated to another(size of the nodes), the stock might have high risk to invest, which means investors does not want to invest stock highly affected by other stocks."
   ]
  },
  {
   "cell_type": "code",
   "execution_count": null,
   "metadata": {
    "scrolled": false
   },
   "outputs": [],
   "source": [
    "pos = nx.circular_layout(G)\n",
    "\n",
    "nx.draw_networkx_edges(G, pos, edgelist = [(u, v) for u, v, d in G.edges(data=True) if d['weight'] >= 0.8], edge_color = '#0000ff', width = 1.8, alpha = 0.8)\n",
    "nx.draw_networkx_edges(G, pos, edgelist = [(u, v) for u, v, d in G.edges(data=True) if 0 <= d['weight'] < 0.8], edge_color = '#87ceeb', width = 0.8, alpha = 0.4)\n",
    "nx.draw_networkx_edges(G, pos, edgelist = [(u, v) for u, v, d in G.edges(data=True) if d['weight'] <= -0.8], edge_color = '#ff0000', width = 1.8, alpha = 0.8)\n",
    "nx.draw_networkx_edges(G, pos, edgelist = [(u, v) for u, v, d in G.edges(data=True) if -0.8< d['weight'] < 0], edge_color = '#ffa07a', eidth = 0.8, alpha = 0.4)\n",
    "\n",
    "nx.draw_networkx_nodes(G, pos, nodelist = [u for u in G.nodes()], node_color = '#ffc0cb', node_shape= 'o', node_size= node_size )\n",
    "\n",
    "labels = {u:u for u in dict(G.nodes(data=True)).keys()}\n",
    "nx.draw_networkx_labels(G, pos, labels, font_size = 50)\n",
    "\n",
    "plt.rcParams['figure.figsize'] = (40, 25)\n",
    "plt.show()"
   ]
  },
  {
   "cell_type": "markdown",
   "metadata": {},
   "source": [
    "## C. Simple way of filtering the network by building a function as blow\n",
    "### Function arguemnts explanation \n",
    "#### draw_graph_with_parameter(node_degree_above_corr = 0.8, edge_weight_above = 0.8, edge_weight_above_width = 1.8, edge_weight_below = 0.8, edge_weight_below_width = 0.8, node_font_size = 10, node_size = 20)\n",
    "- node_degree_above_corr : The degree node counts if the absolute value of correlation between two nodes is above the element value\n",
    "- edge_weight_above : Select the correlation value above the absolute value of the correlation\n",
    "- edge_weight_above_width : Set up the width of the edge_weight_above\n",
    "- edge_weight_below : Select the correlation value below the absolute value of the correlation\n",
    "- edge_weight_below_width :  Set up the width of the edge_weight_below\n",
    "- node_font_size : Set the Nodes font size\n",
    "- node_size : Set the Nodes size"
   ]
  },
  {
   "cell_type": "code",
   "execution_count": null,
   "metadata": {
    "collapsed": true
   },
   "outputs": [],
   "source": [
    "def draw_graph_with_parameter(node_degree_above_corr = 0.8, edge_weight_above = 0.8, edge_weight_above_width = 1.8, edge_weight_below = 0.8, edge_weight_below_width = 0.8, node_font_size = 10, node_size = 20):\n",
    "    #node degree calculation based on the 'node_degree_above_corr'\n",
    "    for i, j in G.nodes(data=True):\n",
    "        count = 0.1\n",
    "        for u, v, d in G.edges(data=True):\n",
    "            if i == u and abs(d['weight']) > node_degree_above_corr:\n",
    "                count += 1\n",
    "        j['count'] = count\n",
    "\n",
    "    #Node Size set to draw  based on the node degree  \n",
    "    size = [v['count'] for u, v in G.nodes(data=True)]\n",
    "    node_size = np.array(size) * 200 * node_size\n",
    "\n",
    "    pos = nx.circular_layout(G)\n",
    "\n",
    "    nx.draw_networkx_edges(G, pos, edgelist = [(u, v) for u, v, d in G.edges(data=True) if d['weight'] >= edge_weight_above], edge_color = '#0000ff', width = edge_weight_above_width, alpha = 0.8)\n",
    "    nx.draw_networkx_edges(G, pos, edgelist = [(u, v) for u, v, d in G.edges(data=True) if 0 <= d['weight'] < edge_weight_below], edge_color = '#87ceeb', width = edge_weight_below_width, alpha = 0.4)\n",
    "    nx.draw_networkx_edges(G, pos, edgelist = [(u, v) for u, v, d in G.edges(data=True) if d['weight'] <= -edge_weight_above], edge_color = '#ff0000', width = edge_weight_above_width, alpha = 0.8)\n",
    "    nx.draw_networkx_edges(G, pos, edgelist = [(u, v) for u, v, d in G.edges(data=True) if -edge_weight_below < d['weight'] < 0], edge_color = '#ffa07a', width = edge_weight_below_width, alpha = 0.4)\n",
    "\n",
    "    nx.draw_networkx_nodes(G, pos, nodelist = [u for u in G.nodes()], node_color = '#ffc0cb', node_shape= 'o', node_size= node_size )\n",
    "\n",
    "    labels = {u:u for u in dict(G.nodes(data=True)).keys()}\n",
    "    nx.draw_networkx_labels(G, pos, labels, font_size = node_font_size)\n",
    "\n",
    "    plt.rcParams['figure.figsize'] = (40, 25)\n",
    "    plt.show()"
   ]
  },
  {
   "cell_type": "markdown",
   "metadata": {},
   "source": [
    "## High risk\n",
    "- Make the edges more noticeable to show which one is highly correlated to one another. If investers buy the highly correlated stocks, then their stocks price will be more affected by the other stocks. Moreover, the size of nodes tells information about the level of each node's influence to other stock price."
   ]
  },
  {
   "cell_type": "code",
   "execution_count": null,
   "metadata": {
    "scrolled": false
   },
   "outputs": [],
   "source": [
    "draw_graph_with_parameter(node_degree_above_corr = 0.8, edge_weight_above = 0.8, edge_weight_above_width = 1.8, edge_weight_below = 0.8, edge_weight_below_width = 0.8, node_font_size = 30, node_size = 20)"
   ]
  },
  {
   "cell_type": "markdown",
   "metadata": {},
   "source": [
    "## Row risk\n",
    "- Make the edges more noticeable to show which one is less correlated to one another."
   ]
  },
  {
   "cell_type": "code",
   "execution_count": null,
   "metadata": {
    "scrolled": false
   },
   "outputs": [],
   "source": [
    "draw_graph_with_parameter(node_degree_above_corr = 0.8, edge_weight_above = 0.8, edge_weight_above_width = 0.0, edge_weight_below = 0.2, edge_weight_below_width = 3.8, node_font_size = 30, node_size = 20)"
   ]
  }
 ],
 "metadata": {
  "kernelspec": {
   "display_name": "Python 3",
   "language": "python",
   "name": "python3"
  },
  "language_info": {
   "codemirror_mode": {
    "name": "ipython",
    "version": 3
   },
   "file_extension": ".py",
   "mimetype": "text/x-python",
   "name": "python",
   "nbconvert_exporter": "python",
   "pygments_lexer": "ipython3",
   "version": "3.6.1"
  }
 },
 "nbformat": 4,
 "nbformat_minor": 2
}
