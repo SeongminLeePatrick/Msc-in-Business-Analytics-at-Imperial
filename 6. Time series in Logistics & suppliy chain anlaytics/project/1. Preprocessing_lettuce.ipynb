{
 "cells": [
  {
   "cell_type": "markdown",
   "metadata": {},
   "source": [
    "## Preprocessing"
   ]
  },
  {
   "cell_type": "code",
   "execution_count": 1,
   "metadata": {
    "collapsed": true
   },
   "outputs": [],
   "source": [
    "import pandas as pd\n",
    "import numpy as np\n",
    "import matplotlib.pyplot as plt\n",
    "import datetime"
   ]
  },
  {
   "cell_type": "code",
   "execution_count": 2,
   "metadata": {
    "collapsed": true
   },
   "outputs": [],
   "source": [
    "recipes = pd.read_csv(\"recipes.csv\")\n",
    "portion_uom_types = pd.read_csv(\"portion_uom_types.csv\")\n",
    "pos = pd.read_csv(\"pos_ordersale.csv\")\n",
    "menuitem = pd.read_csv(\"menuitem.csv\")\n",
    "menu_items = pd.read_csv(\"menu_items.csv\")\n",
    "ingredients = pd.read_csv(\"ingredients.csv\")\n",
    "recipe_ingredient_assign = pd.read_csv(\"recipe_ingredient_assignments.csv\")\n",
    "recipe_sub_recipe = pd.read_csv(\"recipe_sub_recipe_assignments.csv\")\n",
    "sub_recipe = pd.read_csv(\"sub_recipes.csv\")\n",
    "sub_recipe_ing = pd.read_csv(\"sub_recipe_ingr_assignments.csv\")"
   ]
  },
  {
   "cell_type": "code",
   "execution_count": 3,
   "metadata": {
    "collapsed": true
   },
   "outputs": [],
   "source": [
    "pos_1 = pos [[\"MD5KEY_ORDERSALE\",\"StoreNumber\",\"date\"]]\n",
    "menuitem_1 = menuitem[[\"MD5KEY_ORDERSALE\", \"MD5KEY_MENUITEM\",\"Quantity\",\"Id\"]]"
   ]
  },
  {
   "cell_type": "code",
   "execution_count": 4,
   "metadata": {
    "collapsed": true
   },
   "outputs": [],
   "source": [
    "merge1 = pd.merge(pos_1, menuitem_1, how = \"inner\", on = \"MD5KEY_ORDERSALE\" )"
   ]
  },
  {
   "cell_type": "code",
   "execution_count": 5,
   "metadata": {
    "collapsed": true
   },
   "outputs": [],
   "source": [
    "merge1.rename(columns={'Quantity':'order_quantity'}, inplace=True)"
   ]
  },
  {
   "cell_type": "code",
   "execution_count": 6,
   "metadata": {
    "collapsed": true
   },
   "outputs": [],
   "source": [
    "menu_items_1 = menu_items[[\"RecipeId\", \"MenuItemId\"]]"
   ]
  },
  {
   "cell_type": "code",
   "execution_count": 7,
   "metadata": {
    "collapsed": true
   },
   "outputs": [],
   "source": [
    "merge2 = pd.merge(merge1,menu_items_1, how = 'left', left_on = 'Id', right_on = 'MenuItemId' )"
   ]
  },
  {
   "cell_type": "code",
   "execution_count": 8,
   "metadata": {
    "collapsed": true
   },
   "outputs": [],
   "source": [
    "merge3 = pd.merge(merge2, recipe_ingredient_assign, how = 'left', on = 'RecipeId')"
   ]
  },
  {
   "cell_type": "code",
   "execution_count": 9,
   "metadata": {
    "collapsed": true
   },
   "outputs": [],
   "source": [
    "merge4 = pd.merge(merge3, ingredients, how = 'inner', on = 'IngredientId' )"
   ]
  },
  {
   "cell_type": "code",
   "execution_count": 10,
   "metadata": {
    "collapsed": true
   },
   "outputs": [],
   "source": [
    "merge5 = pd.merge(merge4, portion_uom_types, how = 'inner', on = 'PortionUOMTypeId')"
   ]
  },
  {
   "cell_type": "code",
   "execution_count": 11,
   "metadata": {
    "collapsed": true
   },
   "outputs": [],
   "source": [
    "merge5['Store_name'] = merge5.StoreNumber.map({46673:'California 1 (ID:46673)', 4904:'California 2 (ID:4904)', 12631:'New York 1 (ID:12631)', 20974:'New York 2 (ID:20974)'})"
   ]
  },
  {
   "cell_type": "code",
   "execution_count": 12,
   "metadata": {
    "collapsed": true
   },
   "outputs": [],
   "source": [
    "merge2_sub  = pd.merge(merge2, recipe_sub_recipe, how = 'left', on = 'RecipeId')"
   ]
  },
  {
   "cell_type": "code",
   "execution_count": 13,
   "metadata": {
    "collapsed": true
   },
   "outputs": [],
   "source": [
    "merge3_sub = pd.merge(merge2_sub, sub_recipe_ing, how = 'left', on = 'SubRecipeId')"
   ]
  },
  {
   "cell_type": "code",
   "execution_count": 14,
   "metadata": {
    "collapsed": true
   },
   "outputs": [],
   "source": [
    "merge4_sub = pd.merge(merge3_sub, ingredients, how = 'inner', on = 'IngredientId')"
   ]
  },
  {
   "cell_type": "code",
   "execution_count": 15,
   "metadata": {
    "collapsed": true
   },
   "outputs": [],
   "source": [
    "merge5_sub = pd.merge(merge4_sub, portion_uom_types, how = 'inner', on = 'PortionUOMTypeId')"
   ]
  },
  {
   "cell_type": "code",
   "execution_count": 16,
   "metadata": {
    "collapsed": true
   },
   "outputs": [],
   "source": [
    "merge5_sub['Store_name'] = merge5_sub.StoreNumber.map({46673:'California 1 (ID:46673)', 4904:'California 2 (ID:4904)', 12631:'New York 1 (ID:12631)', 20974:'New York 2 (ID:20974)'})"
   ]
  },
  {
   "cell_type": "code",
   "execution_count": 17,
   "metadata": {
    "collapsed": true
   },
   "outputs": [],
   "source": [
    "Lettuce_main = merge5[merge5.IngredientShortDescription.str.contains('Lettuce')]\n",
    "Lettuce_sub  = merge5_sub[merge5_sub.IngredientShortDescription.str.contains('Lettuce')]"
   ]
  },
  {
   "cell_type": "code",
   "execution_count": 18,
   "metadata": {},
   "outputs": [
    {
     "name": "stderr",
     "output_type": "stream",
     "text": [
      "c:\\users\\min\\anaconda3\\lib\\site-packages\\ipykernel_launcher.py:1: SettingWithCopyWarning: \n",
      "A value is trying to be set on a copy of a slice from a DataFrame.\n",
      "Try using .loc[row_indexer,col_indexer] = value instead\n",
      "\n",
      "See the caveats in the documentation: http://pandas.pydata.org/pandas-docs/stable/indexing.html#indexing-view-versus-copy\n",
      "  \"\"\"Entry point for launching an IPython kernel.\n"
     ]
    }
   ],
   "source": [
    "Lettuce_main['ttl_quantity'] = Lettuce_main['order_quantity'] * Lettuce_main['Quantity']"
   ]
  },
  {
   "cell_type": "code",
   "execution_count": 19,
   "metadata": {
    "scrolled": true
   },
   "outputs": [
    {
     "name": "stderr",
     "output_type": "stream",
     "text": [
      "c:\\users\\min\\anaconda3\\lib\\site-packages\\ipykernel_launcher.py:1: SettingWithCopyWarning: \n",
      "A value is trying to be set on a copy of a slice from a DataFrame.\n",
      "Try using .loc[row_indexer,col_indexer] = value instead\n",
      "\n",
      "See the caveats in the documentation: http://pandas.pydata.org/pandas-docs/stable/indexing.html#indexing-view-versus-copy\n",
      "  \"\"\"Entry point for launching an IPython kernel.\n"
     ]
    }
   ],
   "source": [
    "Lettuce_sub['ttl_quantity'] = Lettuce_sub['order_quantity'] * Lettuce_sub['Quantity'] * Lettuce_sub['Factor']"
   ]
  },
  {
   "cell_type": "code",
   "execution_count": 20,
   "metadata": {
    "collapsed": true
   },
   "outputs": [],
   "source": [
    "Lettuce_main_ny1 = pd.DataFrame(Lettuce_main[Lettuce_main.Store_name.apply(lambda x:x == 'New York 1 (ID:12631)')].groupby('date').sum()['ttl_quantity']).reset_index()\n",
    "Lettuce_main_ny1.rename(columns={'ttl_quantity':'New York 1 (ID:12631)'}, inplace=True)\n",
    "Lettuce_main_ca1 = pd.DataFrame(Lettuce_main[Lettuce_main.Store_name.apply(lambda x:x == 'California 1 (ID:46673)')].groupby('date').sum()['ttl_quantity']).reset_index()\n",
    "Lettuce_main_ca1.rename(columns={'ttl_quantity':'California 1 (ID:46673)'}, inplace=True)\n",
    "Lettuce_main_ny2 = pd.DataFrame(Lettuce_main[Lettuce_main.Store_name.apply(lambda x:x == 'New York 2 (ID:20974)')].groupby('date').sum()['ttl_quantity']).reset_index()\n",
    "Lettuce_main_ny2.rename(columns={'ttl_quantity':'New York 2 (ID:20974)'}, inplace=True)\n",
    "Lettuce_main_ca2 = pd.DataFrame(Lettuce_main[Lettuce_main.Store_name.apply(lambda x:x == 'California 2 (ID:4904)')].groupby('date').sum()['ttl_quantity']).reset_index()\n",
    "Lettuce_main_ca2.rename(columns={'ttl_quantity':'California 2 (ID:4904)'}, inplace=True)"
   ]
  },
  {
   "cell_type": "code",
   "execution_count": 21,
   "metadata": {
    "collapsed": true
   },
   "outputs": [],
   "source": [
    "Lettuce_main_df = pd.DataFrame()\n",
    "Lettuce_main_df['date'] = list(set(Lettuce_main.date))\n",
    "Lettuce_main_df= Lettuce_main_df.sort_values(by='date')\n",
    "Lettuce_main_df = Lettuce_main_df.reset_index(drop = True)"
   ]
  },
  {
   "cell_type": "code",
   "execution_count": 22,
   "metadata": {
    "collapsed": true
   },
   "outputs": [],
   "source": [
    "Lettuce_main_df = pd.merge(Lettuce_main_df, Lettuce_main_ny1, how = 'left', on = 'date')\n",
    "Lettuce_main_df = pd.merge(Lettuce_main_df, Lettuce_main_ca1, how = 'left', on = 'date')\n",
    "Lettuce_main_df = pd.merge(Lettuce_main_df, Lettuce_main_ny2, how = 'left', on = 'date')\n",
    "Lettuce_main_df = pd.merge(Lettuce_main_df, Lettuce_main_ca2, how = 'left', on = 'date')\n",
    "Lettuce_main_df.fillna(0, inplace = True)"
   ]
  },
  {
   "cell_type": "markdown",
   "metadata": {},
   "source": []
  },
  {
   "cell_type": "code",
   "execution_count": 23,
   "metadata": {
    "collapsed": true
   },
   "outputs": [],
   "source": [
    "Lettuce_sub_ny1 = pd.DataFrame(Lettuce_sub[Lettuce_sub.Store_name.apply(lambda x:x == 'New York 1 (ID:12631)')].groupby('date').sum()['ttl_quantity']).reset_index()\n",
    "Lettuce_sub_ny1.rename(columns={'ttl_quantity':'New York 1 (ID:12631)'}, inplace=True)\n",
    "Lettuce_sub_ca1 = pd.DataFrame(Lettuce_sub[Lettuce_sub.Store_name.apply(lambda x:x == 'California 1 (ID:46673)')].groupby('date').sum()['ttl_quantity']).reset_index()\n",
    "Lettuce_sub_ca1.rename(columns={'ttl_quantity':'California 1 (ID:46673)'}, inplace=True)\n",
    "Lettuce_sub_ny2 = pd.DataFrame(Lettuce_sub[Lettuce_sub.Store_name.apply(lambda x:x == 'New York 2 (ID:20974)')].groupby('date').sum()['ttl_quantity']).reset_index()\n",
    "Lettuce_sub_ny2.rename(columns={'ttl_quantity':'New York 2 (ID:20974)'}, inplace=True)\n",
    "Lettuce_sub_ca2 = pd.DataFrame(Lettuce_sub[Lettuce_sub.Store_name.apply(lambda x:x == 'California 2 (ID:4904)')].groupby('date').sum()['ttl_quantity']).reset_index()\n",
    "Lettuce_sub_ca2.rename(columns={'ttl_quantity':'California 2 (ID:4904)'}, inplace=True)"
   ]
  },
  {
   "cell_type": "code",
   "execution_count": 24,
   "metadata": {
    "collapsed": true
   },
   "outputs": [],
   "source": [
    "Lettuce_sub_df = pd.DataFrame()\n",
    "Lettuce_sub_df['date'] = list(set(Lettuce_sub.date))\n",
    "Lettuce_sub_df= Lettuce_sub_df.sort_values(by='date')\n",
    "Lettuce_sub_df = Lettuce_sub_df.reset_index(drop = True)"
   ]
  },
  {
   "cell_type": "code",
   "execution_count": 25,
   "metadata": {
    "collapsed": true
   },
   "outputs": [],
   "source": [
    "Lettuce_sub_df = pd.merge(Lettuce_sub_df, Lettuce_sub_ny1, how = 'left', on = 'date')\n",
    "Lettuce_sub_df = pd.merge(Lettuce_sub_df, Lettuce_sub_ca1, how = 'left', on = 'date')\n",
    "Lettuce_sub_df = pd.merge(Lettuce_sub_df, Lettuce_sub_ny2, how = 'left', on = 'date')\n",
    "Lettuce_sub_df = pd.merge(Lettuce_sub_df, Lettuce_sub_ca2, how = 'left', on = 'date')\n",
    "Lettuce_sub_df.fillna(0, inplace = True)"
   ]
  },
  {
   "cell_type": "code",
   "execution_count": 26,
   "metadata": {},
   "outputs": [
    {
     "data": {
      "text/html": [
       "<div>\n",
       "<style>\n",
       "    .dataframe thead tr:only-child th {\n",
       "        text-align: right;\n",
       "    }\n",
       "\n",
       "    .dataframe thead th {\n",
       "        text-align: left;\n",
       "    }\n",
       "\n",
       "    .dataframe tbody tr th {\n",
       "        vertical-align: top;\n",
       "    }\n",
       "</style>\n",
       "<table border=\"1\" class=\"dataframe\">\n",
       "  <thead>\n",
       "    <tr style=\"text-align: right;\">\n",
       "      <th></th>\n",
       "      <th>date</th>\n",
       "      <th>New York 1 (ID:12631)</th>\n",
       "      <th>California 1 (ID:46673)</th>\n",
       "      <th>New York 2 (ID:20974)</th>\n",
       "      <th>California 2 (ID:4904)</th>\n",
       "    </tr>\n",
       "  </thead>\n",
       "  <tbody>\n",
       "    <tr>\n",
       "      <th>0</th>\n",
       "      <td>15-03-05</td>\n",
       "      <td>10.0</td>\n",
       "      <td>0.0</td>\n",
       "      <td>0.0</td>\n",
       "      <td>0.0</td>\n",
       "    </tr>\n",
       "    <tr>\n",
       "      <th>1</th>\n",
       "      <td>15-03-06</td>\n",
       "      <td>5.0</td>\n",
       "      <td>0.0</td>\n",
       "      <td>0.0</td>\n",
       "      <td>0.0</td>\n",
       "    </tr>\n",
       "    <tr>\n",
       "      <th>2</th>\n",
       "      <td>15-03-07</td>\n",
       "      <td>5.0</td>\n",
       "      <td>0.0</td>\n",
       "      <td>0.0</td>\n",
       "      <td>0.0</td>\n",
       "    </tr>\n",
       "    <tr>\n",
       "      <th>3</th>\n",
       "      <td>15-03-08</td>\n",
       "      <td>5.0</td>\n",
       "      <td>5.0</td>\n",
       "      <td>0.0</td>\n",
       "      <td>0.0</td>\n",
       "    </tr>\n",
       "    <tr>\n",
       "      <th>4</th>\n",
       "      <td>15-03-09</td>\n",
       "      <td>25.0</td>\n",
       "      <td>0.0</td>\n",
       "      <td>0.0</td>\n",
       "      <td>0.0</td>\n",
       "    </tr>\n",
       "  </tbody>\n",
       "</table>\n",
       "</div>"
      ],
      "text/plain": [
       "       date  New York 1 (ID:12631)  California 1 (ID:46673)  \\\n",
       "0  15-03-05                   10.0                      0.0   \n",
       "1  15-03-06                    5.0                      0.0   \n",
       "2  15-03-07                    5.0                      0.0   \n",
       "3  15-03-08                    5.0                      5.0   \n",
       "4  15-03-09                   25.0                      0.0   \n",
       "\n",
       "   New York 2 (ID:20974)  California 2 (ID:4904)  \n",
       "0                    0.0                     0.0  \n",
       "1                    0.0                     0.0  \n",
       "2                    0.0                     0.0  \n",
       "3                    0.0                     0.0  \n",
       "4                    0.0                     0.0  "
      ]
     },
     "execution_count": 26,
     "metadata": {},
     "output_type": "execute_result"
    }
   ],
   "source": [
    "Lettuce_main_df.head()"
   ]
  },
  {
   "cell_type": "code",
   "execution_count": 27,
   "metadata": {
    "collapsed": true
   },
   "outputs": [],
   "source": [
    "start_date = '15-03-01'\n",
    "end_date = '15-06-20'\n",
    "start = datetime.datetime.strptime(start_date, '%y-%m-%d')\n",
    "end = datetime.datetime.strptime(end_date, '%y-%m-%d')\n",
    "step = datetime.timedelta(days=1)"
   ]
  },
  {
   "cell_type": "code",
   "execution_count": 28,
   "metadata": {
    "collapsed": true
   },
   "outputs": [],
   "source": [
    "date_list = []\n",
    "while start <= end:\n",
    "    date_list.append(start.date())\n",
    "    start += step"
   ]
  },
  {
   "cell_type": "code",
   "execution_count": 29,
   "metadata": {
    "collapsed": true
   },
   "outputs": [],
   "source": [
    "ttl = pd.DataFrame()\n",
    "ttl['date_new'] = date_list"
   ]
  },
  {
   "cell_type": "code",
   "execution_count": 30,
   "metadata": {
    "collapsed": true
   },
   "outputs": [],
   "source": [
    "ttl['date_new'] = pd.DatetimeIndex(ttl.date_new)"
   ]
  },
  {
   "cell_type": "code",
   "execution_count": 31,
   "metadata": {
    "collapsed": true
   },
   "outputs": [],
   "source": [
    "for i in range(len(Lettuce_main_df)):\n",
    "    Lettuce_main_df.loc[i, -1] = datetime.datetime.strptime(Lettuce_main_df['date'][i], \"%y-%m-%d\")\n",
    "Lettuce_main_df.rename(columns = {-1:'date_new'}, inplace = True)\n",
    "Lettuce_main_df = Lettuce_main_df.iloc[:, 1:]"
   ]
  },
  {
   "cell_type": "code",
   "execution_count": 32,
   "metadata": {
    "collapsed": true
   },
   "outputs": [],
   "source": [
    "for i in range(len(Lettuce_sub_df)):\n",
    "    Lettuce_sub_df.loc[i, -1] = datetime.datetime.strptime(Lettuce_sub_df['date'][i], \"%y-%m-%d\")\n",
    "Lettuce_sub_df.rename(columns = {-1:'date_new'}, inplace = True)\n",
    "Lettuce_sub_df = Lettuce_sub_df.iloc[:, 1:]"
   ]
  },
  {
   "cell_type": "code",
   "execution_count": 33,
   "metadata": {
    "collapsed": true
   },
   "outputs": [],
   "source": [
    "ttl_data1 = pd.merge(ttl, Lettuce_main_df, how = 'left', left_on = 'date_new', right_on = 'date_new')"
   ]
  },
  {
   "cell_type": "code",
   "execution_count": 34,
   "metadata": {
    "collapsed": true
   },
   "outputs": [],
   "source": [
    "ttl_data2 = pd.merge(ttl_data1, Lettuce_sub_df, how = 'left', left_on = 'date_new', right_on = 'date_new')"
   ]
  },
  {
   "cell_type": "code",
   "execution_count": 35,
   "metadata": {
    "collapsed": true
   },
   "outputs": [],
   "source": [
    "ttl_data2.dropna(axis = 0, how = 'all', inplace = True)\n",
    "ttl_data2.fillna(0, inplace=True)"
   ]
  },
  {
   "cell_type": "code",
   "execution_count": 36,
   "metadata": {
    "collapsed": true
   },
   "outputs": [],
   "source": [
    "ttl_data2['New York 1 (ID:12631)'] = ttl_data2['New York 1 (ID:12631)_x'] + ttl_data2['New York 1 (ID:12631)_y']\n",
    "ttl_data2['California 1 (ID:46673)'] = ttl_data2['California 1 (ID:46673)_x'] + ttl_data2['California 1 (ID:46673)_y']\n",
    "ttl_data2['New York 2 (ID:20974)'] = ttl_data2['New York 2 (ID:20974)_x'] + ttl_data2['New York 2 (ID:20974)_y']\n",
    "ttl_data2['California 2 (ID:4904)'] = ttl_data2['California 2 (ID:4904)_x'] + ttl_data2['California 2 (ID:4904)_y']"
   ]
  },
  {
   "cell_type": "code",
   "execution_count": 37,
   "metadata": {
    "collapsed": true
   },
   "outputs": [],
   "source": [
    "timeserise_data = ttl_data2[['date_new','New York 1 (ID:12631)', 'California 1 (ID:46673)', 'New York 2 (ID:20974)','California 2 (ID:4904)']]"
   ]
  },
  {
   "cell_type": "code",
   "execution_count": 38,
   "metadata": {
    "collapsed": true
   },
   "outputs": [],
   "source": [
    "timeserise_data = timeserise_data.iloc[4:107, :].reset_index(drop= True)"
   ]
  },
  {
   "cell_type": "code",
   "execution_count": 39,
   "metadata": {
    "collapsed": true
   },
   "outputs": [],
   "source": [
    "timeserise_data\n",
    "ny1 = timeserise_data[['date_new', 'New York 1 (ID:12631)']]\n",
    "ca1 = timeserise_data[['date_new', 'California 1 (ID:46673)']]\n",
    "ny2 = timeserise_data[['date_new', 'New York 2 (ID:20974)']]\n",
    "ca2 = timeserise_data[['date_new', 'California 2 (ID:4904)']]"
   ]
  },
  {
   "cell_type": "code",
   "execution_count": 40,
   "metadata": {
    "scrolled": true
   },
   "outputs": [
    {
     "data": {
      "text/plain": [
       "103"
      ]
     },
     "execution_count": 40,
     "metadata": {},
     "output_type": "execute_result"
    }
   ],
   "source": [
    "len(timeserise_data)"
   ]
  },
  {
   "cell_type": "code",
   "execution_count": 41,
   "metadata": {},
   "outputs": [
    {
     "data": {
      "text/html": [
       "<div>\n",
       "<style>\n",
       "    .dataframe thead tr:only-child th {\n",
       "        text-align: right;\n",
       "    }\n",
       "\n",
       "    .dataframe thead th {\n",
       "        text-align: left;\n",
       "    }\n",
       "\n",
       "    .dataframe tbody tr th {\n",
       "        vertical-align: top;\n",
       "    }\n",
       "</style>\n",
       "<table border=\"1\" class=\"dataframe\">\n",
       "  <thead>\n",
       "    <tr style=\"text-align: right;\">\n",
       "      <th></th>\n",
       "      <th>date_new</th>\n",
       "      <th>New York 1 (ID:12631)</th>\n",
       "      <th>California 1 (ID:46673)</th>\n",
       "      <th>New York 2 (ID:20974)</th>\n",
       "      <th>California 2 (ID:4904)</th>\n",
       "    </tr>\n",
       "  </thead>\n",
       "  <tbody>\n",
       "    <tr>\n",
       "      <th>0</th>\n",
       "      <td>2015-03-05</td>\n",
       "      <td>232.0</td>\n",
       "      <td>152.0</td>\n",
       "      <td>0.0</td>\n",
       "      <td>0.0</td>\n",
       "    </tr>\n",
       "    <tr>\n",
       "      <th>1</th>\n",
       "      <td>2015-03-06</td>\n",
       "      <td>227.0</td>\n",
       "      <td>100.0</td>\n",
       "      <td>4.0</td>\n",
       "      <td>0.0</td>\n",
       "    </tr>\n",
       "    <tr>\n",
       "      <th>2</th>\n",
       "      <td>2015-03-07</td>\n",
       "      <td>181.0</td>\n",
       "      <td>54.0</td>\n",
       "      <td>0.0</td>\n",
       "      <td>0.0</td>\n",
       "    </tr>\n",
       "    <tr>\n",
       "      <th>3</th>\n",
       "      <td>2015-03-08</td>\n",
       "      <td>221.0</td>\n",
       "      <td>199.0</td>\n",
       "      <td>0.0</td>\n",
       "      <td>0.0</td>\n",
       "    </tr>\n",
       "    <tr>\n",
       "      <th>4</th>\n",
       "      <td>2015-03-09</td>\n",
       "      <td>229.0</td>\n",
       "      <td>166.0</td>\n",
       "      <td>0.0</td>\n",
       "      <td>0.0</td>\n",
       "    </tr>\n",
       "    <tr>\n",
       "      <th>5</th>\n",
       "      <td>2015-03-10</td>\n",
       "      <td>237.0</td>\n",
       "      <td>143.0</td>\n",
       "      <td>0.0</td>\n",
       "      <td>0.0</td>\n",
       "    </tr>\n",
       "    <tr>\n",
       "      <th>6</th>\n",
       "      <td>2015-03-11</td>\n",
       "      <td>235.0</td>\n",
       "      <td>162.0</td>\n",
       "      <td>0.0</td>\n",
       "      <td>0.0</td>\n",
       "    </tr>\n",
       "    <tr>\n",
       "      <th>7</th>\n",
       "      <td>2015-03-12</td>\n",
       "      <td>244.0</td>\n",
       "      <td>116.0</td>\n",
       "      <td>0.0</td>\n",
       "      <td>0.0</td>\n",
       "    </tr>\n",
       "    <tr>\n",
       "      <th>8</th>\n",
       "      <td>2015-03-13</td>\n",
       "      <td>218.0</td>\n",
       "      <td>136.0</td>\n",
       "      <td>29.0</td>\n",
       "      <td>176.0</td>\n",
       "    </tr>\n",
       "    <tr>\n",
       "      <th>9</th>\n",
       "      <td>2015-03-14</td>\n",
       "      <td>205.0</td>\n",
       "      <td>68.0</td>\n",
       "      <td>0.0</td>\n",
       "      <td>182.0</td>\n",
       "    </tr>\n",
       "    <tr>\n",
       "      <th>10</th>\n",
       "      <td>2015-03-15</td>\n",
       "      <td>248.0</td>\n",
       "      <td>176.0</td>\n",
       "      <td>0.0</td>\n",
       "      <td>347.0</td>\n",
       "    </tr>\n",
       "    <tr>\n",
       "      <th>11</th>\n",
       "      <td>2015-03-16</td>\n",
       "      <td>153.0</td>\n",
       "      <td>181.0</td>\n",
       "      <td>6.0</td>\n",
       "      <td>400.0</td>\n",
       "    </tr>\n",
       "    <tr>\n",
       "      <th>12</th>\n",
       "      <td>2015-03-17</td>\n",
       "      <td>222.0</td>\n",
       "      <td>120.0</td>\n",
       "      <td>8.0</td>\n",
       "      <td>406.0</td>\n",
       "    </tr>\n",
       "    <tr>\n",
       "      <th>13</th>\n",
       "      <td>2015-03-18</td>\n",
       "      <td>262.0</td>\n",
       "      <td>141.0</td>\n",
       "      <td>4.0</td>\n",
       "      <td>382.0</td>\n",
       "    </tr>\n",
       "    <tr>\n",
       "      <th>14</th>\n",
       "      <td>2015-03-19</td>\n",
       "      <td>259.0</td>\n",
       "      <td>205.0</td>\n",
       "      <td>0.0</td>\n",
       "      <td>324.0</td>\n",
       "    </tr>\n",
       "    <tr>\n",
       "      <th>15</th>\n",
       "      <td>2015-03-20</td>\n",
       "      <td>274.0</td>\n",
       "      <td>118.0</td>\n",
       "      <td>164.0</td>\n",
       "      <td>192.0</td>\n",
       "    </tr>\n",
       "    <tr>\n",
       "      <th>16</th>\n",
       "      <td>2015-03-21</td>\n",
       "      <td>250.0</td>\n",
       "      <td>62.0</td>\n",
       "      <td>112.0</td>\n",
       "      <td>274.0</td>\n",
       "    </tr>\n",
       "    <tr>\n",
       "      <th>17</th>\n",
       "      <td>2015-03-22</td>\n",
       "      <td>209.0</td>\n",
       "      <td>152.0</td>\n",
       "      <td>168.0</td>\n",
       "      <td>370.0</td>\n",
       "    </tr>\n",
       "    <tr>\n",
       "      <th>18</th>\n",
       "      <td>2015-03-23</td>\n",
       "      <td>202.0</td>\n",
       "      <td>135.0</td>\n",
       "      <td>222.0</td>\n",
       "      <td>332.0</td>\n",
       "    </tr>\n",
       "    <tr>\n",
       "      <th>19</th>\n",
       "      <td>2015-03-24</td>\n",
       "      <td>207.0</td>\n",
       "      <td>180.0</td>\n",
       "      <td>222.0</td>\n",
       "      <td>390.0</td>\n",
       "    </tr>\n",
       "    <tr>\n",
       "      <th>20</th>\n",
       "      <td>2015-03-25</td>\n",
       "      <td>251.0</td>\n",
       "      <td>172.0</td>\n",
       "      <td>194.0</td>\n",
       "      <td>384.0</td>\n",
       "    </tr>\n",
       "    <tr>\n",
       "      <th>21</th>\n",
       "      <td>2015-03-26</td>\n",
       "      <td>256.0</td>\n",
       "      <td>180.0</td>\n",
       "      <td>172.0</td>\n",
       "      <td>377.0</td>\n",
       "    </tr>\n",
       "    <tr>\n",
       "      <th>22</th>\n",
       "      <td>2015-03-27</td>\n",
       "      <td>246.0</td>\n",
       "      <td>82.0</td>\n",
       "      <td>158.0</td>\n",
       "      <td>232.0</td>\n",
       "    </tr>\n",
       "    <tr>\n",
       "      <th>23</th>\n",
       "      <td>2015-03-28</td>\n",
       "      <td>251.0</td>\n",
       "      <td>96.0</td>\n",
       "      <td>142.0</td>\n",
       "      <td>219.0</td>\n",
       "    </tr>\n",
       "    <tr>\n",
       "      <th>24</th>\n",
       "      <td>2015-03-29</td>\n",
       "      <td>214.0</td>\n",
       "      <td>193.0</td>\n",
       "      <td>238.0</td>\n",
       "      <td>376.0</td>\n",
       "    </tr>\n",
       "    <tr>\n",
       "      <th>25</th>\n",
       "      <td>2015-03-30</td>\n",
       "      <td>218.0</td>\n",
       "      <td>209.0</td>\n",
       "      <td>282.0</td>\n",
       "      <td>360.0</td>\n",
       "    </tr>\n",
       "    <tr>\n",
       "      <th>26</th>\n",
       "      <td>2015-03-31</td>\n",
       "      <td>245.0</td>\n",
       "      <td>146.0</td>\n",
       "      <td>276.0</td>\n",
       "      <td>422.0</td>\n",
       "    </tr>\n",
       "    <tr>\n",
       "      <th>27</th>\n",
       "      <td>2015-04-01</td>\n",
       "      <td>268.0</td>\n",
       "      <td>189.0</td>\n",
       "      <td>250.0</td>\n",
       "      <td>448.0</td>\n",
       "    </tr>\n",
       "    <tr>\n",
       "      <th>28</th>\n",
       "      <td>2015-04-02</td>\n",
       "      <td>236.0</td>\n",
       "      <td>170.0</td>\n",
       "      <td>184.0</td>\n",
       "      <td>332.0</td>\n",
       "    </tr>\n",
       "    <tr>\n",
       "      <th>29</th>\n",
       "      <td>2015-04-03</td>\n",
       "      <td>352.0</td>\n",
       "      <td>94.0</td>\n",
       "      <td>212.0</td>\n",
       "      <td>312.0</td>\n",
       "    </tr>\n",
       "    <tr>\n",
       "      <th>...</th>\n",
       "      <td>...</td>\n",
       "      <td>...</td>\n",
       "      <td>...</td>\n",
       "      <td>...</td>\n",
       "      <td>...</td>\n",
       "    </tr>\n",
       "    <tr>\n",
       "      <th>73</th>\n",
       "      <td>2015-05-17</td>\n",
       "      <td>256.0</td>\n",
       "      <td>147.0</td>\n",
       "      <td>204.0</td>\n",
       "      <td>300.0</td>\n",
       "    </tr>\n",
       "    <tr>\n",
       "      <th>74</th>\n",
       "      <td>2015-05-18</td>\n",
       "      <td>220.0</td>\n",
       "      <td>126.0</td>\n",
       "      <td>222.0</td>\n",
       "      <td>320.0</td>\n",
       "    </tr>\n",
       "    <tr>\n",
       "      <th>75</th>\n",
       "      <td>2015-05-19</td>\n",
       "      <td>258.0</td>\n",
       "      <td>159.0</td>\n",
       "      <td>218.0</td>\n",
       "      <td>322.0</td>\n",
       "    </tr>\n",
       "    <tr>\n",
       "      <th>76</th>\n",
       "      <td>2015-05-20</td>\n",
       "      <td>237.0</td>\n",
       "      <td>172.0</td>\n",
       "      <td>242.0</td>\n",
       "      <td>290.0</td>\n",
       "    </tr>\n",
       "    <tr>\n",
       "      <th>77</th>\n",
       "      <td>2015-05-21</td>\n",
       "      <td>350.0</td>\n",
       "      <td>162.0</td>\n",
       "      <td>203.0</td>\n",
       "      <td>298.0</td>\n",
       "    </tr>\n",
       "    <tr>\n",
       "      <th>78</th>\n",
       "      <td>2015-05-22</td>\n",
       "      <td>271.0</td>\n",
       "      <td>92.0</td>\n",
       "      <td>154.0</td>\n",
       "      <td>162.0</td>\n",
       "    </tr>\n",
       "    <tr>\n",
       "      <th>79</th>\n",
       "      <td>2015-05-23</td>\n",
       "      <td>194.0</td>\n",
       "      <td>79.0</td>\n",
       "      <td>112.0</td>\n",
       "      <td>264.0</td>\n",
       "    </tr>\n",
       "    <tr>\n",
       "      <th>80</th>\n",
       "      <td>2015-05-24</td>\n",
       "      <td>244.0</td>\n",
       "      <td>99.0</td>\n",
       "      <td>130.0</td>\n",
       "      <td>168.0</td>\n",
       "    </tr>\n",
       "    <tr>\n",
       "      <th>81</th>\n",
       "      <td>2015-05-25</td>\n",
       "      <td>289.0</td>\n",
       "      <td>125.0</td>\n",
       "      <td>243.0</td>\n",
       "      <td>284.0</td>\n",
       "    </tr>\n",
       "    <tr>\n",
       "      <th>82</th>\n",
       "      <td>2015-05-26</td>\n",
       "      <td>253.0</td>\n",
       "      <td>171.0</td>\n",
       "      <td>264.0</td>\n",
       "      <td>334.0</td>\n",
       "    </tr>\n",
       "    <tr>\n",
       "      <th>83</th>\n",
       "      <td>2015-05-27</td>\n",
       "      <td>318.0</td>\n",
       "      <td>182.0</td>\n",
       "      <td>263.0</td>\n",
       "      <td>370.0</td>\n",
       "    </tr>\n",
       "    <tr>\n",
       "      <th>84</th>\n",
       "      <td>2015-05-28</td>\n",
       "      <td>371.0</td>\n",
       "      <td>185.0</td>\n",
       "      <td>222.0</td>\n",
       "      <td>270.0</td>\n",
       "    </tr>\n",
       "    <tr>\n",
       "      <th>85</th>\n",
       "      <td>2015-05-29</td>\n",
       "      <td>351.0</td>\n",
       "      <td>98.0</td>\n",
       "      <td>206.0</td>\n",
       "      <td>258.0</td>\n",
       "    </tr>\n",
       "    <tr>\n",
       "      <th>86</th>\n",
       "      <td>2015-05-30</td>\n",
       "      <td>279.0</td>\n",
       "      <td>50.0</td>\n",
       "      <td>128.0</td>\n",
       "      <td>206.0</td>\n",
       "    </tr>\n",
       "    <tr>\n",
       "      <th>87</th>\n",
       "      <td>2015-05-31</td>\n",
       "      <td>236.0</td>\n",
       "      <td>151.0</td>\n",
       "      <td>172.0</td>\n",
       "      <td>436.0</td>\n",
       "    </tr>\n",
       "    <tr>\n",
       "      <th>88</th>\n",
       "      <td>2015-06-01</td>\n",
       "      <td>204.0</td>\n",
       "      <td>188.0</td>\n",
       "      <td>198.0</td>\n",
       "      <td>362.0</td>\n",
       "    </tr>\n",
       "    <tr>\n",
       "      <th>89</th>\n",
       "      <td>2015-06-02</td>\n",
       "      <td>252.0</td>\n",
       "      <td>148.0</td>\n",
       "      <td>228.0</td>\n",
       "      <td>374.0</td>\n",
       "    </tr>\n",
       "    <tr>\n",
       "      <th>90</th>\n",
       "      <td>2015-06-03</td>\n",
       "      <td>241.0</td>\n",
       "      <td>165.0</td>\n",
       "      <td>249.0</td>\n",
       "      <td>318.0</td>\n",
       "    </tr>\n",
       "    <tr>\n",
       "      <th>91</th>\n",
       "      <td>2015-06-04</td>\n",
       "      <td>279.0</td>\n",
       "      <td>167.0</td>\n",
       "      <td>219.0</td>\n",
       "      <td>330.0</td>\n",
       "    </tr>\n",
       "    <tr>\n",
       "      <th>92</th>\n",
       "      <td>2015-06-05</td>\n",
       "      <td>232.0</td>\n",
       "      <td>96.0</td>\n",
       "      <td>185.0</td>\n",
       "      <td>251.0</td>\n",
       "    </tr>\n",
       "    <tr>\n",
       "      <th>93</th>\n",
       "      <td>2015-06-06</td>\n",
       "      <td>245.0</td>\n",
       "      <td>86.0</td>\n",
       "      <td>161.0</td>\n",
       "      <td>230.0</td>\n",
       "    </tr>\n",
       "    <tr>\n",
       "      <th>94</th>\n",
       "      <td>2015-06-07</td>\n",
       "      <td>282.0</td>\n",
       "      <td>244.0</td>\n",
       "      <td>200.0</td>\n",
       "      <td>416.0</td>\n",
       "    </tr>\n",
       "    <tr>\n",
       "      <th>95</th>\n",
       "      <td>2015-06-08</td>\n",
       "      <td>230.0</td>\n",
       "      <td>173.0</td>\n",
       "      <td>224.0</td>\n",
       "      <td>318.0</td>\n",
       "    </tr>\n",
       "    <tr>\n",
       "      <th>96</th>\n",
       "      <td>2015-06-09</td>\n",
       "      <td>294.0</td>\n",
       "      <td>127.0</td>\n",
       "      <td>210.0</td>\n",
       "      <td>352.0</td>\n",
       "    </tr>\n",
       "    <tr>\n",
       "      <th>97</th>\n",
       "      <td>2015-06-10</td>\n",
       "      <td>235.0</td>\n",
       "      <td>124.0</td>\n",
       "      <td>256.0</td>\n",
       "      <td>298.0</td>\n",
       "    </tr>\n",
       "    <tr>\n",
       "      <th>98</th>\n",
       "      <td>2015-06-11</td>\n",
       "      <td>376.0</td>\n",
       "      <td>151.0</td>\n",
       "      <td>386.0</td>\n",
       "      <td>256.0</td>\n",
       "    </tr>\n",
       "    <tr>\n",
       "      <th>99</th>\n",
       "      <td>2015-06-12</td>\n",
       "      <td>366.0</td>\n",
       "      <td>134.0</td>\n",
       "      <td>170.0</td>\n",
       "      <td>223.0</td>\n",
       "    </tr>\n",
       "    <tr>\n",
       "      <th>100</th>\n",
       "      <td>2015-06-13</td>\n",
       "      <td>229.0</td>\n",
       "      <td>96.0</td>\n",
       "      <td>206.0</td>\n",
       "      <td>216.0</td>\n",
       "    </tr>\n",
       "    <tr>\n",
       "      <th>101</th>\n",
       "      <td>2015-06-14</td>\n",
       "      <td>234.0</td>\n",
       "      <td>138.0</td>\n",
       "      <td>167.0</td>\n",
       "      <td>350.0</td>\n",
       "    </tr>\n",
       "    <tr>\n",
       "      <th>102</th>\n",
       "      <td>2015-06-15</td>\n",
       "      <td>232.0</td>\n",
       "      <td>244.0</td>\n",
       "      <td>266.0</td>\n",
       "      <td>338.0</td>\n",
       "    </tr>\n",
       "  </tbody>\n",
       "</table>\n",
       "<p>103 rows × 5 columns</p>\n",
       "</div>"
      ],
      "text/plain": [
       "      date_new  New York 1 (ID:12631)  California 1 (ID:46673)  \\\n",
       "0   2015-03-05                  232.0                    152.0   \n",
       "1   2015-03-06                  227.0                    100.0   \n",
       "2   2015-03-07                  181.0                     54.0   \n",
       "3   2015-03-08                  221.0                    199.0   \n",
       "4   2015-03-09                  229.0                    166.0   \n",
       "5   2015-03-10                  237.0                    143.0   \n",
       "6   2015-03-11                  235.0                    162.0   \n",
       "7   2015-03-12                  244.0                    116.0   \n",
       "8   2015-03-13                  218.0                    136.0   \n",
       "9   2015-03-14                  205.0                     68.0   \n",
       "10  2015-03-15                  248.0                    176.0   \n",
       "11  2015-03-16                  153.0                    181.0   \n",
       "12  2015-03-17                  222.0                    120.0   \n",
       "13  2015-03-18                  262.0                    141.0   \n",
       "14  2015-03-19                  259.0                    205.0   \n",
       "15  2015-03-20                  274.0                    118.0   \n",
       "16  2015-03-21                  250.0                     62.0   \n",
       "17  2015-03-22                  209.0                    152.0   \n",
       "18  2015-03-23                  202.0                    135.0   \n",
       "19  2015-03-24                  207.0                    180.0   \n",
       "20  2015-03-25                  251.0                    172.0   \n",
       "21  2015-03-26                  256.0                    180.0   \n",
       "22  2015-03-27                  246.0                     82.0   \n",
       "23  2015-03-28                  251.0                     96.0   \n",
       "24  2015-03-29                  214.0                    193.0   \n",
       "25  2015-03-30                  218.0                    209.0   \n",
       "26  2015-03-31                  245.0                    146.0   \n",
       "27  2015-04-01                  268.0                    189.0   \n",
       "28  2015-04-02                  236.0                    170.0   \n",
       "29  2015-04-03                  352.0                     94.0   \n",
       "..         ...                    ...                      ...   \n",
       "73  2015-05-17                  256.0                    147.0   \n",
       "74  2015-05-18                  220.0                    126.0   \n",
       "75  2015-05-19                  258.0                    159.0   \n",
       "76  2015-05-20                  237.0                    172.0   \n",
       "77  2015-05-21                  350.0                    162.0   \n",
       "78  2015-05-22                  271.0                     92.0   \n",
       "79  2015-05-23                  194.0                     79.0   \n",
       "80  2015-05-24                  244.0                     99.0   \n",
       "81  2015-05-25                  289.0                    125.0   \n",
       "82  2015-05-26                  253.0                    171.0   \n",
       "83  2015-05-27                  318.0                    182.0   \n",
       "84  2015-05-28                  371.0                    185.0   \n",
       "85  2015-05-29                  351.0                     98.0   \n",
       "86  2015-05-30                  279.0                     50.0   \n",
       "87  2015-05-31                  236.0                    151.0   \n",
       "88  2015-06-01                  204.0                    188.0   \n",
       "89  2015-06-02                  252.0                    148.0   \n",
       "90  2015-06-03                  241.0                    165.0   \n",
       "91  2015-06-04                  279.0                    167.0   \n",
       "92  2015-06-05                  232.0                     96.0   \n",
       "93  2015-06-06                  245.0                     86.0   \n",
       "94  2015-06-07                  282.0                    244.0   \n",
       "95  2015-06-08                  230.0                    173.0   \n",
       "96  2015-06-09                  294.0                    127.0   \n",
       "97  2015-06-10                  235.0                    124.0   \n",
       "98  2015-06-11                  376.0                    151.0   \n",
       "99  2015-06-12                  366.0                    134.0   \n",
       "100 2015-06-13                  229.0                     96.0   \n",
       "101 2015-06-14                  234.0                    138.0   \n",
       "102 2015-06-15                  232.0                    244.0   \n",
       "\n",
       "     New York 2 (ID:20974)  California 2 (ID:4904)  \n",
       "0                      0.0                     0.0  \n",
       "1                      4.0                     0.0  \n",
       "2                      0.0                     0.0  \n",
       "3                      0.0                     0.0  \n",
       "4                      0.0                     0.0  \n",
       "5                      0.0                     0.0  \n",
       "6                      0.0                     0.0  \n",
       "7                      0.0                     0.0  \n",
       "8                     29.0                   176.0  \n",
       "9                      0.0                   182.0  \n",
       "10                     0.0                   347.0  \n",
       "11                     6.0                   400.0  \n",
       "12                     8.0                   406.0  \n",
       "13                     4.0                   382.0  \n",
       "14                     0.0                   324.0  \n",
       "15                   164.0                   192.0  \n",
       "16                   112.0                   274.0  \n",
       "17                   168.0                   370.0  \n",
       "18                   222.0                   332.0  \n",
       "19                   222.0                   390.0  \n",
       "20                   194.0                   384.0  \n",
       "21                   172.0                   377.0  \n",
       "22                   158.0                   232.0  \n",
       "23                   142.0                   219.0  \n",
       "24                   238.0                   376.0  \n",
       "25                   282.0                   360.0  \n",
       "26                   276.0                   422.0  \n",
       "27                   250.0                   448.0  \n",
       "28                   184.0                   332.0  \n",
       "29                   212.0                   312.0  \n",
       "..                     ...                     ...  \n",
       "73                   204.0                   300.0  \n",
       "74                   222.0                   320.0  \n",
       "75                   218.0                   322.0  \n",
       "76                   242.0                   290.0  \n",
       "77                   203.0                   298.0  \n",
       "78                   154.0                   162.0  \n",
       "79                   112.0                   264.0  \n",
       "80                   130.0                   168.0  \n",
       "81                   243.0                   284.0  \n",
       "82                   264.0                   334.0  \n",
       "83                   263.0                   370.0  \n",
       "84                   222.0                   270.0  \n",
       "85                   206.0                   258.0  \n",
       "86                   128.0                   206.0  \n",
       "87                   172.0                   436.0  \n",
       "88                   198.0                   362.0  \n",
       "89                   228.0                   374.0  \n",
       "90                   249.0                   318.0  \n",
       "91                   219.0                   330.0  \n",
       "92                   185.0                   251.0  \n",
       "93                   161.0                   230.0  \n",
       "94                   200.0                   416.0  \n",
       "95                   224.0                   318.0  \n",
       "96                   210.0                   352.0  \n",
       "97                   256.0                   298.0  \n",
       "98                   386.0                   256.0  \n",
       "99                   170.0                   223.0  \n",
       "100                  206.0                   216.0  \n",
       "101                  167.0                   350.0  \n",
       "102                  266.0                   338.0  \n",
       "\n",
       "[103 rows x 5 columns]"
      ]
     },
     "execution_count": 41,
     "metadata": {},
     "output_type": "execute_result"
    }
   ],
   "source": [
    "timeserise_data"
   ]
  },
  {
   "cell_type": "code",
   "execution_count": 42,
   "metadata": {
    "collapsed": true
   },
   "outputs": [],
   "source": [
    "timeserise_data.to_csv('datatable.csv')"
   ]
  }
 ],
 "metadata": {
  "kernelspec": {
   "display_name": "Python 3",
   "language": "python",
   "name": "python3"
  },
  "language_info": {
   "codemirror_mode": {
    "name": "ipython",
    "version": 3
   },
   "file_extension": ".py",
   "mimetype": "text/x-python",
   "name": "python",
   "nbconvert_exporter": "python",
   "pygments_lexer": "ipython3",
   "version": "3.6.3"
  }
 },
 "nbformat": 4,
 "nbformat_minor": 2
}
