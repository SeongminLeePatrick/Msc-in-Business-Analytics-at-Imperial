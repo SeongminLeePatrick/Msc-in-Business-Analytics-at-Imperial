{
 "cells": [
  {
   "cell_type": "code",
   "execution_count": 7,
   "metadata": {
    "collapsed": true
   },
   "outputs": [],
   "source": [
    "from pandas import Series, DataFrame\n",
    "from scipy import linalg\n",
    "import pandas as pd\n",
    "import networkx as nx\n",
    "import numpy as np\n",
    "import scipy as sp\n",
    "import sys\n",
    "import matplotlib.pyplot as plt\n",
    "%matplotlib inline"
   ]
  },
  {
   "cell_type": "code",
   "execution_count": 152,
   "metadata": {
    "collapsed": true
   },
   "outputs": [],
   "source": [
    "G = nx.Graph()"
   ]
  },
  {
   "cell_type": "code",
   "execution_count": 153,
   "metadata": {
    "collapsed": true
   },
   "outputs": [],
   "source": [
    "G.add_edge('A','B', weight=1.0)\n",
    "G.add_edge('A','C', weight=1.0)\n",
    "G.add_edge('A','D', weight=0.5)\n",
    "G.add_edge('B','C', weight=0.9)\n",
    "G.add_edge('B','D', weight=0.8)\n",
    "G.add_edge('C','D', weight=0.9)"
   ]
  },
  {
   "cell_type": "code",
   "execution_count": 131,
   "metadata": {
    "scrolled": true
   },
   "outputs": [
    {
     "data": {
      "text/plain": [
       "EdgeDataView([(1, 2, {}), ('A', 'B', {'weight': 1.0}), ('A', 'C', {'weight': 1.0}), ('A', 'D', {'weight': 0.5}), ('B', 'C', {'weight': 0.9}), ('B', 'D', {'weight': 0.8}), ('C', 'D', {'weight': 0.9})])"
      ]
     },
     "execution_count": 131,
     "metadata": {},
     "output_type": "execute_result"
    }
   ],
   "source": [
    "G.edges(data=True)"
   ]
  },
  {
   "cell_type": "code",
   "execution_count": 158,
   "metadata": {},
   "outputs": [
    {
     "data": {
      "text/plain": [
       "EdgeDataView([('A', 'B', {'weight': 1.0}), ('A', 'C', {'weight': 1.0}), ('A', 'D', {'weight': 0.5}), ('B', 'C', {'weight': 0.9}), ('B', 'D', {'weight': 0.8}), ('C', 'D', {'weight': 0.9})])"
      ]
     },
     "execution_count": 158,
     "metadata": {},
     "output_type": "execute_result"
    }
   ],
   "source": [
    "G.edges(data=True)"
   ]
  },
  {
   "cell_type": "code",
   "execution_count": 154,
   "metadata": {
    "scrolled": true
   },
   "outputs": [
    {
     "data": {
      "text/plain": [
       "{'weight': 1.0}"
      ]
     },
     "execution_count": 154,
     "metadata": {},
     "output_type": "execute_result"
    }
   ],
   "source": [
    "G['A']['B']"
   ]
  },
  {
   "cell_type": "code",
   "execution_count": 155,
   "metadata": {},
   "outputs": [
    {
     "data": {
      "text/plain": [
       "1.0"
      ]
     },
     "execution_count": 155,
     "metadata": {},
     "output_type": "execute_result"
    }
   ],
   "source": [
    "G['A']['B']['weight']"
   ]
  },
  {
   "cell_type": "code",
   "execution_count": 157,
   "metadata": {},
   "outputs": [
    {
     "name": "stdout",
     "output_type": "stream",
     "text": [
      "[1.0, 1.0, 0.5, 0.9, 0.8, 0.9]\n"
     ]
    }
   ],
   "source": [
    "weight = [d['weight'] for u, v, d in G.edges(data = True)]\n",
    "print(weight)"
   ]
  },
  {
   "cell_type": "code",
   "execution_count": 8,
   "metadata": {
    "collapsed": true
   },
   "outputs": [],
   "source": [
    "class1_1=r'C:\\Users\\min\\Documents\\2ndSemster\\Network\\w1\\inclass1_1.txt'"
   ]
  },
  {
   "cell_type": "code",
   "execution_count": 12,
   "metadata": {
    "collapsed": true
   },
   "outputs": [],
   "source": [
    "#directed\n",
    "UG = nx.read_edgelist(class1_1, nodetype=str, create_using=nx.Graph(), data = (('weight', float),))"
   ]
  },
  {
   "cell_type": "code",
   "execution_count": 14,
   "metadata": {},
   "outputs": [
    {
     "data": {
      "text/plain": [
       "<networkx.classes.graph.Graph at 0x2a5d112ad30>"
      ]
     },
     "execution_count": 14,
     "metadata": {},
     "output_type": "execute_result"
    }
   ],
   "source": [
    "UG"
   ]
  },
  {
   "cell_type": "code",
   "execution_count": 13,
   "metadata": {
    "collapsed": true
   },
   "outputs": [],
   "source": [
    "DG = nx.read_edgelist(class1_1, nodetype=str, create_using=nx.DiGraph(), data = (('weight', float),))"
   ]
  },
  {
   "cell_type": "code",
   "execution_count": 16,
   "metadata": {},
   "outputs": [
    {
     "data": {
      "text/plain": [
       "<networkx.classes.digraph.DiGraph at 0x2a5d112aba8>"
      ]
     },
     "execution_count": 16,
     "metadata": {},
     "output_type": "execute_result"
    }
   ],
   "source": [
    "DG"
   ]
  },
  {
   "cell_type": "markdown",
   "metadata": {},
   "source": [
    "## Undirected Graph"
   ]
  },
  {
   "cell_type": "code",
   "execution_count": 17,
   "metadata": {
    "scrolled": true
   },
   "outputs": [
    {
     "data": {
      "text/plain": [
       "NodeView(('a', 'b', 'c', 'd', 'e'))"
      ]
     },
     "execution_count": 17,
     "metadata": {},
     "output_type": "execute_result"
    }
   ],
   "source": [
    "UG.nodes()"
   ]
  },
  {
   "cell_type": "code",
   "execution_count": 170,
   "metadata": {},
   "outputs": [],
   "source": [
    "UG.add_edge('b','k', weight = 5)"
   ]
  },
  {
   "cell_type": "code",
   "execution_count": 172,
   "metadata": {},
   "outputs": [
    {
     "data": {
      "text/plain": [
       "EdgeDataView([('a', 'b', {'weight': 4.0}), ('a', 'd', {'weight': 4.0}), ('b', 'c', {'weight': 9.0}), ('b', 'e', {'weight': 1.0}), ('b', 'd', {'weight': 8.0}), ('b', 'k', {'weight': 5}), ('c', 'd', {'weight': 4.0}), ('d', 'e', {'weight': 7.0})])"
      ]
     },
     "execution_count": 172,
     "metadata": {},
     "output_type": "execute_result"
    }
   ],
   "source": [
    "UG.edges(data = True)"
   ]
  },
  {
   "cell_type": "code",
   "execution_count": 173,
   "metadata": {},
   "outputs": [
    {
     "name": "stdout",
     "output_type": "stream",
     "text": [
      "a b 4.0\n",
      "a d 4.0\n",
      "b c 9.0\n",
      "b e 1.0\n",
      "b d 8.0\n",
      "b k 5\n",
      "c d 4.0\n",
      "d e 7.0\n"
     ]
    }
   ],
   "source": [
    "nx.write_weighted_edgelist(UG, sys.stdout)"
   ]
  },
  {
   "cell_type": "code",
   "execution_count": 174,
   "metadata": {},
   "outputs": [
    {
     "name": "stdout",
     "output_type": "stream",
     "text": [
      "[[ 0.  4.  0.  4.  0.  0.]\n",
      " [ 4.  0.  9.  8.  1.  5.]\n",
      " [ 0.  9.  0.  4.  0.  0.]\n",
      " [ 4.  8.  4.  0.  7.  0.]\n",
      " [ 0.  1.  0.  7.  0.  0.]\n",
      " [ 0.  5.  0.  0.  0.  0.]]\n"
     ]
    }
   ],
   "source": [
    "#incidence Matrix (edge Weight)\n",
    "S = nx.linalg.graphmatrix.adjacency_matrix(UG, nodelist=UG.nodes())\n",
    "print(S.todense())"
   ]
  },
  {
   "cell_type": "code",
   "execution_count": 175,
   "metadata": {},
   "outputs": [
    {
     "name": "stdout",
     "output_type": "stream",
     "text": [
      "[[ 0.  4.  0.  4.  0.  0.]\n",
      " [ 4.  0.  9.  8.  1.  5.]\n",
      " [ 0.  9.  0.  4.  0.  0.]\n",
      " [ 4.  8.  4.  0.  7.  0.]\n",
      " [ 0.  1.  0.  7.  0.  0.]\n",
      " [ 0.  5.  0.  0.  0.  0.]]\n"
     ]
    }
   ],
   "source": [
    "#adjacency Matrix (edge Weight)\n",
    "S1 = nx.adjacency_matrix(G = UG)\n",
    "print(S1.todense())"
   ]
  },
  {
   "cell_type": "code",
   "execution_count": 177,
   "metadata": {
    "scrolled": true
   },
   "outputs": [
    {
     "name": "stdout",
     "output_type": "stream",
     "text": [
      "[[ 0.  1.  0.  1.  0.  0.]\n",
      " [ 1.  0.  1.  1.  1.  1.]\n",
      " [ 0.  1.  0.  1.  0.  0.]\n",
      " [ 1.  1.  1.  0.  1.  0.]\n",
      " [ 0.  1.  0.  1.  0.  0.]\n",
      " [ 0.  1.  0.  0.  0.  0.]]\n"
     ]
    }
   ],
   "source": [
    "#adjacency Matrix (Node weight)\n",
    "S1 = nx.attr_matrix(G=UG, rc_order=sorted(UG.nodes(), key = str))\n",
    "print(S1)"
   ]
  },
  {
   "cell_type": "code",
   "execution_count": 176,
   "metadata": {},
   "outputs": [
    {
     "name": "stdout",
     "output_type": "stream",
     "text": [
      "[[ 0.    0.5   0.    0.5   0.    0.  ]\n",
      " [ 0.2   0.    0.2   0.2   0.2   0.2 ]\n",
      " [ 0.    0.5   0.    0.5   0.    0.  ]\n",
      " [ 0.25  0.25  0.25  0.    0.25  0.  ]\n",
      " [ 0.    0.5   0.    0.5   0.    0.  ]\n",
      " [ 0.    1.    0.    0.    0.    0.  ]]\n"
     ]
    }
   ],
   "source": [
    "#Normalized Adjacency Matrix\n",
    "S1 = nx.attr_matrix(G=UG, rc_order=sorted(UG.nodes(), key = str), normalized=True)\n",
    "print(S1)"
   ]
  },
  {
   "cell_type": "code",
   "execution_count": 183,
   "metadata": {},
   "outputs": [
    {
     "name": "stdout",
     "output_type": "stream",
     "text": [
      "[[ 0.    0.5   0.    0.5   0.    0.  ]\n",
      " [ 0.2   0.    0.2   0.2   0.2   0.2 ]\n",
      " [ 0.    0.5   0.    0.5   0.    0.  ]\n",
      " [ 0.25  0.25  0.25  0.    0.25  0.  ]\n",
      " [ 0.    0.5   0.    0.5   0.    0.  ]\n",
      " [ 0.    1.    0.    0.    0.    0.  ]]\n"
     ]
    }
   ],
   "source": [
    "#Normalized Adjacency Matrix\n",
    "S1 = nx.attr_matrix(G=UG, rc_order=sorted(UG.nodes(), key = str), normalized=True)\n",
    "print(S1)"
   ]
  },
  {
   "cell_type": "code",
   "execution_count": 184,
   "metadata": {},
   "outputs": [
    {
     "data": {
      "text/plain": [
       "(6, 6)"
      ]
     },
     "execution_count": 184,
     "metadata": {},
     "output_type": "execute_result"
    }
   ],
   "source": [
    "S1.shape"
   ]
  },
  {
   "cell_type": "code",
   "execution_count": 185,
   "metadata": {},
   "outputs": [
    {
     "name": "stdout",
     "output_type": "stream",
     "text": [
      "[[ 1.  1.  0.  0.  0.  0.  0.  0.]\n",
      " [ 1.  0.  1.  1.  1.  1.  0.  0.]\n",
      " [ 0.  0.  1.  0.  0.  0.  1.  0.]\n",
      " [ 0.  1.  0.  0.  1.  0.  1.  1.]\n",
      " [ 0.  0.  0.  1.  0.  0.  0.  1.]\n",
      " [ 0.  0.  0.  0.  0.  1.  0.  0.]]\n"
     ]
    }
   ],
   "source": [
    "#incidence Matrix\n",
    "S1 = nx.incidence_matrix(UG)\n",
    "print(S1.todense())"
   ]
  },
  {
   "cell_type": "code",
   "execution_count": 186,
   "metadata": {},
   "outputs": [
    {
     "data": {
      "text/plain": [
       "(6, 8)"
      ]
     },
     "execution_count": 186,
     "metadata": {},
     "output_type": "execute_result"
    }
   ],
   "source": [
    "S1.todense().shape"
   ]
  },
  {
   "cell_type": "code",
   "execution_count": 111,
   "metadata": {},
   "outputs": [
    {
     "data": {
      "text/plain": [
       "[('a', 'b', {'weight': 4.0}),\n",
       " ('a', 'd', {'weight': 4.0}),\n",
       " ('b', 'c', {'weight': 9.0}),\n",
       " ('b', 'd', {'weight': 8.0}),\n",
       " ('b', 'e', {'weight': 1.0}),\n",
       " ('c', 'd', {'weight': 4.0}),\n",
       " ('d', 'e', {'weight': 7.0})]"
      ]
     },
     "execution_count": 111,
     "metadata": {},
     "output_type": "execute_result"
    }
   ],
   "source": [
    "sorted(UG.edges(data = True))"
   ]
  },
  {
   "cell_type": "code",
   "execution_count": 112,
   "metadata": {
    "collapsed": true
   },
   "outputs": [],
   "source": [
    "mini_spanning = nx.minimum_spanning_tree(UG)"
   ]
  },
  {
   "cell_type": "code",
   "execution_count": 113,
   "metadata": {},
   "outputs": [
    {
     "data": {
      "text/plain": [
       "[('a', 'b', {'weight': 4.0}),\n",
       " ('a', 'd', {'weight': 4.0}),\n",
       " ('b', 'e', {'weight': 1.0}),\n",
       " ('c', 'd', {'weight': 4.0})]"
      ]
     },
     "execution_count": 113,
     "metadata": {},
     "output_type": "execute_result"
    }
   ],
   "source": [
    "sorted(mini_spanning.edges(data = True))"
   ]
  },
  {
   "cell_type": "code",
   "execution_count": 122,
   "metadata": {},
   "outputs": [
    {
     "data": {
      "text/plain": [
       "[('a', 'b', {'weight': 4.0}),\n",
       " ('b', 'c', {'weight': 9.0}),\n",
       " ('b', 'd', {'weight': 8.0}),\n",
       " ('d', 'e', {'weight': 7.0})]"
      ]
     },
     "execution_count": 122,
     "metadata": {},
     "output_type": "execute_result"
    }
   ],
   "source": [
    "max_spanning = nx.maximum_spanning_tree(UG)\n",
    "sorted(max_spanning.edges(data = True))"
   ]
  },
  {
   "cell_type": "code",
   "execution_count": 148,
   "metadata": {},
   "outputs": [
    {
     "name": "stdout",
     "output_type": "stream",
     "text": [
      "0.8\n"
     ]
    }
   ],
   "source": [
    "#clustering Coefficient (Undirected Only)\n",
    "\n",
    "S4 = nx.average_clustering(UG)\n",
    "print(S4)"
   ]
  },
  {
   "cell_type": "markdown",
   "metadata": {},
   "source": [
    "## Directed_Graph"
   ]
  },
  {
   "cell_type": "code",
   "execution_count": 188,
   "metadata": {
    "scrolled": true
   },
   "outputs": [
    {
     "data": {
      "text/plain": [
       "NodeView(('a', 'b', 'c', 'd', 'e'))"
      ]
     },
     "execution_count": 188,
     "metadata": {},
     "output_type": "execute_result"
    }
   ],
   "source": [
    "DG.nodes()"
   ]
  },
  {
   "cell_type": "code",
   "execution_count": 189,
   "metadata": {},
   "outputs": [
    {
     "data": {
      "text/plain": [
       "OutEdgeDataView([('a', 'b', {'weight': 4.0}), ('a', 'd', {'weight': 4.0}), ('b', 'c', {'weight': 9.0}), ('b', 'e', {'weight': 1.0}), ('c', 'd', {'weight': 4.0}), ('d', 'b', {'weight': 8.0}), ('d', 'e', {'weight': 7.0})])"
      ]
     },
     "execution_count": 189,
     "metadata": {},
     "output_type": "execute_result"
    }
   ],
   "source": [
    "DG.edges(data = True)"
   ]
  },
  {
   "cell_type": "code",
   "execution_count": 190,
   "metadata": {},
   "outputs": [
    {
     "data": {
      "text/plain": [
       "OutDegreeView({'a': 2, 'b': 2, 'c': 1, 'd': 2, 'e': 0})"
      ]
     },
     "execution_count": 190,
     "metadata": {},
     "output_type": "execute_result"
    }
   ],
   "source": [
    "DG.out_degree()"
   ]
  },
  {
   "cell_type": "code",
   "execution_count": 191,
   "metadata": {},
   "outputs": [
    {
     "data": {
      "text/plain": [
       "InDegreeView({'a': 0, 'b': 2, 'c': 1, 'd': 2, 'e': 2})"
      ]
     },
     "execution_count": 191,
     "metadata": {},
     "output_type": "execute_result"
    }
   ],
   "source": [
    "DG.in_degree()"
   ]
  },
  {
   "cell_type": "code",
   "execution_count": 192,
   "metadata": {
    "scrolled": true
   },
   "outputs": [
    {
     "name": "stdout",
     "output_type": "stream",
     "text": [
      "[[ nan   4.  nan   4.  nan]\n",
      " [ nan  nan   9.  nan   1.]\n",
      " [ nan  nan  nan   4.  nan]\n",
      " [ nan   8.  nan  nan   7.]\n",
      " [ nan  nan  nan  nan  nan]]\n"
     ]
    }
   ],
   "source": [
    "result = nx.to_numpy_matrix(DG, nonedge=np.NaN)\n",
    "print(result)"
   ]
  },
  {
   "cell_type": "code",
   "execution_count": 197,
   "metadata": {
    "scrolled": true
   },
   "outputs": [
    {
     "name": "stdout",
     "output_type": "stream",
     "text": [
      "[[-1. -1.  0.  0.  0.  0.  0.]\n",
      " [ 1.  0. -1. -1.  0.  1.  0.]\n",
      " [ 0.  0.  1.  0. -1.  0.  0.]\n",
      " [ 0.  1.  0.  0.  1. -1. -1.]\n",
      " [ 0.  0.  0.  1.  0.  0.  1.]]\n"
     ]
    }
   ],
   "source": [
    "# Directed Graph incidence Matrix\n",
    "S3 = nx.incidence_matrix(DG, edgelist=DG.edges(), oriented= True)\n",
    "print(S3.todense())"
   ]
  },
  {
   "cell_type": "code",
   "execution_count": 196,
   "metadata": {},
   "outputs": [
    {
     "data": {
      "text/plain": [
       "(5, 7)"
      ]
     },
     "execution_count": 196,
     "metadata": {},
     "output_type": "execute_result"
    }
   ],
   "source": [
    "S3.todense().shape"
   ]
  },
  {
   "cell_type": "code",
   "execution_count": 94,
   "metadata": {
    "scrolled": true
   },
   "outputs": [
    {
     "data": {
      "text/plain": [
       "'b'"
      ]
     },
     "execution_count": 94,
     "metadata": {},
     "output_type": "execute_result"
    }
   ],
   "source": [
    "list(DG.edges(data = True))[0][1]"
   ]
  },
  {
   "cell_type": "code",
   "execution_count": 136,
   "metadata": {},
   "outputs": [
    {
     "data": {
      "text/plain": [
       "(5, 7)"
      ]
     },
     "execution_count": 136,
     "metadata": {},
     "output_type": "execute_result"
    }
   ],
   "source": [
    "S3.todense().shape"
   ]
  },
  {
   "cell_type": "code",
   "execution_count": 139,
   "metadata": {},
   "outputs": [],
   "source": [
    "W = S3.todense()/S3.todense().sum(axis = 1)"
   ]
  },
  {
   "cell_type": "code",
   "execution_count": 140,
   "metadata": {},
   "outputs": [
    {
     "data": {
      "text/plain": [
       "matrix([[ 0.5 ,  0.25,  0.  ,  0.  ,  0.  ],\n",
       "        [ 0.5 ,  0.  ,  0.  ,  0.25,  0.  ],\n",
       "        [ 0.  ,  0.25,  0.5 ,  0.  ,  0.  ],\n",
       "        [ 0.  ,  0.25,  0.  ,  0.  ,  0.5 ],\n",
       "        [ 0.  ,  0.  ,  0.5 ,  0.25,  0.  ],\n",
       "        [ 0.  ,  0.25,  0.  ,  0.25,  0.  ],\n",
       "        [ 0.  ,  0.  ,  0.  ,  0.25,  0.5 ]])"
      ]
     },
     "execution_count": 140,
     "metadata": {},
     "output_type": "execute_result"
    }
   ],
   "source": [
    "W.T"
   ]
  },
  {
   "cell_type": "code",
   "execution_count": 159,
   "metadata": {},
   "outputs": [],
   "source": [
    "S4 = nx.incidence_matrix(DG)"
   ]
  },
  {
   "cell_type": "code",
   "execution_count": 161,
   "metadata": {},
   "outputs": [
    {
     "data": {
      "text/plain": [
       "matrix([[ 1.,  1.,  0.,  0.,  0.,  0.,  0.],\n",
       "        [ 1.,  0.,  1.,  1.,  0.,  1.,  0.],\n",
       "        [ 0.,  0.,  1.,  0.,  1.,  0.,  0.],\n",
       "        [ 0.,  1.,  0.,  0.,  1.,  1.,  1.],\n",
       "        [ 0.,  0.,  0.,  1.,  0.,  0.,  1.]])"
      ]
     },
     "execution_count": 161,
     "metadata": {},
     "output_type": "execute_result"
    }
   ],
   "source": [
    "S4.todense()"
   ]
  },
  {
   "cell_type": "code",
   "execution_count": 163,
   "metadata": {},
   "outputs": [
    {
     "name": "stdout",
     "output_type": "stream",
     "text": [
      "a b 4.0\n",
      "a d 4.0\n",
      "b c 9.0\n",
      "b e 1.0\n",
      "c d 4.0\n",
      "d b 8.0\n",
      "d e 7.0\n"
     ]
    }
   ],
   "source": [
    "nx.write_weighted_edgelist(DG, sys.stdout)"
   ]
  },
  {
   "cell_type": "code",
   "execution_count": 164,
   "metadata": {
    "collapsed": true
   },
   "outputs": [],
   "source": [
    "s = nx.linalg.graphmatrix.adjacency_matrix(G)"
   ]
  },
  {
   "cell_type": "code",
   "execution_count": 168,
   "metadata": {
    "scrolled": true
   },
   "outputs": [
    {
     "data": {
      "text/plain": [
       "EdgeDataView([('A', 'B', {'weight': 1.0}), ('A', 'C', {'weight': 1.0}), ('A', 'D', {'weight': 0.5}), ('B', 'C', {'weight': 0.9}), ('B', 'D', {'weight': 0.8}), ('C', 'D', {'weight': 0.9})])"
      ]
     },
     "execution_count": 168,
     "metadata": {},
     "output_type": "execute_result"
    }
   ],
   "source": [
    "G.edges(data=True)"
   ]
  },
  {
   "cell_type": "code",
   "execution_count": 165,
   "metadata": {
    "scrolled": true
   },
   "outputs": [
    {
     "name": "stdout",
     "output_type": "stream",
     "text": [
      "[[ 0.   1.   1.   0.5]\n",
      " [ 1.   0.   0.9  0.8]\n",
      " [ 1.   0.9  0.   0.9]\n",
      " [ 0.5  0.8  0.9  0. ]]\n"
     ]
    }
   ],
   "source": [
    "print(s.todense())"
   ]
  },
  {
   "cell_type": "markdown",
   "metadata": {},
   "source": [
    "## eigen value, eigen vector"
   ]
  },
  {
   "cell_type": "code",
   "execution_count": 225,
   "metadata": {
    "collapsed": true
   },
   "outputs": [],
   "source": [
    "A = np.array([[1, 2], [3, 4]])"
   ]
  },
  {
   "cell_type": "code",
   "execution_count": 226,
   "metadata": {},
   "outputs": [
    {
     "data": {
      "text/plain": [
       "(2, 2)"
      ]
     },
     "execution_count": 226,
     "metadata": {},
     "output_type": "execute_result"
    }
   ],
   "source": [
    "A.shape"
   ]
  },
  {
   "cell_type": "code",
   "execution_count": 227,
   "metadata": {},
   "outputs": [],
   "source": [
    "la, v = linalg.eig(A)"
   ]
  },
  {
   "cell_type": "code",
   "execution_count": 228,
   "metadata": {
    "collapsed": true
   },
   "outputs": [],
   "source": [
    "l1, l2 = la"
   ]
  },
  {
   "cell_type": "code",
   "execution_count": 229,
   "metadata": {},
   "outputs": [
    {
     "data": {
      "text/plain": [
       "(-0.37228132326901431+0j)"
      ]
     },
     "execution_count": 229,
     "metadata": {},
     "output_type": "execute_result"
    }
   ],
   "source": [
    "l1"
   ]
  },
  {
   "cell_type": "code",
   "execution_count": 230,
   "metadata": {},
   "outputs": [
    {
     "data": {
      "text/plain": [
       "(5.3722813232690143+0j)"
      ]
     },
     "execution_count": 230,
     "metadata": {},
     "output_type": "execute_result"
    }
   ],
   "source": [
    "l2"
   ]
  },
  {
   "cell_type": "code",
   "execution_count": 231,
   "metadata": {},
   "outputs": [],
   "source": [
    "v1 = v[:, 0]\n",
    "v2 = v[:, 1]"
   ]
  },
  {
   "cell_type": "code",
   "execution_count": 232,
   "metadata": {},
   "outputs": [
    {
     "name": "stdout",
     "output_type": "stream",
     "text": [
      "[-0.82456484  0.56576746]\n",
      "[-0.41597356 -0.90937671]\n"
     ]
    }
   ],
   "source": [
    "print(v1)\n",
    "print(v2)"
   ]
  },
  {
   "cell_type": "code",
   "execution_count": 233,
   "metadata": {
    "scrolled": true
   },
   "outputs": [
    {
     "data": {
      "text/plain": [
       "array([ 1.,  1.])"
      ]
     },
     "execution_count": 233,
     "metadata": {},
     "output_type": "execute_result"
    }
   ],
   "source": [
    "np.sum(abs(v**2), axis = 0)"
   ]
  },
  {
   "cell_type": "code",
   "execution_count": 234,
   "metadata": {
    "collapsed": true
   },
   "outputs": [],
   "source": [
    "v1 = np.array(v[:, 0]).T"
   ]
  },
  {
   "cell_type": "code",
   "execution_count": 235,
   "metadata": {
    "scrolled": true
   },
   "outputs": [
    {
     "name": "stdout",
     "output_type": "stream",
     "text": [
      "5.551115123125783e-17\n"
     ]
    }
   ],
   "source": [
    "print(linalg.norm(A.dot(v1) - l1*v1))"
   ]
  },
  {
   "cell_type": "code",
   "execution_count": 265,
   "metadata": {
    "collapsed": true
   },
   "outputs": [],
   "source": [
    "class4=r'C:\\Users\\min\\Documents\\2ndSemster\\Network\\w2\\page_rank_example_network.txt'"
   ]
  },
  {
   "cell_type": "code",
   "execution_count": 266,
   "metadata": {
    "collapsed": true
   },
   "outputs": [],
   "source": [
    "G = nx.read_edgelist(class4, nodetype=str, create_using=nx.Graph(), data = (('weight', float),))"
   ]
  },
  {
   "cell_type": "code",
   "execution_count": 283,
   "metadata": {
    "collapsed": true
   },
   "outputs": [],
   "source": [
    "G.add_edge('a', 'k', weight = 4)"
   ]
  },
  {
   "cell_type": "code",
   "execution_count": 284,
   "metadata": {},
   "outputs": [
    {
     "data": {
      "text/plain": [
       "NodeView(('a', 'b', 'e', 'c', 'd', 'k'))"
      ]
     },
     "execution_count": 284,
     "metadata": {},
     "output_type": "execute_result"
    }
   ],
   "source": [
    "G.nodes()"
   ]
  },
  {
   "cell_type": "code",
   "execution_count": 298,
   "metadata": {},
   "outputs": [
    {
     "data": {
      "text/plain": [
       "EdgeDataView([('a', 'b', {}), ('a', 'k', {'weight': 4}), ('b', 'e', {}), ('b', 'c', {}), ('b', 'd', {}), ('e', 'c', {}), ('e', 'd', {})])"
      ]
     },
     "execution_count": 298,
     "metadata": {},
     "output_type": "execute_result"
    }
   ],
   "source": [
    "G.edges(data = True)"
   ]
  },
  {
   "cell_type": "code",
   "execution_count": 286,
   "metadata": {
    "collapsed": true
   },
   "outputs": [],
   "source": [
    "#adjacency Matrix\n",
    "B = nx.attr_matrix(G, rc_order=sorted(G.nodes(), key = str))"
   ]
  },
  {
   "cell_type": "code",
   "execution_count": 287,
   "metadata": {},
   "outputs": [],
   "source": [
    "W = B/B.sum(axis = 1)"
   ]
  },
  {
   "cell_type": "code",
   "execution_count": 289,
   "metadata": {},
   "outputs": [
    {
     "data": {
      "text/plain": [
       "(6, 6)"
      ]
     },
     "execution_count": 289,
     "metadata": {},
     "output_type": "execute_result"
    }
   ],
   "source": [
    "W.T.shape"
   ]
  },
  {
   "cell_type": "code",
   "execution_count": 292,
   "metadata": {},
   "outputs": [],
   "source": [
    "r = np.ones((W.shape[0], 1))"
   ]
  },
  {
   "cell_type": "code",
   "execution_count": 293,
   "metadata": {},
   "outputs": [
    {
     "data": {
      "text/plain": [
       "(6, 1)"
      ]
     },
     "execution_count": 293,
     "metadata": {},
     "output_type": "execute_result"
    }
   ],
   "source": [
    "r.shape"
   ]
  },
  {
   "cell_type": "code",
   "execution_count": 274,
   "metadata": {
    "collapsed": true
   },
   "outputs": [],
   "source": [
    "converged = False\n",
    "interNum = 0"
   ]
  },
  {
   "cell_type": "code",
   "execution_count": 294,
   "metadata": {},
   "outputs": [
    {
     "name": "stdout",
     "output_type": "stream",
     "text": [
      "[[ 1.25      ]\n",
      " [ 1.83333333]\n",
      " [ 0.58333333]\n",
      " [ 0.58333333]\n",
      " [ 1.25      ]\n",
      " [ 0.5       ]]\n",
      "[[ 0.95833333]\n",
      " [ 1.625     ]\n",
      " [ 0.875     ]\n",
      " [ 0.875     ]\n",
      " [ 1.04166667]\n",
      " [ 0.625     ]]\n",
      "[[ 1.03125   ]\n",
      " [ 1.70138889]\n",
      " [ 0.75347222]\n",
      " [ 0.75347222]\n",
      " [ 1.28125   ]\n",
      " [ 0.47916667]]\n",
      "[[ 0.90451389]\n",
      " [ 1.69618056]\n",
      " [ 0.85243056]\n",
      " [ 0.85243056]\n",
      " [ 1.17881944]\n",
      " [ 0.515625  ]]\n",
      "[[ 0.93967014]\n",
      " [ 1.69762731]\n",
      " [ 0.81698495]\n",
      " [ 0.81698495]\n",
      " [ 1.27647569]\n",
      " [ 0.45225694]]\n",
      "[[ 0.87666377]\n",
      " [ 1.71231192]\n",
      " [ 0.84989873]\n",
      " [ 0.84989873]\n",
      " [ 1.24139178]\n",
      " [ 0.46983507]]\n",
      "[[ 0.89791305]\n",
      " [ 1.70202787]\n",
      " [ 0.84187524]\n",
      " [ 0.84187524]\n",
      " [ 1.27797671]\n",
      " [ 0.43833189]]\n",
      "[[ 0.86383886]\n",
      " [ 1.716824  ]\n",
      " [ 0.8514992 ]\n",
      " [ 0.8514992 ]\n",
      " [ 1.26738221]\n",
      " [ 0.44895652]]\n",
      "[[ 0.87816253]\n",
      " [ 1.70587937]\n",
      " [ 0.85166674]\n",
      " [ 0.85166674]\n",
      " [ 1.2807052 ]\n",
      " [ 0.43191943]]\n",
      "[[ 0.85838927]\n",
      " [ 1.71764973]\n",
      " [ 0.85337158]\n",
      " [ 0.85337158]\n",
      " [ 1.27813658]\n",
      " [ 0.43908126]]\n",
      "[[ 0.8684937 ]\n",
      " [ 1.70861174]\n",
      " [ 0.85545796]\n",
      " [ 0.85545796]\n",
      " [ 1.28278401]\n",
      " [ 0.42919463]]\n",
      "[[ 0.85634757]\n",
      " [ 1.71729948]\n",
      " [ 0.8547476 ]\n",
      " [ 0.8547476 ]\n",
      " [ 1.28261089]\n",
      " [ 0.43424685]]\n",
      "[[ 0.86357172]\n",
      " [ 1.71045835]\n",
      " [ 0.85686183]\n",
      " [ 0.85686183]\n",
      " [ 1.28407247]\n",
      " [ 0.42817378]]\n",
      "[[ 0.85578837]\n",
      " [ 1.71667185]\n",
      " [ 0.85563875]\n",
      " [ 0.85563875]\n",
      " [ 1.28447642]\n",
      " [ 0.43178586]]\n",
      "[[ 0.86095382]\n",
      " [ 1.71169174]\n",
      " [ 0.85732677]\n",
      " [ 0.85732677]\n",
      " [ 1.28480671]\n",
      " [ 0.42789419]]\n",
      "[[ 0.85581712]\n",
      " [ 1.71607258]\n",
      " [ 0.85619184]\n",
      " [ 0.85619184]\n",
      " [ 1.28524971]\n",
      " [ 0.43047691]]\n",
      "[[ 0.85949506]\n",
      " [ 1.71251697]\n",
      " [ 0.85743471]\n",
      " [ 0.85743471]\n",
      " [ 1.28520998]\n",
      " [ 0.42790856]]\n",
      "[[ 0.8560378 ]\n",
      " [ 1.71558557]\n",
      " [ 0.85653257]\n",
      " [ 0.85653257]\n",
      " [ 1.28556396]\n",
      " [ 0.42974753]]\n",
      "[[ 0.85864392]\n",
      " [ 1.71307279]\n",
      " [ 0.85741771]\n",
      " [ 0.85741771]\n",
      " [ 1.28542896]\n",
      " [ 0.4280189 ]]\n",
      "[[ 0.8562871 ]\n",
      " [ 1.71521599]\n",
      " [ 0.85674452]\n",
      " [ 0.85674452]\n",
      " [ 1.28568591]\n",
      " [ 0.42932196]]\n",
      "[[ 0.85812596]\n",
      " [ 1.71345004]\n",
      " [ 0.85736597]\n",
      " [ 0.85736597]\n",
      " [ 1.28554852]\n",
      " [ 0.42814355]]\n",
      "[[ 0.85650606]\n",
      " [ 1.71494512]\n",
      " [ 0.85687868]\n",
      " [ 0.85687868]\n",
      " [ 1.28572848]\n",
      " [ 0.42906298]]\n",
      "[[ 0.85779926]\n",
      " [ 1.71370787]\n",
      " [ 0.85731244]\n",
      " [ 0.85731244]\n",
      " [ 1.28561496]\n",
      " [ 0.42825303]]\n",
      "[[ 0.85668   ]\n",
      " [ 1.71475039]\n",
      " [ 0.85696529]\n",
      " [ 0.85696529]\n",
      " [ 1.28573941]\n",
      " [ 0.42889963]]\n",
      "[[ 0.85758723]\n",
      " [ 1.71388509]\n",
      " [ 0.8572674 ]\n",
      " [ 0.8572674 ]\n",
      " [ 1.28565289]\n",
      " [ 0.42834   ]]\n",
      "[[ 0.85681127]\n",
      " [ 1.71461198]\n",
      " [ 0.85702223]\n",
      " [ 0.85702223]\n",
      " [ 1.28573867]\n",
      " [ 0.42879361]]\n",
      "[[ 0.85744661]\n",
      " [ 1.71400743]\n",
      " [ 0.85723255]\n",
      " [ 0.85723255]\n",
      " [ 1.28567523]\n",
      " [ 0.42840564]]\n",
      "[[ 0.85690749]\n",
      " [ 1.71451426]\n",
      " [ 0.85706027]\n",
      " [ 0.85706027]\n",
      " [ 1.28573441]\n",
      " [ 0.4287233 ]]\n"
     ]
    }
   ],
   "source": [
    "while not converged:\n",
    "    s = W.T.dot(r)\n",
    "    print(s)\n",
    "    if linalg.norm(s - r) < 0.001:\n",
    "        converged = True\n",
    "    else:\n",
    "        r = s\n",
    "        iterNum += 1"
   ]
  },
  {
   "cell_type": "code",
   "execution_count": 295,
   "metadata": {},
   "outputs": [
    {
     "name": "stdout",
     "output_type": "stream",
     "text": [
      "[[ 0.85690749]\n",
      " [ 1.71451426]\n",
      " [ 0.85706027]\n",
      " [ 0.85706027]\n",
      " [ 1.28573441]\n",
      " [ 0.4287233 ]]\n"
     ]
    }
   ],
   "source": [
    "print(s)"
   ]
  },
  {
   "cell_type": "code",
   "execution_count": 301,
   "metadata": {},
   "outputs": [
    {
     "name": "stdout",
     "output_type": "stream",
     "text": [
      "a b\n",
      "a k 4\n",
      "b e\n",
      "b c\n",
      "b d\n",
      "e c\n",
      "e d\n"
     ]
    }
   ],
   "source": [
    "nx.write_weighted_edgelist(G, sys.stdout)"
   ]
  },
  {
   "cell_type": "code",
   "execution_count": null,
   "metadata": {
    "collapsed": true
   },
   "outputs": [],
   "source": []
  },
  {
   "cell_type": "markdown",
   "metadata": {},
   "source": [
    "## Page Rank"
   ]
  },
  {
   "cell_type": "code",
   "execution_count": 237,
   "metadata": {
    "collapsed": true
   },
   "outputs": [],
   "source": [
    "class4=r'C:\\Users\\min\\Documents\\2ndSemster\\Network\\w2\\page_rank_example_network.txt'"
   ]
  },
  {
   "cell_type": "code",
   "execution_count": 238,
   "metadata": {
    "collapsed": true
   },
   "outputs": [],
   "source": [
    "G = nx.read_edgelist(class4, nodetype=str, create_using=nx.DiGraph(), data=(('weight', float),))"
   ]
  },
  {
   "cell_type": "code",
   "execution_count": 239,
   "metadata": {},
   "outputs": [
    {
     "data": {
      "text/plain": [
       "OutEdgeDataView([('a', 'b', {}), ('b', 'a', {}), ('b', 'e', {}), ('e', 'b', {}), ('e', 'c', {}), ('e', 'd', {}), ('c', 'b', {}), ('c', 'e', {}), ('d', 'b', {}), ('d', 'e', {})])"
      ]
     },
     "execution_count": 239,
     "metadata": {},
     "output_type": "execute_result"
    }
   ],
   "source": [
    "G.edges(data = True)"
   ]
  },
  {
   "cell_type": "code",
   "execution_count": 240,
   "metadata": {},
   "outputs": [
    {
     "data": {
      "text/plain": [
       "NodeDataView({'a': {}, 'b': {}, 'e': {}, 'c': {}, 'd': {}})"
      ]
     },
     "execution_count": 240,
     "metadata": {},
     "output_type": "execute_result"
    }
   ],
   "source": [
    "G.nodes(data = True)"
   ]
  },
  {
   "cell_type": "code",
   "execution_count": 243,
   "metadata": {},
   "outputs": [
    {
     "name": "stdout",
     "output_type": "stream",
     "text": [
      "a b\n",
      "b a\n",
      "b e\n",
      "e b\n",
      "e c\n",
      "e d\n",
      "c b\n",
      "c e\n",
      "d b\n",
      "d e\n"
     ]
    }
   ],
   "source": [
    "nx.write_weighted_edgelist(G, sys.stdout)"
   ]
  },
  {
   "cell_type": "code",
   "execution_count": 244,
   "metadata": {
    "collapsed": true
   },
   "outputs": [],
   "source": [
    "A = nx.attr_matrix(G, rc_order=sorted(G.nodes(), key=str))"
   ]
  },
  {
   "cell_type": "code",
   "execution_count": 245,
   "metadata": {},
   "outputs": [
    {
     "data": {
      "text/plain": [
       "matrix([[ 0.,  1.,  0.,  0.,  0.],\n",
       "        [ 1.,  0.,  0.,  0.,  1.],\n",
       "        [ 0.,  1.,  0.,  0.,  1.],\n",
       "        [ 0.,  1.,  0.,  0.,  1.],\n",
       "        [ 0.,  1.,  1.,  1.,  0.]])"
      ]
     },
     "execution_count": 245,
     "metadata": {},
     "output_type": "execute_result"
    }
   ],
   "source": [
    "A"
   ]
  },
  {
   "cell_type": "code",
   "execution_count": 248,
   "metadata": {
    "collapsed": true
   },
   "outputs": [],
   "source": [
    "#Stochastic Maxtrix (axis = 1: row)\n",
    "W = A/A.sum(axis = 1) "
   ]
  },
  {
   "cell_type": "code",
   "execution_count": 249,
   "metadata": {},
   "outputs": [
    {
     "data": {
      "text/plain": [
       "matrix([[ 0.        ,  1.        ,  0.        ,  0.        ,  0.        ],\n",
       "        [ 0.5       ,  0.        ,  0.        ,  0.        ,  0.5       ],\n",
       "        [ 0.        ,  0.5       ,  0.        ,  0.        ,  0.5       ],\n",
       "        [ 0.        ,  0.5       ,  0.        ,  0.        ,  0.5       ],\n",
       "        [ 0.        ,  0.33333333,  0.33333333,  0.33333333,  0.        ]])"
      ]
     },
     "execution_count": 249,
     "metadata": {},
     "output_type": "execute_result"
    }
   ],
   "source": [
    "W"
   ]
  },
  {
   "cell_type": "code",
   "execution_count": 259,
   "metadata": {
    "scrolled": true
   },
   "outputs": [
    {
     "data": {
      "text/plain": [
       "matrix([[ 0.        ,  0.5       ,  0.        ,  0.        ,  0.        ],\n",
       "        [ 1.        ,  0.        ,  0.5       ,  0.5       ,  0.33333333],\n",
       "        [ 0.        ,  0.        ,  0.        ,  0.        ,  0.33333333],\n",
       "        [ 0.        ,  0.        ,  0.        ,  0.        ,  0.33333333],\n",
       "        [ 0.        ,  0.5       ,  0.5       ,  0.5       ,  0.        ]])"
      ]
     },
     "execution_count": 259,
     "metadata": {},
     "output_type": "execute_result"
    }
   ],
   "source": [
    "W.T"
   ]
  },
  {
   "cell_type": "code",
   "execution_count": 260,
   "metadata": {},
   "outputs": [],
   "source": [
    "r = np.ones((A.shape[0], 1))*100"
   ]
  },
  {
   "cell_type": "code",
   "execution_count": 261,
   "metadata": {},
   "outputs": [
    {
     "data": {
      "text/plain": [
       "array([[ 100.],\n",
       "       [ 100.],\n",
       "       [ 100.],\n",
       "       [ 100.],\n",
       "       [ 100.]])"
      ]
     },
     "execution_count": 261,
     "metadata": {},
     "output_type": "execute_result"
    }
   ],
   "source": [
    "r"
   ]
  },
  {
   "cell_type": "code",
   "execution_count": 262,
   "metadata": {
    "collapsed": true
   },
   "outputs": [],
   "source": [
    "converged = False\n",
    "iterNum = 0"
   ]
  },
  {
   "cell_type": "code",
   "execution_count": 263,
   "metadata": {},
   "outputs": [
    {
     "name": "stdout",
     "output_type": "stream",
     "text": [
      "[[  50.        ]\n",
      " [ 233.33333333]\n",
      " [  33.33333333]\n",
      " [  33.33333333]\n",
      " [ 150.        ]]\n",
      "[[ 116.66666667]\n",
      " [ 133.33333333]\n",
      " [  50.        ]\n",
      " [  50.        ]\n",
      " [ 150.        ]]\n",
      "[[  66.66666667]\n",
      " [ 216.66666667]\n",
      " [  50.        ]\n",
      " [  50.        ]\n",
      " [ 116.66666667]]\n",
      "[[ 108.33333333]\n",
      " [ 155.55555556]\n",
      " [  38.88888889]\n",
      " [  38.88888889]\n",
      " [ 158.33333333]]\n",
      "[[  77.77777778]\n",
      " [ 200.        ]\n",
      " [  52.77777778]\n",
      " [  52.77777778]\n",
      " [ 116.66666667]]\n",
      "[[ 100.        ]\n",
      " [ 169.44444444]\n",
      " [  38.88888889]\n",
      " [  38.88888889]\n",
      " [ 152.77777778]]\n",
      "[[  84.72222222]\n",
      " [ 189.81481481]\n",
      " [  50.92592593]\n",
      " [  50.92592593]\n",
      " [ 123.61111111]]\n",
      "[[  94.90740741]\n",
      " [ 176.85185185]\n",
      " [  41.2037037 ]\n",
      " [  41.2037037 ]\n",
      " [ 145.83333333]]\n",
      "[[  88.42592593]\n",
      " [ 184.72222222]\n",
      " [  48.61111111]\n",
      " [  48.61111111]\n",
      " [ 129.62962963]]\n",
      "[[  92.36111111]\n",
      " [ 180.24691358]\n",
      " [  43.20987654]\n",
      " [  43.20987654]\n",
      " [ 140.97222222]]\n",
      "[[  90.12345679]\n",
      " [ 182.5617284 ]\n",
      " [  46.99074074]\n",
      " [  46.99074074]\n",
      " [ 133.33333333]]\n",
      "[[  91.2808642 ]\n",
      " [ 181.55864198]\n",
      " [  44.44444444]\n",
      " [  44.44444444]\n",
      " [ 138.27160494]]\n",
      "[[  90.77932099]\n",
      " [ 181.81584362]\n",
      " [  46.09053498]\n",
      " [  46.09053498]\n",
      " [ 135.22376543]]\n",
      "[[  90.90792181]\n",
      " [ 181.94444444]\n",
      " [  45.07458848]\n",
      " [  45.07458848]\n",
      " [ 136.99845679]]\n",
      "[[  90.97222222]\n",
      " [ 181.64866255]\n",
      " [  45.66615226]\n",
      " [  45.66615226]\n",
      " [ 136.0468107 ]]\n",
      "[[  90.82433128]\n",
      " [ 181.98731139]\n",
      " [  45.3489369 ]\n",
      " [  45.3489369 ]\n",
      " [ 136.49048354]]\n",
      "[[  90.99365569]\n",
      " [ 181.67009602]\n",
      " [  45.49682785]\n",
      " [  45.49682785]\n",
      " [ 136.34259259]]\n",
      "[[  90.83504801]\n",
      " [ 181.9380144 ]\n",
      " [  45.44753086]\n",
      " [  45.44753086]\n",
      " [ 136.33187586]]\n",
      "[[  90.9690072 ]\n",
      " [ 181.72653749]\n",
      " [  45.44395862]\n",
      " [  45.44395862]\n",
      " [ 136.41653807]]\n",
      "[[  90.86326875]\n",
      " [ 181.88514518]\n",
      " [  45.47217936]\n",
      " [  45.47217936]\n",
      " [ 136.30722737]]\n",
      "[[  90.94257259]\n",
      " [ 181.77119056]\n",
      " [  45.43574246]\n",
      " [  45.43574246]\n",
      " [ 136.41475194]]\n",
      "[[  90.88559528]\n",
      " [ 181.84989902]\n",
      " [  45.47158398]\n",
      " [  45.47158398]\n",
      " [ 136.32133773]]\n",
      "[[  90.92494951]\n",
      " [ 181.79762517]\n",
      " [  45.44044591]\n",
      " [  45.44044591]\n",
      " [ 136.39653349]]\n",
      "[[  90.89881259]\n",
      " [ 181.83090659]\n",
      " [  45.46551116]\n",
      " [  45.46551116]\n",
      " [ 136.3392585 ]]\n",
      "[[  90.91545329]\n",
      " [ 181.81074325]\n",
      " [  45.4464195 ]\n",
      " [  45.4464195 ]\n",
      " [ 136.38096446]]\n",
      "[[  90.90537162]\n",
      " [ 181.82219428]\n",
      " [  45.46032149]\n",
      " [  45.46032149]\n",
      " [ 136.35179112]]\n",
      "[[  90.91109714]\n",
      " [ 181.81629015]\n",
      " [  45.45059704]\n",
      " [  45.45059704]\n",
      " [ 136.37141863]]\n",
      "[[  90.90814508]\n",
      " [ 181.81883372]\n",
      " [  45.45713954]\n",
      " [  45.45713954]\n",
      " [ 136.35874212]]\n",
      "[[  90.90941686]\n",
      " [ 181.81819866]\n",
      " [  45.45291404]\n",
      " [  45.45291404]\n",
      " [ 136.3665564 ]]\n",
      "[[  90.90909933]\n",
      " [ 181.8178497 ]\n",
      " [  45.4555188 ]\n",
      " [  45.4555188 ]\n",
      " [ 136.36201337]]\n",
      "[[  90.90892485]\n",
      " [ 181.81862259]\n",
      " [  45.45400446]\n",
      " [  45.45400446]\n",
      " [ 136.36444365]]\n",
      "[[  90.90931129]\n",
      " [ 181.81774386]\n",
      " [  45.45481455]\n",
      " [  45.45481455]\n",
      " [ 136.36331575]]\n",
      "[[  90.90887193]\n",
      " [ 181.81856443]\n",
      " [  45.45443858]\n",
      " [  45.45443858]\n",
      " [ 136.36368648]]\n",
      "[[  90.90928221]\n",
      " [ 181.81787267]\n",
      " [  45.45456216]\n",
      " [  45.45456216]\n",
      " [ 136.3637208 ]]\n"
     ]
    }
   ],
   "source": [
    "while not converged:\n",
    "    s = (W.T).dot(r)\n",
    "    print(s)\n",
    "    if linalg.norm(r-s) < 0.001:\n",
    "        converged = True\n",
    "    else:\n",
    "        r = s\n",
    "        iterNum+=1"
   ]
  },
  {
   "cell_type": "code",
   "execution_count": 264,
   "metadata": {},
   "outputs": [
    {
     "name": "stdout",
     "output_type": "stream",
     "text": [
      "33\n"
     ]
    }
   ],
   "source": [
    "print(iterNum)"
   ]
  },
  {
   "cell_type": "markdown",
   "metadata": {},
   "source": [
    "## excercise"
   ]
  },
  {
   "cell_type": "code",
   "execution_count": 303,
   "metadata": {},
   "outputs": [],
   "source": [
    "stocks_data = pd.read_csv('C:/Users/min/Documents/2ndSemster/Network/HW/HW1/HW1_asset_prices.csv', index_col='Date')"
   ]
  },
  {
   "cell_type": "code",
   "execution_count": 304,
   "metadata": {},
   "outputs": [
    {
     "data": {
      "text/html": [
       "<div>\n",
       "<style scoped>\n",
       "    .dataframe tbody tr th:only-of-type {\n",
       "        vertical-align: middle;\n",
       "    }\n",
       "\n",
       "    .dataframe tbody tr th {\n",
       "        vertical-align: top;\n",
       "    }\n",
       "\n",
       "    .dataframe thead th {\n",
       "        text-align: right;\n",
       "    }\n",
       "</style>\n",
       "<table border=\"1\" class=\"dataframe\">\n",
       "  <thead>\n",
       "    <tr style=\"text-align: right;\">\n",
       "      <th></th>\n",
       "      <th>EOD~BND.11</th>\n",
       "      <th>EOD~DBC.11</th>\n",
       "      <th>EOD~DIA.11</th>\n",
       "      <th>EOD~EEM.11</th>\n",
       "      <th>EOD~EFA.11</th>\n",
       "      <th>EOD~EMB.11</th>\n",
       "      <th>EOD~EPP.11</th>\n",
       "      <th>EOD~EWG.11</th>\n",
       "      <th>EOD~EWI.11</th>\n",
       "      <th>EOD~EWJ.11</th>\n",
       "      <th>...</th>\n",
       "      <th>EOD~VGK.11</th>\n",
       "      <th>EOD~VPL.11</th>\n",
       "      <th>EOD~VXX.11</th>\n",
       "      <th>EOD~XLB.11</th>\n",
       "      <th>EOD~XLE.11</th>\n",
       "      <th>EOD~XLF.11</th>\n",
       "      <th>EOD~XLK.11</th>\n",
       "      <th>EOD~XLU.11</th>\n",
       "      <th>EOD~CSJ.11</th>\n",
       "      <th>EOD~FXF.11</th>\n",
       "    </tr>\n",
       "    <tr>\n",
       "      <th>Date</th>\n",
       "      <th></th>\n",
       "      <th></th>\n",
       "      <th></th>\n",
       "      <th></th>\n",
       "      <th></th>\n",
       "      <th></th>\n",
       "      <th></th>\n",
       "      <th></th>\n",
       "      <th></th>\n",
       "      <th></th>\n",
       "      <th></th>\n",
       "      <th></th>\n",
       "      <th></th>\n",
       "      <th></th>\n",
       "      <th></th>\n",
       "      <th></th>\n",
       "      <th></th>\n",
       "      <th></th>\n",
       "      <th></th>\n",
       "      <th></th>\n",
       "      <th></th>\n",
       "    </tr>\n",
       "  </thead>\n",
       "  <tbody>\n",
       "    <tr>\n",
       "      <th>2017-11-08</th>\n",
       "      <td>81.83</td>\n",
       "      <td>16.40</td>\n",
       "      <td>235.46</td>\n",
       "      <td>46.78</td>\n",
       "      <td>69.87</td>\n",
       "      <td>114.60</td>\n",
       "      <td>47.69</td>\n",
       "      <td>33.18</td>\n",
       "      <td>30.95</td>\n",
       "      <td>60.02</td>\n",
       "      <td>...</td>\n",
       "      <td>58.20</td>\n",
       "      <td>72.77</td>\n",
       "      <td>33.53</td>\n",
       "      <td>58.70</td>\n",
       "      <td>69.82</td>\n",
       "      <td>26.25</td>\n",
       "      <td>64.01</td>\n",
       "      <td>55.70</td>\n",
       "      <td>104.96</td>\n",
       "      <td>94.5100</td>\n",
       "    </tr>\n",
       "    <tr>\n",
       "      <th>2017-11-07</th>\n",
       "      <td>81.89</td>\n",
       "      <td>16.43</td>\n",
       "      <td>235.42</td>\n",
       "      <td>46.56</td>\n",
       "      <td>69.64</td>\n",
       "      <td>114.65</td>\n",
       "      <td>47.22</td>\n",
       "      <td>33.07</td>\n",
       "      <td>31.09</td>\n",
       "      <td>59.65</td>\n",
       "      <td>...</td>\n",
       "      <td>58.17</td>\n",
       "      <td>72.20</td>\n",
       "      <td>33.52</td>\n",
       "      <td>58.64</td>\n",
       "      <td>70.16</td>\n",
       "      <td>26.38</td>\n",
       "      <td>63.66</td>\n",
       "      <td>55.66</td>\n",
       "      <td>105.01</td>\n",
       "      <td>94.5400</td>\n",
       "    </tr>\n",
       "    <tr>\n",
       "      <th>2017-11-06</th>\n",
       "      <td>81.86</td>\n",
       "      <td>16.53</td>\n",
       "      <td>235.41</td>\n",
       "      <td>46.86</td>\n",
       "      <td>69.90</td>\n",
       "      <td>115.26</td>\n",
       "      <td>47.20</td>\n",
       "      <td>33.34</td>\n",
       "      <td>31.22</td>\n",
       "      <td>59.18</td>\n",
       "      <td>...</td>\n",
       "      <td>58.67</td>\n",
       "      <td>71.98</td>\n",
       "      <td>33.34</td>\n",
       "      <td>58.58</td>\n",
       "      <td>70.25</td>\n",
       "      <td>26.75</td>\n",
       "      <td>63.63</td>\n",
       "      <td>55.00</td>\n",
       "      <td>105.00</td>\n",
       "      <td>94.7500</td>\n",
       "    </tr>\n",
       "    <tr>\n",
       "      <th>2017-11-03</th>\n",
       "      <td>81.80</td>\n",
       "      <td>16.22</td>\n",
       "      <td>235.18</td>\n",
       "      <td>46.34</td>\n",
       "      <td>69.80</td>\n",
       "      <td>115.42</td>\n",
       "      <td>47.09</td>\n",
       "      <td>33.39</td>\n",
       "      <td>31.22</td>\n",
       "      <td>59.19</td>\n",
       "      <td>...</td>\n",
       "      <td>58.58</td>\n",
       "      <td>71.88</td>\n",
       "      <td>33.66</td>\n",
       "      <td>58.83</td>\n",
       "      <td>68.68</td>\n",
       "      <td>26.78</td>\n",
       "      <td>63.49</td>\n",
       "      <td>55.21</td>\n",
       "      <td>105.00</td>\n",
       "      <td>94.4400</td>\n",
       "    </tr>\n",
       "    <tr>\n",
       "      <th>2017-11-02</th>\n",
       "      <td>81.73</td>\n",
       "      <td>16.12</td>\n",
       "      <td>234.96</td>\n",
       "      <td>46.58</td>\n",
       "      <td>69.91</td>\n",
       "      <td>116.15</td>\n",
       "      <td>47.31</td>\n",
       "      <td>33.50</td>\n",
       "      <td>31.43</td>\n",
       "      <td>59.05</td>\n",
       "      <td>...</td>\n",
       "      <td>58.69</td>\n",
       "      <td>71.89</td>\n",
       "      <td>33.71</td>\n",
       "      <td>58.86</td>\n",
       "      <td>68.48</td>\n",
       "      <td>26.89</td>\n",
       "      <td>62.99</td>\n",
       "      <td>55.01</td>\n",
       "      <td>105.04</td>\n",
       "      <td>94.6299</td>\n",
       "    </tr>\n",
       "  </tbody>\n",
       "</table>\n",
       "<p>5 rows × 39 columns</p>\n",
       "</div>"
      ],
      "text/plain": [
       "            EOD~BND.11  EOD~DBC.11  EOD~DIA.11  EOD~EEM.11  EOD~EFA.11  \\\n",
       "Date                                                                     \n",
       "2017-11-08       81.83       16.40      235.46       46.78       69.87   \n",
       "2017-11-07       81.89       16.43      235.42       46.56       69.64   \n",
       "2017-11-06       81.86       16.53      235.41       46.86       69.90   \n",
       "2017-11-03       81.80       16.22      235.18       46.34       69.80   \n",
       "2017-11-02       81.73       16.12      234.96       46.58       69.91   \n",
       "\n",
       "            EOD~EMB.11  EOD~EPP.11  EOD~EWG.11  EOD~EWI.11  EOD~EWJ.11  \\\n",
       "Date                                                                     \n",
       "2017-11-08      114.60       47.69       33.18       30.95       60.02   \n",
       "2017-11-07      114.65       47.22       33.07       31.09       59.65   \n",
       "2017-11-06      115.26       47.20       33.34       31.22       59.18   \n",
       "2017-11-03      115.42       47.09       33.39       31.22       59.19   \n",
       "2017-11-02      116.15       47.31       33.50       31.43       59.05   \n",
       "\n",
       "               ...      EOD~VGK.11  EOD~VPL.11  EOD~VXX.11  EOD~XLB.11  \\\n",
       "Date           ...                                                       \n",
       "2017-11-08     ...           58.20       72.77       33.53       58.70   \n",
       "2017-11-07     ...           58.17       72.20       33.52       58.64   \n",
       "2017-11-06     ...           58.67       71.98       33.34       58.58   \n",
       "2017-11-03     ...           58.58       71.88       33.66       58.83   \n",
       "2017-11-02     ...           58.69       71.89       33.71       58.86   \n",
       "\n",
       "            EOD~XLE.11  EOD~XLF.11  EOD~XLK.11  EOD~XLU.11  EOD~CSJ.11  \\\n",
       "Date                                                                     \n",
       "2017-11-08       69.82       26.25       64.01       55.70      104.96   \n",
       "2017-11-07       70.16       26.38       63.66       55.66      105.01   \n",
       "2017-11-06       70.25       26.75       63.63       55.00      105.00   \n",
       "2017-11-03       68.68       26.78       63.49       55.21      105.00   \n",
       "2017-11-02       68.48       26.89       62.99       55.01      105.04   \n",
       "\n",
       "            EOD~FXF.11  \n",
       "Date                    \n",
       "2017-11-08     94.5100  \n",
       "2017-11-07     94.5400  \n",
       "2017-11-06     94.7500  \n",
       "2017-11-03     94.4400  \n",
       "2017-11-02     94.6299  \n",
       "\n",
       "[5 rows x 39 columns]"
      ]
     },
     "execution_count": 304,
     "metadata": {},
     "output_type": "execute_result"
    }
   ],
   "source": [
    "stocks_data.head()"
   ]
  },
  {
   "cell_type": "code",
   "execution_count": 305,
   "metadata": {
    "collapsed": true
   },
   "outputs": [],
   "source": [
    "corr_stocks = stocks_data.corr()"
   ]
  },
  {
   "cell_type": "code",
   "execution_count": 307,
   "metadata": {},
   "outputs": [],
   "source": [
    "adj_mat = corr_stocks.values"
   ]
  },
  {
   "cell_type": "code",
   "execution_count": 308,
   "metadata": {},
   "outputs": [
    {
     "data": {
      "text/plain": [
       "array([[ 1.        , -0.82206194,  0.7944792 , ...,  0.94102682,\n",
       "         0.93495058, -0.76998484],\n",
       "       [-0.82206194,  1.        , -0.5742816 , ..., -0.71716539,\n",
       "        -0.71355201,  0.87050482],\n",
       "       [ 0.7944792 , -0.5742816 ,  1.        , ...,  0.91059853,\n",
       "         0.91766044, -0.65703029],\n",
       "       ..., \n",
       "       [ 0.94102682, -0.71716539,  0.91059853, ...,  1.        ,\n",
       "         0.96040775, -0.72589881],\n",
       "       [ 0.93495058, -0.71355201,  0.91766044, ...,  0.96040775,\n",
       "         1.        , -0.72806496],\n",
       "       [-0.76998484,  0.87050482, -0.65703029, ..., -0.72589881,\n",
       "        -0.72806496,  1.        ]])"
      ]
     },
     "execution_count": 308,
     "metadata": {},
     "output_type": "execute_result"
    }
   ],
   "source": [
    "adj_mat"
   ]
  },
  {
   "cell_type": "code",
   "execution_count": 311,
   "metadata": {
    "collapsed": true
   },
   "outputs": [],
   "source": [
    "net = nx.from_numpy_matrix(adj_mat, create_using=nx.Graph())"
   ]
  },
  {
   "cell_type": "markdown",
   "metadata": {},
   "source": [
    "## Graph Drawing"
   ]
  },
  {
   "cell_type": "code",
   "execution_count": 343,
   "metadata": {},
   "outputs": [
    {
     "data": {
      "image/png": "[encoded data removed]",
      "text/plain": [
       "<matplotlib.figure.Figure at 0x2a5d3d09e80>"
      ]
     },
     "metadata": {},
     "output_type": "display_data"
    }
   ],
   "source": [
    "#Graph option\n",
    "pos = nx.circular_layout(G)\n",
    "\n",
    "#Edge option (edgelist control by [(u, v) for u, v, d in G.edges(data=True) if d['weight'] >= 0.8])\n",
    "nx.draw_networkx_edges(G, pos, edgelist = G.edges(), width = 1.8, alpha = 0.8)\n",
    "\n",
    "#edge label  option\n",
    "nx.draw_networkx_edge_labels(G, pos)\n",
    "\n",
    "#node option\n",
    "nx.draw_networkx_nodes(G, pos, nodelist= G.nodes(), node_color = '#ffc0cb', node_shape= 'o',  node_size= 300)\n",
    "\n",
    "#label option\n",
    "nx.draw_networkx_labels(G, pos, font_size = 10)\n",
    "\n",
    "plt.rcParams['figure.figsize'] = (5, 5)\n",
    "plt.show()"
   ]
  },
  {
   "cell_type": "code",
   "execution_count": 329,
   "metadata": {},
   "outputs": [
    {
     "data": {
      "text/plain": [
       "dict_keys(['a', 'b', 'e', 'c', 'd', 'k'])"
      ]
     },
     "execution_count": 329,
     "metadata": {},
     "output_type": "execute_result"
    }
   ],
   "source": [
    "pos = nx.circular_layout(G)\n",
    "\n",
    "nx.draw_networkx_edges(G, pos, edgelist = [(u, v) for u, v, d in G.edges(data=True) if d['weight'] >= 0.8], edge_color = '#0000ff', width = 1.8, alpha = 0.8)\n",
    "nx.draw_networkx_edges(G, pos, edgelist = [(u, v) for u, v, d in G.edges(data=True) if 0 <= d['weight'] < 0.8], edge_color = '#87ceeb', width = 0.8, alpha = 0.4)\n",
    "nx.draw_networkx_edges(G, pos, edgelist = [(u, v) for u, v, d in G.edges(data=True) if d['weight'] <= -0.8], edge_color = '#ff0000', width = 1.8, alpha = 0.8)\n",
    "nx.draw_networkx_edges(G, pos, edgelist = [(u, v) for u, v, d in G.edges(data=True) if -0.8< d['weight'] < 0], edge_color = '#ffa07a', eidth = 0.8, alpha = 0.4)\n",
    "\n",
    "nx.draw_networkx_nodes(G, pos, nodelist = [u for u in G.nodes()], node_color = '#ffc0cb', node_shape= 'o', node_size= node_size )\n",
    "\n",
    "labels = {u:u for u in dict(G.nodes(data=True)).keys()}\n",
    "nx.draw_networkx_labels(G, pos, labels, font_size = 50)\n",
    "\n",
    "plt.rcParams['figure.figsize'] = (40, 25)\n",
    "plt.show()"
   ]
  },
  {
   "cell_type": "code",
   "execution_count": 380,
   "metadata": {
    "collapsed": true
   },
   "outputs": [],
   "source": [
    "def maximum_spanning_tree(A):\n",
    "    N = A\n",
    "    T = nx.Graph()\n",
    "    \n",
    "    while len(N.nodes()) != len((T.nodes())):\n",
    "        max_weight = max([d['weight']  for u, v, d in list(N.edges(data = True))])\n",
    "        \n",
    "        edge1 = [(u, v) for u, v, d in list(N.edges(data = True))if d['weight'] == max_weight]\n",
    "        \n",
    "        T.add_edge(edge1[0][0], edge1[0][1], weight = max_weight)\n",
    "        \n",
    "        if len(nx.cycle_basis(T)) >= 1:\n",
    "            T.remove_edge(edge1[0][0], edge1[0][1])\n",
    "            \n",
    "        N.remove_edge(u=edge1[0][0], v=edge1[0][1])\n",
    "        print(T.nodes())\n",
    "        print(T.edges(data=True))\n",
    "        \n",
    "    return T"
   ]
  },
  {
   "cell_type": "code",
   "execution_count": 381,
   "metadata": {
    "collapsed": true
   },
   "outputs": [],
   "source": [
    "A = nx.Graph()\n",
    "A.add_edge('a', 'b', weight = 3)\n",
    "A.add_edge('b', 'c', weight = 8)\n",
    "A.add_edge('b', 'd', weight = -5)\n",
    "A.add_edge('d', 'e', weight = 0)\n",
    "A.add_edge('c', 'e', weight = 16)\n",
    "A.add_edge('e', 'f', weight = 8)\n",
    "A.add_edge('c', 'f', weight = 2)"
   ]
  },
  {
   "cell_type": "code",
   "execution_count": 382,
   "metadata": {},
   "outputs": [
    {
     "name": "stdout",
     "output_type": "stream",
     "text": [
      "['c', 'e']\n",
      "[('c', 'e', {'weight': 16})]\n",
      "['c', 'e', 'b']\n",
      "[('c', 'e', {'weight': 16}), ('c', 'b', {'weight': 8})]\n",
      "['c', 'e', 'b', 'f']\n",
      "[('c', 'e', {'weight': 16}), ('c', 'b', {'weight': 8}), ('e', 'f', {'weight': 8})]\n",
      "['c', 'e', 'b', 'f', 'a']\n",
      "[('c', 'e', {'weight': 16}), ('c', 'b', {'weight': 8}), ('e', 'f', {'weight': 8}), ('b', 'a', {'weight': 3})]\n",
      "['c', 'e', 'b', 'f', 'a']\n",
      "[('c', 'e', {'weight': 16}), ('c', 'b', {'weight': 8}), ('e', 'f', {'weight': 8}), ('b', 'a', {'weight': 3})]\n",
      "['c', 'e', 'b', 'f', 'a', 'd']\n",
      "[('c', 'e', {'weight': 16}), ('c', 'b', {'weight': 8}), ('e', 'f', {'weight': 8}), ('e', 'd', {'weight': 0}), ('b', 'a', {'weight': 3})]\n"
     ]
    }
   ],
   "source": [
    "T = maximum_spanning_tree(A = A)"
   ]
  },
  {
   "cell_type": "markdown",
   "metadata": {},
   "source": [
    "## shortest Path"
   ]
  },
  {
   "cell_type": "code",
   "execution_count": 368,
   "metadata": {
    "collapsed": true
   },
   "outputs": [],
   "source": [
    "def path_exists(G, node1, node2):\n",
    "    \n",
    "    visited_nodes = set()\n",
    "    queue = [node1]\n",
    "    \n",
    "    for node in queue:  \n",
    "        neighbors = G.neighbors(node)\n",
    "        if node2 in neighbors:\n",
    "            print('Path exists between nodes {0} and {1}'.format(node1, node2))\n",
    "            return True\n",
    "            break\n",
    "\n",
    "        else:\n",
    "            visited_nodes.add(node)\n",
    "            queue.extend([n for n in neighbors if n not in visited_nodes])\n",
    "        \n",
    "        # Check to see if the final element of the queue has been reached\n",
    "        if node == queue[-1]:\n",
    "            print('Path does not exist between nodes {0} and {1}'.format(node1, node2))\n",
    "\n",
    "            # Place the appropriate return statement\n",
    "            return False"
   ]
  },
  {
   "cell_type": "code",
   "execution_count": 369,
   "metadata": {
    "scrolled": true
   },
   "outputs": [
    {
     "name": "stdout",
     "output_type": "stream",
     "text": [
      "Path exists between nodes a and b\n"
     ]
    },
    {
     "data": {
      "text/plain": [
       "True"
      ]
     },
     "execution_count": 369,
     "metadata": {},
     "output_type": "execute_result"
    }
   ],
   "source": [
    "path_exists(T, 'a', 'b')"
   ]
  },
  {
   "cell_type": "code",
   "execution_count": null,
   "metadata": {
    "collapsed": true
   },
   "outputs": [],
   "source": [
    "#shortest_path(G[, source, target, weight])         \tCompute shortest paths in the graph.\n",
    "#all_shortest_paths(G, source, target[, weight])    \tCompute all shortest paths in the graph.\n",
    "#shortest_path_length(G[, source, target, weight])  \tCompute shortest path lengths in the graph.\n",
    "#average_shortest_path_length(G[, weight])      \tReturn the average shortest path length.\n",
    "#has_path(G, source, target)                    \tReturn True if G has a path from source to target, False otherwise."
   ]
  },
  {
   "cell_type": "code",
   "execution_count": 376,
   "metadata": {},
   "outputs": [
    {
     "data": {
      "text/plain": [
       "['a', 'b', 'c', 'e', 'd']"
      ]
     },
     "execution_count": 376,
     "metadata": {},
     "output_type": "execute_result"
    }
   ],
   "source": [
    "nx.shortest_path(T, source='a', target='d', weight=False)"
   ]
  },
  {
   "cell_type": "code",
   "execution_count": 377,
   "metadata": {},
   "outputs": [
    {
     "data": {
      "text/plain": [
       "['a', 'b', 'd']"
      ]
     },
     "execution_count": 377,
     "metadata": {},
     "output_type": "execute_result"
    }
   ],
   "source": [
    "nx.shortest_path(G, source='a', target='d')"
   ]
  },
  {
   "cell_type": "code",
   "execution_count": 379,
   "metadata": {},
   "outputs": [
    {
     "data": {
      "text/plain": [
       "2"
      ]
     },
     "execution_count": 379,
     "metadata": {},
     "output_type": "execute_result"
    }
   ],
   "source": [
    "nx.shortest_path_length(G, source='a', target='d')"
   ]
  }
 ],
 "metadata": {
  "kernelspec": {
   "display_name": "Python 3",
   "language": "python",
   "name": "python3"
  },
  "language_info": {
   "codemirror_mode": {
    "name": "ipython",
    "version": 3
   },
   "file_extension": ".py",
   "mimetype": "text/x-python",
   "name": "python",
   "nbconvert_exporter": "python",
   "pygments_lexer": "ipython3",
   "version": "3.6.1"
  }
 },
 "nbformat": 4,
 "nbformat_minor": 2
}
