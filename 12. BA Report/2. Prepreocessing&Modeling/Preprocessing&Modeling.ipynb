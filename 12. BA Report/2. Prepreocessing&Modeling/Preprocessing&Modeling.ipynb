{
 "cells": [
  {
   "cell_type": "markdown",
   "metadata": {},
   "source": [
    "<br>\n",
    "<center>\n",
    "<h1>Workforce Analytics</h1>\n",
    "<h2><i> - Seongmin Lee(CID: 01247436)  -</i></h2>"
   ]
  },
  {
   "cell_type": "markdown",
   "metadata": {},
   "source": [
    "# Preprocessing & Feature Engineering"
   ]
  },
  {
   "cell_type": "code",
   "execution_count": 1,
   "metadata": {},
   "outputs": [],
   "source": [
    "import pandas as pd\n",
    "import numpy as np\n",
    "import networkx as nx\n",
    "import scipy as sp\n",
    "import matplotlib.pyplot as plt\n",
    "from bs4 import BeautifulSoup\n",
    "from selenium import webdriver\n",
    "from selenium.webdriver.chrome.options import Options\n",
    "import requests\n",
    "import re\n",
    "import sys\n",
    "import io\n",
    "import time\n",
    "import math\n",
    "from collections import Counter\n",
    "import datetime\n",
    "import warnings\n",
    "\n",
    "warnings.filterwarnings(\"ignore\")\n",
    "pd.set_option('display.max_columns', 500)"
   ]
  },
  {
   "cell_type": "code",
   "execution_count": 3,
   "metadata": {},
   "outputs": [
    {
     "data": {
      "text/html": [
       "<div>\n",
       "<style scoped>\n",
       "    .dataframe tbody tr th:only-of-type {\n",
       "        vertical-align: middle;\n",
       "    }\n",
       "\n",
       "    .dataframe tbody tr th {\n",
       "        vertical-align: top;\n",
       "    }\n",
       "\n",
       "    .dataframe thead th {\n",
       "        text-align: right;\n",
       "    }\n",
       "</style>\n",
       "<table border=\"1\" class=\"dataframe\">\n",
       "  <thead>\n",
       "    <tr style=\"text-align: right;\">\n",
       "      <th></th>\n",
       "      <th>WOS_URL</th>\n",
       "      <th>Title</th>\n",
       "      <th>co_author1</th>\n",
       "      <th>co_author2</th>\n",
       "      <th>journal_type</th>\n",
       "      <th>research_areas</th>\n",
       "      <th>WOS_cate</th>\n",
       "      <th>address</th>\n",
       "      <th>organization</th>\n",
       "      <th>date</th>\n",
       "      <th>cited_time</th>\n",
       "      <th>num_of_ref</th>\n",
       "      <th>abstract</th>\n",
       "      <th>keywords</th>\n",
       "      <th>publisher</th>\n",
       "    </tr>\n",
       "  </thead>\n",
       "  <tbody>\n",
       "    <tr>\n",
       "      <th>0</th>\n",
       "      <td>http://gateway.webofknowledge.com/gateway/Gate...</td>\n",
       "      <td>Nelson-Plosser revisited: The ACF approach</td>\n",
       "      <td>[abadir, km, caggiano, g, talmain, g]</td>\n",
       "      <td>[Abadir, Karim M, Caggiano, Giovanni, Talmain,...</td>\n",
       "      <td>JOURNAL OF ECONOMETRICS</td>\n",
       "      <td>[Business &amp; Economics,  Mathematics,  Mathemat...</td>\n",
       "      <td>[Economics,  Mathematics, Interdisciplinary Ap...</td>\n",
       "      <td>[Univ Glasgow, Glasgow G QQ, Lanark, Scotland,...</td>\n",
       "      <td>[Imperial College London, University of Glasgo...</td>\n",
       "      <td>13-Jul</td>\n",
       "      <td>5</td>\n",
       "      <td>42</td>\n",
       "      <td>We detect a new stylized fact that is common t...</td>\n",
       "      <td>[MACROECONOMIC TIME-SERIES, LONG-MEMORY, STOCK...</td>\n",
       "      <td>ELSEVIER SCIENCE SA, PO BOX 564, 1001 LAUSANNE...</td>\n",
       "    </tr>\n",
       "    <tr>\n",
       "      <th>1</th>\n",
       "      <td>http://gateway.webofknowledge.com/gateway/Gate...</td>\n",
       "      <td>An I(d) model with trend and cycles</td>\n",
       "      <td>[abadir, km, distaso, w, giraitis, l]</td>\n",
       "      <td>[Abadir, Karim M, Distaso, Walter, Giraitis, L...</td>\n",
       "      <td>JOURNAL OF ECONOMETRICS</td>\n",
       "      <td>[Business &amp; Economics,  Mathematics,  Mathemat...</td>\n",
       "      <td>[Economics,  Mathematics, Interdisciplinary Ap...</td>\n",
       "      <td>[Univ London, Dept Econ, London E NS, England,...</td>\n",
       "      <td>[Imperial College London, University of London]</td>\n",
       "      <td>11-Aug</td>\n",
       "      <td>5</td>\n",
       "      <td>22</td>\n",
       "      <td>This paper deals with models allowing for tren...</td>\n",
       "      <td>[LONG-RANGE DEPENDENCE, MEMORY STATIONARY ERRO...</td>\n",
       "      <td>ELSEVIER SCIENCE SA, PO BOX 564, 1001 LAUSANNE...</td>\n",
       "    </tr>\n",
       "  </tbody>\n",
       "</table>\n",
       "</div>"
      ],
      "text/plain": [
       "                                             WOS_URL  \\\n",
       "0  http://gateway.webofknowledge.com/gateway/Gate...   \n",
       "1  http://gateway.webofknowledge.com/gateway/Gate...   \n",
       "\n",
       "                                        Title  \\\n",
       "0  Nelson-Plosser revisited: The ACF approach   \n",
       "1         An I(d) model with trend and cycles   \n",
       "\n",
       "                              co_author1  \\\n",
       "0  [abadir, km, caggiano, g, talmain, g]   \n",
       "1  [abadir, km, distaso, w, giraitis, l]   \n",
       "\n",
       "                                          co_author2             journal_type  \\\n",
       "0  [Abadir, Karim M, Caggiano, Giovanni, Talmain,...  JOURNAL OF ECONOMETRICS   \n",
       "1  [Abadir, Karim M, Distaso, Walter, Giraitis, L...  JOURNAL OF ECONOMETRICS   \n",
       "\n",
       "                                      research_areas  \\\n",
       "0  [Business & Economics,  Mathematics,  Mathemat...   \n",
       "1  [Business & Economics,  Mathematics,  Mathemat...   \n",
       "\n",
       "                                            WOS_cate  \\\n",
       "0  [Economics,  Mathematics, Interdisciplinary Ap...   \n",
       "1  [Economics,  Mathematics, Interdisciplinary Ap...   \n",
       "\n",
       "                                             address  \\\n",
       "0  [Univ Glasgow, Glasgow G QQ, Lanark, Scotland,...   \n",
       "1  [Univ London, Dept Econ, London E NS, England,...   \n",
       "\n",
       "                                        organization    date  cited_time  \\\n",
       "0  [Imperial College London, University of Glasgo...  13-Jul           5   \n",
       "1    [Imperial College London, University of London]  11-Aug           5   \n",
       "\n",
       "   num_of_ref                                           abstract  \\\n",
       "0          42  We detect a new stylized fact that is common t...   \n",
       "1          22  This paper deals with models allowing for tren...   \n",
       "\n",
       "                                            keywords  \\\n",
       "0  [MACROECONOMIC TIME-SERIES, LONG-MEMORY, STOCK...   \n",
       "1  [LONG-RANGE DEPENDENCE, MEMORY STATIONARY ERRO...   \n",
       "\n",
       "                                           publisher  \n",
       "0  ELSEVIER SCIENCE SA, PO BOX 564, 1001 LAUSANNE...  \n",
       "1  ELSEVIER SCIENCE SA, PO BOX 564, 1001 LAUSANNE...  "
      ]
     },
     "execution_count": 3,
     "metadata": {},
     "output_type": "execute_result"
    }
   ],
   "source": [
    "# Base dataset\n",
    "WOS_df = pd.read_pickle('./data/WOS_scraped_df.pkl')\n",
    "WOS_df.head(2)"
   ]
  },
  {
   "cell_type": "code",
   "execution_count": 4,
   "metadata": {},
   "outputs": [
    {
     "data": {
      "text/plain": [
       "(1421, 15)"
      ]
     },
     "execution_count": 4,
     "metadata": {},
     "output_type": "execute_result"
    }
   ],
   "source": [
    "WOS_df.shape"
   ]
  },
  {
   "cell_type": "markdown",
   "metadata": {},
   "source": [
    "## 1. Year since published"
   ]
  },
  {
   "cell_type": "code",
   "execution_count": 5,
   "metadata": {},
   "outputs": [],
   "source": [
    "# Call datetime class to now\n",
    "now = datetime.datetime.now()\n",
    "\n",
    "# By using regex, extract the numbers related to years\n",
    "number_only = [''.join(re.findall(r'\\d+', j)) for j in WOS_df.date]\n",
    "year_only = [i[-2:] for i in number_only]\n",
    "\n",
    "year_list = []\n",
    "for y in year_only:\n",
    "    if int(y) > int(str(now.year)[2:4]): # greater than 18\n",
    "        year_list.append('19' + y)\n",
    "    else:\n",
    "        year_list.append('20'+ y)\n",
    "WOS_df['published_yrs'] = year_list\n",
    "WOS_df['yrs_since_published'] = [now.year - int(y) + 1 for y in year_list]\n",
    "WOS_df['citation_per_yr'] = WOS_df['cited_time']/WOS_df['yrs_since_published']"
   ]
  },
  {
   "cell_type": "code",
   "execution_count": 6,
   "metadata": {
    "scrolled": true
   },
   "outputs": [
    {
     "data": {
      "text/html": [
       "<div>\n",
       "<style scoped>\n",
       "    .dataframe tbody tr th:only-of-type {\n",
       "        vertical-align: middle;\n",
       "    }\n",
       "\n",
       "    .dataframe tbody tr th {\n",
       "        vertical-align: top;\n",
       "    }\n",
       "\n",
       "    .dataframe thead th {\n",
       "        text-align: right;\n",
       "    }\n",
       "</style>\n",
       "<table border=\"1\" class=\"dataframe\">\n",
       "  <thead>\n",
       "    <tr style=\"text-align: right;\">\n",
       "      <th></th>\n",
       "      <th>Title</th>\n",
       "      <th>cited_time</th>\n",
       "      <th>citation_per_yr</th>\n",
       "      <th>yrs_since_published</th>\n",
       "      <th>published_yrs</th>\n",
       "    </tr>\n",
       "  </thead>\n",
       "  <tbody>\n",
       "    <tr>\n",
       "      <th>0</th>\n",
       "      <td>Nelson-Plosser revisited: The ACF approach</td>\n",
       "      <td>5</td>\n",
       "      <td>0.833333</td>\n",
       "      <td>6</td>\n",
       "      <td>2013</td>\n",
       "    </tr>\n",
       "    <tr>\n",
       "      <th>1</th>\n",
       "      <td>An I(d) model with trend and cycles</td>\n",
       "      <td>5</td>\n",
       "      <td>0.625000</td>\n",
       "      <td>8</td>\n",
       "      <td>2011</td>\n",
       "    </tr>\n",
       "    <tr>\n",
       "      <th>2</th>\n",
       "      <td>Two estimators of the long-run variance: Beyon...</td>\n",
       "      <td>9</td>\n",
       "      <td>0.900000</td>\n",
       "      <td>10</td>\n",
       "      <td>2009</td>\n",
       "    </tr>\n",
       "    <tr>\n",
       "      <th>3</th>\n",
       "      <td>Testing joint hypotheses when one of the alter...</td>\n",
       "      <td>24</td>\n",
       "      <td>2.000000</td>\n",
       "      <td>12</td>\n",
       "      <td>2007</td>\n",
       "    </tr>\n",
       "    <tr>\n",
       "      <th>4</th>\n",
       "      <td>Nonstationarity-extended local Whittle estimation</td>\n",
       "      <td>81</td>\n",
       "      <td>6.750000</td>\n",
       "      <td>12</td>\n",
       "      <td>2007</td>\n",
       "    </tr>\n",
       "  </tbody>\n",
       "</table>\n",
       "</div>"
      ],
      "text/plain": [
       "                                               Title  cited_time  \\\n",
       "0         Nelson-Plosser revisited: The ACF approach           5   \n",
       "1                An I(d) model with trend and cycles           5   \n",
       "2  Two estimators of the long-run variance: Beyon...           9   \n",
       "3  Testing joint hypotheses when one of the alter...          24   \n",
       "4  Nonstationarity-extended local Whittle estimation          81   \n",
       "\n",
       "   citation_per_yr  yrs_since_published published_yrs  \n",
       "0         0.833333                    6          2013  \n",
       "1         0.625000                    8          2011  \n",
       "2         0.900000                   10          2009  \n",
       "3         2.000000                   12          2007  \n",
       "4         6.750000                   12          2007  "
      ]
     },
     "execution_count": 6,
     "metadata": {},
     "output_type": "execute_result"
    }
   ],
   "source": [
    "WOS_df[['Title', 'cited_time', 'citation_per_yr', 'yrs_since_published', 'published_yrs']].head(5)"
   ]
  },
  {
   "cell_type": "code",
   "execution_count": 41,
   "metadata": {},
   "outputs": [
    {
     "data": {
      "image/png": "[encoded data removed]",
      "text/plain": [
       "<matplotlib.figure.Figure at 0x25232566940>"
      ]
     },
     "metadata": {},
     "output_type": "display_data"
    }
   ],
   "source": [
    "# Plot cited time on average by the period after being published\n",
    "WOS_df.groupby('yrs_since_published').mean()['cited_time'].plot(kind = 'bar', color = 'skyblue')\n",
    "plt.xlabel('year since published')\n",
    "plt.ylabel('cited time on avg')\n",
    "plt.vlines(x = 19, ymin = 180, ymax = 0, linestyles = '--', color = 'blue')\n",
    "plt.annotate('year of 2000', xy = (20, 70), fontsize = 12, color = 'blue')\n",
    "plt.savefig('./graph/image1', bbox_inches='tight')\n",
    "plt.show()"
   ]
  },
  {
   "cell_type": "code",
   "execution_count": 8,
   "metadata": {},
   "outputs": [
    {
     "data": {
      "image/png": "[encoded data removed]",
      "text/plain": [
       "<matplotlib.figure.Figure at 0x2522feb18d0>"
      ]
     },
     "metadata": {},
     "output_type": "display_data"
    }
   ],
   "source": [
    "# Plot cited time on average by the period after being published\n",
    "WOS_df.groupby('yrs_since_published').mean()['citation_per_yr'].plot(kind = 'bar')\n",
    "plt.ylabel('citation_per_yr')\n",
    "plt.show()"
   ]
  },
  {
   "cell_type": "code",
   "execution_count": 43,
   "metadata": {},
   "outputs": [
    {
     "data": {
      "image/png": "[encoded data removed]",
      "text/plain": [
       "<matplotlib.figure.Figure at 0x252324fe978>"
      ]
     },
     "metadata": {},
     "output_type": "display_data"
    }
   ],
   "source": [
    "WOS_df['yrs_since_published'].hist(bins = 39, color = 'skyblue')\n",
    "plt.hlines(y = 30, xmin = 0, xmax = 30, linestyles = '--', color = 'blue')\n",
    "plt.ylabel('number of the documents')\n",
    "plt.xlabel('year since published')\n",
    "plt.annotate('doc. number = 30', xy = (17, 33), fontsize = 12, color = 'blue')\n",
    "plt.savefig('./graph/image2', bbox_inches='tight')\n",
    "plt.show()\n"
   ]
  },
  {
   "cell_type": "code",
   "execution_count": 44,
   "metadata": {},
   "outputs": [
    {
     "data": {
      "text/plain": [
       "(1421, 18)"
      ]
     },
     "execution_count": 44,
     "metadata": {},
     "output_type": "execute_result"
    }
   ],
   "source": [
    "WOS_df.shape"
   ]
  },
  {
   "cell_type": "code",
   "execution_count": 45,
   "metadata": {},
   "outputs": [],
   "source": [
    "WOS_df = WOS_df[WOS_df['yrs_since_published'] <= 20]"
   ]
  },
  {
   "cell_type": "code",
   "execution_count": 46,
   "metadata": {},
   "outputs": [
    {
     "data": {
      "text/plain": [
       "(1227, 18)"
      ]
     },
     "execution_count": 46,
     "metadata": {},
     "output_type": "execute_result"
    }
   ],
   "source": [
    "WOS_df.shape"
   ]
  },
  {
   "cell_type": "markdown",
   "metadata": {},
   "source": [
    "## 2. Organization Country"
   ]
  },
  {
   "cell_type": "code",
   "execution_count": 47,
   "metadata": {},
   "outputs": [],
   "source": [
    "#Get the country name from the address column.\n",
    "states = [\"AL\", \"AK\", \"AZ\", \"AR\", \"CA\", \"CO\", \"CT\", \"DC\", \"DE\", \"FL\", \"GA\", \n",
    "          \"HI\", \"ID\", \"IL\", \"IN\", \"IA\", \"KS\", \"KY\", \"LA\", \"ME\", \"MD\", \n",
    "          \"MA\", \"MI\", \"MN\", \"MS\", \"MO\", \"MT\", \"NE\", \"NV\", \"NH\", \"NJ\", \n",
    "          \"NM\", \"NY\", \"NC\", \"ND\", \"OH\", \"OK\", \"OR\", \"PA\", \"RI\", \"SC\", \n",
    "          \"SD\", \"TN\", \"TX\", \"UT\", \"VT\", \"VA\", \"WA\", \"WV\", \"WI\", \"WY\"]\n",
    "\n",
    "address_list = []\n",
    "for i in list(WOS_df.address):\n",
    "    add_unit = []\n",
    "    for j in i:\n",
    "        if 'USA' in j.split(',')[-1].strip().upper(): # MA USA -> USA\n",
    "            add_unit.append('USA')\n",
    "        elif j.split(',')[-1].strip().upper() in states:\n",
    "            add_unit.append('USA')\n",
    "        elif 'CHINA' in j.split(',')[-1].strip().upper(): # Peoples R China -> China\n",
    "            add_unit.append('CHINA')\n",
    "        else:\n",
    "            add_unit.append(j.split(',')[-1].strip().upper()) \n",
    "    if len(add_unit) == 0:\n",
    "        address_list.append(['ENGLAND'])\n",
    "    else:\n",
    "        address_list.append(list(add_unit))\n",
    "        \n",
    "WOS_df['organ_country'] = address_list"
   ]
  },
  {
   "cell_type": "code",
   "execution_count": 48,
   "metadata": {},
   "outputs": [
    {
     "data": {
      "text/html": [
       "<div>\n",
       "<style scoped>\n",
       "    .dataframe tbody tr th:only-of-type {\n",
       "        vertical-align: middle;\n",
       "    }\n",
       "\n",
       "    .dataframe tbody tr th {\n",
       "        vertical-align: top;\n",
       "    }\n",
       "\n",
       "    .dataframe thead th {\n",
       "        text-align: right;\n",
       "    }\n",
       "</style>\n",
       "<table border=\"1\" class=\"dataframe\">\n",
       "  <thead>\n",
       "    <tr style=\"text-align: right;\">\n",
       "      <th></th>\n",
       "      <th>Title</th>\n",
       "      <th>cited_time</th>\n",
       "      <th>address</th>\n",
       "      <th>organ_country</th>\n",
       "    </tr>\n",
       "  </thead>\n",
       "  <tbody>\n",
       "    <tr>\n",
       "      <th>0</th>\n",
       "      <td>Nelson-Plosser revisited: The ACF approach</td>\n",
       "      <td>5</td>\n",
       "      <td>[Univ Glasgow, Glasgow G QQ, Lanark, Scotland,...</td>\n",
       "      <td>[SCOTLAND, ENGLAND, ENGLAND, ITALY]</td>\n",
       "    </tr>\n",
       "    <tr>\n",
       "      <th>1</th>\n",
       "      <td>An I(d) model with trend and cycles</td>\n",
       "      <td>5</td>\n",
       "      <td>[Univ London, Dept Econ, London E NS, England,...</td>\n",
       "      <td>[ENGLAND, ENGLAND]</td>\n",
       "    </tr>\n",
       "    <tr>\n",
       "      <th>2</th>\n",
       "      <td>Two estimators of the long-run variance: Beyon...</td>\n",
       "      <td>9</td>\n",
       "      <td>[Univ London, Dept Econ, London E NS, England,...</td>\n",
       "      <td>[ENGLAND, ENGLAND]</td>\n",
       "    </tr>\n",
       "    <tr>\n",
       "      <th>3</th>\n",
       "      <td>Testing joint hypotheses when one of the alter...</td>\n",
       "      <td>24</td>\n",
       "      <td>[Univ London Imperial Coll Sci Technol  Med, L...</td>\n",
       "      <td>[ENGLAND]</td>\n",
       "    </tr>\n",
       "    <tr>\n",
       "      <th>4</th>\n",
       "      <td>Nonstationarity-extended local Whittle estimation</td>\n",
       "      <td>81</td>\n",
       "      <td>[Univ London Imperial Coll Sci Technol  Med, T...</td>\n",
       "      <td>[ENGLAND, ENGLAND]</td>\n",
       "    </tr>\n",
       "  </tbody>\n",
       "</table>\n",
       "</div>"
      ],
      "text/plain": [
       "                                               Title  cited_time  \\\n",
       "0         Nelson-Plosser revisited: The ACF approach           5   \n",
       "1                An I(d) model with trend and cycles           5   \n",
       "2  Two estimators of the long-run variance: Beyon...           9   \n",
       "3  Testing joint hypotheses when one of the alter...          24   \n",
       "4  Nonstationarity-extended local Whittle estimation          81   \n",
       "\n",
       "                                             address  \\\n",
       "0  [Univ Glasgow, Glasgow G QQ, Lanark, Scotland,...   \n",
       "1  [Univ London, Dept Econ, London E NS, England,...   \n",
       "2  [Univ London, Dept Econ, London E NS, England,...   \n",
       "3  [Univ London Imperial Coll Sci Technol  Med, L...   \n",
       "4  [Univ London Imperial Coll Sci Technol  Med, T...   \n",
       "\n",
       "                         organ_country  \n",
       "0  [SCOTLAND, ENGLAND, ENGLAND, ITALY]  \n",
       "1                   [ENGLAND, ENGLAND]  \n",
       "2                   [ENGLAND, ENGLAND]  \n",
       "3                            [ENGLAND]  \n",
       "4                   [ENGLAND, ENGLAND]  "
      ]
     },
     "execution_count": 48,
     "metadata": {},
     "output_type": "execute_result"
    }
   ],
   "source": [
    "WOS_df[['Title', 'cited_time', 'address', 'organ_country']].head(5)"
   ]
  },
  {
   "cell_type": "markdown",
   "metadata": {},
   "source": [
    "## 3. Authors"
   ]
  },
  {
   "cell_type": "markdown",
   "metadata": {},
   "source": [
    "### The number of the authors for each publication"
   ]
  },
  {
   "cell_type": "code",
   "execution_count": 49,
   "metadata": {},
   "outputs": [],
   "source": [
    "# The number of the authors for each publication\n",
    "WOS_df['co_author_num'] = WOS_df['co_author1'].apply(lambda x:len(x))"
   ]
  },
  {
   "cell_type": "code",
   "execution_count": 225,
   "metadata": {},
   "outputs": [
    {
     "data": {
      "image/png": "[encoded data removed]",
      "text/plain": [
       "<matplotlib.figure.Figure at 0x252505c8eb8>"
      ]
     },
     "metadata": {},
     "output_type": "display_data"
    }
   ],
   "source": [
    "WOS_df.groupby('co_author_num').mean()['cited_time'].plot(kind = 'bar', color = 'skyblue')\n",
    "plt.xlabel('Number of Co-authors')\n",
    "plt.ylabel('cited time on avg')\n",
    "plt.savefig('./graph/image3', bbox_inches='tight')\n",
    "plt.show()"
   ]
  },
  {
   "cell_type": "code",
   "execution_count": 53,
   "metadata": {
    "scrolled": false
   },
   "outputs": [
    {
     "data": {
      "image/png": "[encoded data removed]",
      "text/plain": [
       "<matplotlib.figure.Figure at 0x25232231518>"
      ]
     },
     "metadata": {},
     "output_type": "display_data"
    }
   ],
   "source": [
    "WOS_df['co_author_num'].hist(bins = 70)\n",
    "plt.show()"
   ]
  },
  {
   "cell_type": "markdown",
   "metadata": {},
   "source": [
    "### Odd number of the authors (1 = odd-size group)"
   ]
  },
  {
   "cell_type": "code",
   "execution_count": 54,
   "metadata": {},
   "outputs": [],
   "source": [
    "WOS_df['author_odd_num_dummy'] = np.where(WOS_df['co_author_num']%2 == 0, 0, 1)"
   ]
  },
  {
   "cell_type": "code",
   "execution_count": 75,
   "metadata": {},
   "outputs": [
    {
     "data": {
      "text/plain": [
       "author_odd_num_dummy\n",
       "0    38.621035\n",
       "1    40.316879\n",
       "Name: cited_time, dtype: float64"
      ]
     },
     "execution_count": 75,
     "metadata": {},
     "output_type": "execute_result"
    }
   ],
   "source": [
    "WOS_df.groupby('author_odd_num_dummy').mean()['cited_time']"
   ]
  },
  {
   "cell_type": "code",
   "execution_count": 88,
   "metadata": {
    "scrolled": true
   },
   "outputs": [
    {
     "data": {
      "image/png": "[encoded data removed]",
      "text/plain": [
       "<matplotlib.figure.Figure at 0x252325aa6a0>"
      ]
     },
     "metadata": {},
     "output_type": "display_data"
    }
   ],
   "source": [
    "WOS_df.groupby('author_odd_num_dummy').mean()['cited_time'].plot(kind = 'bar')\n",
    "plt.xlabel('even-sized&single author(0)     vs.     Odd-sized(1)')\n",
    "plt.ylabel('cited time on avg')\n",
    "plt.hlines(y = 40.3, xmin = -0.3, xmax = 1.3, linestyles = '--', color = 'blue')\n",
    "plt.annotate('cited time on avg = 40.3', xy = (0.5, 41), fontsize = 12, color = 'blue')\n",
    "plt.hlines(y = 38.6, xmin = -0.3, xmax = 1.3, linestyles = '--', color = 'red')\n",
    "plt.annotate('cited time on avg = 38.6', xy = (-0.2, 36), fontsize = 12, color = 'red')\n",
    "plt.savefig('./graph/image4', bbox_inches='tight')\n",
    "plt.show()"
   ]
  },
  {
   "cell_type": "markdown",
   "metadata": {},
   "source": [
    "### The average h index of the authors"
   ]
  },
  {
   "cell_type": "code",
   "execution_count": 89,
   "metadata": {},
   "outputs": [
    {
     "data": {
      "text/html": [
       "<div>\n",
       "<style scoped>\n",
       "    .dataframe tbody tr th:only-of-type {\n",
       "        vertical-align: middle;\n",
       "    }\n",
       "\n",
       "    .dataframe tbody tr th {\n",
       "        vertical-align: top;\n",
       "    }\n",
       "\n",
       "    .dataframe thead th {\n",
       "        text-align: right;\n",
       "    }\n",
       "</style>\n",
       "<table border=\"1\" class=\"dataframe\">\n",
       "  <thead>\n",
       "    <tr style=\"text-align: right;\">\n",
       "      <th></th>\n",
       "      <th>name</th>\n",
       "      <th>name_id</th>\n",
       "      <th>ttl_publication</th>\n",
       "      <th>h-index</th>\n",
       "      <th>avg_citation_per_item</th>\n",
       "      <th>sum_of_times_cited</th>\n",
       "      <th>without_self_citations</th>\n",
       "      <th>citing_articles</th>\n",
       "      <th>without_self_citations_article</th>\n",
       "    </tr>\n",
       "  </thead>\n",
       "  <tbody>\n",
       "    <tr>\n",
       "      <th>0</th>\n",
       "      <td>Cosh, A</td>\n",
       "      <td>cosh, a</td>\n",
       "      <td>8</td>\n",
       "      <td>7</td>\n",
       "      <td>42.63</td>\n",
       "      <td>341</td>\n",
       "      <td>339</td>\n",
       "      <td>330</td>\n",
       "      <td>328</td>\n",
       "    </tr>\n",
       "    <tr>\n",
       "      <th>1</th>\n",
       "      <td>Hughes, A</td>\n",
       "      <td>hughes, a</td>\n",
       "      <td>39</td>\n",
       "      <td>17</td>\n",
       "      <td>32.54</td>\n",
       "      <td>1269</td>\n",
       "      <td>1257</td>\n",
       "      <td>1211</td>\n",
       "      <td>1202</td>\n",
       "    </tr>\n",
       "    <tr>\n",
       "      <th>2</th>\n",
       "      <td>Toms, S</td>\n",
       "      <td>toms, s</td>\n",
       "      <td>58</td>\n",
       "      <td>12</td>\n",
       "      <td>7.78</td>\n",
       "      <td>451</td>\n",
       "      <td>380</td>\n",
       "      <td>349</td>\n",
       "      <td>322</td>\n",
       "    </tr>\n",
       "    <tr>\n",
       "      <th>3</th>\n",
       "      <td>Wright, M</td>\n",
       "      <td>wright, m</td>\n",
       "      <td>318</td>\n",
       "      <td>68</td>\n",
       "      <td>49.07</td>\n",
       "      <td>15603</td>\n",
       "      <td>14181</td>\n",
       "      <td>9245</td>\n",
       "      <td>8992</td>\n",
       "    </tr>\n",
       "    <tr>\n",
       "      <th>4</th>\n",
       "      <td>Calzada, Joan</td>\n",
       "      <td>calzada, j</td>\n",
       "      <td>21</td>\n",
       "      <td>8</td>\n",
       "      <td>6.48</td>\n",
       "      <td>136</td>\n",
       "      <td>129</td>\n",
       "      <td>128</td>\n",
       "      <td>122</td>\n",
       "    </tr>\n",
       "  </tbody>\n",
       "</table>\n",
       "</div>"
      ],
      "text/plain": [
       "            name     name_id  ttl_publication  h-index  avg_citation_per_item  \\\n",
       "0        Cosh, A     cosh, a                8        7                  42.63   \n",
       "1      Hughes, A   hughes, a               39       17                  32.54   \n",
       "2        Toms, S     toms, s               58       12                   7.78   \n",
       "3      Wright, M   wright, m              318       68                  49.07   \n",
       "4  Calzada, Joan  calzada, j               21        8                   6.48   \n",
       "\n",
       "   sum_of_times_cited  without_self_citations  citing_articles  \\\n",
       "0                 341                     339              330   \n",
       "1                1269                    1257             1211   \n",
       "2                 451                     380              349   \n",
       "3               15603                   14181             9245   \n",
       "4                 136                     129              128   \n",
       "\n",
       "   without_self_citations_article  \n",
       "0                             328  \n",
       "1                            1202  \n",
       "2                             322  \n",
       "3                            8992  \n",
       "4                             122  "
      ]
     },
     "execution_count": 89,
     "metadata": {},
     "output_type": "execute_result"
    }
   ],
   "source": [
    "# Author Information\n",
    "authors_info = pd.read_csv('./data/Author.csv')\n",
    "authors_info.drop(columns = ['publication_url', 'authors_url'], axis = 1).head(5)"
   ]
  },
  {
   "cell_type": "code",
   "execution_count": 90,
   "metadata": {},
   "outputs": [],
   "source": [
    "# By looping a list of the co-authors, calculate a mean of h-index\n",
    "avg_author_h_index = []\n",
    "for row, authors in enumerate(list(WOS_df.co_author1)):\n",
    "    h_index = 0\n",
    "    count = 0\n",
    "    for idx in range(len(authors)):\n",
    "        ind = authors_info[authors_info.name_id == str(authors[idx])].index[0]\n",
    "        h_index += float(authors_info.loc[ind, ('h-index')])\n",
    "        count+= 1\n",
    "    avg_author_h_index.append(float(h_index)/float(count)) # average\n",
    "WOS_df['avg_authors_h_index'] = avg_author_h_index"
   ]
  },
  {
   "cell_type": "code",
   "execution_count": 96,
   "metadata": {},
   "outputs": [
    {
     "data": {
      "image/png": "[encoded data removed]",
      "text/plain": [
       "<matplotlib.figure.Figure at 0x252320ee710>"
      ]
     },
     "metadata": {},
     "output_type": "display_data"
    }
   ],
   "source": [
    "author_sub = WOS_df.groupby('avg_authors_h_index').mean()['cited_time'].reset_index()\n",
    "plt.scatter(x = list(author_sub.avg_authors_h_index), y = list(author_sub.cited_time))\n",
    "plt.xlabel('Authors H index on avg')\n",
    "plt.ylabel('cited time on avg')\n",
    "plt.ylim(0, 200)\n",
    "plt.savefig('./graph/image5', bbox_inches='tight')\n",
    "plt.show()"
   ]
  },
  {
   "cell_type": "code",
   "execution_count": 97,
   "metadata": {},
   "outputs": [
    {
     "data": {
      "text/html": [
       "<div>\n",
       "<style scoped>\n",
       "    .dataframe tbody tr th:only-of-type {\n",
       "        vertical-align: middle;\n",
       "    }\n",
       "\n",
       "    .dataframe tbody tr th {\n",
       "        vertical-align: top;\n",
       "    }\n",
       "\n",
       "    .dataframe thead th {\n",
       "        text-align: right;\n",
       "    }\n",
       "</style>\n",
       "<table border=\"1\" class=\"dataframe\">\n",
       "  <thead>\n",
       "    <tr style=\"text-align: right;\">\n",
       "      <th></th>\n",
       "      <th>Title</th>\n",
       "      <th>cited_time</th>\n",
       "      <th>avg_authors_h_index</th>\n",
       "      <th>co_author_num</th>\n",
       "    </tr>\n",
       "  </thead>\n",
       "  <tbody>\n",
       "    <tr>\n",
       "      <th>0</th>\n",
       "      <td>Nelson-Plosser revisited: The ACF approach</td>\n",
       "      <td>5</td>\n",
       "      <td>6.333333</td>\n",
       "      <td>3</td>\n",
       "    </tr>\n",
       "    <tr>\n",
       "      <th>1</th>\n",
       "      <td>An I(d) model with trend and cycles</td>\n",
       "      <td>5</td>\n",
       "      <td>7.333333</td>\n",
       "      <td>3</td>\n",
       "    </tr>\n",
       "    <tr>\n",
       "      <th>2</th>\n",
       "      <td>Two estimators of the long-run variance: Beyon...</td>\n",
       "      <td>9</td>\n",
       "      <td>7.333333</td>\n",
       "      <td>3</td>\n",
       "    </tr>\n",
       "    <tr>\n",
       "      <th>3</th>\n",
       "      <td>Testing joint hypotheses when one of the alter...</td>\n",
       "      <td>24</td>\n",
       "      <td>6.000000</td>\n",
       "      <td>2</td>\n",
       "    </tr>\n",
       "    <tr>\n",
       "      <th>4</th>\n",
       "      <td>Nonstationarity-extended local Whittle estimation</td>\n",
       "      <td>81</td>\n",
       "      <td>4.333333</td>\n",
       "      <td>3</td>\n",
       "    </tr>\n",
       "  </tbody>\n",
       "</table>\n",
       "</div>"
      ],
      "text/plain": [
       "                                               Title  cited_time  \\\n",
       "0         Nelson-Plosser revisited: The ACF approach           5   \n",
       "1                An I(d) model with trend and cycles           5   \n",
       "2  Two estimators of the long-run variance: Beyon...           9   \n",
       "3  Testing joint hypotheses when one of the alter...          24   \n",
       "4  Nonstationarity-extended local Whittle estimation          81   \n",
       "\n",
       "   avg_authors_h_index  co_author_num  \n",
       "0             6.333333              3  \n",
       "1             7.333333              3  \n",
       "2             7.333333              3  \n",
       "3             6.000000              2  \n",
       "4             4.333333              3  "
      ]
     },
     "execution_count": 97,
     "metadata": {},
     "output_type": "execute_result"
    }
   ],
   "source": [
    "WOS_df[['Title', 'cited_time', 'avg_authors_h_index', 'co_author_num']].head(5)"
   ]
  },
  {
   "cell_type": "code",
   "execution_count": 98,
   "metadata": {},
   "outputs": [],
   "source": [
    "# By looping a list of the co-authors, calculate a mean of h-index\n",
    "sum_author_h_index = []\n",
    "for row, authors in enumerate(list(WOS_df.co_author1)):\n",
    "    h_index = 0\n",
    "    count = 0\n",
    "    for idx in range(len(authors)):\n",
    "        ind = authors_info[authors_info.name_id == str(authors[idx])].index[0]\n",
    "        h_index += float(authors_info.loc[ind, ('h-index')])\n",
    "        count+= 1\n",
    "    sum_author_h_index.append(float(h_index)) # average\n",
    "WOS_df['sum_authors_h_index'] = sum_author_h_index"
   ]
  },
  {
   "cell_type": "code",
   "execution_count": 99,
   "metadata": {},
   "outputs": [
    {
     "data": {
      "image/png": "[encoded data removed]",
      "text/plain": [
       "<matplotlib.figure.Figure at 0x252320ee550>"
      ]
     },
     "metadata": {},
     "output_type": "display_data"
    }
   ],
   "source": [
    "author_sub = WOS_df.groupby('sum_authors_h_index').mean()['cited_time'].reset_index()\n",
    "plt.scatter(x = list(author_sub.sum_authors_h_index), y = list(author_sub.cited_time))\n",
    "plt.xlabel('Sum of Authors H index')\n",
    "plt.ylabel('cited time on avg')\n",
    "plt.ylim(0, 200)\n",
    "plt.show()"
   ]
  },
  {
   "cell_type": "code",
   "execution_count": 100,
   "metadata": {},
   "outputs": [
    {
     "data": {
      "text/html": [
       "<div>\n",
       "<style scoped>\n",
       "    .dataframe tbody tr th:only-of-type {\n",
       "        vertical-align: middle;\n",
       "    }\n",
       "\n",
       "    .dataframe tbody tr th {\n",
       "        vertical-align: top;\n",
       "    }\n",
       "\n",
       "    .dataframe thead th {\n",
       "        text-align: right;\n",
       "    }\n",
       "</style>\n",
       "<table border=\"1\" class=\"dataframe\">\n",
       "  <thead>\n",
       "    <tr style=\"text-align: right;\">\n",
       "      <th></th>\n",
       "      <th>avg_authors_h_index</th>\n",
       "      <th>sum_authors_h_index</th>\n",
       "    </tr>\n",
       "  </thead>\n",
       "  <tbody>\n",
       "    <tr>\n",
       "      <th>cited_time</th>\n",
       "      <td>0.169086</td>\n",
       "      <td>0.197489</td>\n",
       "    </tr>\n",
       "    <tr>\n",
       "      <th>num_of_ref</th>\n",
       "      <td>0.130370</td>\n",
       "      <td>0.166033</td>\n",
       "    </tr>\n",
       "    <tr>\n",
       "      <th>yrs_since_published</th>\n",
       "      <td>0.134999</td>\n",
       "      <td>-0.023198</td>\n",
       "    </tr>\n",
       "    <tr>\n",
       "      <th>citation_per_yr</th>\n",
       "      <td>0.148329</td>\n",
       "      <td>0.315964</td>\n",
       "    </tr>\n",
       "    <tr>\n",
       "      <th>co_author_num</th>\n",
       "      <td>-0.011829</td>\n",
       "      <td>0.855946</td>\n",
       "    </tr>\n",
       "    <tr>\n",
       "      <th>author_odd_num_dummy</th>\n",
       "      <td>0.001248</td>\n",
       "      <td>-0.049771</td>\n",
       "    </tr>\n",
       "    <tr>\n",
       "      <th>avg_authors_h_index</th>\n",
       "      <td>1.000000</td>\n",
       "      <td>0.406643</td>\n",
       "    </tr>\n",
       "    <tr>\n",
       "      <th>sum_authors_h_index</th>\n",
       "      <td>0.406643</td>\n",
       "      <td>1.000000</td>\n",
       "    </tr>\n",
       "  </tbody>\n",
       "</table>\n",
       "</div>"
      ],
      "text/plain": [
       "                      avg_authors_h_index  sum_authors_h_index\n",
       "cited_time                       0.169086             0.197489\n",
       "num_of_ref                       0.130370             0.166033\n",
       "yrs_since_published              0.134999            -0.023198\n",
       "citation_per_yr                  0.148329             0.315964\n",
       "co_author_num                   -0.011829             0.855946\n",
       "author_odd_num_dummy             0.001248            -0.049771\n",
       "avg_authors_h_index              1.000000             0.406643\n",
       "sum_authors_h_index              0.406643             1.000000"
      ]
     },
     "execution_count": 100,
     "metadata": {},
     "output_type": "execute_result"
    }
   ],
   "source": [
    "WOS_df.corr()[['avg_authors_h_index', 'sum_authors_h_index']]"
   ]
  },
  {
   "cell_type": "markdown",
   "metadata": {},
   "source": [
    "## 4. Reference"
   ]
  },
  {
   "cell_type": "code",
   "execution_count": 101,
   "metadata": {
    "scrolled": false
   },
   "outputs": [
    {
     "data": {
      "text/html": [
       "<div>\n",
       "<style scoped>\n",
       "    .dataframe tbody tr th:only-of-type {\n",
       "        vertical-align: middle;\n",
       "    }\n",
       "\n",
       "    .dataframe tbody tr th {\n",
       "        vertical-align: top;\n",
       "    }\n",
       "\n",
       "    .dataframe thead th {\n",
       "        text-align: right;\n",
       "    }\n",
       "</style>\n",
       "<table border=\"1\" class=\"dataframe\">\n",
       "  <thead>\n",
       "    <tr style=\"text-align: right;\">\n",
       "      <th></th>\n",
       "      <th>citing_title</th>\n",
       "      <th>citing_year</th>\n",
       "      <th>ref_title</th>\n",
       "      <th>ref_year</th>\n",
       "      <th>ref_times_cited</th>\n",
       "    </tr>\n",
       "  </thead>\n",
       "  <tbody>\n",
       "    <tr>\n",
       "      <th>0</th>\n",
       "      <td>MANEUVERING IN POOR VISIBILITY: HOW FIRMS PLAY...</td>\n",
       "      <td>18-Apr</td>\n",
       "      <td>What is not a real option: Considering boundar...</td>\n",
       "      <td>04-Jan</td>\n",
       "      <td>222</td>\n",
       "    </tr>\n",
       "    <tr>\n",
       "      <th>1</th>\n",
       "      <td>MANEUVERING IN POOR VISIBILITY: HOW FIRMS PLAY...</td>\n",
       "      <td>18-Apr</td>\n",
       "      <td>Match your innovation strategy to your innovat...</td>\n",
       "      <td>06-Apr</td>\n",
       "      <td>247</td>\n",
       "    </tr>\n",
       "    <tr>\n",
       "      <th>2</th>\n",
       "      <td>MANEUVERING IN POOR VISIBILITY: HOW FIRMS PLAY...</td>\n",
       "      <td>18-Apr</td>\n",
       "      <td>NaN</td>\n",
       "      <td>2012</td>\n",
       "      <td>14</td>\n",
       "    </tr>\n",
       "    <tr>\n",
       "      <th>3</th>\n",
       "      <td>MANEUVERING IN POOR VISIBILITY: HOW FIRMS PLAY...</td>\n",
       "      <td>18-Apr</td>\n",
       "      <td>INTRODUCTION: COLLABORATION AND COMPETITION IN...</td>\n",
       "      <td>2013</td>\n",
       "      <td>2</td>\n",
       "    </tr>\n",
       "    <tr>\n",
       "      <th>4</th>\n",
       "      <td>MANEUVERING IN POOR VISIBILITY: HOW FIRMS PLAY...</td>\n",
       "      <td>18-Apr</td>\n",
       "      <td>Innovation ecosystems and the pace of substitu...</td>\n",
       "      <td>16-Apr</td>\n",
       "      <td>26</td>\n",
       "    </tr>\n",
       "  </tbody>\n",
       "</table>\n",
       "</div>"
      ],
      "text/plain": [
       "                                        citing_title citing_year  \\\n",
       "0  MANEUVERING IN POOR VISIBILITY: HOW FIRMS PLAY...      18-Apr   \n",
       "1  MANEUVERING IN POOR VISIBILITY: HOW FIRMS PLAY...      18-Apr   \n",
       "2  MANEUVERING IN POOR VISIBILITY: HOW FIRMS PLAY...      18-Apr   \n",
       "3  MANEUVERING IN POOR VISIBILITY: HOW FIRMS PLAY...      18-Apr   \n",
       "4  MANEUVERING IN POOR VISIBILITY: HOW FIRMS PLAY...      18-Apr   \n",
       "\n",
       "                                           ref_title ref_year ref_times_cited  \n",
       "0  What is not a real option: Considering boundar...   04-Jan             222  \n",
       "1  Match your innovation strategy to your innovat...   06-Apr             247  \n",
       "2                                                NaN     2012              14  \n",
       "3  INTRODUCTION: COLLABORATION AND COMPETITION IN...     2013               2  \n",
       "4  Innovation ecosystems and the pace of substitu...   16-Apr              26  "
      ]
     },
     "execution_count": 101,
     "metadata": {},
     "output_type": "execute_result"
    }
   ],
   "source": [
    "# Reference Information\n",
    "ref = pd.read_csv('./data/Reference.csv')\n",
    "ref = ref[ref.ref_year != 'no_reference'] #delete the no reference lines\n",
    "ref.drop(columns = ['publication_url'], axis =1).head(5)"
   ]
  },
  {
   "cell_type": "code",
   "execution_count": 102,
   "metadata": {},
   "outputs": [
    {
     "name": "stdout",
     "output_type": "stream",
     "text": [
      "The number of the missing values in the ref_year column: 371\n"
     ]
    }
   ],
   "source": [
    "print('The number of the missing values in the ref_year column:', ref.isnull().sum()['ref_year'])"
   ]
  },
  {
   "cell_type": "markdown",
   "metadata": {},
   "source": [
    "### Web-scraping the google scholar to fill the na values in the \"ref_year\" column"
   ]
  },
  {
   "cell_type": "code",
   "execution_count": 103,
   "metadata": {},
   "outputs": [
    {
     "data": {
      "text/html": [
       "<div>\n",
       "<style scoped>\n",
       "    .dataframe tbody tr th:only-of-type {\n",
       "        vertical-align: middle;\n",
       "    }\n",
       "\n",
       "    .dataframe tbody tr th {\n",
       "        vertical-align: top;\n",
       "    }\n",
       "\n",
       "    .dataframe thead th {\n",
       "        text-align: right;\n",
       "    }\n",
       "</style>\n",
       "<table border=\"1\" class=\"dataframe\">\n",
       "  <thead>\n",
       "    <tr style=\"text-align: right;\">\n",
       "      <th></th>\n",
       "      <th>citing_title</th>\n",
       "      <th>ref_title</th>\n",
       "      <th>ref_year</th>\n",
       "    </tr>\n",
       "  </thead>\n",
       "  <tbody>\n",
       "    <tr>\n",
       "      <th>3545</th>\n",
       "      <td>Knowledge Worker Mobility in Context: Pushing ...</td>\n",
       "      <td>Social ties, prior experience, and venture cre...</td>\n",
       "      <td>NaN</td>\n",
       "    </tr>\n",
       "    <tr>\n",
       "      <th>3937</th>\n",
       "      <td>Toward an integrated approach to nutritional q...</td>\n",
       "      <td>Access to adequate food: new indicators to tra...</td>\n",
       "      <td>NaN</td>\n",
       "    </tr>\n",
       "    <tr>\n",
       "      <th>3946</th>\n",
       "      <td>Toward an integrated approach to nutritional q...</td>\n",
       "      <td>The Implications of a changing climate on glob...</td>\n",
       "      <td>NaN</td>\n",
       "    </tr>\n",
       "    <tr>\n",
       "      <th>5043</th>\n",
       "      <td>Game On? Smoking Cessation Through the Gamific...</td>\n",
       "      <td>Qual Res Psychol Internet</td>\n",
       "      <td>NaN</td>\n",
       "    </tr>\n",
       "    <tr>\n",
       "      <th>5327</th>\n",
       "      <td>Equity impacts of price policies to promote he...</td>\n",
       "      <td>Responding to the challenge of resource mobili...</td>\n",
       "      <td>NaN</td>\n",
       "    </tr>\n",
       "  </tbody>\n",
       "</table>\n",
       "</div>"
      ],
      "text/plain": [
       "                                           citing_title  \\\n",
       "3545  Knowledge Worker Mobility in Context: Pushing ...   \n",
       "3937  Toward an integrated approach to nutritional q...   \n",
       "3946  Toward an integrated approach to nutritional q...   \n",
       "5043  Game On? Smoking Cessation Through the Gamific...   \n",
       "5327  Equity impacts of price policies to promote he...   \n",
       "\n",
       "                                              ref_title ref_year  \n",
       "3545  Social ties, prior experience, and venture cre...      NaN  \n",
       "3937  Access to adequate food: new indicators to tra...      NaN  \n",
       "3946  The Implications of a changing climate on glob...      NaN  \n",
       "5043                          Qual Res Psychol Internet      NaN  \n",
       "5327  Responding to the challenge of resource mobili...      NaN  "
      ]
     },
     "execution_count": 103,
     "metadata": {},
     "output_type": "execute_result"
    }
   ],
   "source": [
    "# filter the na values in the ref_year column\n",
    "na_ref_year_df = ref[(ref.ref_year.isnull() == True) & (ref.ref_title.isnull() == False)]\n",
    "na_ref_year_df[['citing_title', 'ref_title', 'ref_year']].head(5)"
   ]
  },
  {
   "cell_type": "code",
   "execution_count": 104,
   "metadata": {
    "scrolled": true
   },
   "outputs": [],
   "source": [
    "# Web-scarape the google scholar to parse the year of being pusblished in each referenced ariticles\n",
    "year_list = []\n",
    "chrome_options = Options()\n",
    "chrome_options.add_argument('--lang=en-us')\n",
    "driver = webdriver.Chrome(chrome_options=chrome_options,executable_path=r\"C:/Users/seong/Downloads/chrome/chromedriver\")\n",
    "\n",
    "#Search the titles of the references and parsing the year\n",
    "for title in list(na_ref_year_df.ref_title):\n",
    "    driver.get('https://scholar.google.co.uk/schhp?hl=en&as_sdt=0,5')\n",
    "    driver.implicitly_wait(5)\n",
    "    driver.find_element_by_xpath('//*[@id=\"gs_hdr_tsi\"]').send_keys(title)\n",
    "    driver.implicitly_wait(5)\n",
    "    driver.find_element_by_xpath('//*[@id=\"gs_hdr_tsb\"]/span/span[1]').click()\n",
    "    driver.implicitly_wait(5)\n",
    "    web_soup = BeautifulSoup(driver.page_source, \"html.parser\")\n",
    "    time.sleep(10)\n",
    "    try:\n",
    "        year_parsing = web_soup.select_one('div.gs_a').text\n",
    "    except:\n",
    "        continue\n",
    "    try:\n",
    "        year = int(re.findall(r'\\d+', year_parsing)[0])\n",
    "    except:\n",
    "        year = np.nan\n",
    "    year_list.append(year)\n",
    "driver.quit()\n",
    "\n",
    "na_ref_year_df['ref_year'] = year_list\n",
    "\n",
    "# Manually adding by searching\n",
    "na_ref_year_df.loc[5043, 'ref_year'] = 2016.0"
   ]
  },
  {
   "cell_type": "code",
   "execution_count": 105,
   "metadata": {},
   "outputs": [],
   "source": [
    "#Fill the na values in the ref dataframe with the scraped date string\n",
    "for ind in list(na_ref_year_df.index):\n",
    "    ref.loc[ind, 'ref_year'] = na_ref_year_df.loc[ind, 'ref_year']"
   ]
  },
  {
   "cell_type": "code",
   "execution_count": 106,
   "metadata": {},
   "outputs": [
    {
     "name": "stdout",
     "output_type": "stream",
     "text": [
      "The number of the missing values in the ref_year column: 284\n"
     ]
    }
   ],
   "source": [
    "print('The number of the missing values in the ref_year column:', ref.isnull().sum()['ref_year'])"
   ]
  },
  {
   "cell_type": "markdown",
   "metadata": {},
   "source": [
    "### Preprocessing the date strings to extract the year only"
   ]
  },
  {
   "cell_type": "code",
   "execution_count": 107,
   "metadata": {},
   "outputs": [],
   "source": [
    "not_null_ref = ref[ref.ref_year.isnull() == False]\n",
    "not_null_ref.ref_year = not_null_ref.ref_year.astype(str)\n",
    "\n",
    "number_only = [''.join(re.findall(r'\\d+', j)) for j in list(not_null_ref.ref_year)] #extract only decimal\n",
    "year_only = [i[-2:] for i in number_only] #extract the last two digits\n",
    "year_list = []\n",
    "for y in year_only:\n",
    "    if int(y) > int(str(now.year)[2:4]): # greater than 18\n",
    "        year_list.append('19' + y)\n",
    "    else:\n",
    "        year_list.append('20'+ y)\n",
    "not_null_ref['ref_year'] = year_list  \n",
    "\n",
    "for ind in list(not_null_ref.index):\n",
    "    ref.loc[ind, 'refined_year'] = not_null_ref.loc[ind, 'ref_year']"
   ]
  },
  {
   "cell_type": "markdown",
   "metadata": {},
   "source": [
    "### Fill the na values in the ref_year column with the references' year on average in each publication"
   ]
  },
  {
   "cell_type": "code",
   "execution_count": 108,
   "metadata": {},
   "outputs": [],
   "source": [
    "for url in list(ref.publication_url.unique()): # url is a primary key to find a dataline in the base data\n",
    "    url_group_year = ref[ref.publication_url == url] # filter one journal\n",
    "    try:\n",
    "        na_list_index = url_group_year[url_group_year.refined_year.isnull()].index #extract the index of having na on year of publishment\n",
    "        mean_year_of_group = url_group_year[url_group_year.refined_year.isnull() == False]['refined_year'].values.astype(int).mean().astype(int)\n",
    "        ref.loc[list(na_list_index), 'refined_year'] = mean_year_of_group #fill na with the average year in the reference group\n",
    "    except:\n",
    "        continue # No na values, then continue the loop\n",
    "               \n",
    "ref.refined_year = ref.refined_year.astype(int)\n",
    "ref.reset_index(inplace= True)"
   ]
  },
  {
   "cell_type": "code",
   "execution_count": 109,
   "metadata": {},
   "outputs": [
    {
     "name": "stdout",
     "output_type": "stream",
     "text": [
      "The number of the missing values in the ref_year column: 0\n"
     ]
    }
   ],
   "source": [
    "print('The number of the missing values in the ref_year column:', ref.isnull().sum()['refined_year'])"
   ]
  },
  {
   "cell_type": "markdown",
   "metadata": {},
   "source": [
    "### Yearly Citation Number"
   ]
  },
  {
   "cell_type": "code",
   "execution_count": 110,
   "metadata": {
    "scrolled": false
   },
   "outputs": [],
   "source": [
    "# yearly_citation_num \n",
    "ref['yearly_citation_num'] = [int(ref.loc[i,'ref_times_cited'])/(now.year + 1 - ref.loc[i, 'refined_year']) for i in range(len(ref))]"
   ]
  },
  {
   "cell_type": "code",
   "execution_count": 111,
   "metadata": {},
   "outputs": [
    {
     "data": {
      "text/html": [
       "<div>\n",
       "<style scoped>\n",
       "    .dataframe tbody tr th:only-of-type {\n",
       "        vertical-align: middle;\n",
       "    }\n",
       "\n",
       "    .dataframe tbody tr th {\n",
       "        vertical-align: top;\n",
       "    }\n",
       "\n",
       "    .dataframe thead th {\n",
       "        text-align: right;\n",
       "    }\n",
       "</style>\n",
       "<table border=\"1\" class=\"dataframe\">\n",
       "  <thead>\n",
       "    <tr style=\"text-align: right;\">\n",
       "      <th></th>\n",
       "      <th>citing_title</th>\n",
       "      <th>ref_title</th>\n",
       "      <th>ref_year</th>\n",
       "      <th>ref_times_cited</th>\n",
       "      <th>refined_year</th>\n",
       "      <th>yearly_citation_num</th>\n",
       "    </tr>\n",
       "  </thead>\n",
       "  <tbody>\n",
       "    <tr>\n",
       "      <th>0</th>\n",
       "      <td>MANEUVERING IN POOR VISIBILITY: HOW FIRMS PLAY...</td>\n",
       "      <td>What is not a real option: Considering boundar...</td>\n",
       "      <td>04-Jan</td>\n",
       "      <td>222</td>\n",
       "      <td>2004</td>\n",
       "      <td>14.800000</td>\n",
       "    </tr>\n",
       "    <tr>\n",
       "      <th>1</th>\n",
       "      <td>MANEUVERING IN POOR VISIBILITY: HOW FIRMS PLAY...</td>\n",
       "      <td>Match your innovation strategy to your innovat...</td>\n",
       "      <td>06-Apr</td>\n",
       "      <td>247</td>\n",
       "      <td>2006</td>\n",
       "      <td>19.000000</td>\n",
       "    </tr>\n",
       "    <tr>\n",
       "      <th>2</th>\n",
       "      <td>MANEUVERING IN POOR VISIBILITY: HOW FIRMS PLAY...</td>\n",
       "      <td>NaN</td>\n",
       "      <td>2012</td>\n",
       "      <td>14</td>\n",
       "      <td>2012</td>\n",
       "      <td>2.000000</td>\n",
       "    </tr>\n",
       "    <tr>\n",
       "      <th>3</th>\n",
       "      <td>MANEUVERING IN POOR VISIBILITY: HOW FIRMS PLAY...</td>\n",
       "      <td>INTRODUCTION: COLLABORATION AND COMPETITION IN...</td>\n",
       "      <td>2013</td>\n",
       "      <td>2</td>\n",
       "      <td>2013</td>\n",
       "      <td>0.333333</td>\n",
       "    </tr>\n",
       "    <tr>\n",
       "      <th>4</th>\n",
       "      <td>MANEUVERING IN POOR VISIBILITY: HOW FIRMS PLAY...</td>\n",
       "      <td>Innovation ecosystems and the pace of substitu...</td>\n",
       "      <td>16-Apr</td>\n",
       "      <td>26</td>\n",
       "      <td>2016</td>\n",
       "      <td>8.666667</td>\n",
       "    </tr>\n",
       "  </tbody>\n",
       "</table>\n",
       "</div>"
      ],
      "text/plain": [
       "                                        citing_title  \\\n",
       "0  MANEUVERING IN POOR VISIBILITY: HOW FIRMS PLAY...   \n",
       "1  MANEUVERING IN POOR VISIBILITY: HOW FIRMS PLAY...   \n",
       "2  MANEUVERING IN POOR VISIBILITY: HOW FIRMS PLAY...   \n",
       "3  MANEUVERING IN POOR VISIBILITY: HOW FIRMS PLAY...   \n",
       "4  MANEUVERING IN POOR VISIBILITY: HOW FIRMS PLAY...   \n",
       "\n",
       "                                           ref_title ref_year ref_times_cited  \\\n",
       "0  What is not a real option: Considering boundar...   04-Jan             222   \n",
       "1  Match your innovation strategy to your innovat...   06-Apr             247   \n",
       "2                                                NaN     2012              14   \n",
       "3  INTRODUCTION: COLLABORATION AND COMPETITION IN...     2013               2   \n",
       "4  Innovation ecosystems and the pace of substitu...   16-Apr              26   \n",
       "\n",
       "   refined_year  yearly_citation_num  \n",
       "0          2004            14.800000  \n",
       "1          2006            19.000000  \n",
       "2          2012             2.000000  \n",
       "3          2013             0.333333  \n",
       "4          2016             8.666667  "
      ]
     },
     "execution_count": 111,
     "metadata": {},
     "output_type": "execute_result"
    }
   ],
   "source": [
    "ref[['citing_title', 'ref_title', 'ref_year', 'ref_times_cited', 'refined_year', 'yearly_citation_num']].head(5)"
   ]
  },
  {
   "cell_type": "markdown",
   "metadata": {},
   "source": [
    "### Group by each publication, and summate the yearly citation number with the relevant references"
   ]
  },
  {
   "cell_type": "code",
   "execution_count": 112,
   "metadata": {},
   "outputs": [],
   "source": [
    "ref_url_groupby = ref.groupby('publication_url').mean()['yearly_citation_num'].reset_index()\n",
    "ref_url_groupby.rename(columns={'yearly_citation_num':'ref_yearly_cited_avg'}, inplace= True)"
   ]
  },
  {
   "cell_type": "markdown",
   "metadata": {},
   "source": [
    "### Merge the ref dataframe with the WOS_df dataframe"
   ]
  },
  {
   "cell_type": "code",
   "execution_count": 113,
   "metadata": {},
   "outputs": [],
   "source": [
    "# Merge key = publication URL on the Web of Science\n",
    "merged_WOS_df = WOS_df.merge(right = ref_url_groupby, how = 'left', left_on = ['WOS_URL'], right_on = ['publication_url'])\n",
    "merged_WOS_df['ref_yearly_cited_avg'] = merged_WOS_df['ref_yearly_cited_avg'].fillna(value=0)\n",
    "merged_WOS_df.drop(columns=['publication_url'], axis=1, inplace=True)"
   ]
  },
  {
   "cell_type": "code",
   "execution_count": 114,
   "metadata": {
    "scrolled": true
   },
   "outputs": [
    {
     "data": {
      "text/html": [
       "<div>\n",
       "<style scoped>\n",
       "    .dataframe tbody tr th:only-of-type {\n",
       "        vertical-align: middle;\n",
       "    }\n",
       "\n",
       "    .dataframe tbody tr th {\n",
       "        vertical-align: top;\n",
       "    }\n",
       "\n",
       "    .dataframe thead th {\n",
       "        text-align: right;\n",
       "    }\n",
       "</style>\n",
       "<table border=\"1\" class=\"dataframe\">\n",
       "  <thead>\n",
       "    <tr style=\"text-align: right;\">\n",
       "      <th></th>\n",
       "      <th>Title</th>\n",
       "      <th>ref_yearly_cited_avg</th>\n",
       "      <th>num_of_ref</th>\n",
       "      <th>cited_time</th>\n",
       "    </tr>\n",
       "  </thead>\n",
       "  <tbody>\n",
       "    <tr>\n",
       "      <th>0</th>\n",
       "      <td>Nelson-Plosser revisited: The ACF approach</td>\n",
       "      <td>18.801852</td>\n",
       "      <td>42</td>\n",
       "      <td>5</td>\n",
       "    </tr>\n",
       "    <tr>\n",
       "      <th>1</th>\n",
       "      <td>An I(d) model with trend and cycles</td>\n",
       "      <td>3.940034</td>\n",
       "      <td>22</td>\n",
       "      <td>5</td>\n",
       "    </tr>\n",
       "    <tr>\n",
       "      <th>2</th>\n",
       "      <td>Two estimators of the long-run variance: Beyon...</td>\n",
       "      <td>26.560935</td>\n",
       "      <td>21</td>\n",
       "      <td>9</td>\n",
       "    </tr>\n",
       "    <tr>\n",
       "      <th>3</th>\n",
       "      <td>Testing joint hypotheses when one of the alter...</td>\n",
       "      <td>10.841103</td>\n",
       "      <td>58</td>\n",
       "      <td>24</td>\n",
       "    </tr>\n",
       "    <tr>\n",
       "      <th>4</th>\n",
       "      <td>Nonstationarity-extended local Whittle estimation</td>\n",
       "      <td>6.388188</td>\n",
       "      <td>21</td>\n",
       "      <td>81</td>\n",
       "    </tr>\n",
       "  </tbody>\n",
       "</table>\n",
       "</div>"
      ],
      "text/plain": [
       "                                               Title  ref_yearly_cited_avg  \\\n",
       "0         Nelson-Plosser revisited: The ACF approach             18.801852   \n",
       "1                An I(d) model with trend and cycles              3.940034   \n",
       "2  Two estimators of the long-run variance: Beyon...             26.560935   \n",
       "3  Testing joint hypotheses when one of the alter...             10.841103   \n",
       "4  Nonstationarity-extended local Whittle estimation              6.388188   \n",
       "\n",
       "   num_of_ref  cited_time  \n",
       "0          42           5  \n",
       "1          22           5  \n",
       "2          21           9  \n",
       "3          58          24  \n",
       "4          21          81  "
      ]
     },
     "execution_count": 114,
     "metadata": {},
     "output_type": "execute_result"
    }
   ],
   "source": [
    "merged_WOS_df[['Title', 'ref_yearly_cited_avg', 'num_of_ref', 'cited_time']].head(5)"
   ]
  },
  {
   "cell_type": "code",
   "execution_count": 137,
   "metadata": {},
   "outputs": [
    {
     "data": {
      "text/plain": [
       "array([[1.        , 0.31498311],\n",
       "       [0.31498311, 1.        ]])"
      ]
     },
     "execution_count": 137,
     "metadata": {},
     "output_type": "execute_result"
    }
   ],
   "source": [
    "np.corrcoef(list(ref_sub.num_of_ref), list(ref_sub.cited_time))"
   ]
  },
  {
   "cell_type": "code",
   "execution_count": 198,
   "metadata": {
    "scrolled": true
   },
   "outputs": [
    {
     "data": {
      "image/png": "[encoded data removed]",
      "text/plain": [
       "<matplotlib.figure.Figure at 0x2523acf59b0>"
      ]
     },
     "metadata": {},
     "output_type": "display_data"
    }
   ],
   "source": [
    "ref_sub = merged_WOS_df.groupby('num_of_ref').mean()['cited_time'].reset_index()\n",
    "plt.scatter(x = list(ref_sub.num_of_ref), y = list(ref_sub.cited_time))\n",
    "plt.xlabel('numer of references')\n",
    "plt.ylabel('cited times on average')\n",
    "plt.annotate('correlation = 0.32', xy = (160, 250), fontsize = 12, color = 'blue')\n",
    "plt.savefig('./graph/image6', bbox_inches='tight')\n",
    "plt.show()"
   ]
  },
  {
   "cell_type": "code",
   "execution_count": 138,
   "metadata": {},
   "outputs": [
    {
     "data": {
      "text/plain": [
       "array([[1.        , 0.15566191],\n",
       "       [0.15566191, 1.        ]])"
      ]
     },
     "execution_count": 138,
     "metadata": {},
     "output_type": "execute_result"
    }
   ],
   "source": [
    "np.corrcoef(list(ref_sub2.ref_yearly_cited_avg), list(ref_sub2.cited_time))"
   ]
  },
  {
   "cell_type": "code",
   "execution_count": 199,
   "metadata": {},
   "outputs": [
    {
     "data": {
      "image/png": "[encoded data removed]",
      "text/plain": [
       "<matplotlib.figure.Figure at 0x25233fdc128>"
      ]
     },
     "metadata": {},
     "output_type": "display_data"
    }
   ],
   "source": [
    "ref_sub2 = merged_WOS_df.groupby('ref_yearly_cited_avg').mean()['cited_time'].reset_index()\n",
    "plt.scatter(x = list(ref_sub2.ref_yearly_cited_avg), y = list(ref_sub2.cited_time))\n",
    "plt.xlabel('yearly avg. citation of references')\n",
    "plt.ylabel('cited time on average')\n",
    "plt.ylim(-10, 500)\n",
    "plt.xlim(-10, 100)\n",
    "plt.annotate('correlation = 0.16', xy = (60,400), fontsize = 12, color = 'blue')\n",
    "plt.savefig('./graph/image7', bbox_inches='tight')\n",
    "plt.show()"
   ]
  },
  {
   "cell_type": "markdown",
   "metadata": {},
   "source": [
    "## 5. Organization"
   ]
  },
  {
   "cell_type": "code",
   "execution_count": 127,
   "metadata": {},
   "outputs": [
    {
     "name": "stdout",
     "output_type": "stream",
     "text": [
      "=== Research Field: Anesthesiology ===\n"
     ]
    },
    {
     "data": {
      "text/html": [
       "<div>\n",
       "<style scoped>\n",
       "    .dataframe tbody tr th:only-of-type {\n",
       "        vertical-align: middle;\n",
       "    }\n",
       "\n",
       "    .dataframe tbody tr th {\n",
       "        vertical-align: top;\n",
       "    }\n",
       "\n",
       "    .dataframe thead th {\n",
       "        text-align: right;\n",
       "    }\n",
       "</style>\n",
       "<table border=\"1\" class=\"dataframe\">\n",
       "  <thead>\n",
       "    <tr style=\"text-align: right;\">\n",
       "      <th></th>\n",
       "      <th>Name</th>\n",
       "      <th>Rank</th>\n",
       "      <th>Web of Science Documents</th>\n",
       "      <th>Category Normalized Citation Impact</th>\n",
       "      <th>Times Cited</th>\n",
       "      <th>% Docs Cited</th>\n",
       "    </tr>\n",
       "  </thead>\n",
       "  <tbody>\n",
       "    <tr>\n",
       "      <th>0</th>\n",
       "      <td>University of California System</td>\n",
       "      <td>1.0</td>\n",
       "      <td>6276.0</td>\n",
       "      <td>1.45</td>\n",
       "      <td>136231.0</td>\n",
       "      <td>72.34</td>\n",
       "    </tr>\n",
       "    <tr>\n",
       "      <th>1</th>\n",
       "      <td>Harvard University</td>\n",
       "      <td>2.0</td>\n",
       "      <td>5845.0</td>\n",
       "      <td>1.33</td>\n",
       "      <td>105297.0</td>\n",
       "      <td>70.88</td>\n",
       "    </tr>\n",
       "    <tr>\n",
       "      <th>2</th>\n",
       "      <td>University of California San Francisco</td>\n",
       "      <td>3.0</td>\n",
       "      <td>2814.0</td>\n",
       "      <td>1.62</td>\n",
       "      <td>74494.0</td>\n",
       "      <td>74.88</td>\n",
       "    </tr>\n",
       "    <tr>\n",
       "      <th>3</th>\n",
       "      <td>University of Toronto</td>\n",
       "      <td>4.0</td>\n",
       "      <td>3839.0</td>\n",
       "      <td>1.43</td>\n",
       "      <td>72983.0</td>\n",
       "      <td>74.58</td>\n",
       "    </tr>\n",
       "    <tr>\n",
       "      <th>4</th>\n",
       "      <td>University of London</td>\n",
       "      <td>5.0</td>\n",
       "      <td>3787.0</td>\n",
       "      <td>1.49</td>\n",
       "      <td>67801.0</td>\n",
       "      <td>69.26</td>\n",
       "    </tr>\n",
       "  </tbody>\n",
       "</table>\n",
       "</div>"
      ],
      "text/plain": [
       "                                     Name  Rank  Web of Science Documents  \\\n",
       "0         University of California System   1.0                    6276.0   \n",
       "1                      Harvard University   2.0                    5845.0   \n",
       "2  University of California San Francisco   3.0                    2814.0   \n",
       "3                   University of Toronto   4.0                    3839.0   \n",
       "4                    University of London   5.0                    3787.0   \n",
       "\n",
       "   Category Normalized Citation Impact  Times Cited  % Docs Cited  \n",
       "0                                 1.45     136231.0         72.34  \n",
       "1                                 1.33     105297.0         70.88  \n",
       "2                                 1.62      74494.0         74.88  \n",
       "3                                 1.43      72983.0         74.58  \n",
       "4                                 1.49      67801.0         69.26  "
      ]
     },
     "execution_count": 127,
     "metadata": {},
     "output_type": "execute_result"
    }
   ],
   "source": [
    "print(\"=== Research Field: Anesthesiology ===\")\n",
    "pd.read_csv('./data/organizationbyResearchArea/Anesthesiology.csv').head(5)"
   ]
  },
  {
   "cell_type": "code",
   "execution_count": 128,
   "metadata": {},
   "outputs": [
    {
     "name": "stdout",
     "output_type": "stream",
     "text": [
      "The number of the target research categories: 90\n"
     ]
    }
   ],
   "source": [
    "#research field filter\n",
    "re_area = []\n",
    "for r_list in merged_WOS_df.WOS_cate:\n",
    "    for r_ele in r_list:\n",
    "        if not r_ele.strip() in re_area:\n",
    "            re_area.append(r_ele.strip())\n",
    "print(\"The number of the target research categories:\", len(re_area))"
   ]
  },
  {
   "cell_type": "markdown",
   "metadata": {},
   "source": [
    "### Category impact factor and  Ranking on average by a group of the institution in each publication"
   ]
  },
  {
   "cell_type": "code",
   "execution_count": 129,
   "metadata": {},
   "outputs": [],
   "source": [
    "for idx, r_list in enumerate(list(merged_WOS_df.WOS_cate)): # list research fields\n",
    "    ranking_avg = [] # initialize\n",
    "    cate_impact_factor = [] # initialize\n",
    "    for r_ele in r_list:  # loop each element of the research fields\n",
    "        area_df = pd.read_csv('./data/organizationbyResearchArea/'+str(r_ele.strip())+'.csv') # access the indicators dataset in each field\n",
    "        ranking = 0\n",
    "        cate_i_f = 0\n",
    "        count = 0\n",
    "        for uni in list(merged_WOS_df.loc[idx, 'organization']): # loop the university list\n",
    "            try:\n",
    "                index_loc = area_df.Name[area_df.Name == uni].index[0] # find university name index\n",
    "                ranking += area_df.loc[index_loc, 'Rank'] # Sum of Ranking\n",
    "                cate_i_f += area_df.loc[index_loc, 'Category Normalized Citation Impact'] #Sum of CNCI\n",
    "                count+=1\n",
    "            except:\n",
    "                pass\n",
    "        ranking_avg.append(ranking / float(count)) # average ranking in the single research field\n",
    "        cate_impact_factor.append(cate_i_f / float(count)) # average CNCI in the single research field\n",
    "    merged_WOS_df.loc[idx, 'avg_organ_ranking'] = sum(ranking_avg) / float(len(ranking_avg)) # average ranking with all the research fields\n",
    "    merged_WOS_df.loc[idx, 'avg_organ_cate_impact_factor'] = sum(cate_impact_factor) / float(len(ranking_avg)) # average CNCI with all the research fields"
   ]
  },
  {
   "cell_type": "code",
   "execution_count": 130,
   "metadata": {},
   "outputs": [
    {
     "data": {
      "text/html": [
       "<div>\n",
       "<style scoped>\n",
       "    .dataframe tbody tr th:only-of-type {\n",
       "        vertical-align: middle;\n",
       "    }\n",
       "\n",
       "    .dataframe tbody tr th {\n",
       "        vertical-align: top;\n",
       "    }\n",
       "\n",
       "    .dataframe thead th {\n",
       "        text-align: right;\n",
       "    }\n",
       "</style>\n",
       "<table border=\"1\" class=\"dataframe\">\n",
       "  <thead>\n",
       "    <tr style=\"text-align: right;\">\n",
       "      <th></th>\n",
       "      <th>Title</th>\n",
       "      <th>WOS_cate</th>\n",
       "      <th>organization</th>\n",
       "      <th>avg_organ_ranking</th>\n",
       "      <th>avg_organ_cate_impact_factor</th>\n",
       "      <th>cited_time</th>\n",
       "    </tr>\n",
       "  </thead>\n",
       "  <tbody>\n",
       "    <tr>\n",
       "      <th>0</th>\n",
       "      <td>Nelson-Plosser revisited: The ACF approach</td>\n",
       "      <td>[Economics,  Mathematics, Interdisciplinary Ap...</td>\n",
       "      <td>[Imperial College London, University of Glasgo...</td>\n",
       "      <td>224.888889</td>\n",
       "      <td>1.106667</td>\n",
       "      <td>5</td>\n",
       "    </tr>\n",
       "    <tr>\n",
       "      <th>1</th>\n",
       "      <td>An I(d) model with trend and cycles</td>\n",
       "      <td>[Economics,  Mathematics, Interdisciplinary Ap...</td>\n",
       "      <td>[Imperial College London, University of London]</td>\n",
       "      <td>55.000000</td>\n",
       "      <td>1.478333</td>\n",
       "      <td>5</td>\n",
       "    </tr>\n",
       "    <tr>\n",
       "      <th>2</th>\n",
       "      <td>Two estimators of the long-run variance: Beyon...</td>\n",
       "      <td>[Economics,  Mathematics, Interdisciplinary Ap...</td>\n",
       "      <td>[Imperial College London, University of London]</td>\n",
       "      <td>55.000000</td>\n",
       "      <td>1.478333</td>\n",
       "      <td>9</td>\n",
       "    </tr>\n",
       "    <tr>\n",
       "      <th>3</th>\n",
       "      <td>Testing joint hypotheses when one of the alter...</td>\n",
       "      <td>[Economics,  Mathematics, Interdisciplinary Ap...</td>\n",
       "      <td>[Imperial College London]</td>\n",
       "      <td>103.333333</td>\n",
       "      <td>1.310000</td>\n",
       "      <td>24</td>\n",
       "    </tr>\n",
       "    <tr>\n",
       "      <th>4</th>\n",
       "      <td>Nonstationarity-extended local Whittle estimation</td>\n",
       "      <td>[Economics,  Mathematics, Interdisciplinary Ap...</td>\n",
       "      <td>[Imperial College London, University of London]</td>\n",
       "      <td>55.000000</td>\n",
       "      <td>1.478333</td>\n",
       "      <td>81</td>\n",
       "    </tr>\n",
       "  </tbody>\n",
       "</table>\n",
       "</div>"
      ],
      "text/plain": [
       "                                               Title  \\\n",
       "0         Nelson-Plosser revisited: The ACF approach   \n",
       "1                An I(d) model with trend and cycles   \n",
       "2  Two estimators of the long-run variance: Beyon...   \n",
       "3  Testing joint hypotheses when one of the alter...   \n",
       "4  Nonstationarity-extended local Whittle estimation   \n",
       "\n",
       "                                            WOS_cate  \\\n",
       "0  [Economics,  Mathematics, Interdisciplinary Ap...   \n",
       "1  [Economics,  Mathematics, Interdisciplinary Ap...   \n",
       "2  [Economics,  Mathematics, Interdisciplinary Ap...   \n",
       "3  [Economics,  Mathematics, Interdisciplinary Ap...   \n",
       "4  [Economics,  Mathematics, Interdisciplinary Ap...   \n",
       "\n",
       "                                        organization  avg_organ_ranking  \\\n",
       "0  [Imperial College London, University of Glasgo...         224.888889   \n",
       "1    [Imperial College London, University of London]          55.000000   \n",
       "2    [Imperial College London, University of London]          55.000000   \n",
       "3                          [Imperial College London]         103.333333   \n",
       "4    [Imperial College London, University of London]          55.000000   \n",
       "\n",
       "   avg_organ_cate_impact_factor  cited_time  \n",
       "0                      1.106667           5  \n",
       "1                      1.478333           5  \n",
       "2                      1.478333           9  \n",
       "3                      1.310000          24  \n",
       "4                      1.478333          81  "
      ]
     },
     "execution_count": 130,
     "metadata": {},
     "output_type": "execute_result"
    }
   ],
   "source": [
    "merged_WOS_df[['Title', 'WOS_cate', 'organization', 'avg_organ_ranking', 'avg_organ_cate_impact_factor', 'cited_time']].head(5)"
   ]
  },
  {
   "cell_type": "code",
   "execution_count": 135,
   "metadata": {},
   "outputs": [
    {
     "data": {
      "text/plain": [
       "array([[ 1.        , -0.10677888],\n",
       "       [-0.10677888,  1.        ]])"
      ]
     },
     "execution_count": 135,
     "metadata": {},
     "output_type": "execute_result"
    }
   ],
   "source": [
    "np.corrcoef(list(ranking_sub.avg_organ_ranking), list(ranking_sub.cited_time))"
   ]
  },
  {
   "cell_type": "code",
   "execution_count": 200,
   "metadata": {
    "scrolled": true
   },
   "outputs": [
    {
     "data": {
      "image/png": "[encoded data removed]",
      "text/plain": [
       "<matplotlib.figure.Figure at 0x252346a0be0>"
      ]
     },
     "metadata": {},
     "output_type": "display_data"
    }
   ],
   "source": [
    "ranking_sub = merged_WOS_df.groupby('avg_organ_ranking').mean()['cited_time'].reset_index()\n",
    "plt.scatter(x = list(ranking_sub.avg_organ_ranking), y = list(ranking_sub.cited_time))\n",
    "plt.xlabel('avg_organ_ranking')\n",
    "plt.ylabel('cited_time on average')\n",
    "plt.ylim(0, 300)\n",
    "plt.xlim(0, 1000)\n",
    "plt.annotate('correlation = -0.11', xy = (600,200), fontsize = 12, color = 'blue')\n",
    "plt.savefig('./graph/image9', bbox_inches='tight')\n",
    "plt.show()"
   ]
  },
  {
   "cell_type": "code",
   "execution_count": 136,
   "metadata": {},
   "outputs": [
    {
     "data": {
      "text/plain": [
       "array([[1.        , 0.18660725],\n",
       "       [0.18660725, 1.        ]])"
      ]
     },
     "execution_count": 136,
     "metadata": {},
     "output_type": "execute_result"
    }
   ],
   "source": [
    "np.corrcoef(list(organization_sub['avg_organ_cate_impact_factor']), list(organization_sub['cited_time']))"
   ]
  },
  {
   "cell_type": "code",
   "execution_count": 201,
   "metadata": {},
   "outputs": [
    {
     "data": {
      "image/png": "[encoded data removed]",
      "text/plain": [
       "<matplotlib.figure.Figure at 0x25252ada1d0>"
      ]
     },
     "metadata": {},
     "output_type": "display_data"
    }
   ],
   "source": [
    "organization_sub = merged_WOS_df.groupby('avg_organ_cate_impact_factor').mean()['cited_time'].reset_index()\n",
    "plt.scatter(x = list(organization_sub['avg_organ_cate_impact_factor']), y = list(organization_sub['cited_time']))\n",
    "plt.xlabel('avg_organ_cate_impact_factor')\n",
    "plt.ylabel('cited_time on average')\n",
    "plt.ylim(0, 500)\n",
    "plt.xlim(0, 3)\n",
    "plt.annotate('correlation = 0.19', xy = (0.5,400), fontsize = 12, color = 'blue')\n",
    "plt.savefig('./graph/image10', bbox_inches='tight')\n",
    "plt.show()"
   ]
  },
  {
   "cell_type": "markdown",
   "metadata": {},
   "source": [
    "## 6. Research Field"
   ]
  },
  {
   "cell_type": "code",
   "execution_count": 154,
   "metadata": {},
   "outputs": [
    {
     "data": {
      "text/html": [
       "<div>\n",
       "<style scoped>\n",
       "    .dataframe tbody tr th:only-of-type {\n",
       "        vertical-align: middle;\n",
       "    }\n",
       "\n",
       "    .dataframe tbody tr th {\n",
       "        vertical-align: top;\n",
       "    }\n",
       "\n",
       "    .dataframe thead th {\n",
       "        text-align: right;\n",
       "    }\n",
       "</style>\n",
       "<table border=\"1\" class=\"dataframe\">\n",
       "  <thead>\n",
       "    <tr style=\"text-align: right;\">\n",
       "      <th></th>\n",
       "      <th>category1</th>\n",
       "      <th>year</th>\n",
       "      <th>journal_num</th>\n",
       "      <th>articles</th>\n",
       "      <th>total_cites</th>\n",
       "      <th>median_impact_factor</th>\n",
       "      <th>aggregate_impact_factor</th>\n",
       "      <th>aggregate_immediacy_index</th>\n",
       "      <th>aggregate_cited_half_life</th>\n",
       "      <th>aggregate_citing_half_life</th>\n",
       "    </tr>\n",
       "  </thead>\n",
       "  <tbody>\n",
       "    <tr>\n",
       "      <th>0</th>\n",
       "      <td>ACOUSTICS</td>\n",
       "      <td>2016.0</td>\n",
       "      <td>31.0</td>\n",
       "      <td>5,088</td>\n",
       "      <td>160,629</td>\n",
       "      <td>1.547</td>\n",
       "      <td>2.102</td>\n",
       "      <td>0.528</td>\n",
       "      <td>&gt;10.0</td>\n",
       "      <td>9.6</td>\n",
       "    </tr>\n",
       "    <tr>\n",
       "      <th>1</th>\n",
       "      <td>ACOUSTICS</td>\n",
       "      <td>2015.0</td>\n",
       "      <td>32.0</td>\n",
       "      <td>4,916</td>\n",
       "      <td>138,295</td>\n",
       "      <td>1.103</td>\n",
       "      <td>1.853</td>\n",
       "      <td>0.446</td>\n",
       "      <td>9.6</td>\n",
       "      <td>9.6</td>\n",
       "    </tr>\n",
       "    <tr>\n",
       "      <th>2</th>\n",
       "      <td>ACOUSTICS</td>\n",
       "      <td>2014.0</td>\n",
       "      <td>31.0</td>\n",
       "      <td>4,273</td>\n",
       "      <td>125,484</td>\n",
       "      <td>0.912</td>\n",
       "      <td>1.741</td>\n",
       "      <td>0.400</td>\n",
       "      <td>9.6</td>\n",
       "      <td>9.7</td>\n",
       "    </tr>\n",
       "    <tr>\n",
       "      <th>3</th>\n",
       "      <td>ACOUSTICS</td>\n",
       "      <td>2013.0</td>\n",
       "      <td>30.0</td>\n",
       "      <td>4,355</td>\n",
       "      <td>117,073</td>\n",
       "      <td>1.107</td>\n",
       "      <td>1.840</td>\n",
       "      <td>0.357</td>\n",
       "      <td>9.2</td>\n",
       "      <td>9.5</td>\n",
       "    </tr>\n",
       "    <tr>\n",
       "      <th>4</th>\n",
       "      <td>ACOUSTICS</td>\n",
       "      <td>2012.0</td>\n",
       "      <td>31.0</td>\n",
       "      <td>4,139</td>\n",
       "      <td>111,560</td>\n",
       "      <td>1.097</td>\n",
       "      <td>1.710</td>\n",
       "      <td>0.332</td>\n",
       "      <td>9.1</td>\n",
       "      <td>9.5</td>\n",
       "    </tr>\n",
       "  </tbody>\n",
       "</table>\n",
       "</div>"
      ],
      "text/plain": [
       "   category1    year  journal_num articles total_cites median_impact_factor  \\\n",
       "0  ACOUSTICS  2016.0         31.0    5,088     160,629                1.547   \n",
       "1  ACOUSTICS  2015.0         32.0    4,916     138,295                1.103   \n",
       "2  ACOUSTICS  2014.0         31.0    4,273     125,484                0.912   \n",
       "3  ACOUSTICS  2013.0         30.0    4,355     117,073                1.107   \n",
       "4  ACOUSTICS  2012.0         31.0    4,139     111,560                1.097   \n",
       "\n",
       "  aggregate_impact_factor aggregate_immediacy_index aggregate_cited_half_life  \\\n",
       "0                   2.102                     0.528                     >10.0   \n",
       "1                   1.853                     0.446                       9.6   \n",
       "2                   1.741                     0.400                       9.6   \n",
       "3                   1.840                     0.357                       9.2   \n",
       "4                   1.710                     0.332                       9.1   \n",
       "\n",
       "  aggregate_citing_half_life  \n",
       "0                        9.6  \n",
       "1                        9.6  \n",
       "2                        9.7  \n",
       "3                        9.5  \n",
       "4                        9.5  "
      ]
     },
     "execution_count": 154,
     "metadata": {},
     "output_type": "execute_result"
    }
   ],
   "source": [
    "cate_df = pd.read_csv('./data/Category.csv')\n",
    "cate_df = cate_df.replace('Not Available', np.nan)\n",
    "cate_df = cate_df.dropna(how='any', axis=0)\n",
    "cate_df.drop(columns = ['page_url' ,'category2', 'edition'], axis = 1).head(5)"
   ]
  },
  {
   "cell_type": "code",
   "execution_count": 155,
   "metadata": {},
   "outputs": [],
   "source": [
    "def list_avg(list_array):\n",
    "    j = 0.0\n",
    "    count = 0.0\n",
    "    for i in list_array:\n",
    "        j += i\n",
    "        count += 1\n",
    "    return j/count"
   ]
  },
  {
   "cell_type": "code",
   "execution_count": 156,
   "metadata": {},
   "outputs": [],
   "source": [
    "row_line = 0\n",
    "for cate, yrs in zip(list(merged_WOS_df.WOS_cate), list(merged_WOS_df.published_yrs)):\n",
    "    sum_avg_cate_impact_factor = 0\n",
    "    for c in cate:\n",
    "        try:\n",
    "            filtered_df = cate_df[cate_df.category1 == c.strip().upper()]\n",
    "            start = filtered_df.index[0]\n",
    "            end = filtered_df[filtered_df.year == float(yrs)].index[0]\n",
    "            aggregate_impact_factor = [float(i) for i in list(filtered_df.loc[start:end,'aggregate_impact_factor'])]\n",
    "            sum_avg_cate_impact_factor += list_avg(aggregate_impact_factor)\n",
    "        except:\n",
    "            filtered_df = cate_df[cate_df.category1 == c.strip().upper()]\n",
    "            if filtered_df.shape[0] == 0:\n",
    "                continue\n",
    "            else:\n",
    "                start = filtered_df.index[0]\n",
    "                end = start + filtered_df.shape[0] - 1\n",
    "                aggregate_impact_factor = [float(i) for i in list(filtered_df.loc[start:end,'aggregate_impact_factor'])]\n",
    "                sum_avg_cate_impact_factor += list_avg(aggregate_impact_factor)\n",
    "    merged_WOS_df.loc[row_line, 'avg_research_field_impact_factor'] = sum_avg_cate_impact_factor/len(cate)\n",
    "    row_line += 1"
   ]
  },
  {
   "cell_type": "code",
   "execution_count": 157,
   "metadata": {},
   "outputs": [
    {
     "data": {
      "text/html": [
       "<div>\n",
       "<style scoped>\n",
       "    .dataframe tbody tr th:only-of-type {\n",
       "        vertical-align: middle;\n",
       "    }\n",
       "\n",
       "    .dataframe tbody tr th {\n",
       "        vertical-align: top;\n",
       "    }\n",
       "\n",
       "    .dataframe thead th {\n",
       "        text-align: right;\n",
       "    }\n",
       "</style>\n",
       "<table border=\"1\" class=\"dataframe\">\n",
       "  <thead>\n",
       "    <tr style=\"text-align: right;\">\n",
       "      <th></th>\n",
       "      <th>Title</th>\n",
       "      <th>WOS_cate</th>\n",
       "      <th>published_yrs</th>\n",
       "      <th>avg_research_field_impact_factor</th>\n",
       "      <th>cited_time</th>\n",
       "    </tr>\n",
       "  </thead>\n",
       "  <tbody>\n",
       "    <tr>\n",
       "      <th>0</th>\n",
       "      <td>Nelson-Plosser revisited: The ACF approach</td>\n",
       "      <td>[Economics,  Mathematics, Interdisciplinary Ap...</td>\n",
       "      <td>2013</td>\n",
       "      <td>1.401417</td>\n",
       "      <td>5</td>\n",
       "    </tr>\n",
       "    <tr>\n",
       "      <th>1</th>\n",
       "      <td>An I(d) model with trend and cycles</td>\n",
       "      <td>[Economics,  Mathematics, Interdisciplinary Ap...</td>\n",
       "      <td>2011</td>\n",
       "      <td>1.362444</td>\n",
       "      <td>5</td>\n",
       "    </tr>\n",
       "    <tr>\n",
       "      <th>2</th>\n",
       "      <td>Two estimators of the long-run variance: Beyon...</td>\n",
       "      <td>[Economics,  Mathematics, Interdisciplinary Ap...</td>\n",
       "      <td>2009</td>\n",
       "      <td>1.346792</td>\n",
       "      <td>9</td>\n",
       "    </tr>\n",
       "    <tr>\n",
       "      <th>3</th>\n",
       "      <td>Testing joint hypotheses when one of the alter...</td>\n",
       "      <td>[Economics,  Mathematics, Interdisciplinary Ap...</td>\n",
       "      <td>2007</td>\n",
       "      <td>1.318733</td>\n",
       "      <td>24</td>\n",
       "    </tr>\n",
       "    <tr>\n",
       "      <th>4</th>\n",
       "      <td>Nonstationarity-extended local Whittle estimation</td>\n",
       "      <td>[Economics,  Mathematics, Interdisciplinary Ap...</td>\n",
       "      <td>2007</td>\n",
       "      <td>1.318733</td>\n",
       "      <td>81</td>\n",
       "    </tr>\n",
       "  </tbody>\n",
       "</table>\n",
       "</div>"
      ],
      "text/plain": [
       "                                               Title  \\\n",
       "0         Nelson-Plosser revisited: The ACF approach   \n",
       "1                An I(d) model with trend and cycles   \n",
       "2  Two estimators of the long-run variance: Beyon...   \n",
       "3  Testing joint hypotheses when one of the alter...   \n",
       "4  Nonstationarity-extended local Whittle estimation   \n",
       "\n",
       "                                            WOS_cate published_yrs  \\\n",
       "0  [Economics,  Mathematics, Interdisciplinary Ap...          2013   \n",
       "1  [Economics,  Mathematics, Interdisciplinary Ap...          2011   \n",
       "2  [Economics,  Mathematics, Interdisciplinary Ap...          2009   \n",
       "3  [Economics,  Mathematics, Interdisciplinary Ap...          2007   \n",
       "4  [Economics,  Mathematics, Interdisciplinary Ap...          2007   \n",
       "\n",
       "   avg_research_field_impact_factor  cited_time  \n",
       "0                          1.401417           5  \n",
       "1                          1.362444           5  \n",
       "2                          1.346792           9  \n",
       "3                          1.318733          24  \n",
       "4                          1.318733          81  "
      ]
     },
     "execution_count": 157,
     "metadata": {},
     "output_type": "execute_result"
    }
   ],
   "source": [
    "merged_WOS_df[['Title', 'WOS_cate', 'published_yrs', 'avg_research_field_impact_factor', 'cited_time']].head(5)"
   ]
  },
  {
   "cell_type": "code",
   "execution_count": 159,
   "metadata": {},
   "outputs": [
    {
     "data": {
      "text/plain": [
       "array([[ 1.        , -0.01184462],\n",
       "       [-0.01184462,  1.        ]])"
      ]
     },
     "execution_count": 159,
     "metadata": {},
     "output_type": "execute_result"
    }
   ],
   "source": [
    "np.corrcoef(list(research_sub['avg_research_field_impact_factor']), list(research_sub['cited_time']))"
   ]
  },
  {
   "cell_type": "code",
   "execution_count": 158,
   "metadata": {},
   "outputs": [
    {
     "data": {
      "image/png": "[encoded data removed]",
      "text/plain": [
       "<matplotlib.figure.Figure at 0x2523e9163c8>"
      ]
     },
     "metadata": {},
     "output_type": "display_data"
    }
   ],
   "source": [
    "research_sub = merged_WOS_df.groupby('avg_research_field_impact_factor').mean()['cited_time'].reset_index()\n",
    "plt.scatter(x = list(research_sub['avg_research_field_impact_factor']), y = list(research_sub['cited_time']))\n",
    "plt.xlabel('avg_research_field_impact_factor')\n",
    "plt.ylabel('cited_time on average')\n",
    "plt.xlim(0, 3)\n",
    "plt.ylim(0, 300)\n",
    "plt.show()"
   ]
  },
  {
   "cell_type": "markdown",
   "metadata": {},
   "source": [
    "## 7. Journal"
   ]
  },
  {
   "cell_type": "code",
   "execution_count": 161,
   "metadata": {
    "scrolled": true
   },
   "outputs": [
    {
     "data": {
      "text/html": [
       "<div>\n",
       "<style scoped>\n",
       "    .dataframe tbody tr th:only-of-type {\n",
       "        vertical-align: middle;\n",
       "    }\n",
       "\n",
       "    .dataframe tbody tr th {\n",
       "        vertical-align: top;\n",
       "    }\n",
       "\n",
       "    .dataframe thead th {\n",
       "        text-align: right;\n",
       "    }\n",
       "</style>\n",
       "<table border=\"1\" class=\"dataframe\">\n",
       "  <thead>\n",
       "    <tr style=\"text-align: right;\">\n",
       "      <th></th>\n",
       "      <th>journal_type_main_page</th>\n",
       "      <th>year</th>\n",
       "      <th>journal_impact_factor</th>\n",
       "    </tr>\n",
       "  </thead>\n",
       "  <tbody>\n",
       "    <tr>\n",
       "      <th>0</th>\n",
       "      <td>JOURNAL OF ECONOMETRICS</td>\n",
       "      <td>2016</td>\n",
       "      <td>1.633</td>\n",
       "    </tr>\n",
       "    <tr>\n",
       "      <th>1</th>\n",
       "      <td>JOURNAL OF ECONOMETRICS</td>\n",
       "      <td>2015</td>\n",
       "      <td>1.611</td>\n",
       "    </tr>\n",
       "    <tr>\n",
       "      <th>2</th>\n",
       "      <td>JOURNAL OF ECONOMETRICS</td>\n",
       "      <td>2014</td>\n",
       "      <td>1.600</td>\n",
       "    </tr>\n",
       "    <tr>\n",
       "      <th>3</th>\n",
       "      <td>JOURNAL OF ECONOMETRICS</td>\n",
       "      <td>2013</td>\n",
       "      <td>1.533</td>\n",
       "    </tr>\n",
       "    <tr>\n",
       "      <th>4</th>\n",
       "      <td>JOURNAL OF ECONOMETRICS</td>\n",
       "      <td>2012</td>\n",
       "      <td>1.710</td>\n",
       "    </tr>\n",
       "  </tbody>\n",
       "</table>\n",
       "</div>"
      ],
      "text/plain": [
       "    journal_type_main_page  year  journal_impact_factor\n",
       "0  JOURNAL OF ECONOMETRICS  2016                  1.633\n",
       "1  JOURNAL OF ECONOMETRICS  2015                  1.611\n",
       "2  JOURNAL OF ECONOMETRICS  2014                  1.600\n",
       "3  JOURNAL OF ECONOMETRICS  2013                  1.533\n",
       "4  JOURNAL OF ECONOMETRICS  2012                  1.710"
      ]
     },
     "execution_count": 161,
     "metadata": {},
     "output_type": "execute_result"
    }
   ],
   "source": [
    "journal_type = pd.read_csv('./data/Journal Type.csv')\n",
    "refined_journal_df = journal_type[['journal_type_main_page', 'year', 'journal_impact_factor']]\n",
    "refined_journal_df = refined_journal_df[refined_journal_df.journal_impact_factor.isnull() == False]\n",
    "refined_journal_df.head(5)"
   ]
  },
  {
   "cell_type": "code",
   "execution_count": 162,
   "metadata": {},
   "outputs": [],
   "source": [
    "row_line = 0\n",
    "for t, yrs in zip(list(merged_WOS_df.journal_type), list(merged_WOS_df.published_yrs)):\n",
    "    avg_impact_factor = 0\n",
    "    try:\n",
    "        filtered_df = refined_journal_df[refined_journal_df.journal_type_main_page == t.split(',')[0].strip().upper()]\n",
    "        start = filtered_df.index[0] # latest yrs index\n",
    "        end = filtered_df[filtered_df.year == float(yrs.strip())].index[0]\n",
    "        journal_impact_factors = [float(i) for i in list(filtered_df.loc[start:end,'journal_impact_factor'])]\n",
    "        avg_impact_factor += list_avg(journal_impact_factors)\n",
    "    except:\n",
    "        filtered_df = refined_journal_df[refined_journal_df.journal_type_main_page ==  t.split(',')[0].strip().upper()]\n",
    "        if filtered_df.shape[0] == 0:\n",
    "            merged_WOS_df.loc[row_line, 'avg_journal_impact_factor'] = 0\n",
    "            row_line += 1\n",
    "            continue\n",
    "        else:\n",
    "            start = filtered_df.index[0]\n",
    "            end = start + filtered_df.shape[0] - 1\n",
    "            journal_impact_factors = [float(i) for i in list(filtered_df.loc[start:end,'journal_impact_factor'])]\n",
    "            avg_impact_factor += list_avg(journal_impact_factors)\n",
    "    merged_WOS_df.loc[row_line, 'avg_journal_impact_factor'] = avg_impact_factor\n",
    "    row_line += 1"
   ]
  },
  {
   "cell_type": "code",
   "execution_count": 163,
   "metadata": {
    "scrolled": true
   },
   "outputs": [
    {
     "data": {
      "text/html": [
       "<div>\n",
       "<style scoped>\n",
       "    .dataframe tbody tr th:only-of-type {\n",
       "        vertical-align: middle;\n",
       "    }\n",
       "\n",
       "    .dataframe tbody tr th {\n",
       "        vertical-align: top;\n",
       "    }\n",
       "\n",
       "    .dataframe thead th {\n",
       "        text-align: right;\n",
       "    }\n",
       "</style>\n",
       "<table border=\"1\" class=\"dataframe\">\n",
       "  <thead>\n",
       "    <tr style=\"text-align: right;\">\n",
       "      <th></th>\n",
       "      <th>Title</th>\n",
       "      <th>journal_type</th>\n",
       "      <th>published_yrs</th>\n",
       "      <th>avg_journal_impact_factor</th>\n",
       "      <th>cited_time</th>\n",
       "    </tr>\n",
       "  </thead>\n",
       "  <tbody>\n",
       "    <tr>\n",
       "      <th>0</th>\n",
       "      <td>Nelson-Plosser revisited: The ACF approach</td>\n",
       "      <td>JOURNAL OF ECONOMETRICS</td>\n",
       "      <td>2013</td>\n",
       "      <td>1.594250</td>\n",
       "      <td>5</td>\n",
       "    </tr>\n",
       "    <tr>\n",
       "      <th>1</th>\n",
       "      <td>An I(d) model with trend and cycles</td>\n",
       "      <td>JOURNAL OF ECONOMETRICS</td>\n",
       "      <td>2011</td>\n",
       "      <td>1.572667</td>\n",
       "      <td>5</td>\n",
       "    </tr>\n",
       "    <tr>\n",
       "      <th>2</th>\n",
       "      <td>Two estimators of the long-run variance: Beyon...</td>\n",
       "      <td>JOURNAL OF ECONOMETRICS</td>\n",
       "      <td>2009</td>\n",
       "      <td>1.644125</td>\n",
       "      <td>9</td>\n",
       "    </tr>\n",
       "    <tr>\n",
       "      <th>3</th>\n",
       "      <td>Testing joint hypotheses when one of the alter...</td>\n",
       "      <td>JOURNAL OF ECONOMETRICS</td>\n",
       "      <td>2007</td>\n",
       "      <td>1.693300</td>\n",
       "      <td>24</td>\n",
       "    </tr>\n",
       "    <tr>\n",
       "      <th>4</th>\n",
       "      <td>Nonstationarity-extended local Whittle estimation</td>\n",
       "      <td>JOURNAL OF ECONOMETRICS</td>\n",
       "      <td>2007</td>\n",
       "      <td>1.693300</td>\n",
       "      <td>81</td>\n",
       "    </tr>\n",
       "  </tbody>\n",
       "</table>\n",
       "</div>"
      ],
      "text/plain": [
       "                                               Title             journal_type  \\\n",
       "0         Nelson-Plosser revisited: The ACF approach  JOURNAL OF ECONOMETRICS   \n",
       "1                An I(d) model with trend and cycles  JOURNAL OF ECONOMETRICS   \n",
       "2  Two estimators of the long-run variance: Beyon...  JOURNAL OF ECONOMETRICS   \n",
       "3  Testing joint hypotheses when one of the alter...  JOURNAL OF ECONOMETRICS   \n",
       "4  Nonstationarity-extended local Whittle estimation  JOURNAL OF ECONOMETRICS   \n",
       "\n",
       "  published_yrs  avg_journal_impact_factor  cited_time  \n",
       "0          2013                   1.594250           5  \n",
       "1          2011                   1.572667           5  \n",
       "2          2009                   1.644125           9  \n",
       "3          2007                   1.693300          24  \n",
       "4          2007                   1.693300          81  "
      ]
     },
     "execution_count": 163,
     "metadata": {},
     "output_type": "execute_result"
    }
   ],
   "source": [
    "merged_WOS_df[['Title', 'journal_type', 'published_yrs', 'avg_journal_impact_factor', 'cited_time']].head(5)"
   ]
  },
  {
   "cell_type": "code",
   "execution_count": 165,
   "metadata": {},
   "outputs": [
    {
     "data": {
      "text/plain": [
       "array([[1.        , 0.17968447],\n",
       "       [0.17968447, 1.        ]])"
      ]
     },
     "execution_count": 165,
     "metadata": {},
     "output_type": "execute_result"
    }
   ],
   "source": [
    "np.corrcoef(list(journal_sub.avg_journal_impact_factor), list(journal_sub.cited_time))"
   ]
  },
  {
   "cell_type": "code",
   "execution_count": 164,
   "metadata": {},
   "outputs": [
    {
     "data": {
      "image/png": "[encoded data removed]",
      "text/plain": [
       "<matplotlib.figure.Figure at 0x252365c1400>"
      ]
     },
     "metadata": {},
     "output_type": "display_data"
    }
   ],
   "source": [
    "journal_sub = merged_WOS_df.groupby('avg_journal_impact_factor').mean()['cited_time'].reset_index()\n",
    "plt.scatter(x = list(journal_sub.avg_journal_impact_factor), y = list(journal_sub.cited_time))\n",
    "plt.xlabel('avg_journal_impact_factor')\n",
    "plt.ylabel('cited_time on average')\n",
    "plt.xlim(0, 10)\n",
    "plt.ylim(0, 300)\n",
    "plt.show()"
   ]
  },
  {
   "cell_type": "markdown",
   "metadata": {},
   "source": [
    "## 8. Diversity"
   ]
  },
  {
   "cell_type": "markdown",
   "metadata": {},
   "source": [
    "### Ethnicity (diversity)"
   ]
  },
  {
   "cell_type": "code",
   "execution_count": 84,
   "metadata": {},
   "outputs": [
    {
     "name": "stderr",
     "output_type": "stream",
     "text": [
      "Using TensorFlow backend.\n"
     ]
    }
   ],
   "source": [
    "from ethnicolr import pred_wiki_ln\n",
    "import warnings\n",
    "import pandas as pd\n",
    "import numpy as np\n",
    "warnings.filterwarnings('ignore')\n",
    "\n",
    "def df_make(w):\n",
    "    df = pd.DataFrame()\n",
    "    df['last_name'] = w\n",
    "    return df\n",
    "\n",
    "def list_nested(l):\n",
    "    k = df_make(l)\n",
    "    pred_wiki_ln(k, 'last_name')\n",
    "    return [each.split(',')[0] for each in k.race]"
   ]
  },
  {
   "cell_type": "code",
   "execution_count": null,
   "metadata": {},
   "outputs": [],
   "source": [
    "WOS_df = pd.read_pickle('C:/Users/seong/Documents/00. Summer/1. Workforce/Individual HW/01. Crawling(WebOfScience)/data/final.pkl')\n",
    "for i in list(np.arange(0, 1495, 16)):\n",
    "    try:\n",
    "        df_eth = pd.read_pickle('./data/ethnictity_df.pkl')\n",
    "    except:\n",
    "        df_eth = pd.DataFrame(columns = ['names', 'ethnicity'])\n",
    "    if df_eth.shape[0] > i:            #df = 235 > i=250\n",
    "        print(\"DONE\", df_eth.shape[0])\n",
    "        continue\n",
    "    else:\n",
    "        start = df_eth.shape[0]\n",
    "        end = i\n",
    "        for j in WOS_df.co_author1[start:end]:\n",
    "            row_sc = df_eth.shape[0]\n",
    "            df_eth.loc[row_sc, 'names'] = j\n",
    "            df_eth.loc[row_sc, 'ethnicity'] = list_nested(j)\n",
    "            print(\"%dth. %s, %s\" %(row_sc+1, df_eth.loc[row_sc, 'names'], df_eth.loc[row_sc, 'ethnicity']))\n",
    "            df_eth.to_pickle('./data/ethnictity_df.pkl')"
   ]
  },
  {
   "cell_type": "code",
   "execution_count": 166,
   "metadata": {},
   "outputs": [],
   "source": [
    "ethnicity = pd.read_pickle('./data/ethnictity_df.pkl')\n",
    "merged_WOS_df['ethnicity'] = ethnicity['ethnicity']"
   ]
  },
  {
   "cell_type": "code",
   "execution_count": 167,
   "metadata": {
    "scrolled": true
   },
   "outputs": [],
   "source": [
    "merged_WOS_df['multi_eth_dummy'] = merged_WOS_df['ethnicity'].apply(lambda x: 0 if len(list(set(x))) == 1 else 1)"
   ]
  },
  {
   "cell_type": "code",
   "execution_count": 168,
   "metadata": {},
   "outputs": [
    {
     "data": {
      "text/plain": [
       "0    1007\n",
       "1     220\n",
       "Name: multi_eth_dummy, dtype: int64"
      ]
     },
     "execution_count": 168,
     "metadata": {},
     "output_type": "execute_result"
    }
   ],
   "source": [
    "merged_WOS_df.multi_eth_dummy.value_counts()"
   ]
  },
  {
   "cell_type": "code",
   "execution_count": 169,
   "metadata": {},
   "outputs": [
    {
     "data": {
      "text/plain": [
       "<bound method NDFrame.head of multi_eth_dummy\n",
       "0    39.30\n",
       "1    40.37\n",
       "Name: cited_time, dtype: float64>"
      ]
     },
     "execution_count": 169,
     "metadata": {},
     "output_type": "execute_result"
    }
   ],
   "source": [
    "eth_sub = merged_WOS_df.groupby('multi_eth_dummy').mean()['cited_time'].reset_index()\n",
    "eth_sub.eth_diversity = eth_sub.multi_eth_dummy.round(2)\n",
    "eth_sub.cited_time = eth_sub.cited_time.round(2)\n",
    "eth_sub.index = eth_sub.eth_diversity\n",
    "eth_sub = eth_sub['cited_time']\n",
    "eth_sub.head"
   ]
  },
  {
   "cell_type": "code",
   "execution_count": 205,
   "metadata": {
    "scrolled": true
   },
   "outputs": [
    {
     "data": {
      "image/png": "[encoded data removed]",
      "text/plain": [
       "<matplotlib.figure.Figure at 0x25235f900b8>"
      ]
     },
     "metadata": {},
     "output_type": "display_data"
    }
   ],
   "source": [
    "eth_sub.plot(kind = 'bar')\n",
    "plt.xlabel('The multi-ethnicity dummy')\n",
    "plt.ylabel('cited time on average')\n",
    "plt.hlines(y = 39.3, xmin = -0.4, xmax = 1, linestyles = '--', color = 'blue')\n",
    "plt.annotate('39.3', xy = (-0.42, 37), fontsize = 12, color = 'blue')\n",
    "plt.hlines(y = 40.4, xmin = -0.2, xmax = 1.4, linestyles = '--', color = 'red')\n",
    "plt.annotate('40.4', xy = (1.3, 38), fontsize = 12, color = 'red')\n",
    "plt.savefig('./graph/image11', bbox_inches='tight')\n",
    "plt.show()"
   ]
  },
  {
   "cell_type": "markdown",
   "metadata": {},
   "source": [
    "### Organization Country (diversity)"
   ]
  },
  {
   "cell_type": "code",
   "execution_count": 171,
   "metadata": {},
   "outputs": [],
   "source": [
    "merged_WOS_df['num_country_set'] = merged_WOS_df['organ_country'].apply(lambda x: len(list(set(x)))) "
   ]
  },
  {
   "cell_type": "code",
   "execution_count": 172,
   "metadata": {},
   "outputs": [
    {
     "name": "stdout",
     "output_type": "stream",
     "text": [
      "number of Country in set on count\n"
     ]
    },
    {
     "data": {
      "text/plain": [
       "1     548\n",
       "2     422\n",
       "3     163\n",
       "4      61\n",
       "5      15\n",
       "7       4\n",
       "6       4\n",
       "12      3\n",
       "11      3\n",
       "10      2\n",
       "15      1\n",
       "13      1\n",
       "Name: num_country_set, dtype: int64"
      ]
     },
     "execution_count": 172,
     "metadata": {},
     "output_type": "execute_result"
    }
   ],
   "source": [
    "print(\"number of Country in set on count\")\n",
    "merged_WOS_df.num_country_set.value_counts()"
   ]
  },
  {
   "cell_type": "code",
   "execution_count": 173,
   "metadata": {},
   "outputs": [
    {
     "data": {
      "image/png": "[encoded data removed]",
      "text/plain": [
       "<matplotlib.figure.Figure at 0x252365a9cf8>"
      ]
     },
     "metadata": {},
     "output_type": "display_data"
    }
   ],
   "source": [
    "merged_WOS_df.groupby('num_country_set').mean()['cited_time'].plot(kind = 'bar')\n",
    "plt.xlabel('number of Country in set')\n",
    "plt.ylabel('cited time on average')\n",
    "plt.show()"
   ]
  },
  {
   "cell_type": "code",
   "execution_count": 174,
   "metadata": {},
   "outputs": [],
   "source": [
    "for i, num in enumerate(list(merged_WOS_df['num_country_set'])):\n",
    "    if num == 1:\n",
    "        merged_WOS_df.loc[i, 'organ_multi_country_dummy'] = 0\n",
    "    else:\n",
    "        merged_WOS_df.loc[i, 'organ_multi_country_dummy'] = 1"
   ]
  },
  {
   "cell_type": "code",
   "execution_count": 202,
   "metadata": {},
   "outputs": [
    {
     "data": {
      "text/plain": [
       "organ_multi_country_dummy\n",
       "0.0    35.782847\n",
       "1.0    42.480118\n",
       "Name: cited_time, dtype: float64"
      ]
     },
     "execution_count": 202,
     "metadata": {},
     "output_type": "execute_result"
    }
   ],
   "source": [
    "merged_WOS_df.groupby('organ_multi_country_dummy').mean()['cited_time']"
   ]
  },
  {
   "cell_type": "code",
   "execution_count": 206,
   "metadata": {},
   "outputs": [
    {
     "data": {
      "image/png": "[encoded data removed]",
      "text/plain": [
       "<matplotlib.figure.Figure at 0x2523625f0b8>"
      ]
     },
     "metadata": {},
     "output_type": "display_data"
    }
   ],
   "source": [
    "merged_WOS_df.groupby('organ_multi_country_dummy').mean()['cited_time'].plot(kind = 'bar')\n",
    "plt.xlabel('multi_country_dummy(1 = multi-country)')\n",
    "plt.ylabel('cited time on average')\n",
    "plt.hlines(y = 35.78, xmin = -0.4, xmax = 1, linestyles = '--', color = 'blue')\n",
    "plt.annotate('35.8', xy = (-0.42, 37), fontsize = 12, color = 'blue')\n",
    "plt.hlines(y =42.4, xmin = -0.2, xmax = 1.4, linestyles = '--', color = 'red')\n",
    "plt.annotate('42.4', xy = (1.3, 40), fontsize = 12, color = 'red')\n",
    "plt.savefig('./graph/image12', bbox_inches='tight')\n",
    "plt.show()"
   ]
  },
  {
   "cell_type": "code",
   "execution_count": 176,
   "metadata": {},
   "outputs": [
    {
     "data": {
      "text/html": [
       "<div>\n",
       "<style scoped>\n",
       "    .dataframe tbody tr th:only-of-type {\n",
       "        vertical-align: middle;\n",
       "    }\n",
       "\n",
       "    .dataframe tbody tr th {\n",
       "        vertical-align: top;\n",
       "    }\n",
       "\n",
       "    .dataframe thead th {\n",
       "        text-align: right;\n",
       "    }\n",
       "</style>\n",
       "<table border=\"1\" class=\"dataframe\">\n",
       "  <thead>\n",
       "    <tr style=\"text-align: right;\">\n",
       "      <th></th>\n",
       "      <th>Title</th>\n",
       "      <th>ethnicity</th>\n",
       "      <th>multi_eth_dummy</th>\n",
       "      <th>organ_country</th>\n",
       "      <th>num_country_set</th>\n",
       "      <th>organ_multi_country_dummy</th>\n",
       "    </tr>\n",
       "  </thead>\n",
       "  <tbody>\n",
       "    <tr>\n",
       "      <th>0</th>\n",
       "      <td>Nelson-Plosser revisited: The ACF approach</td>\n",
       "      <td>[GreaterAfrican, GreaterEuropean, GreaterEurop...</td>\n",
       "      <td>1</td>\n",
       "      <td>[SCOTLAND, ENGLAND, ENGLAND, ITALY]</td>\n",
       "      <td>3</td>\n",
       "      <td>1.0</td>\n",
       "    </tr>\n",
       "    <tr>\n",
       "      <th>1</th>\n",
       "      <td>An I(d) model with trend and cycles</td>\n",
       "      <td>[GreaterAfrican, GreaterEuropean, GreaterEurop...</td>\n",
       "      <td>1</td>\n",
       "      <td>[ENGLAND, ENGLAND]</td>\n",
       "      <td>1</td>\n",
       "      <td>0.0</td>\n",
       "    </tr>\n",
       "    <tr>\n",
       "      <th>2</th>\n",
       "      <td>Two estimators of the long-run variance: Beyon...</td>\n",
       "      <td>[GreaterAfrican, GreaterEuropean, GreaterEurop...</td>\n",
       "      <td>1</td>\n",
       "      <td>[ENGLAND, ENGLAND]</td>\n",
       "      <td>1</td>\n",
       "      <td>0.0</td>\n",
       "    </tr>\n",
       "    <tr>\n",
       "      <th>3</th>\n",
       "      <td>Testing joint hypotheses when one of the alter...</td>\n",
       "      <td>[GreaterAfrican, GreaterEuropean]</td>\n",
       "      <td>1</td>\n",
       "      <td>[ENGLAND]</td>\n",
       "      <td>1</td>\n",
       "      <td>0.0</td>\n",
       "    </tr>\n",
       "    <tr>\n",
       "      <th>4</th>\n",
       "      <td>Nonstationarity-extended local Whittle estimation</td>\n",
       "      <td>[GreaterAfrican, GreaterEuropean, GreaterEurop...</td>\n",
       "      <td>1</td>\n",
       "      <td>[ENGLAND, ENGLAND]</td>\n",
       "      <td>1</td>\n",
       "      <td>0.0</td>\n",
       "    </tr>\n",
       "  </tbody>\n",
       "</table>\n",
       "</div>"
      ],
      "text/plain": [
       "                                               Title  \\\n",
       "0         Nelson-Plosser revisited: The ACF approach   \n",
       "1                An I(d) model with trend and cycles   \n",
       "2  Two estimators of the long-run variance: Beyon...   \n",
       "3  Testing joint hypotheses when one of the alter...   \n",
       "4  Nonstationarity-extended local Whittle estimation   \n",
       "\n",
       "                                           ethnicity  multi_eth_dummy  \\\n",
       "0  [GreaterAfrican, GreaterEuropean, GreaterEurop...                1   \n",
       "1  [GreaterAfrican, GreaterEuropean, GreaterEurop...                1   \n",
       "2  [GreaterAfrican, GreaterEuropean, GreaterEurop...                1   \n",
       "3                  [GreaterAfrican, GreaterEuropean]                1   \n",
       "4  [GreaterAfrican, GreaterEuropean, GreaterEurop...                1   \n",
       "\n",
       "                         organ_country  num_country_set  \\\n",
       "0  [SCOTLAND, ENGLAND, ENGLAND, ITALY]                3   \n",
       "1                   [ENGLAND, ENGLAND]                1   \n",
       "2                   [ENGLAND, ENGLAND]                1   \n",
       "3                            [ENGLAND]                1   \n",
       "4                   [ENGLAND, ENGLAND]                1   \n",
       "\n",
       "   organ_multi_country_dummy  \n",
       "0                        1.0  \n",
       "1                        0.0  \n",
       "2                        0.0  \n",
       "3                        0.0  \n",
       "4                        0.0  "
      ]
     },
     "execution_count": 176,
     "metadata": {},
     "output_type": "execute_result"
    }
   ],
   "source": [
    "merged_WOS_df[['Title', 'ethnicity', 'multi_eth_dummy', 'organ_country', 'num_country_set', 'organ_multi_country_dummy']].head(5)"
   ]
  },
  {
   "cell_type": "markdown",
   "metadata": {},
   "source": [
    "### Institution (diversity)"
   ]
  },
  {
   "cell_type": "code",
   "execution_count": 177,
   "metadata": {},
   "outputs": [],
   "source": [
    "merged_WOS_df['num_uni_set'] = merged_WOS_df['organization'].apply(lambda x: len(list(set(x)))) "
   ]
  },
  {
   "cell_type": "code",
   "execution_count": 178,
   "metadata": {},
   "outputs": [
    {
     "name": "stdout",
     "output_type": "stream",
     "text": [
      "number of Country in set by count\n"
     ]
    },
    {
     "data": {
      "text/plain": [
       "1     336\n",
       "2     336\n",
       "3     252\n",
       "4     144\n",
       "5      71\n",
       "6      42\n",
       "7      17\n",
       "8       9\n",
       "9       5\n",
       "12      3\n",
       "16      2\n",
       "50      1\n",
       "10      1\n",
       "30      1\n",
       "15      1\n",
       "19      1\n",
       "21      1\n",
       "22      1\n",
       "23      1\n",
       "25      1\n",
       "11      1\n",
       "Name: num_uni_set, dtype: int64"
      ]
     },
     "execution_count": 178,
     "metadata": {},
     "output_type": "execute_result"
    }
   ],
   "source": [
    "print(\"number of Country in set by count\")\n",
    "merged_WOS_df.num_uni_set.value_counts()"
   ]
  },
  {
   "cell_type": "code",
   "execution_count": 179,
   "metadata": {},
   "outputs": [
    {
     "data": {
      "image/png": "[encoded data removed]",
      "text/plain": [
       "<matplotlib.figure.Figure at 0x252505ec2b0>"
      ]
     },
     "metadata": {},
     "output_type": "display_data"
    }
   ],
   "source": [
    "merged_WOS_df.groupby('num_uni_set').mean()['cited_time'].plot(kind = 'bar')\n",
    "plt.xlabel('number of univ in set')\n",
    "plt.ylabel('cited time on average')\n",
    "plt.show()"
   ]
  },
  {
   "cell_type": "code",
   "execution_count": 180,
   "metadata": {},
   "outputs": [],
   "source": [
    "for i, num in enumerate(list(merged_WOS_df['num_uni_set'])):\n",
    "    if num == 1:\n",
    "        merged_WOS_df.loc[i, 'multi_univ_dummy'] = 0\n",
    "    else:\n",
    "        merged_WOS_df.loc[i, 'multi_univ_dummy'] = 1"
   ]
  },
  {
   "cell_type": "code",
   "execution_count": 207,
   "metadata": {},
   "outputs": [
    {
     "data": {
      "text/plain": [
       "multi_univ_dummy\n",
       "0.0    31.886905\n",
       "1.0    42.355780\n",
       "Name: cited_time, dtype: float64"
      ]
     },
     "execution_count": 207,
     "metadata": {},
     "output_type": "execute_result"
    }
   ],
   "source": [
    "merged_WOS_df.groupby('multi_univ_dummy').mean()['cited_time']"
   ]
  },
  {
   "cell_type": "code",
   "execution_count": 223,
   "metadata": {},
   "outputs": [
    {
     "data": {
      "image/png": "[encoded data removed]",
      "text/plain": [
       "<matplotlib.figure.Figure at 0x2523a56d9e8>"
      ]
     },
     "metadata": {},
     "output_type": "display_data"
    }
   ],
   "source": [
    "merged_WOS_df.groupby('multi_univ_dummy').mean()['cited_time'].plot(kind = 'bar')\n",
    "plt.xlabel('multi_univ_dummy(1 = multi-university)')\n",
    "plt.ylabel('cited time on average')\n",
    "plt.hlines(y = 31.88, xmin = -0.4, xmax = 1, linestyles = '--', color = 'blue')\n",
    "plt.annotate('31.9', xy = (-0.42, 29), fontsize = 12, color = 'blue')\n",
    "plt.hlines(y =42.35, xmin = -0.2, xmax = 1.4, linestyles = '--', color = 'red')\n",
    "plt.annotate('42.4', xy = (1.3, 40), fontsize = 12, color = 'red')\n",
    "plt.savefig('./graph/image13', bbox_inches='tight')\n",
    "plt.show()"
   ]
  },
  {
   "cell_type": "markdown",
   "metadata": {},
   "source": [
    "## 9. Take the log to the cited time"
   ]
  },
  {
   "cell_type": "code",
   "execution_count": 112,
   "metadata": {},
   "outputs": [],
   "source": [
    "merged_WOS_df['log_cited_time'] = merged_WOS_df['cited_time'].apply(lambda x: math.log(x+1))\n",
    "merged_WOS_df['log_cited_time_per_yr'] = merged_WOS_df['citation_per_yr'].apply(lambda x: math.log(x+1))"
   ]
  },
  {
   "cell_type": "markdown",
   "metadata": {},
   "source": [
    "## 10. Title+Keywords similar to Abstract"
   ]
  },
  {
   "cell_type": "code",
   "execution_count": 211,
   "metadata": {},
   "outputs": [],
   "source": [
    "import nltk\n",
    "\n",
    "def extract_nouns(text):\n",
    "    # use tokenizer to split text into individual words\n",
    "    words = nltk.word_tokenize(text)    \n",
    "    # use tagger to categorize all words\n",
    "    tags = nltk.pos_tag(words)\n",
    "    # keep nouns only (nn, nns, nnp, nnps)\n",
    "    only_nouns = []\n",
    "    for word, pos in tags: \n",
    "        if (pos == 'NN' or pos == 'NNS' or pos == 'NNP' or pos == 'NNPS'):\n",
    "            only_nouns.append(word.lower())\n",
    "    return only_nouns  \n",
    "\n",
    "def intersect(a, b):\n",
    "    return list(set(a) & set(b))\n",
    "def union (a,b):\n",
    "    return  list(set(a).union(b))\n",
    "       \n",
    "def similarity(lst1, lst2):\n",
    "    numerator =  len(intersect(lst1,lst2))\n",
    "    denom = len(union(lst1,lst2))\n",
    "    if not denom:\n",
    "        sim = 0\n",
    "    else:\n",
    "        sim = round(float(numerator)/denom,3)\n",
    "    return sim   "
   ]
  },
  {
   "cell_type": "code",
   "execution_count": 212,
   "metadata": {},
   "outputs": [],
   "source": [
    "df = merged_WOS_df.copy()\n",
    "df.dropna(axis=0, how='any', inplace=True)"
   ]
  },
  {
   "cell_type": "code",
   "execution_count": 213,
   "metadata": {},
   "outputs": [],
   "source": [
    "sim_list = []\n",
    "for idx in range(len(df)):\n",
    "    title_keyword = extract_nouns(list(df.Title)[idx])+[i.lower() for i in list(df.keywords)[idx]]\n",
    "    abstract_nouns = extract_nouns(list(df.abstract)[idx])\n",
    "    sim_list.append(similarity(title_keyword, abstract_nouns))\n",
    "df['sim'] = sim_list"
   ]
  },
  {
   "cell_type": "code",
   "execution_count": 214,
   "metadata": {},
   "outputs": [
    {
     "data": {
      "image/png": "[encoded data removed]",
      "text/plain": [
       "<matplotlib.figure.Figure at 0x252378a1940>"
      ]
     },
     "metadata": {},
     "output_type": "display_data"
    }
   ],
   "source": [
    "sim_sub = df.groupby('sim').mean()['cited_time'].reset_index()\n",
    "plt.scatter(x = list(sim_sub.sim), y = list(sim_sub.cited_time))\n",
    "plt.ylabel('cited tiem on average')\n",
    "plt.xlabel('similarity')\n",
    "plt.show()"
   ]
  },
  {
   "cell_type": "code",
   "execution_count": 215,
   "metadata": {},
   "outputs": [],
   "source": [
    "keyword_dummy = []\n",
    "for i, j in enumerate(list(df.keywords)):\n",
    "    if len(j) > 0:\n",
    "        keyword_dummy.append(int(1))\n",
    "    else:\n",
    "        keyword_dummy.append(int(0))\n",
    "df['keyword_provided_dummy'] = keyword_dummy"
   ]
  },
  {
   "cell_type": "code",
   "execution_count": 217,
   "metadata": {},
   "outputs": [
    {
     "data": {
      "text/plain": [
       "keyword_provided_dummy\n",
       "0    20.112676\n",
       "1    45.834166\n",
       "Name: cited_time, dtype: float64"
      ]
     },
     "execution_count": 217,
     "metadata": {},
     "output_type": "execute_result"
    }
   ],
   "source": [
    "df.groupby('keyword_provided_dummy').mean()['cited_time']"
   ]
  },
  {
   "cell_type": "code",
   "execution_count": 224,
   "metadata": {},
   "outputs": [
    {
     "data": {
      "image/png": "[encoded data removed]",
      "text/plain": [
       "<matplotlib.figure.Figure at 0x2523a5516d8>"
      ]
     },
     "metadata": {},
     "output_type": "display_data"
    }
   ],
   "source": [
    "df.groupby('keyword_provided_dummy').mean()['cited_time'].plot(kind = 'bar')\n",
    "plt.ylabel('cited tiem on average')\n",
    "plt.hlines(y = 20.1, xmin = -0.4, xmax = 1, linestyles = '--', color = 'blue')\n",
    "plt.annotate('31.9', xy = (-0.42, 21), fontsize = 12, color = 'blue')\n",
    "plt.hlines(y =45.8, xmin = -0.2, xmax = 1.4, linestyles = '--', color = 'red')\n",
    "plt.annotate('42.4', xy = (1.3, 43), fontsize = 12, color = 'red')\n",
    "plt.savefig('./graph/image14', bbox_inches='tight')\n",
    "plt.show()"
   ]
  },
  {
   "cell_type": "markdown",
   "metadata": {},
   "source": [
    "## 11. Preprocessing and Feature Engineering Result\n",
    "\n",
    "1. **yrs_since_published**: year pass since published. ex) published year: 2018 -> yrs_since_published: 1\n",
    "2. **co_author_num**: the number of the co-authors\n",
    "3. **avg_authors_h_index**: authors' h-index on average\n",
    "4. **sim**: similarity between title+keywords and abstract\n",
    "5. **num_of_ref**: the number of the references for a target publication\n",
    "6. **ref_yearly_cited_avg**: the cited time of the references on average for a target publication\n",
    "7. **avg_organ_ranking**: a mean of the ranking of the organisations in the relevant research categories\n",
    "8. **avg_organ_cate_impact_factor**: a mean of the category impact factor in the relevant research categories\n",
    "9. **avg_research_field_impact_factor**: a mean of impact factor in the relevant research categories\n",
    "10. **avg_journal_impact_factor**: a mean of impact factor in the relevant journal\n",
    "11. **multi_eth_dummy**: 1 if the number of authors' ethnicities is above 1. Otherwise, 0.\n",
    "12. **organ_multi_country_dummy**: 1 if the number of organisations' countries is above 1. Otherwise, 0.\n",
    "13. **multi_univ_dummy**: 1 if the number of organisations is over 1. Otherwise, 0.\n",
    "14. **author_odd_num_dummy**: 1 if the number of co-authors is odd and greater than 1. Otherwise, 0.\n",
    "15. **keyword_provided_dummy**: 1 if keywords are provided. Otherwise, 0."
   ]
  },
  {
   "cell_type": "code",
   "execution_count": 119,
   "metadata": {},
   "outputs": [],
   "source": [
    "df.to_pickle('./data/preprocessed_df.pkl')"
   ]
  },
  {
   "cell_type": "code",
   "execution_count": 120,
   "metadata": {},
   "outputs": [
    {
     "data": {
      "text/plain": [
       "Index(['WOS_URL', 'Title', 'co_author1', 'co_author2', 'journal_type',\n",
       "       'research_areas', 'WOS_cate', 'address', 'organization', 'date',\n",
       "       'cited_time', 'num_of_ref', 'abstract', 'keywords', 'publisher',\n",
       "       'published_yrs', 'yrs_since_published', 'citation_per_yr',\n",
       "       'organ_country', 'co_author_num', 'author_odd_num_dummy',\n",
       "       'avg_authors_h_index', 'sum_authors_h_index', 'ref_yearly_cited_avg',\n",
       "       'avg_organ_ranking', 'avg_organ_cate_impact_factor',\n",
       "       'avg_research_field_impact_factor', 'avg_journal_impact_factor',\n",
       "       'ethnicity', 'multi_eth_dummy', 'num_country_set',\n",
       "       'organ_multi_country_dummy', 'num_uni_set', 'multi_univ_dummy',\n",
       "       'log_total_cited_time', 'log_cited_time_per_yr', 'log_cited_time',\n",
       "       'sim', 'keyword_provided_dummy'],\n",
       "      dtype='object')"
      ]
     },
     "execution_count": 120,
     "metadata": {},
     "output_type": "execute_result"
    }
   ],
   "source": [
    "df.columns"
   ]
  },
  {
   "cell_type": "code",
   "execution_count": 226,
   "metadata": {
    "scrolled": true
   },
   "outputs": [
    {
     "data": {
      "text/html": [
       "<div>\n",
       "<style scoped>\n",
       "    .dataframe tbody tr th:only-of-type {\n",
       "        vertical-align: middle;\n",
       "    }\n",
       "\n",
       "    .dataframe tbody tr th {\n",
       "        vertical-align: top;\n",
       "    }\n",
       "\n",
       "    .dataframe thead th {\n",
       "        text-align: right;\n",
       "    }\n",
       "</style>\n",
       "<table border=\"1\" class=\"dataframe\">\n",
       "  <thead>\n",
       "    <tr style=\"text-align: right;\">\n",
       "      <th></th>\n",
       "      <th>log_cited_time_per_yr</th>\n",
       "      <th>citation_per_yr</th>\n",
       "      <th>log_cited_time</th>\n",
       "      <th>cited_time</th>\n",
       "      <th>yrs_since_published</th>\n",
       "      <th>co_author_num</th>\n",
       "      <th>avg_authors_h_index</th>\n",
       "      <th>author_odd_num_dummy</th>\n",
       "      <th>num_of_ref</th>\n",
       "      <th>ref_yearly_cited_avg</th>\n",
       "      <th>avg_organ_ranking</th>\n",
       "      <th>avg_organ_cate_impact_factor</th>\n",
       "      <th>avg_research_field_impact_factor</th>\n",
       "      <th>avg_journal_impact_factor</th>\n",
       "      <th>multi_eth_dummy</th>\n",
       "      <th>organ_multi_country_dummy</th>\n",
       "      <th>multi_univ_dummy</th>\n",
       "      <th>sim</th>\n",
       "      <th>keyword_provided_dummy</th>\n",
       "    </tr>\n",
       "  </thead>\n",
       "  <tbody>\n",
       "    <tr>\n",
       "      <th>0</th>\n",
       "      <td>0.606136</td>\n",
       "      <td>0.833333</td>\n",
       "      <td>1.791759</td>\n",
       "      <td>5</td>\n",
       "      <td>6</td>\n",
       "      <td>3</td>\n",
       "      <td>6.333333</td>\n",
       "      <td>1</td>\n",
       "      <td>42</td>\n",
       "      <td>18.801852</td>\n",
       "      <td>224.888889</td>\n",
       "      <td>1.106667</td>\n",
       "      <td>1.401417</td>\n",
       "      <td>1.594250</td>\n",
       "      <td>1</td>\n",
       "      <td>1.0</td>\n",
       "      <td>1.0</td>\n",
       "      <td>0.021</td>\n",
       "      <td>1</td>\n",
       "    </tr>\n",
       "    <tr>\n",
       "      <th>1</th>\n",
       "      <td>0.485508</td>\n",
       "      <td>0.625000</td>\n",
       "      <td>1.791759</td>\n",
       "      <td>5</td>\n",
       "      <td>8</td>\n",
       "      <td>3</td>\n",
       "      <td>7.333333</td>\n",
       "      <td>1</td>\n",
       "      <td>22</td>\n",
       "      <td>3.940034</td>\n",
       "      <td>55.000000</td>\n",
       "      <td>1.478333</td>\n",
       "      <td>1.362444</td>\n",
       "      <td>1.572667</td>\n",
       "      <td>1</td>\n",
       "      <td>0.0</td>\n",
       "      <td>1.0</td>\n",
       "      <td>0.036</td>\n",
       "      <td>1</td>\n",
       "    </tr>\n",
       "    <tr>\n",
       "      <th>2</th>\n",
       "      <td>0.641854</td>\n",
       "      <td>0.900000</td>\n",
       "      <td>2.302585</td>\n",
       "      <td>9</td>\n",
       "      <td>10</td>\n",
       "      <td>3</td>\n",
       "      <td>7.333333</td>\n",
       "      <td>1</td>\n",
       "      <td>21</td>\n",
       "      <td>26.560935</td>\n",
       "      <td>55.000000</td>\n",
       "      <td>1.478333</td>\n",
       "      <td>1.346792</td>\n",
       "      <td>1.644125</td>\n",
       "      <td>1</td>\n",
       "      <td>0.0</td>\n",
       "      <td>1.0</td>\n",
       "      <td>0.093</td>\n",
       "      <td>1</td>\n",
       "    </tr>\n",
       "    <tr>\n",
       "      <th>3</th>\n",
       "      <td>1.098612</td>\n",
       "      <td>2.000000</td>\n",
       "      <td>3.218876</td>\n",
       "      <td>24</td>\n",
       "      <td>12</td>\n",
       "      <td>2</td>\n",
       "      <td>6.000000</td>\n",
       "      <td>0</td>\n",
       "      <td>58</td>\n",
       "      <td>10.841103</td>\n",
       "      <td>103.333333</td>\n",
       "      <td>1.310000</td>\n",
       "      <td>1.318733</td>\n",
       "      <td>1.693300</td>\n",
       "      <td>1</td>\n",
       "      <td>0.0</td>\n",
       "      <td>0.0</td>\n",
       "      <td>0.042</td>\n",
       "      <td>1</td>\n",
       "    </tr>\n",
       "    <tr>\n",
       "      <th>4</th>\n",
       "      <td>2.047693</td>\n",
       "      <td>6.750000</td>\n",
       "      <td>4.406719</td>\n",
       "      <td>81</td>\n",
       "      <td>12</td>\n",
       "      <td>3</td>\n",
       "      <td>4.333333</td>\n",
       "      <td>1</td>\n",
       "      <td>21</td>\n",
       "      <td>6.388188</td>\n",
       "      <td>55.000000</td>\n",
       "      <td>1.478333</td>\n",
       "      <td>1.318733</td>\n",
       "      <td>1.693300</td>\n",
       "      <td>1</td>\n",
       "      <td>0.0</td>\n",
       "      <td>1.0</td>\n",
       "      <td>0.051</td>\n",
       "      <td>1</td>\n",
       "    </tr>\n",
       "  </tbody>\n",
       "</table>\n",
       "</div>"
      ],
      "text/plain": [
       "   log_cited_time_per_yr  citation_per_yr  log_cited_time  cited_time  \\\n",
       "0               0.606136         0.833333        1.791759           5   \n",
       "1               0.485508         0.625000        1.791759           5   \n",
       "2               0.641854         0.900000        2.302585           9   \n",
       "3               1.098612         2.000000        3.218876          24   \n",
       "4               2.047693         6.750000        4.406719          81   \n",
       "\n",
       "   yrs_since_published  co_author_num  avg_authors_h_index  \\\n",
       "0                    6              3             6.333333   \n",
       "1                    8              3             7.333333   \n",
       "2                   10              3             7.333333   \n",
       "3                   12              2             6.000000   \n",
       "4                   12              3             4.333333   \n",
       "\n",
       "   author_odd_num_dummy  num_of_ref  ref_yearly_cited_avg  avg_organ_ranking  \\\n",
       "0                     1          42             18.801852         224.888889   \n",
       "1                     1          22              3.940034          55.000000   \n",
       "2                     1          21             26.560935          55.000000   \n",
       "3                     0          58             10.841103         103.333333   \n",
       "4                     1          21              6.388188          55.000000   \n",
       "\n",
       "   avg_organ_cate_impact_factor  avg_research_field_impact_factor  \\\n",
       "0                      1.106667                          1.401417   \n",
       "1                      1.478333                          1.362444   \n",
       "2                      1.478333                          1.346792   \n",
       "3                      1.310000                          1.318733   \n",
       "4                      1.478333                          1.318733   \n",
       "\n",
       "   avg_journal_impact_factor  multi_eth_dummy  organ_multi_country_dummy  \\\n",
       "0                   1.594250                1                        1.0   \n",
       "1                   1.572667                1                        0.0   \n",
       "2                   1.644125                1                        0.0   \n",
       "3                   1.693300                1                        0.0   \n",
       "4                   1.693300                1                        0.0   \n",
       "\n",
       "   multi_univ_dummy    sim  keyword_provided_dummy  \n",
       "0               1.0  0.021                       1  \n",
       "1               1.0  0.036                       1  \n",
       "2               1.0  0.093                       1  \n",
       "3               0.0  0.042                       1  \n",
       "4               1.0  0.051                       1  "
      ]
     },
     "execution_count": 226,
     "metadata": {},
     "output_type": "execute_result"
    }
   ],
   "source": [
    "preprocessed_df = pd.read_pickle('./data/preprocessed_df.pkl')\n",
    "final_df = preprocessed_df[['log_cited_time_per_yr','citation_per_yr', 'log_cited_time', 'cited_time', 'yrs_since_published',\\\n",
    "               'co_author_num','avg_authors_h_index', 'author_odd_num_dummy',\\\n",
    "               'num_of_ref', 'ref_yearly_cited_avg', \\\n",
    "               'avg_organ_ranking', 'avg_organ_cate_impact_factor',\\\n",
    "               'avg_research_field_impact_factor', 'avg_journal_impact_factor',\\\n",
    "               'multi_eth_dummy', 'organ_multi_country_dummy','multi_univ_dummy', 'sim', 'keyword_provided_dummy']]\n",
    "final_df.head(5)"
   ]
  },
  {
   "cell_type": "code",
   "execution_count": 227,
   "metadata": {},
   "outputs": [],
   "source": [
    "final_df.to_csv('./data/final_df.csv', index = False)"
   ]
  },
  {
   "cell_type": "markdown",
   "metadata": {},
   "source": [
    "# Model Building"
   ]
  },
  {
   "cell_type": "code",
   "execution_count": 2,
   "metadata": {
    "scrolled": true
   },
   "outputs": [],
   "source": [
    "import statsmodels.api as sm\n",
    "import statsmodels.formula.api as smf\n",
    "import statsmodels.stats.api as sms\n",
    "import statsmodels.api as sm\n",
    "import matplotlib.pyplot as plt\n",
    "from statsmodels.compat import lzip\n",
    "from statsmodels.graphics.gofplots import ProbPlot\n",
    "\n",
    "%matplotlib inline\n",
    "\n",
    "final_df = pd.read_csv('./data/final_df.csv')"
   ]
  },
  {
   "cell_type": "code",
   "execution_count": 4,
   "metadata": {},
   "outputs": [
    {
     "data": {
      "text/plain": [
       "(1072, 19)"
      ]
     },
     "execution_count": 4,
     "metadata": {},
     "output_type": "execute_result"
    }
   ],
   "source": [
    "final_df.shape"
   ]
  },
  {
   "cell_type": "code",
   "execution_count": 237,
   "metadata": {},
   "outputs": [
    {
     "data": {
      "image/png": "[encoded data removed]",
      "text/plain": [
       "<matplotlib.figure.Figure at 0x2523ac94ef0>"
      ]
     },
     "metadata": {},
     "output_type": "display_data"
    }
   ],
   "source": [
    "plt.hist(list(df_sub['cited_time']), bins = 50)\n",
    "plt.xlabel('Cited Time')\n",
    "plt.ylabel('Count')\n",
    "plt.savefig('./graph/image15', bbox_inches='tight')\n",
    "plt.show()"
   ]
  },
  {
   "cell_type": "code",
   "execution_count": 241,
   "metadata": {},
   "outputs": [
    {
     "data": {
      "image/png": "[encoded data removed]",
      "text/plain": [
       "<matplotlib.figure.Figure at 0x25239826b38>"
      ]
     },
     "metadata": {},
     "output_type": "display_data"
    }
   ],
   "source": [
    "final_df.hist(column=['log_cited_time_per_yr', 'citation_per_yr', 'log_cited_time',\\\n",
    "       'cited_time', 'yrs_since_published', 'co_author_num',\\\n",
    "       'avg_authors_h_index','num_of_ref',\\\n",
    "       'ref_yearly_cited_avg', 'avg_organ_ranking',\\\n",
    "       'avg_organ_cate_impact_factor', 'avg_research_field_impact_factor',\\\n",
    "       'avg_journal_impact_factor', 'sim'])\n",
    "plt.rcParams['figure.figsize'] =  (20.0, 10.0)\n",
    "plt.tight_layout()\n",
    "plt.show()"
   ]
  },
  {
   "cell_type": "code",
   "execution_count": 128,
   "metadata": {},
   "outputs": [
    {
     "data": {
      "image/png": "[encoded data removed]",
      "text/plain": [
       "<matplotlib.figure.Figure at 0x17fd41826d8>"
      ]
     },
     "metadata": {},
     "output_type": "display_data"
    }
   ],
   "source": [
    "final_df[['log_cited_time_per_yr', 'citation_per_yr']].plot(kind = 'hist', subplots=True, layout=(9, 3), figsize=(10, 20), bins = 100)\n",
    "plt.rcParams['figure.figsize'] =  (20.0, 10.0)\n",
    "plt.show()"
   ]
  },
  {
   "cell_type": "markdown",
   "metadata": {},
   "source": [
    "## 1. Multicollinearity"
   ]
  },
  {
   "cell_type": "code",
   "execution_count": 244,
   "metadata": {
    "scrolled": true
   },
   "outputs": [
    {
     "data": {
      "text/html": [
       "<div>\n",
       "<style scoped>\n",
       "    .dataframe tbody tr th:only-of-type {\n",
       "        vertical-align: middle;\n",
       "    }\n",
       "\n",
       "    .dataframe tbody tr th {\n",
       "        vertical-align: top;\n",
       "    }\n",
       "\n",
       "    .dataframe thead th {\n",
       "        text-align: right;\n",
       "    }\n",
       "</style>\n",
       "<table border=\"1\" class=\"dataframe\">\n",
       "  <thead>\n",
       "    <tr style=\"text-align: right;\">\n",
       "      <th></th>\n",
       "      <th>log_cited_time_per_yr</th>\n",
       "      <th>citation_per_yr</th>\n",
       "      <th>log_cited_time</th>\n",
       "      <th>cited_time</th>\n",
       "      <th>yrs_since_published</th>\n",
       "      <th>co_author_num</th>\n",
       "      <th>avg_authors_h_index</th>\n",
       "      <th>author_odd_num_dummy</th>\n",
       "      <th>num_of_ref</th>\n",
       "      <th>ref_yearly_cited_avg</th>\n",
       "      <th>avg_organ_ranking</th>\n",
       "      <th>avg_organ_cate_impact_factor</th>\n",
       "      <th>avg_research_field_impact_factor</th>\n",
       "      <th>avg_journal_impact_factor</th>\n",
       "      <th>multi_eth_dummy</th>\n",
       "      <th>organ_multi_country_dummy</th>\n",
       "      <th>multi_univ_dummy</th>\n",
       "      <th>sim</th>\n",
       "      <th>keyword_provided_dummy</th>\n",
       "    </tr>\n",
       "  </thead>\n",
       "  <tbody>\n",
       "    <tr>\n",
       "      <th>0</th>\n",
       "      <td>0.606136</td>\n",
       "      <td>0.833333</td>\n",
       "      <td>1.791759</td>\n",
       "      <td>5</td>\n",
       "      <td>6</td>\n",
       "      <td>3</td>\n",
       "      <td>6.333333</td>\n",
       "      <td>1</td>\n",
       "      <td>42</td>\n",
       "      <td>18.801852</td>\n",
       "      <td>224.888889</td>\n",
       "      <td>1.106667</td>\n",
       "      <td>1.401417</td>\n",
       "      <td>1.594250</td>\n",
       "      <td>1</td>\n",
       "      <td>1.0</td>\n",
       "      <td>1.0</td>\n",
       "      <td>0.021</td>\n",
       "      <td>1</td>\n",
       "    </tr>\n",
       "    <tr>\n",
       "      <th>1</th>\n",
       "      <td>0.485508</td>\n",
       "      <td>0.625000</td>\n",
       "      <td>1.791759</td>\n",
       "      <td>5</td>\n",
       "      <td>8</td>\n",
       "      <td>3</td>\n",
       "      <td>7.333333</td>\n",
       "      <td>1</td>\n",
       "      <td>22</td>\n",
       "      <td>3.940034</td>\n",
       "      <td>55.000000</td>\n",
       "      <td>1.478333</td>\n",
       "      <td>1.362444</td>\n",
       "      <td>1.572667</td>\n",
       "      <td>1</td>\n",
       "      <td>0.0</td>\n",
       "      <td>1.0</td>\n",
       "      <td>0.036</td>\n",
       "      <td>1</td>\n",
       "    </tr>\n",
       "    <tr>\n",
       "      <th>2</th>\n",
       "      <td>0.641854</td>\n",
       "      <td>0.900000</td>\n",
       "      <td>2.302585</td>\n",
       "      <td>9</td>\n",
       "      <td>10</td>\n",
       "      <td>3</td>\n",
       "      <td>7.333333</td>\n",
       "      <td>1</td>\n",
       "      <td>21</td>\n",
       "      <td>26.560935</td>\n",
       "      <td>55.000000</td>\n",
       "      <td>1.478333</td>\n",
       "      <td>1.346792</td>\n",
       "      <td>1.644125</td>\n",
       "      <td>1</td>\n",
       "      <td>0.0</td>\n",
       "      <td>1.0</td>\n",
       "      <td>0.093</td>\n",
       "      <td>1</td>\n",
       "    </tr>\n",
       "    <tr>\n",
       "      <th>3</th>\n",
       "      <td>1.098612</td>\n",
       "      <td>2.000000</td>\n",
       "      <td>3.218876</td>\n",
       "      <td>24</td>\n",
       "      <td>12</td>\n",
       "      <td>2</td>\n",
       "      <td>6.000000</td>\n",
       "      <td>0</td>\n",
       "      <td>58</td>\n",
       "      <td>10.841103</td>\n",
       "      <td>103.333333</td>\n",
       "      <td>1.310000</td>\n",
       "      <td>1.318733</td>\n",
       "      <td>1.693300</td>\n",
       "      <td>1</td>\n",
       "      <td>0.0</td>\n",
       "      <td>0.0</td>\n",
       "      <td>0.042</td>\n",
       "      <td>1</td>\n",
       "    </tr>\n",
       "    <tr>\n",
       "      <th>4</th>\n",
       "      <td>2.047693</td>\n",
       "      <td>6.750000</td>\n",
       "      <td>4.406719</td>\n",
       "      <td>81</td>\n",
       "      <td>12</td>\n",
       "      <td>3</td>\n",
       "      <td>4.333333</td>\n",
       "      <td>1</td>\n",
       "      <td>21</td>\n",
       "      <td>6.388188</td>\n",
       "      <td>55.000000</td>\n",
       "      <td>1.478333</td>\n",
       "      <td>1.318733</td>\n",
       "      <td>1.693300</td>\n",
       "      <td>1</td>\n",
       "      <td>0.0</td>\n",
       "      <td>1.0</td>\n",
       "      <td>0.051</td>\n",
       "      <td>1</td>\n",
       "    </tr>\n",
       "  </tbody>\n",
       "</table>\n",
       "</div>"
      ],
      "text/plain": [
       "   log_cited_time_per_yr  citation_per_yr  log_cited_time  cited_time  \\\n",
       "0               0.606136         0.833333        1.791759           5   \n",
       "1               0.485508         0.625000        1.791759           5   \n",
       "2               0.641854         0.900000        2.302585           9   \n",
       "3               1.098612         2.000000        3.218876          24   \n",
       "4               2.047693         6.750000        4.406719          81   \n",
       "\n",
       "   yrs_since_published  co_author_num  avg_authors_h_index  \\\n",
       "0                    6              3             6.333333   \n",
       "1                    8              3             7.333333   \n",
       "2                   10              3             7.333333   \n",
       "3                   12              2             6.000000   \n",
       "4                   12              3             4.333333   \n",
       "\n",
       "   author_odd_num_dummy  num_of_ref  ref_yearly_cited_avg  avg_organ_ranking  \\\n",
       "0                     1          42             18.801852         224.888889   \n",
       "1                     1          22              3.940034          55.000000   \n",
       "2                     1          21             26.560935          55.000000   \n",
       "3                     0          58             10.841103         103.333333   \n",
       "4                     1          21              6.388188          55.000000   \n",
       "\n",
       "   avg_organ_cate_impact_factor  avg_research_field_impact_factor  \\\n",
       "0                      1.106667                          1.401417   \n",
       "1                      1.478333                          1.362444   \n",
       "2                      1.478333                          1.346792   \n",
       "3                      1.310000                          1.318733   \n",
       "4                      1.478333                          1.318733   \n",
       "\n",
       "   avg_journal_impact_factor  multi_eth_dummy  organ_multi_country_dummy  \\\n",
       "0                   1.594250                1                        1.0   \n",
       "1                   1.572667                1                        0.0   \n",
       "2                   1.644125                1                        0.0   \n",
       "3                   1.693300                1                        0.0   \n",
       "4                   1.693300                1                        0.0   \n",
       "\n",
       "   multi_univ_dummy    sim  keyword_provided_dummy  \n",
       "0               1.0  0.021                       1  \n",
       "1               1.0  0.036                       1  \n",
       "2               1.0  0.093                       1  \n",
       "3               0.0  0.042                       1  \n",
       "4               1.0  0.051                       1  "
      ]
     },
     "execution_count": 244,
     "metadata": {},
     "output_type": "execute_result"
    }
   ],
   "source": [
    "final_df.head()"
   ]
  },
  {
   "cell_type": "code",
   "execution_count": 245,
   "metadata": {},
   "outputs": [],
   "source": [
    "from statsmodels.stats.outliers_influence import variance_inflation_factor"
   ]
  },
  {
   "cell_type": "code",
   "execution_count": 246,
   "metadata": {},
   "outputs": [
    {
     "name": "stdout",
     "output_type": "stream",
     "text": [
      "yrs_since_published : 4.413058969642772\n",
      "co_author_num : 2.7220927202193566\n",
      "avg_authors_h_index : 3.6764993452347317\n",
      "author_odd_num_dummy : 2.021810433183914\n",
      "num_of_ref : 4.672295863392922\n",
      "ref_yearly_cited_avg : 2.8273509672751995\n",
      "avg_organ_ranking : 2.02098791276153\n",
      "avg_organ_cate_impact_factor : 15.187799190235713\n",
      "avg_research_field_impact_factor : 9.064119917536706\n",
      "avg_journal_impact_factor : 2.141030847884246\n",
      "multi_eth_dummy : 1.2293750927552687\n",
      "organ_multi_country_dummy : 3.659434557891409\n",
      "multi_univ_dummy : 5.929539974686988\n",
      "sim : 5.025439435628485\n",
      "keyword_provided_dummy : 13.506555050716408\n"
     ]
    }
   ],
   "source": [
    "X = final_df.drop(columns = ['log_cited_time_per_yr', 'citation_per_yr', 'log_cited_time', 'cited_time'], axis = 1)\n",
    "y1 = final_df['log_cited_time_per_yr']\n",
    "y2 = final_df['citation_per_yr'] \n",
    "y3 = final_df['log_cited_time'] \n",
    "y4 = final_df['cited_time'] \n",
    "\n",
    "for i in range(X.shape[1]):\n",
    "    vif = variance_inflation_factor(X.values, i)\n",
    "    print(X.columns[i],':',vif)"
   ]
  },
  {
   "cell_type": "code",
   "execution_count": 257,
   "metadata": {},
   "outputs": [
    {
     "data": {
      "image/png": "[encoded data removed]",
      "text/plain": [
       "<matplotlib.figure.Figure at 0x2523c07c3c8>"
      ]
     },
     "metadata": {},
     "output_type": "display_data"
    }
   ],
   "source": [
    "import matplotlib.pyplot as plt\n",
    "import seaborn as sns\n",
    "corr_df = X.corr()\n",
    "sns.heatmap(corr_df, cmap='RdBu_r')\n",
    "plt.savefig('./graph/image16', bbox_inches='tight')\n",
    "plt.tight_layout()\n",
    "plt.show()"
   ]
  },
  {
   "cell_type": "markdown",
   "metadata": {},
   "source": [
    "## 2. Feature Selection\n",
    "\n",
    "1. all varaibles group : 15 variables\n",
    "2. truncated group 1: 13 variables (dropped variables: \"avg_organ_cate_impact_factor\", \"keyword_provided_dummy\")\n",
    "3. truncated group 2: 12 variables (dropeed variables: \"avg_organ_cate_impact_factor\", \"keyword_provided_dummy\", \"ulti_univ_dummy\")"
   ]
  },
  {
   "cell_type": "code",
   "execution_count": 248,
   "metadata": {},
   "outputs": [],
   "source": [
    "from sklearn.ensemble import RandomForestRegressor\n",
    "from sklearn.model_selection import KFold, GridSearchCV\n",
    "from sklearn.metrics import mean_squared_error\n",
    "from sklearn.model_selection import train_test_split"
   ]
  },
  {
   "cell_type": "code",
   "execution_count": 249,
   "metadata": {},
   "outputs": [],
   "source": [
    "# adding dep_var to employees_final2\n",
    "X = final_df.drop(columns = ['log_cited_time_per_yr', 'citation_per_yr', 'log_cited_time', 'cited_time'], axis = 1)\n",
    "y = final_df['log_cited_time_per_yr']\n",
    "                                \n",
    "X_train, X_test, y_train, y_test = train_test_split(X, y, test_size = 0.20, random_state = 42)"
   ]
  },
  {
   "cell_type": "code",
   "execution_count": 250,
   "metadata": {},
   "outputs": [],
   "source": [
    "kfold = KFold(n_splits=20, shuffle=True, random_state=1234)\n",
    "scoring='neg_mean_squared_error'\n",
    "n_jobs=-1\n",
    "\n",
    "model = RandomForestRegressor()\n",
    "param = {\n",
    "    'n_estimators': [50, 150, 250, 350, 450, 550, 650],\n",
    "    'max_features': [3, 4, 5, 6, 7, 8, 9, 10, 11, 12, 13]\n",
    "}"
   ]
  },
  {
   "cell_type": "code",
   "execution_count": 251,
   "metadata": {},
   "outputs": [
    {
     "name": "stdout",
     "output_type": "stream",
     "text": [
      "Best neg_mean_squared_error: -0.377794 \n",
      "Parameters {'max_features': 6, 'n_estimators': 650}\n"
     ]
    }
   ],
   "source": [
    "gridsearch = GridSearchCV(estimator=model, param_grid=param, cv=kfold, scoring=scoring, n_jobs=n_jobs)\n",
    "grid_result = gridsearch.fit(X_train, y_train)\n",
    "print(\"Best neg_mean_squared_error: %f \\nParameters %s\" % (grid_result.best_score_, grid_result.best_params_))"
   ]
  },
  {
   "cell_type": "code",
   "execution_count": 252,
   "metadata": {},
   "outputs": [
    {
     "name": "stdout",
     "output_type": "stream",
     "text": [
      "RMSE Train: 0.22781145787633986\n",
      "RMSE Test: 0.6205571553072751\n",
      "R^2 Train: 0.9272887746646161\n",
      "R^2 test: 0.43401002182827353\n"
     ]
    }
   ],
   "source": [
    "fine_tuned_scaled_rf = grid_result.best_estimator_\n",
    "y_train_hat = fine_tuned_scaled_rf.predict(X_train)\n",
    "y_test_hat = fine_tuned_scaled_rf.predict(X_test)\n",
    "rmse_train = np.sqrt(mean_squared_error(y_train, y_train_hat))\n",
    "rmse_test = np.sqrt(mean_squared_error(y_test, y_test_hat))\n",
    "r2_train = fine_tuned_scaled_rf.score(X_train, y_train)\n",
    "r2_test = fine_tuned_scaled_rf.score(X_test, y_test)\n",
    "\n",
    "print(\"RMSE Train:\",rmse_train)\n",
    "print(\"RMSE Test:\",rmse_test)\n",
    "\n",
    "print(\"R^2 Train:\",r2_train)\n",
    "print(\"R^2 test:\",r2_test)"
   ]
  },
  {
   "cell_type": "code",
   "execution_count": 260,
   "metadata": {},
   "outputs": [
    {
     "name": "stdout",
     "output_type": "stream",
     "text": [
      "1 . avg_journal_impact_factor 0.24112909564841725\n",
      "2 . yrs_since_published 0.16173525642950815\n",
      "3 . num_of_ref 0.11955501900977286\n",
      "4 . avg_authors_h_index 0.08611313230213649\n",
      "5 . ref_yearly_cited_avg 0.08167816468010343\n",
      "6 . avg_organ_cate_impact_factor 0.06951701150594104\n",
      "7 . avg_research_field_impact_factor 0.06017186299072728\n",
      "8 . avg_organ_ranking 0.056165709812776195\n",
      "9 . sim 0.05433656861887823\n",
      "10 . co_author_num 0.03833483165084786\n",
      "11 . author_odd_num_dummy 0.007322818414502013\n",
      "12 . multi_eth_dummy 0.006789947527292611\n",
      "13 . keyword_provided_dummy 0.006130829725009883\n",
      "14 . organ_multi_country_dummy 0.005768399100332087\n",
      "15 . multi_univ_dummy 0.0052513525837550945\n"
     ]
    },
    {
     "data": {
      "image/png": "[encoded data removed]",
      "text/plain": [
       "<matplotlib.figure.Figure at 0x2523a56d588>"
      ]
     },
     "metadata": {},
     "output_type": "display_data"
    }
   ],
   "source": [
    "# Sorting features by their score\n",
    "features, importances = zip(*sorted(zip(list(X.columns), fine_tuned_scaled_rf.feature_importances_), key=lambda x: x[1], reverse=True))\n",
    "\n",
    "# Printing out the results \n",
    "num = 0\n",
    "for f, i in zip(features, importances):\n",
    "    num += 1\n",
    "    print(num,\".\", f, i)\n",
    "\n",
    "# Sorting features by their score\n",
    "features, importances = zip(*sorted(zip(list(X.columns), fine_tuned_scaled_rf.feature_importances_), key=lambda x: x[1]))\n",
    "    \n",
    "# Creating pos, a list containing indexes of unknown_by_yr\n",
    "yPos = range(len(features))\n",
    "       \n",
    "plt.rcParams['figure.figsize'] =  (10.0, 10.0)\n",
    "# Plotting the horizontal bar chart\n",
    "plt.barh(yPos,  importances,  height = 0.4, color='green') \n",
    "\n",
    "# Setting xticks to have the same `pos` as bars \n",
    "plt.yticks(yPos, features)\n",
    "\n",
    "# Setting xlabel\n",
    "plt.xlabel('Feature Importance')\n",
    "\n",
    "#  Setting a title, and axes labels\n",
    "plt.title('Results of Random Forest Regression with log(cited_time) as target variable')\n",
    "plt.savefig('./graph/image17', bbox_inches='tight')\n",
    "plt.show()"
   ]
  },
  {
   "cell_type": "code",
   "execution_count": 254,
   "metadata": {},
   "outputs": [],
   "source": [
    "def remove_all_high_VIF(df, predictors, threshold=10):        \n",
    "    columns = predictors\n",
    "    df = df[columns].copy()\n",
    "    \n",
    "    dropped = True\n",
    "    while dropped:\n",
    "        dropped = False\n",
    "        vif_vals = [variance_inflation_factor(df.values, i) for i in range(df.shape[1])]        \n",
    "        max_vif = max(vif_vals)\n",
    "        if max_vif > threshold:\n",
    "            max_vif_index = vif_vals.index(max_vif)\n",
    "            print('Dropped:',columns[max_vif_index],max_vif)\n",
    "            del columns[max_vif_index]\n",
    "            df = df[columns]\n",
    "            dropped = True\n",
    "\n",
    "    predictors = columns\n",
    "    return predictors"
   ]
  },
  {
   "cell_type": "code",
   "execution_count": 255,
   "metadata": {},
   "outputs": [
    {
     "name": "stdout",
     "output_type": "stream",
     "text": [
      "Dropped: avg_organ_cate_impact_factor 15.187799190235713\n",
      "Dropped: keyword_provided_dummy 12.310769196669753\n",
      "\n",
      "\n",
      "=== VIF values ===\n",
      "1 . yrs_since_published : 3.615755624933456\n",
      "2 . co_author_num : 2.714195154338209\n",
      "3 . avg_authors_h_index : 3.6188859640492077\n",
      "4 . author_odd_num_dummy : 1.985901873834904\n",
      "5 . num_of_ref : 4.117195696175851\n",
      "6 . ref_yearly_cited_avg : 2.7652310373497286\n",
      "7 . avg_organ_ranking : 1.874520068769766\n",
      "8 . avg_research_field_impact_factor : 6.929958302150532\n",
      "9 . avg_journal_impact_factor : 2.0298099847671316\n",
      "10 . multi_eth_dummy : 1.2220048819151639\n",
      "11 . organ_multi_country_dummy : 3.632010302312687\n",
      "12 . multi_univ_dummy : 5.5411584340029085\n",
      "13 . sim : 4.649754213091423\n"
     ]
    }
   ],
   "source": [
    "trunc_columns = remove_all_high_VIF(final_df, list(X.columns))\n",
    "f = final_df[trunc_columns]\n",
    "print(\"\\n\")\n",
    "print(\"=== VIF values ===\")\n",
    "count = 0\n",
    "for i in range(f.shape[1]):\n",
    "    count +=1\n",
    "    vif = variance_inflation_factor(f.values, i)\n",
    "    print(count, \".\", f.columns[i],':', vif)"
   ]
  },
  {
   "cell_type": "code",
   "execution_count": 256,
   "metadata": {},
   "outputs": [
    {
     "name": "stdout",
     "output_type": "stream",
     "text": [
      "Dropped: multi_univ_dummy\n",
      "\n",
      "=== VIF values ===\n",
      "1 . yrs_since_published : 3.602466372183813\n",
      "2 . co_author_num : 2.6945608780798396\n",
      "3 . avg_authors_h_index : 3.5515668503424327\n",
      "4 . author_odd_num_dummy : 1.9818345666816204\n",
      "5 . num_of_ref : 4.088475659945234\n",
      "6 . ref_yearly_cited_avg : 2.7636660199697363\n",
      "7 . avg_organ_ranking : 1.8603261373121118\n",
      "8 . avg_research_field_impact_factor : 6.8362039709083735\n",
      "9 . avg_journal_impact_factor : 2.0264496920716795\n",
      "10 . multi_eth_dummy : 1.2199605426649862\n",
      "11 . organ_multi_country_dummy : 2.6657469043740902\n",
      "12 . sim : 4.563517197883156\n"
     ]
    }
   ],
   "source": [
    "# drop multi_univ_dummy due to high correlation\n",
    "trunc_columns2 = ['yrs_since_published', 'co_author_num', 'avg_authors_h_index', 'author_odd_num_dummy', 'num_of_ref', 'ref_yearly_cited_avg', 'avg_organ_ranking', 'avg_research_field_impact_factor','avg_journal_impact_factor', 'multi_eth_dummy', 'organ_multi_country_dummy', 'sim']\n",
    "print(\"Dropped: multi_univ_dummy\\n\")\n",
    "print(\"=== VIF values ===\")\n",
    "\n",
    "f = final_df[trunc_columns2]\n",
    "count = 0\n",
    "for i in range(f.shape[1]):\n",
    "    count +=1\n",
    "    vif = variance_inflation_factor(f.values, i)\n",
    "    print(count, \".\", f.columns[i],':',vif)"
   ]
  },
  {
   "cell_type": "markdown",
   "metadata": {},
   "source": [
    "## 3-1. Model Evaluation (Linear Regression)"
   ]
  },
  {
   "cell_type": "code",
   "execution_count": 142,
   "metadata": {},
   "outputs": [
    {
     "name": "stdout",
     "output_type": "stream",
     "text": [
      "=== Full Model Performance in testset ===\n",
      "Adjusted R2 for the full model is: 0.36439\n",
      "RMSE for the full model is: 0.65012\n",
      "\n",
      "=== Truncated Model 1 Performance in testset ===\n",
      "Adjusted R2 for the truncated model is: 0.35526\n",
      "RMSE for the truncated model is: 0.65818\n",
      "\n",
      "=== Truncated Model 2 Performance in testset(trunc1+'organ_country_diversity' dropped) ===\n",
      "Adjusted R2 for the truncated model is: 0.35348\n",
      "RMSE for the truncated model is: 0.6606\n"
     ]
    }
   ],
   "source": [
    "# Regression using all variables\n",
    "from sklearn.metrics import mean_squared_error\n",
    "\n",
    "# Regression using all variables\n",
    "X_train, X_test, y_train, y_test = train_test_split(X, y, test_size = 0.2, random_state = 123)\n",
    "X_train = sm.add_constant(X_train) #intercept added\n",
    "X_test = sm.add_constant(X_test)\n",
    "\n",
    "# fit the model onto the training sample\n",
    "model = sm.OLS(y_train, X_train).fit()\n",
    "y_hat = model.predict(X_test) # make the predictions by the model\n",
    "rmse_full =  np.sqrt(mean_squared_error(y_test, y_hat))\n",
    "\n",
    "# Regression using truncated variables (1)\n",
    "X_train, X_test, y_train, y_test = train_test_split(X[trunc_columns], y, test_size = 0.2, random_state = 123)\n",
    "X_train = sm.add_constant(X_train) #intercept added\n",
    "X_test = sm.add_constant(X_test)\n",
    "\n",
    "model_trunc1 = sm.OLS(y_train, X_train).fit()\n",
    "y_hat_trunc1 = model_trunc1.predict(X_test) # make the predictions by the model\n",
    "rmse_trunc1 =  np.sqrt(mean_squared_error(y_test, y_hat_trunc1))\n",
    "\n",
    "# Regression using truncated variables (2)\n",
    "X_train, X_test, y_train, y_test = train_test_split(X[trunc_columns2], y, test_size = 0.2, random_state = 123)\n",
    "X_train = sm.add_constant(X_train) #intercept added\n",
    "X_test = sm.add_constant(X_test)\n",
    "\n",
    "model_trunc2 = sm.OLS(y_train, X_train).fit()\n",
    "y_hat_trunc2 = model_trunc2.predict(X_test) # make the predictions by the model\n",
    "rmse_trunc2 =  np.sqrt(mean_squared_error(y_test, y_hat_trunc2))\n",
    "\n",
    "\n",
    "print(\"=== Full Model Performance in testset ===\")\n",
    "print(\"Adjusted R2 for the full model is: %s\"  %(round(model.rsquared_adj, 5)))\n",
    "print(\"RMSE for the full model is: %s\\n\" %(round(rmse_full, 5)))\n",
    "\n",
    "print(\"=== Truncated Model 1 Performance in testset ===\")\n",
    "print(\"Adjusted R2 for the truncated model is: %s\" %(round(model_trunc1.rsquared_adj, 5)))\n",
    "print(\"RMSE for the truncated model is: %s\\n\" %(round(rmse_trunc1, 5)))\n",
    "\n",
    "print(\"=== Truncated Model 2 Performance in testset(trunc1+'organ_country_diversity' dropped) ===\")\n",
    "print(\"Adjusted R2 for the truncated model is: %s\" %(round(model_trunc2.rsquared_adj, 5)))\n",
    "print(\"RMSE for the truncated model is: %s\" %(round(rmse_trunc2, 5)))"
   ]
  },
  {
   "cell_type": "code",
   "execution_count": 143,
   "metadata": {},
   "outputs": [
    {
     "name": "stdout",
     "output_type": "stream",
     "text": [
      "\n",
      "===========================================================================================================\n",
      "                                 log_cited_time_per_yr I log_cited_time_per_yr II log_cited_time_per_yr III\n",
      "-----------------------------------------------------------------------------------------------------------\n",
      "author_odd_num_dummy             0.0579                  0.0611                   0.0583                   \n",
      "                                 (0.0473)                (0.0476)                 (0.0477)                 \n",
      "avg_authors_h_index              0.0091***               0.0093***                0.0096***                \n",
      "                                 (0.0021)                (0.0021)                 (0.0021)                 \n",
      "avg_journal_impact_factor        0.0707***               0.0798***                0.0795***                \n",
      "                                 (0.0092)                (0.0087)                 (0.0087)                 \n",
      "avg_organ_cate_impact_factor     0.1642***                                                                 \n",
      "                                 (0.0603)                                                                  \n",
      "avg_organ_ranking                -0.0002*                -0.0003***               -0.0003***               \n",
      "                                 (0.0001)                (0.0001)                 (0.0001)                 \n",
      "avg_research_field_impact_factor 0.0136                  0.0263                   0.0241                   \n",
      "                                 (0.0405)                (0.0403)                 (0.0404)                 \n",
      "co_author_num                    0.0222***               0.0208**                 0.0218***                \n",
      "                                 (0.0082)                (0.0082)                 (0.0082)                 \n",
      "const                            -0.8733***              -0.4249***               -0.3606***               \n",
      "                                 (0.1770)                (0.1316)                 (0.1269)                 \n",
      "keyword_provided_dummy           0.2526**                                                                  \n",
      "                                 (0.1023)                                                                  \n",
      "multi_eth_dummy                  0.0916                  0.0862                   0.0867                   \n",
      "                                 (0.0625)                (0.0629)                 (0.0630)                 \n",
      "multi_univ_dummy                 0.0987                  0.1223*                                           \n",
      "                                 (0.0668)                (0.0670)                                          \n",
      "num_of_ref                       0.0066***               0.0072***                0.0072***                \n",
      "                                 (0.0009)                (0.0009)                 (0.0009)                 \n",
      "organ_multi_country_dummy        0.0790                  0.0755                   0.1268**                 \n",
      "                                 (0.0595)                (0.0597)                 (0.0527)                 \n",
      "ref_yearly_cited_avg             0.0075***               0.0083***                0.0083***                \n",
      "                                 (0.0015)                (0.0015)                 (0.0015)                 \n",
      "sim                              0.3096                  0.2806                   0.3033                   \n",
      "                                 (0.4561)                (0.4518)                 (0.4523)                 \n",
      "yrs_since_published              0.0577***               0.0569***                0.0559***                \n",
      "                                 (0.0055)                (0.0055)                 (0.0055)                 \n",
      "===========================================================================================================\n",
      "Standard errors in parentheses.\n",
      "* p<.1, ** p<.05, ***p<.01\n"
     ]
    }
   ],
   "source": [
    "from statsmodels.iolib.summary2 import summary_col\n",
    "linear_reg = summary_col([model, model_trunc1, model_trunc2],stars=True)\n",
    "print(linear_reg)"
   ]
  },
  {
   "cell_type": "markdown",
   "metadata": {},
   "source": [
    "### 3-2. Negative Binomial Regression"
   ]
  },
  {
   "cell_type": "code",
   "execution_count": 261,
   "metadata": {},
   "outputs": [],
   "source": [
    "NB_reg = smf.glm(formula = \"citation_per_yr ~ yrs_since_published + co_author_num + avg_authors_h_index + author_odd_num_dummy + num_of_ref + ref_yearly_cited_avg + avg_organ_ranking + avg_research_field_impact_factor + avg_journal_impact_factor + multi_eth_dummy + organ_multi_country_dummy+sim\", data=final_df, family=sm.families.NegativeBinomial()).fit()"
   ]
  },
  {
   "cell_type": "markdown",
   "metadata": {},
   "source": [
    "## 3-3. Model Interpretation"
   ]
  },
  {
   "cell_type": "code",
   "execution_count": 264,
   "metadata": {
    "scrolled": false
   },
   "outputs": [
    {
     "data": {
      "text/html": [
       "<table class=\"simpletable\">\n",
       "<caption>Generalized Linear Model Regression Results</caption>\n",
       "<tr>\n",
       "  <th>Dep. Variable:</th>   <td>citation_per_yr</td> <th>  No. Observations:  </th>       <td>  1072</td>      \n",
       "</tr>\n",
       "<tr>\n",
       "  <th>Model:</th>                 <td>GLM</td>       <th>  Df Residuals:      </th>       <td>  1059</td>      \n",
       "</tr>\n",
       "<tr>\n",
       "  <th>Model Family:</th>   <td>NegativeBinomial</td> <th>  Df Model:          </th>       <td>    12</td>      \n",
       "</tr>\n",
       "<tr>\n",
       "  <th>Link Function:</th>         <td>log</td>       <th>  Scale:             </th> <td>0.8971217859440372</td>\n",
       "</tr>\n",
       "<tr>\n",
       "  <th>Method:</th>               <td>IRLS</td>       <th>  Log-Likelihood:    </th>      <td> -2506.6</td>     \n",
       "</tr>\n",
       "<tr>\n",
       "  <th>Date:</th>           <td>Sun, 22 Jul 2018</td> <th>  Deviance:          </th>      <td>  792.54</td>     \n",
       "</tr>\n",
       "<tr>\n",
       "  <th>Time:</th>               <td>22:55:54</td>     <th>  Pearson chi2:      </th>       <td>  950.</td>      \n",
       "</tr>\n",
       "<tr>\n",
       "  <th>No. Iterations:</th>        <td>44</td>        <th>                     </th>          <td> </td>        \n",
       "</tr>\n",
       "</table>\n",
       "<table class=\"simpletable\">\n",
       "<tr>\n",
       "                  <td></td>                    <th>coef</th>     <th>std err</th>      <th>z</th>      <th>P>|z|</th>  <th>[0.025</th>    <th>0.975]</th>  \n",
       "</tr>\n",
       "<tr>\n",
       "  <th>Intercept</th>                        <td>   -1.1497</td> <td>    0.189</td> <td>   -6.087</td> <td> 0.000</td> <td>   -1.520</td> <td>   -0.780</td>\n",
       "</tr>\n",
       "<tr>\n",
       "  <th>yrs_since_published</th>              <td>    0.0845</td> <td>    0.008</td> <td>   10.849</td> <td> 0.000</td> <td>    0.069</td> <td>    0.100</td>\n",
       "</tr>\n",
       "<tr>\n",
       "  <th>co_author_num</th>                    <td>    0.0428</td> <td>    0.011</td> <td>    3.852</td> <td> 0.000</td> <td>    0.021</td> <td>    0.065</td>\n",
       "</tr>\n",
       "<tr>\n",
       "  <th>avg_authors_h_index</th>              <td>    0.0126</td> <td>    0.003</td> <td>    4.328</td> <td> 0.000</td> <td>    0.007</td> <td>    0.018</td>\n",
       "</tr>\n",
       "<tr>\n",
       "  <th>author_odd_num_dummy</th>             <td>    0.0214</td> <td>    0.068</td> <td>    0.317</td> <td> 0.751</td> <td>   -0.111</td> <td>    0.154</td>\n",
       "</tr>\n",
       "<tr>\n",
       "  <th>num_of_ref</th>                       <td>    0.0101</td> <td>    0.001</td> <td>    8.733</td> <td> 0.000</td> <td>    0.008</td> <td>    0.012</td>\n",
       "</tr>\n",
       "<tr>\n",
       "  <th>ref_yearly_cited_avg</th>             <td>    0.0116</td> <td>    0.002</td> <td>    5.491</td> <td> 0.000</td> <td>    0.007</td> <td>    0.016</td>\n",
       "</tr>\n",
       "<tr>\n",
       "  <th>avg_organ_ranking</th>                <td>   -0.0008</td> <td>    0.000</td> <td>   -4.259</td> <td> 0.000</td> <td>   -0.001</td> <td>   -0.000</td>\n",
       "</tr>\n",
       "<tr>\n",
       "  <th>avg_research_field_impact_factor</th> <td>    0.0976</td> <td>    0.057</td> <td>    1.709</td> <td> 0.087</td> <td>   -0.014</td> <td>    0.210</td>\n",
       "</tr>\n",
       "<tr>\n",
       "  <th>avg_journal_impact_factor</th>        <td>    0.1077</td> <td>    0.010</td> <td>   10.308</td> <td> 0.000</td> <td>    0.087</td> <td>    0.128</td>\n",
       "</tr>\n",
       "<tr>\n",
       "  <th>multi_eth_dummy</th>                  <td>    0.1451</td> <td>    0.087</td> <td>    1.663</td> <td> 0.096</td> <td>   -0.026</td> <td>    0.316</td>\n",
       "</tr>\n",
       "<tr>\n",
       "  <th>organ_multi_country_dummy</th>        <td>    0.1747</td> <td>    0.075</td> <td>    2.339</td> <td> 0.019</td> <td>    0.028</td> <td>    0.321</td>\n",
       "</tr>\n",
       "<tr>\n",
       "  <th>sim</th>                              <td>    0.2324</td> <td>    0.642</td> <td>    0.362</td> <td> 0.717</td> <td>   -1.026</td> <td>    1.490</td>\n",
       "</tr>\n",
       "</table>"
      ],
      "text/plain": [
       "<class 'statsmodels.iolib.summary.Summary'>\n",
       "\"\"\"\n",
       "                 Generalized Linear Model Regression Results                  \n",
       "==============================================================================\n",
       "Dep. Variable:        citation_per_yr   No. Observations:                 1072\n",
       "Model:                            GLM   Df Residuals:                     1059\n",
       "Model Family:        NegativeBinomial   Df Model:                           12\n",
       "Link Function:                    log   Scale:              0.8971217859440372\n",
       "Method:                          IRLS   Log-Likelihood:                -2506.6\n",
       "Date:                Sun, 22 Jul 2018   Deviance:                       792.54\n",
       "Time:                        22:55:54   Pearson chi2:                     950.\n",
       "No. Iterations:                    44                                         \n",
       "====================================================================================================\n",
       "                                       coef    std err          z      P>|z|      [0.025      0.975]\n",
       "----------------------------------------------------------------------------------------------------\n",
       "Intercept                           -1.1497      0.189     -6.087      0.000      -1.520      -0.780\n",
       "yrs_since_published                  0.0845      0.008     10.849      0.000       0.069       0.100\n",
       "co_author_num                        0.0428      0.011      3.852      0.000       0.021       0.065\n",
       "avg_authors_h_index                  0.0126      0.003      4.328      0.000       0.007       0.018\n",
       "author_odd_num_dummy                 0.0214      0.068      0.317      0.751      -0.111       0.154\n",
       "num_of_ref                           0.0101      0.001      8.733      0.000       0.008       0.012\n",
       "ref_yearly_cited_avg                 0.0116      0.002      5.491      0.000       0.007       0.016\n",
       "avg_organ_ranking                   -0.0008      0.000     -4.259      0.000      -0.001      -0.000\n",
       "avg_research_field_impact_factor     0.0976      0.057      1.709      0.087      -0.014       0.210\n",
       "avg_journal_impact_factor            0.1077      0.010     10.308      0.000       0.087       0.128\n",
       "multi_eth_dummy                      0.1451      0.087      1.663      0.096      -0.026       0.316\n",
       "organ_multi_country_dummy            0.1747      0.075      2.339      0.019       0.028       0.321\n",
       "sim                                  0.2324      0.642      0.362      0.717      -1.026       1.490\n",
       "====================================================================================================\n",
       "\"\"\""
      ]
     },
     "execution_count": 264,
     "metadata": {},
     "output_type": "execute_result"
    }
   ],
   "source": [
    "NB_reg.summary()"
   ]
  },
  {
   "cell_type": "markdown",
   "metadata": {},
   "source": [
    "## NB Regression vs. Poisson Regression (Similar Result)"
   ]
  },
  {
   "cell_type": "code",
   "execution_count": null,
   "metadata": {},
   "outputs": [],
   "source": [
    "from statsmodels.iolib.summary2 import summary_col\n",
    "Poisson_reg = smf.glm(formula = \"citation_per_yr ~ yrs_since_published + co_author_num + avg_authors_h_index + author_odd_num_dummy + num_of_ref + ref_yearly_cited_avg + avg_organ_ranking + avg_research_field_impact_factor + avg_journal_impact_factor + multi_eth_dummy + organ_multi_country_dummy+sim\", data=final_df, family=sm.families.Poisson()).fit()\n",
    "NB_Poisson = summary_col([NB_reg, Poisson_reg],stars=True)\n",
    "print(\"          cited_time I(NB Regression)     vs.     cited_time II(Poisson Regression)\")\n",
    "print(NB_Poisson)"
   ]
  }
 ],
 "metadata": {
  "kernelspec": {
   "display_name": "Python 3",
   "language": "python",
   "name": "python3"
  },
  "language_info": {
   "codemirror_mode": {
    "name": "ipython",
    "version": 3
   },
   "file_extension": ".py",
   "mimetype": "text/x-python",
   "name": "python",
   "nbconvert_exporter": "python",
   "pygments_lexer": "ipython3",
   "version": "3.6.4"
  }
 },
 "nbformat": 4,
 "nbformat_minor": 2
}
