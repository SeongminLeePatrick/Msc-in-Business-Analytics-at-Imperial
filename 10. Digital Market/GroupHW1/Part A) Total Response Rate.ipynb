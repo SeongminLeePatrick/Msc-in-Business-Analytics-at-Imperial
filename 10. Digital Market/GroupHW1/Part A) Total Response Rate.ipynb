{
 "cells": [
  {
   "cell_type": "code",
   "execution_count": 58,
   "metadata": {},
   "outputs": [],
   "source": [
    "import pandas as pd\n",
    "import numpy as np\n",
    "from sqlalchemy import create_engine\n",
    "import sqlalchemy\n",
    "import datetime\n",
    "import psycopg2"
   ]
  },
  {
   "cell_type": "code",
   "execution_count": 59,
   "metadata": {},
   "outputs": [],
   "source": [
    "pd.set_option('display.max_columns', 500)\n",
    "engine = create_engine('postgresql://postgres:@OPtimus7624@localhost/digitalclass')"
   ]
  },
  {
   "cell_type": "code",
   "execution_count": 60,
   "metadata": {},
   "outputs": [
    {
     "data": {
      "text/html": [
       "<div>\n",
       "<style scoped>\n",
       "    .dataframe tbody tr th:only-of-type {\n",
       "        vertical-align: middle;\n",
       "    }\n",
       "\n",
       "    .dataframe tbody tr th {\n",
       "        vertical-align: top;\n",
       "    }\n",
       "\n",
       "    .dataframe thead th {\n",
       "        text-align: right;\n",
       "    }\n",
       "</style>\n",
       "<table border=\"1\" class=\"dataframe\">\n",
       "  <thead>\n",
       "    <tr style=\"text-align: right;\">\n",
       "      <th></th>\n",
       "      <th>custid</th>\n",
       "      <th>orderdate</th>\n",
       "      <th>n_of_order</th>\n",
       "    </tr>\n",
       "  </thead>\n",
       "  <tbody>\n",
       "    <tr>\n",
       "      <th>0</th>\n",
       "      <td>22120</td>\n",
       "      <td>2004-12-13</td>\n",
       "      <td>1</td>\n",
       "    </tr>\n",
       "    <tr>\n",
       "      <th>1</th>\n",
       "      <td>22120</td>\n",
       "      <td>2006-12-09</td>\n",
       "      <td>1</td>\n",
       "    </tr>\n",
       "    <tr>\n",
       "      <th>2</th>\n",
       "      <td>24436</td>\n",
       "      <td>2007-06-16</td>\n",
       "      <td>1</td>\n",
       "    </tr>\n",
       "    <tr>\n",
       "      <th>3</th>\n",
       "      <td>29278</td>\n",
       "      <td>2003-12-01</td>\n",
       "      <td>1</td>\n",
       "    </tr>\n",
       "    <tr>\n",
       "      <th>4</th>\n",
       "      <td>29278</td>\n",
       "      <td>2004-12-11</td>\n",
       "      <td>1</td>\n",
       "    </tr>\n",
       "  </tbody>\n",
       "</table>\n",
       "</div>"
      ],
      "text/plain": [
       "   custid   orderdate  n_of_order\n",
       "0   22120  2004-12-13           1\n",
       "1   22120  2006-12-09           1\n",
       "2   24436  2007-06-16           1\n",
       "3   29278  2003-12-01           1\n",
       "4   29278  2004-12-11           1"
      ]
     },
     "execution_count": 60,
     "metadata": {},
     "output_type": "execute_result"
    }
   ],
   "source": [
    "pd.read_sql((\"\"\"\n",
    "    DROP VIEW IF EXISTS order_sub cascade;\n",
    "    CREATE OR REPLACE VIEW order_sub \n",
    "    AS SELECT custid, orderdate, COUNT(orderno) AS n_of_order\n",
    "    FROM orders\n",
    "    GROUP BY custid, orderdate;\n",
    "    SELECT *\n",
    "    FROM order_sub\n",
    "    LIMIT 5\n",
    "\"\"\"), engine.connect())"
   ]
  },
  {
   "cell_type": "markdown",
   "metadata": {},
   "source": [
    "# Response Rate by Catalog"
   ]
  },
  {
   "cell_type": "code",
   "execution_count": 61,
   "metadata": {},
   "outputs": [
    {
     "data": {
      "text/html": [
       "<div>\n",
       "<style scoped>\n",
       "    .dataframe tbody tr th:only-of-type {\n",
       "        vertical-align: middle;\n",
       "    }\n",
       "\n",
       "    .dataframe tbody tr th {\n",
       "        vertical-align: top;\n",
       "    }\n",
       "\n",
       "    .dataframe thead th {\n",
       "        text-align: right;\n",
       "    }\n",
       "</style>\n",
       "<table border=\"1\" class=\"dataframe\">\n",
       "  <thead>\n",
       "    <tr style=\"text-align: right;\">\n",
       "      <th></th>\n",
       "      <th>custid</th>\n",
       "      <th>contactdate</th>\n",
       "      <th>catalog_sent</th>\n",
       "    </tr>\n",
       "  </thead>\n",
       "  <tbody>\n",
       "    <tr>\n",
       "      <th>0</th>\n",
       "      <td>22120</td>\n",
       "      <td>2005-04-14</td>\n",
       "      <td>2</td>\n",
       "    </tr>\n",
       "    <tr>\n",
       "      <th>1</th>\n",
       "      <td>22120</td>\n",
       "      <td>2005-09-09</td>\n",
       "      <td>1</td>\n",
       "    </tr>\n",
       "    <tr>\n",
       "      <th>2</th>\n",
       "      <td>22120</td>\n",
       "      <td>2005-10-14</td>\n",
       "      <td>1</td>\n",
       "    </tr>\n",
       "    <tr>\n",
       "      <th>3</th>\n",
       "      <td>22120</td>\n",
       "      <td>2005-11-03</td>\n",
       "      <td>1</td>\n",
       "    </tr>\n",
       "    <tr>\n",
       "      <th>4</th>\n",
       "      <td>22120</td>\n",
       "      <td>2005-11-10</td>\n",
       "      <td>1</td>\n",
       "    </tr>\n",
       "  </tbody>\n",
       "</table>\n",
       "</div>"
      ],
      "text/plain": [
       "   custid contactdate  catalog_sent\n",
       "0   22120  2005-04-14             2\n",
       "1   22120  2005-09-09             1\n",
       "2   22120  2005-10-14             1\n",
       "3   22120  2005-11-03             1\n",
       "4   22120  2005-11-10             1"
      ]
     },
     "execution_count": 61,
     "metadata": {},
     "output_type": "execute_result"
    }
   ],
   "source": [
    "pd.read_sql((\"\"\"\n",
    "    DROP VIEW IF EXISTS contact_c cascade;\n",
    "    CREATE OR REPLACE VIEW contact_c \n",
    "    AS (SELECT custid, contactdate, COUNT(contactdate) AS catalog_sent\n",
    "    FROM contacts \n",
    "    WHERE contacttype = 'C'\n",
    "    GROUP BY custid, contactdate);\n",
    "    SELECT * FROM contact_c LIMIT 5\n",
    "\"\"\"), engine.connect())"
   ]
  },
  {
   "cell_type": "code",
   "execution_count": 62,
   "metadata": {},
   "outputs": [
    {
     "data": {
      "text/html": [
       "<div>\n",
       "<style scoped>\n",
       "    .dataframe tbody tr th:only-of-type {\n",
       "        vertical-align: middle;\n",
       "    }\n",
       "\n",
       "    .dataframe tbody tr th {\n",
       "        vertical-align: top;\n",
       "    }\n",
       "\n",
       "    .dataframe thead th {\n",
       "        text-align: right;\n",
       "    }\n",
       "</style>\n",
       "<table border=\"1\" class=\"dataframe\">\n",
       "  <thead>\n",
       "    <tr style=\"text-align: right;\">\n",
       "      <th></th>\n",
       "      <th>custid</th>\n",
       "      <th>sum_respond_catalog</th>\n",
       "    </tr>\n",
       "  </thead>\n",
       "  <tbody>\n",
       "    <tr>\n",
       "      <th>0</th>\n",
       "      <td>22120</td>\n",
       "      <td>1.0</td>\n",
       "    </tr>\n",
       "    <tr>\n",
       "      <th>1</th>\n",
       "      <td>29278</td>\n",
       "      <td>5.0</td>\n",
       "    </tr>\n",
       "    <tr>\n",
       "      <th>2</th>\n",
       "      <td>176320</td>\n",
       "      <td>3.0</td>\n",
       "    </tr>\n",
       "    <tr>\n",
       "      <th>3</th>\n",
       "      <td>333031</td>\n",
       "      <td>1.0</td>\n",
       "    </tr>\n",
       "    <tr>\n",
       "      <th>4</th>\n",
       "      <td>353683</td>\n",
       "      <td>1.0</td>\n",
       "    </tr>\n",
       "  </tbody>\n",
       "</table>\n",
       "</div>"
      ],
      "text/plain": [
       "   custid  sum_respond_catalog\n",
       "0   22120                  1.0\n",
       "1   29278                  5.0\n",
       "2  176320                  3.0\n",
       "3  333031                  1.0\n",
       "4  353683                  1.0"
      ]
     },
     "execution_count": 62,
     "metadata": {},
     "output_type": "execute_result"
    }
   ],
   "source": [
    "pd.read_sql((\"\"\"\n",
    "    DROP VIEW IF EXISTS respond_catalog cascade;\n",
    "    CREATE OR REPLACE VIEW respond_catalog \n",
    "    AS (SELECT contact_c.custid, SUM(catalog_sent) AS sum_respond_catalog\n",
    "    FROM contact_c\n",
    "    INNER JOIN order_sub\n",
    "    ON contact_c.custid = order_sub.custid\n",
    "    WHERE (order_sub.orderdate - contact_c.contactdate <= 7) AND (order_sub.orderdate - contact_c.contactdate >= 0)\n",
    "    GROUP BY contact_c.custid);\n",
    "    SELECT *\n",
    "    FROM respond_catalog\n",
    "    LIMIT 5\n",
    "\"\"\"), engine.connect())"
   ]
  },
  {
   "cell_type": "markdown",
   "metadata": {},
   "source": [
    "## Date Difference: 7 days"
   ]
  },
  {
   "cell_type": "code",
   "execution_count": 63,
   "metadata": {
    "scrolled": true
   },
   "outputs": [
    {
     "data": {
      "text/html": [
       "<div>\n",
       "<style scoped>\n",
       "    .dataframe tbody tr th:only-of-type {\n",
       "        vertical-align: middle;\n",
       "    }\n",
       "\n",
       "    .dataframe tbody tr th {\n",
       "        vertical-align: top;\n",
       "    }\n",
       "\n",
       "    .dataframe thead th {\n",
       "        text-align: right;\n",
       "    }\n",
       "</style>\n",
       "<table border=\"1\" class=\"dataframe\">\n",
       "  <thead>\n",
       "    <tr style=\"text-align: right;\">\n",
       "      <th></th>\n",
       "      <th>responded_catalog</th>\n",
       "      <th>ttl_catalog_sent</th>\n",
       "      <th>response_rate_catalog</th>\n",
       "    </tr>\n",
       "  </thead>\n",
       "  <tbody>\n",
       "    <tr>\n",
       "      <th>0</th>\n",
       "      <td>19744.0</td>\n",
       "      <td>1021014</td>\n",
       "      <td>0.019338</td>\n",
       "    </tr>\n",
       "  </tbody>\n",
       "</table>\n",
       "</div>"
      ],
      "text/plain": [
       "   responded_catalog  ttl_catalog_sent  response_rate_catalog\n",
       "0            19744.0           1021014               0.019338"
      ]
     },
     "execution_count": 63,
     "metadata": {},
     "output_type": "execute_result"
    }
   ],
   "source": [
    "pd.read_sql((\"\"\"\n",
    "    SELECT SUM(catalog_sent) AS responded_catalog, \n",
    "    (SELECT COUNT(*) FROM contacts WHERE contacttype = 'C') AS ttl_catalog_sent,\n",
    "    SUM(catalog_sent)/ (SELECT COUNT(*) FROM contacts WHERE contacttype = 'C') AS response_rate_catalog\n",
    "    FROM contact_c\n",
    "    INNER JOIN order_sub\n",
    "    ON contact_c.custid = order_sub.custid\n",
    "    WHERE (order_sub.orderdate - contact_c.contactdate <=  7) AND (order_sub.orderdate - contact_c.contactdate >= 0)\n",
    "\"\"\"), engine.connect())"
   ]
  },
  {
   "cell_type": "code",
   "execution_count": 64,
   "metadata": {},
   "outputs": [
    {
     "data": {
      "text/html": [
       "<div>\n",
       "<style scoped>\n",
       "    .dataframe tbody tr th:only-of-type {\n",
       "        vertical-align: middle;\n",
       "    }\n",
       "\n",
       "    .dataframe tbody tr th {\n",
       "        vertical-align: top;\n",
       "    }\n",
       "\n",
       "    .dataframe thead th {\n",
       "        text-align: right;\n",
       "    }\n",
       "</style>\n",
       "<table border=\"1\" class=\"dataframe\">\n",
       "  <thead>\n",
       "    <tr style=\"text-align: right;\">\n",
       "      <th></th>\n",
       "      <th>custid</th>\n",
       "      <th>sum_respond_catalog</th>\n",
       "    </tr>\n",
       "  </thead>\n",
       "  <tbody>\n",
       "    <tr>\n",
       "      <th>0</th>\n",
       "      <td>22120</td>\n",
       "      <td>1.0</td>\n",
       "    </tr>\n",
       "    <tr>\n",
       "      <th>1</th>\n",
       "      <td>29278</td>\n",
       "      <td>6.0</td>\n",
       "    </tr>\n",
       "    <tr>\n",
       "      <th>2</th>\n",
       "      <td>176320</td>\n",
       "      <td>4.0</td>\n",
       "    </tr>\n",
       "    <tr>\n",
       "      <th>3</th>\n",
       "      <td>333031</td>\n",
       "      <td>1.0</td>\n",
       "    </tr>\n",
       "    <tr>\n",
       "      <th>4</th>\n",
       "      <td>353683</td>\n",
       "      <td>2.0</td>\n",
       "    </tr>\n",
       "  </tbody>\n",
       "</table>\n",
       "</div>"
      ],
      "text/plain": [
       "   custid  sum_respond_catalog\n",
       "0   22120                  1.0\n",
       "1   29278                  6.0\n",
       "2  176320                  4.0\n",
       "3  333031                  1.0\n",
       "4  353683                  2.0"
      ]
     },
     "execution_count": 64,
     "metadata": {},
     "output_type": "execute_result"
    }
   ],
   "source": [
    "pd.read_sql((\"\"\"\n",
    "    DROP VIEW IF EXISTS respond_catalog cascade;\n",
    "    CREATE OR REPLACE VIEW respond_catalog \n",
    "    AS (SELECT contact_c.custid, SUM(catalog_sent) AS sum_respond_catalog\n",
    "    FROM contact_c\n",
    "    INNER JOIN order_sub\n",
    "    ON contact_c.custid = order_sub.custid\n",
    "    WHERE (order_sub.orderdate - contact_c.contactdate <= 10) AND (order_sub.orderdate - contact_c.contactdate >= 0)\n",
    "    GROUP BY contact_c.custid);\n",
    "    SELECT *\n",
    "    FROM respond_catalog\n",
    "    LIMIT 5\n",
    "\"\"\"), engine.connect())"
   ]
  },
  {
   "cell_type": "markdown",
   "metadata": {},
   "source": [
    "## Date Difference: 10 days"
   ]
  },
  {
   "cell_type": "code",
   "execution_count": 65,
   "metadata": {
    "scrolled": true
   },
   "outputs": [
    {
     "data": {
      "text/html": [
       "<div>\n",
       "<style scoped>\n",
       "    .dataframe tbody tr th:only-of-type {\n",
       "        vertical-align: middle;\n",
       "    }\n",
       "\n",
       "    .dataframe tbody tr th {\n",
       "        vertical-align: top;\n",
       "    }\n",
       "\n",
       "    .dataframe thead th {\n",
       "        text-align: right;\n",
       "    }\n",
       "</style>\n",
       "<table border=\"1\" class=\"dataframe\">\n",
       "  <thead>\n",
       "    <tr style=\"text-align: right;\">\n",
       "      <th></th>\n",
       "      <th>responded_catalog</th>\n",
       "      <th>ttl_catalog_sent</th>\n",
       "      <th>response_rate_catalog</th>\n",
       "    </tr>\n",
       "  </thead>\n",
       "  <tbody>\n",
       "    <tr>\n",
       "      <th>0</th>\n",
       "      <td>27153.0</td>\n",
       "      <td>1021014</td>\n",
       "      <td>0.026594</td>\n",
       "    </tr>\n",
       "  </tbody>\n",
       "</table>\n",
       "</div>"
      ],
      "text/plain": [
       "   responded_catalog  ttl_catalog_sent  response_rate_catalog\n",
       "0            27153.0           1021014               0.026594"
      ]
     },
     "execution_count": 65,
     "metadata": {},
     "output_type": "execute_result"
    }
   ],
   "source": [
    "pd.read_sql((\"\"\"\n",
    "    SELECT SUM(catalog_sent) AS responded_catalog, \n",
    "    (SELECT COUNT(*) FROM contacts WHERE contacttype = 'C') AS ttl_catalog_sent,\n",
    "    SUM(catalog_sent)/ (SELECT COUNT(*) FROM contacts WHERE contacttype = 'C') AS response_rate_catalog\n",
    "    FROM contact_c\n",
    "    INNER JOIN order_sub\n",
    "    ON contact_c.custid = order_sub.custid\n",
    "    WHERE (order_sub.orderdate - contact_c.contactdate <=  10) AND (order_sub.orderdate - contact_c.contactdate >= 0)\n",
    "\"\"\"), engine.connect())"
   ]
  },
  {
   "cell_type": "code",
   "execution_count": 66,
   "metadata": {},
   "outputs": [
    {
     "data": {
      "text/html": [
       "<div>\n",
       "<style scoped>\n",
       "    .dataframe tbody tr th:only-of-type {\n",
       "        vertical-align: middle;\n",
       "    }\n",
       "\n",
       "    .dataframe tbody tr th {\n",
       "        vertical-align: top;\n",
       "    }\n",
       "\n",
       "    .dataframe thead th {\n",
       "        text-align: right;\n",
       "    }\n",
       "</style>\n",
       "<table border=\"1\" class=\"dataframe\">\n",
       "  <thead>\n",
       "    <tr style=\"text-align: right;\">\n",
       "      <th></th>\n",
       "      <th>custid</th>\n",
       "      <th>sum_respond_catalog</th>\n",
       "    </tr>\n",
       "  </thead>\n",
       "  <tbody>\n",
       "    <tr>\n",
       "      <th>0</th>\n",
       "      <td>22120</td>\n",
       "      <td>1.0</td>\n",
       "    </tr>\n",
       "    <tr>\n",
       "      <th>1</th>\n",
       "      <td>29278</td>\n",
       "      <td>6.0</td>\n",
       "    </tr>\n",
       "    <tr>\n",
       "      <th>2</th>\n",
       "      <td>176320</td>\n",
       "      <td>4.0</td>\n",
       "    </tr>\n",
       "    <tr>\n",
       "      <th>3</th>\n",
       "      <td>262695</td>\n",
       "      <td>1.0</td>\n",
       "    </tr>\n",
       "    <tr>\n",
       "      <th>4</th>\n",
       "      <td>333031</td>\n",
       "      <td>2.0</td>\n",
       "    </tr>\n",
       "  </tbody>\n",
       "</table>\n",
       "</div>"
      ],
      "text/plain": [
       "   custid  sum_respond_catalog\n",
       "0   22120                  1.0\n",
       "1   29278                  6.0\n",
       "2  176320                  4.0\n",
       "3  262695                  1.0\n",
       "4  333031                  2.0"
      ]
     },
     "execution_count": 66,
     "metadata": {},
     "output_type": "execute_result"
    }
   ],
   "source": [
    "pd.read_sql((\"\"\"\n",
    "    DROP VIEW IF EXISTS respond_catalog cascade;\n",
    "    CREATE OR REPLACE VIEW respond_catalog \n",
    "    AS (SELECT contact_c.custid, SUM(catalog_sent) AS sum_respond_catalog\n",
    "    FROM contact_c\n",
    "    INNER JOIN order_sub\n",
    "    ON contact_c.custid = order_sub.custid\n",
    "    WHERE (order_sub.orderdate - contact_c.contactdate <= 14) AND (order_sub.orderdate - contact_c.contactdate >= 0)\n",
    "    GROUP BY contact_c.custid);\n",
    "    SELECT *\n",
    "    FROM respond_catalog\n",
    "    LIMIT 5\n",
    "\"\"\"), engine.connect())"
   ]
  },
  {
   "cell_type": "markdown",
   "metadata": {},
   "source": [
    "## Date Difference: 14 days"
   ]
  },
  {
   "cell_type": "code",
   "execution_count": 67,
   "metadata": {},
   "outputs": [
    {
     "data": {
      "text/html": [
       "<div>\n",
       "<style scoped>\n",
       "    .dataframe tbody tr th:only-of-type {\n",
       "        vertical-align: middle;\n",
       "    }\n",
       "\n",
       "    .dataframe tbody tr th {\n",
       "        vertical-align: top;\n",
       "    }\n",
       "\n",
       "    .dataframe thead th {\n",
       "        text-align: right;\n",
       "    }\n",
       "</style>\n",
       "<table border=\"1\" class=\"dataframe\">\n",
       "  <thead>\n",
       "    <tr style=\"text-align: right;\">\n",
       "      <th></th>\n",
       "      <th>responded_catalog</th>\n",
       "      <th>ttl_catalog_sent</th>\n",
       "      <th>response_rate_catalog</th>\n",
       "    </tr>\n",
       "  </thead>\n",
       "  <tbody>\n",
       "    <tr>\n",
       "      <th>0</th>\n",
       "      <td>38080.0</td>\n",
       "      <td>1021014</td>\n",
       "      <td>0.037296</td>\n",
       "    </tr>\n",
       "  </tbody>\n",
       "</table>\n",
       "</div>"
      ],
      "text/plain": [
       "   responded_catalog  ttl_catalog_sent  response_rate_catalog\n",
       "0            38080.0           1021014               0.037296"
      ]
     },
     "execution_count": 67,
     "metadata": {},
     "output_type": "execute_result"
    }
   ],
   "source": [
    "pd.read_sql((\"\"\"\n",
    "    SELECT SUM(catalog_sent) AS responded_catalog, \n",
    "    (SELECT COUNT(*) FROM contacts WHERE contacttype = 'C') AS ttl_catalog_sent,\n",
    "    SUM(catalog_sent)/ (SELECT COUNT(*) FROM contacts WHERE contacttype = 'C') AS response_rate_catalog\n",
    "    FROM contact_c\n",
    "    INNER JOIN order_sub\n",
    "    ON contact_c.custid = order_sub.custid\n",
    "    WHERE (order_sub.orderdate - contact_c.contactdate <=  14) AND (order_sub.orderdate - contact_c.contactdate >= 0)\n",
    "\"\"\"), engine.connect())"
   ]
  },
  {
   "cell_type": "markdown",
   "metadata": {},
   "source": [
    "# Response Rate by Email"
   ]
  },
  {
   "cell_type": "code",
   "execution_count": 68,
   "metadata": {},
   "outputs": [
    {
     "data": {
      "text/html": [
       "<div>\n",
       "<style scoped>\n",
       "    .dataframe tbody tr th:only-of-type {\n",
       "        vertical-align: middle;\n",
       "    }\n",
       "\n",
       "    .dataframe tbody tr th {\n",
       "        vertical-align: top;\n",
       "    }\n",
       "\n",
       "    .dataframe thead th {\n",
       "        text-align: right;\n",
       "    }\n",
       "</style>\n",
       "<table border=\"1\" class=\"dataframe\">\n",
       "  <thead>\n",
       "    <tr style=\"text-align: right;\">\n",
       "      <th></th>\n",
       "      <th>custid</th>\n",
       "      <th>contactdate</th>\n",
       "      <th>email_sent</th>\n",
       "    </tr>\n",
       "  </thead>\n",
       "  <tbody>\n",
       "    <tr>\n",
       "      <th>0</th>\n",
       "      <td>24436</td>\n",
       "      <td>2006-03-21</td>\n",
       "      <td>1</td>\n",
       "    </tr>\n",
       "    <tr>\n",
       "      <th>1</th>\n",
       "      <td>24436</td>\n",
       "      <td>2006-04-03</td>\n",
       "      <td>1</td>\n",
       "    </tr>\n",
       "    <tr>\n",
       "      <th>2</th>\n",
       "      <td>24436</td>\n",
       "      <td>2006-04-06</td>\n",
       "      <td>1</td>\n",
       "    </tr>\n",
       "    <tr>\n",
       "      <th>3</th>\n",
       "      <td>24436</td>\n",
       "      <td>2006-04-27</td>\n",
       "      <td>1</td>\n",
       "    </tr>\n",
       "    <tr>\n",
       "      <th>4</th>\n",
       "      <td>24436</td>\n",
       "      <td>2006-05-04</td>\n",
       "      <td>1</td>\n",
       "    </tr>\n",
       "  </tbody>\n",
       "</table>\n",
       "</div>"
      ],
      "text/plain": [
       "   custid contactdate  email_sent\n",
       "0   24436  2006-03-21           1\n",
       "1   24436  2006-04-03           1\n",
       "2   24436  2006-04-06           1\n",
       "3   24436  2006-04-27           1\n",
       "4   24436  2006-05-04           1"
      ]
     },
     "execution_count": 68,
     "metadata": {},
     "output_type": "execute_result"
    }
   ],
   "source": [
    "pd.read_sql((\"\"\"\n",
    "    DROP VIEW IF EXISTS contact_e cascade;\n",
    "    CREATE OR REPLACE VIEW contact_e \n",
    "    AS (SELECT custid, contactdate, COUNT(contactdate) AS email_sent\n",
    "    FROM contacts \n",
    "    WHERE contacttype = 'E'\n",
    "    GROUP BY custid, contactdate);\n",
    "    SELECT * \n",
    "    FROM contact_e\n",
    "    LIMIT 5;\n",
    "\"\"\"), engine.connect()) "
   ]
  },
  {
   "cell_type": "code",
   "execution_count": 69,
   "metadata": {},
   "outputs": [
    {
     "data": {
      "text/html": [
       "<div>\n",
       "<style scoped>\n",
       "    .dataframe tbody tr th:only-of-type {\n",
       "        vertical-align: middle;\n",
       "    }\n",
       "\n",
       "    .dataframe tbody tr th {\n",
       "        vertical-align: top;\n",
       "    }\n",
       "\n",
       "    .dataframe thead th {\n",
       "        text-align: right;\n",
       "    }\n",
       "</style>\n",
       "<table border=\"1\" class=\"dataframe\">\n",
       "  <thead>\n",
       "    <tr style=\"text-align: right;\">\n",
       "      <th></th>\n",
       "      <th>custid</th>\n",
       "      <th>sum_respond_email</th>\n",
       "    </tr>\n",
       "  </thead>\n",
       "  <tbody>\n",
       "    <tr>\n",
       "      <th>0</th>\n",
       "      <td>24436</td>\n",
       "      <td>1.0</td>\n",
       "    </tr>\n",
       "    <tr>\n",
       "      <th>1</th>\n",
       "      <td>206591</td>\n",
       "      <td>2.0</td>\n",
       "    </tr>\n",
       "    <tr>\n",
       "      <th>2</th>\n",
       "      <td>229873</td>\n",
       "      <td>4.0</td>\n",
       "    </tr>\n",
       "    <tr>\n",
       "      <th>3</th>\n",
       "      <td>361208</td>\n",
       "      <td>12.0</td>\n",
       "    </tr>\n",
       "    <tr>\n",
       "      <th>4</th>\n",
       "      <td>568555</td>\n",
       "      <td>6.0</td>\n",
       "    </tr>\n",
       "  </tbody>\n",
       "</table>\n",
       "</div>"
      ],
      "text/plain": [
       "   custid  sum_respond_email\n",
       "0   24436                1.0\n",
       "1  206591                2.0\n",
       "2  229873                4.0\n",
       "3  361208               12.0\n",
       "4  568555                6.0"
      ]
     },
     "execution_count": 69,
     "metadata": {},
     "output_type": "execute_result"
    }
   ],
   "source": [
    "pd.read_sql((\"\"\"\n",
    "    DROP VIEW IF EXISTS respond_email cascade;\n",
    "    CREATE OR REPLACE VIEW respond_email \n",
    "    AS (SELECT contact_e.custid, SUM(email_sent) AS sum_respond_email\n",
    "    FROM contact_e\n",
    "    INNER JOIN order_sub\n",
    "    ON contact_e.custid = order_sub.custid\n",
    "    WHERE (order_sub.orderdate - contact_e.contactdate <=  7) AND (order_sub.orderdate - contact_e.contactdate >= 0)\n",
    "    GROUP BY contact_e.custid);\n",
    "    SELECT *\n",
    "    FROM respond_email\n",
    "    LIMIT 5\n",
    "\"\"\"), engine.connect())"
   ]
  },
  {
   "cell_type": "markdown",
   "metadata": {},
   "source": [
    "## Date Difference: 7 days"
   ]
  },
  {
   "cell_type": "code",
   "execution_count": 70,
   "metadata": {},
   "outputs": [
    {
     "data": {
      "text/html": [
       "<div>\n",
       "<style scoped>\n",
       "    .dataframe tbody tr th:only-of-type {\n",
       "        vertical-align: middle;\n",
       "    }\n",
       "\n",
       "    .dataframe tbody tr th {\n",
       "        vertical-align: top;\n",
       "    }\n",
       "\n",
       "    .dataframe thead th {\n",
       "        text-align: right;\n",
       "    }\n",
       "</style>\n",
       "<table border=\"1\" class=\"dataframe\">\n",
       "  <thead>\n",
       "    <tr style=\"text-align: right;\">\n",
       "      <th></th>\n",
       "      <th>responded_catalog</th>\n",
       "      <th>ttl_email_sent</th>\n",
       "      <th>response_rate_email</th>\n",
       "    </tr>\n",
       "  </thead>\n",
       "  <tbody>\n",
       "    <tr>\n",
       "      <th>0</th>\n",
       "      <td>46142.0</td>\n",
       "      <td>2368315</td>\n",
       "      <td>0.019483</td>\n",
       "    </tr>\n",
       "  </tbody>\n",
       "</table>\n",
       "</div>"
      ],
      "text/plain": [
       "   responded_catalog  ttl_email_sent  response_rate_email\n",
       "0            46142.0         2368315             0.019483"
      ]
     },
     "execution_count": 70,
     "metadata": {},
     "output_type": "execute_result"
    }
   ],
   "source": [
    "pd.read_sql((\"\"\"\n",
    "    SELECT SUM(email_sent) AS responded_catalog, \n",
    "    (SELECT COUNT(*) FROM contacts WHERE contacttype = 'E') AS ttl_email_sent,\n",
    "    SUM(email_sent)/ (SELECT COUNT(*) FROM contacts WHERE contacttype = 'E') AS response_rate_email\n",
    "    FROM contact_e\n",
    "    INNER JOIN order_sub\n",
    "    ON contact_e.custid = order_sub.custid\n",
    "    WHERE (order_sub.orderdate - contact_e.contactdate <=  7) AND (order_sub.orderdate - contact_e.contactdate >= 0)\n",
    "\"\"\"), engine.connect())"
   ]
  },
  {
   "cell_type": "code",
   "execution_count": 71,
   "metadata": {},
   "outputs": [
    {
     "data": {
      "text/html": [
       "<div>\n",
       "<style scoped>\n",
       "    .dataframe tbody tr th:only-of-type {\n",
       "        vertical-align: middle;\n",
       "    }\n",
       "\n",
       "    .dataframe tbody tr th {\n",
       "        vertical-align: top;\n",
       "    }\n",
       "\n",
       "    .dataframe thead th {\n",
       "        text-align: right;\n",
       "    }\n",
       "</style>\n",
       "<table border=\"1\" class=\"dataframe\">\n",
       "  <thead>\n",
       "    <tr style=\"text-align: right;\">\n",
       "      <th></th>\n",
       "      <th>custid</th>\n",
       "      <th>sum_respond_email</th>\n",
       "    </tr>\n",
       "  </thead>\n",
       "  <tbody>\n",
       "    <tr>\n",
       "      <th>0</th>\n",
       "      <td>24436</td>\n",
       "      <td>2.0</td>\n",
       "    </tr>\n",
       "    <tr>\n",
       "      <th>1</th>\n",
       "      <td>206591</td>\n",
       "      <td>2.0</td>\n",
       "    </tr>\n",
       "    <tr>\n",
       "      <th>2</th>\n",
       "      <td>229873</td>\n",
       "      <td>5.0</td>\n",
       "    </tr>\n",
       "    <tr>\n",
       "      <th>3</th>\n",
       "      <td>361208</td>\n",
       "      <td>15.0</td>\n",
       "    </tr>\n",
       "    <tr>\n",
       "      <th>4</th>\n",
       "      <td>568555</td>\n",
       "      <td>8.0</td>\n",
       "    </tr>\n",
       "  </tbody>\n",
       "</table>\n",
       "</div>"
      ],
      "text/plain": [
       "   custid  sum_respond_email\n",
       "0   24436                2.0\n",
       "1  206591                2.0\n",
       "2  229873                5.0\n",
       "3  361208               15.0\n",
       "4  568555                8.0"
      ]
     },
     "execution_count": 71,
     "metadata": {},
     "output_type": "execute_result"
    }
   ],
   "source": [
    "pd.read_sql((\"\"\"\n",
    "    DROP VIEW IF EXISTS respond_email cascade;\n",
    "    CREATE OR REPLACE VIEW respond_email \n",
    "    AS (SELECT contact_e.custid, SUM(email_sent) AS sum_respond_email\n",
    "    FROM contact_e\n",
    "    INNER JOIN order_sub\n",
    "    ON contact_e.custid = order_sub.custid\n",
    "    WHERE (order_sub.orderdate - contact_e.contactdate <=  10) AND (order_sub.orderdate - contact_e.contactdate >= 0)\n",
    "    GROUP BY contact_e.custid);\n",
    "    SELECT *\n",
    "    FROM respond_email\n",
    "    LIMIT 5\n",
    "\"\"\"), engine.connect())"
   ]
  },
  {
   "cell_type": "markdown",
   "metadata": {},
   "source": [
    "## Date Difference: 10 days"
   ]
  },
  {
   "cell_type": "code",
   "execution_count": 72,
   "metadata": {},
   "outputs": [
    {
     "data": {
      "text/html": [
       "<div>\n",
       "<style scoped>\n",
       "    .dataframe tbody tr th:only-of-type {\n",
       "        vertical-align: middle;\n",
       "    }\n",
       "\n",
       "    .dataframe tbody tr th {\n",
       "        vertical-align: top;\n",
       "    }\n",
       "\n",
       "    .dataframe thead th {\n",
       "        text-align: right;\n",
       "    }\n",
       "</style>\n",
       "<table border=\"1\" class=\"dataframe\">\n",
       "  <thead>\n",
       "    <tr style=\"text-align: right;\">\n",
       "      <th></th>\n",
       "      <th>responded_catalog</th>\n",
       "      <th>ttl_email_sent</th>\n",
       "      <th>response_rate_email</th>\n",
       "    </tr>\n",
       "  </thead>\n",
       "  <tbody>\n",
       "    <tr>\n",
       "      <th>0</th>\n",
       "      <td>61145.0</td>\n",
       "      <td>2368315</td>\n",
       "      <td>0.025818</td>\n",
       "    </tr>\n",
       "  </tbody>\n",
       "</table>\n",
       "</div>"
      ],
      "text/plain": [
       "   responded_catalog  ttl_email_sent  response_rate_email\n",
       "0            61145.0         2368315             0.025818"
      ]
     },
     "execution_count": 72,
     "metadata": {},
     "output_type": "execute_result"
    }
   ],
   "source": [
    "pd.read_sql((\"\"\"\n",
    "    SELECT SUM(email_sent) AS responded_catalog, \n",
    "    (SELECT COUNT(*) FROM contacts WHERE contacttype = 'E') AS ttl_email_sent,\n",
    "    SUM(email_sent)/ (SELECT COUNT(*) FROM contacts WHERE contacttype = 'E') AS response_rate_email\n",
    "    FROM contact_e\n",
    "    INNER JOIN order_sub\n",
    "    ON contact_e.custid = order_sub.custid\n",
    "    WHERE (order_sub.orderdate - contact_e.contactdate <=  10) AND (order_sub.orderdate - contact_e.contactdate >= 0)\n",
    "\"\"\"), engine.connect())"
   ]
  },
  {
   "cell_type": "code",
   "execution_count": 73,
   "metadata": {},
   "outputs": [
    {
     "data": {
      "text/html": [
       "<div>\n",
       "<style scoped>\n",
       "    .dataframe tbody tr th:only-of-type {\n",
       "        vertical-align: middle;\n",
       "    }\n",
       "\n",
       "    .dataframe tbody tr th {\n",
       "        vertical-align: top;\n",
       "    }\n",
       "\n",
       "    .dataframe thead th {\n",
       "        text-align: right;\n",
       "    }\n",
       "</style>\n",
       "<table border=\"1\" class=\"dataframe\">\n",
       "  <thead>\n",
       "    <tr style=\"text-align: right;\">\n",
       "      <th></th>\n",
       "      <th>custid</th>\n",
       "      <th>sum_respond_email</th>\n",
       "    </tr>\n",
       "  </thead>\n",
       "  <tbody>\n",
       "    <tr>\n",
       "      <th>0</th>\n",
       "      <td>24436</td>\n",
       "      <td>3.0</td>\n",
       "    </tr>\n",
       "    <tr>\n",
       "      <th>1</th>\n",
       "      <td>206591</td>\n",
       "      <td>4.0</td>\n",
       "    </tr>\n",
       "    <tr>\n",
       "      <th>2</th>\n",
       "      <td>229873</td>\n",
       "      <td>8.0</td>\n",
       "    </tr>\n",
       "    <tr>\n",
       "      <th>3</th>\n",
       "      <td>361208</td>\n",
       "      <td>16.0</td>\n",
       "    </tr>\n",
       "    <tr>\n",
       "      <th>4</th>\n",
       "      <td>568555</td>\n",
       "      <td>9.0</td>\n",
       "    </tr>\n",
       "  </tbody>\n",
       "</table>\n",
       "</div>"
      ],
      "text/plain": [
       "   custid  sum_respond_email\n",
       "0   24436                3.0\n",
       "1  206591                4.0\n",
       "2  229873                8.0\n",
       "3  361208               16.0\n",
       "4  568555                9.0"
      ]
     },
     "execution_count": 73,
     "metadata": {},
     "output_type": "execute_result"
    }
   ],
   "source": [
    "pd.read_sql((\"\"\"\n",
    "    DROP VIEW IF EXISTS respond_email cascade;\n",
    "    CREATE OR REPLACE VIEW respond_email \n",
    "    AS (SELECT contact_e.custid, SUM(email_sent) AS sum_respond_email\n",
    "    FROM contact_e\n",
    "    INNER JOIN order_sub\n",
    "    ON contact_e.custid = order_sub.custid\n",
    "    WHERE (order_sub.orderdate - contact_e.contactdate <=  14) AND (order_sub.orderdate - contact_e.contactdate >= 0)\n",
    "    GROUP BY contact_e.custid);\n",
    "    SELECT *\n",
    "    FROM respond_email\n",
    "    LIMIT 5\n",
    "\"\"\"), engine.connect())"
   ]
  },
  {
   "cell_type": "markdown",
   "metadata": {},
   "source": [
    "## Date Difference: 14 days"
   ]
  },
  {
   "cell_type": "code",
   "execution_count": 74,
   "metadata": {},
   "outputs": [
    {
     "data": {
      "text/html": [
       "<div>\n",
       "<style scoped>\n",
       "    .dataframe tbody tr th:only-of-type {\n",
       "        vertical-align: middle;\n",
       "    }\n",
       "\n",
       "    .dataframe tbody tr th {\n",
       "        vertical-align: top;\n",
       "    }\n",
       "\n",
       "    .dataframe thead th {\n",
       "        text-align: right;\n",
       "    }\n",
       "</style>\n",
       "<table border=\"1\" class=\"dataframe\">\n",
       "  <thead>\n",
       "    <tr style=\"text-align: right;\">\n",
       "      <th></th>\n",
       "      <th>responded_catalog</th>\n",
       "      <th>ttl_email_sent</th>\n",
       "      <th>response_rate_email</th>\n",
       "    </tr>\n",
       "  </thead>\n",
       "  <tbody>\n",
       "    <tr>\n",
       "      <th>0</th>\n",
       "      <td>80293.0</td>\n",
       "      <td>2368315</td>\n",
       "      <td>0.033903</td>\n",
       "    </tr>\n",
       "  </tbody>\n",
       "</table>\n",
       "</div>"
      ],
      "text/plain": [
       "   responded_catalog  ttl_email_sent  response_rate_email\n",
       "0            80293.0         2368315             0.033903"
      ]
     },
     "execution_count": 74,
     "metadata": {},
     "output_type": "execute_result"
    }
   ],
   "source": [
    "pd.read_sql((\"\"\"\n",
    "    SELECT SUM(email_sent) AS responded_catalog, \n",
    "    (SELECT COUNT(*) FROM contacts WHERE contacttype = 'E') AS ttl_email_sent,\n",
    "    SUM(email_sent)/ (SELECT COUNT(*) FROM contacts WHERE contacttype = 'E') AS response_rate_email\n",
    "    FROM contact_e\n",
    "    INNER JOIN order_sub\n",
    "    ON contact_e.custid = order_sub.custid\n",
    "    WHERE (order_sub.orderdate - contact_e.contactdate <=  14) AND (order_sub.orderdate - contact_e.contactdate >= 0)\n",
    "\"\"\"), engine.connect())"
   ]
  }
 ],
 "metadata": {
  "kernelspec": {
   "display_name": "Python 3",
   "language": "python",
   "name": "python3"
  },
  "language_info": {
   "codemirror_mode": {
    "name": "ipython",
    "version": 3
   },
   "file_extension": ".py",
   "mimetype": "text/x-python",
   "name": "python",
   "nbconvert_exporter": "python",
   "pygments_lexer": "ipython3",
   "version": "3.6.4"
  }
 },
 "nbformat": 4,
 "nbformat_minor": 2
}
