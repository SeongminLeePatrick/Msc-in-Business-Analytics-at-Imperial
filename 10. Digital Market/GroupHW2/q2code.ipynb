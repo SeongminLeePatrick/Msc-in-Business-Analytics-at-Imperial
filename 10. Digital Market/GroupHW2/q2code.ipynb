{
 "cells": [
  {
   "cell_type": "code",
   "execution_count": 25,
   "metadata": {},
   "outputs": [],
   "source": [
    "import pandas as pd\n",
    "import numpy as np\n",
    "import matplotlib.pyplot as plt\n",
    "import datetime\n",
    "from sklearn.linear_model import LinearRegression, LassoCV, ElasticNetCV\n",
    "from sklearn.neighbors import KNeighborsClassifier\n",
    "from sklearn.metrics import mean_squared_error, accuracy_score\n",
    "from sklearn.utils import shuffle\n",
    "from sklearn.model_selection import RandomizedSearchCV, TimeSeriesSplit, cross_val_score\n",
    "from sklearn.ensemble import RandomForestClassifier\n",
    "from scipy.stats import randint as sp_randint"
   ]
  },
  {
   "cell_type": "code",
   "execution_count": 2,
   "metadata": {},
   "outputs": [],
   "source": [
    "train_data = pd.read_excel('churn_HW2.xlsx', sheet_name  = 'training data set')\n",
    "test_data = pd.read_excel('churn_HW2.xlsx', sheet_name  = 'test data set' )\n",
    "train_test_df = pd.concat([train_data, test_data], axis = 0)"
   ]
  },
  {
   "cell_type": "markdown",
   "metadata": {},
   "source": [
    "## Preprocessing"
   ]
  },
  {
   "cell_type": "code",
   "execution_count": 3,
   "metadata": {
    "scrolled": true
   },
   "outputs": [
    {
     "data": {
      "text/plain": [
       "custid        20\n",
       "retained       0\n",
       "created       20\n",
       "firstorder    20\n",
       "lastorder     20\n",
       "esent          0\n",
       "eopenrate      0\n",
       "eclickrate     0\n",
       "avgorder       0\n",
       "ordfreq        0\n",
       "paperless      0\n",
       "refill         0\n",
       "doorstep       0\n",
       "train          0\n",
       "favday         0\n",
       "city           0\n",
       "dtype: int64"
      ]
     },
     "execution_count": 3,
     "metadata": {},
     "output_type": "execute_result"
    }
   ],
   "source": [
    "train_test_df.isnull().sum()"
   ]
  },
  {
   "cell_type": "code",
   "execution_count": 4,
   "metadata": {},
   "outputs": [],
   "source": [
    "train_test_df = train_test_df.dropna(axis=0, how='any')"
   ]
  },
  {
   "cell_type": "code",
   "execution_count": 5,
   "metadata": {},
   "outputs": [],
   "source": [
    "train_test_df = train_test_df[train_test_df['lastorder'] != '1/0/00']\n",
    "train_test_df = train_test_df[train_test_df['lastorder'] != '1904-01-01']\n",
    "refined_df = train_test_df[train_test_df['lastorder'] != datetime.time(0, 0)]"
   ]
  },
  {
   "cell_type": "code",
   "execution_count": 6,
   "metadata": {
    "scrolled": true
   },
   "outputs": [
    {
     "data": {
      "text/plain": [
       "(30747, 16)"
      ]
     },
     "execution_count": 6,
     "metadata": {},
     "output_type": "execute_result"
    }
   ],
   "source": [
    "refined_df.shape"
   ]
  },
  {
   "cell_type": "code",
   "execution_count": 7,
   "metadata": {
    "scrolled": true
   },
   "outputs": [
    {
     "name": "stderr",
     "output_type": "stream",
     "text": [
      "C:\\Users\\seong\\AppData\\Local\\Continuum\\anaconda3\\lib\\site-packages\\ipykernel_launcher.py:1: SettingWithCopyWarning: \n",
      "A value is trying to be set on a copy of a slice from a DataFrame.\n",
      "Try using .loc[row_indexer,col_indexer] = value instead\n",
      "\n",
      "See the caveats in the documentation: http://pandas.pydata.org/pandas-docs/stable/indexing.html#indexing-view-versus-copy\n",
      "  \"\"\"Entry point for launching an IPython kernel.\n",
      "C:\\Users\\seong\\AppData\\Local\\Continuum\\anaconda3\\lib\\site-packages\\ipykernel_launcher.py:2: SettingWithCopyWarning: \n",
      "A value is trying to be set on a copy of a slice from a DataFrame.\n",
      "Try using .loc[row_indexer,col_indexer] = value instead\n",
      "\n",
      "See the caveats in the documentation: http://pandas.pydata.org/pandas-docs/stable/indexing.html#indexing-view-versus-copy\n",
      "  \n",
      "C:\\Users\\seong\\AppData\\Local\\Continuum\\anaconda3\\lib\\site-packages\\ipykernel_launcher.py:3: SettingWithCopyWarning: \n",
      "A value is trying to be set on a copy of a slice from a DataFrame.\n",
      "Try using .loc[row_indexer,col_indexer] = value instead\n",
      "\n",
      "See the caveats in the documentation: http://pandas.pydata.org/pandas-docs/stable/indexing.html#indexing-view-versus-copy\n",
      "  This is separate from the ipykernel package so we can avoid doing imports until\n"
     ]
    }
   ],
   "source": [
    "refined_df['created'] = pd.DatetimeIndex(refined_df['created'])\n",
    "refined_df['firstorder'] = pd.DatetimeIndex(refined_df['firstorder'])\n",
    "refined_df['lastorder'] = pd.DatetimeIndex(refined_df['lastorder'])"
   ]
  },
  {
   "cell_type": "code",
   "execution_count": 8,
   "metadata": {},
   "outputs": [],
   "source": [
    "city_dummies = pd.get_dummies(refined_df['city'], prefix='city')\n",
    "city_dummies.drop(city_dummies.columns[0], axis=1, inplace=True)\n",
    "refined_df = pd.concat([refined_df, city_dummies], axis = 1)"
   ]
  },
  {
   "cell_type": "code",
   "execution_count": 9,
   "metadata": {},
   "outputs": [],
   "source": [
    "favday_dumies = pd.get_dummies(refined_df['favday'], prefix = 'favday')\n",
    "favday_dumies.drop(favday_dumies.columns[0], axis=1, inplace=True)\n",
    "refined_df = pd.concat([refined_df, favday_dumies], axis = 1)"
   ]
  },
  {
   "cell_type": "code",
   "execution_count": 10,
   "metadata": {},
   "outputs": [],
   "source": [
    "refined_df['order_duration'] = refined_df['lastorder'] - refined_df['firstorder'] \n",
    "refined_df['order_duration'] = refined_df['order_duration']/pd.Timedelta(1, unit='d')\n",
    "refined_df['recency'] = refined_df['lastorder'].transform(lambda x: pd.qcut(x, 5, labels=range(1,6)))"
   ]
  },
  {
   "cell_type": "markdown",
   "metadata": {},
   "source": [
    "## Model Selection"
   ]
  },
  {
   "cell_type": "code",
   "execution_count": 17,
   "metadata": {},
   "outputs": [],
   "source": [
    "final_train_df = refined_df[refined_df['train'] == 1]\n",
    "final_test_df = refined_df[refined_df['train'] == 0]"
   ]
  },
  {
   "cell_type": "code",
   "execution_count": 18,
   "metadata": {},
   "outputs": [
    {
     "data": {
      "text/plain": [
       "Index(['custid', 'retained', 'created', 'firstorder', 'lastorder', 'esent',\n",
       "       'eopenrate', 'eclickrate', 'avgorder', 'ordfreq', 'paperless', 'refill',\n",
       "       'doorstep', 'train', 'favday', 'city', 'city_CHO', 'city_DCX',\n",
       "       'city_RIC', 'favday_Monday', 'favday_Saturday', 'favday_Sunday',\n",
       "       'favday_Thursday', 'favday_Tuesday', 'favday_Wednesday',\n",
       "       'order_duration', 'recency'],\n",
       "      dtype='object')"
      ]
     },
     "execution_count": 18,
     "metadata": {},
     "output_type": "execute_result"
    }
   ],
   "source": [
    "final_train_df.columns"
   ]
  },
  {
   "cell_type": "code",
   "execution_count": 19,
   "metadata": {},
   "outputs": [],
   "source": [
    "X_train = final_train_df[['esent', 'eopenrate', 'eclickrate', 'avgorder', 'ordfreq', 'paperless', 'refill', 'doorstep', 'city_CHO', 'city_DCX', 'city_RIC', 'order_duration', 'recency', 'favday_Monday', 'favday_Saturday', 'favday_Sunday', 'favday_Thursday', 'favday_Tuesday', 'favday_Wednesday']]\n",
    "X_test = final_test_df[['esent', 'eopenrate', 'eclickrate', 'avgorder', 'ordfreq', 'paperless', 'refill', 'doorstep', 'city_CHO', 'city_DCX', 'city_RIC', 'order_duration', 'recency', 'favday_Monday', 'favday_Saturday', 'favday_Sunday', 'favday_Thursday', 'favday_Tuesday', 'favday_Wednesday']]\n",
    "y_train = final_train_df['retained']\n",
    "y_test = final_test_df['retained']"
   ]
  },
  {
   "cell_type": "code",
   "execution_count": 20,
   "metadata": {},
   "outputs": [
    {
     "name": "stdout",
     "output_type": "stream",
     "text": [
      "LASSO training accuracy:  0.9339418884225111\n",
      "LASSO testing accuracy:  0.9366945876288659\n"
     ]
    }
   ],
   "source": [
    "inner_n_folds = 5\n",
    "\n",
    "## LASSO\n",
    "lasso_tscv_inner_generator = TimeSeriesSplit(n_splits = inner_n_folds).split(X_train)\n",
    "lasso_clf = LassoCV(max_iter = 10000, cv = lasso_tscv_inner_generator, random_state = 10)\n",
    "lasso_clf.fit(X_train, y_train)\n",
    "lasso_coef = [lasso_clf.intercept_, lasso_clf.coef_]\n",
    "\n",
    "pred_train = lasso_clf.predict(X_train)\n",
    "y_pred_train = list(0 for i in range(len(pred_train)))\n",
    "for i in range(len(pred_train)):\n",
    "    if pred_train[i] <= 0.5:\n",
    "        y_pred_train[i] = 0\n",
    "    else:\n",
    "        y_pred_train[i] = 1\n",
    "lasso_train_score = accuracy_score(y_pred_train, y_train)\n",
    "print('LASSO training accuracy: ', lasso_train_score)\n",
    "\n",
    "pred_test = lasso_clf.predict(X_test)\n",
    "y_pred_test = list(0 for i in range(len(pred_test)))\n",
    "for i in range(len(pred_test)):\n",
    "    if pred_test[i] <= 0.5:\n",
    "        y_pred_test[i] = 0\n",
    "    else:\n",
    "        y_pred_test[i] = 1\n",
    "lasso_test_score = accuracy_score(y_pred_test, y_test)\n",
    "print('LASSO testing accuracy: ', lasso_test_score)"
   ]
  },
  {
   "cell_type": "code",
   "execution_count": 21,
   "metadata": {},
   "outputs": [
    {
     "name": "stdout",
     "output_type": "stream",
     "text": [
      "Elastic net training accuracy:  0.9057826317290844\n",
      "Elastic net testing accuracy:  0.7970360824742269\n"
     ]
    }
   ],
   "source": [
    "## Elastic Net\n",
    "en_tscv_inner_generator = TimeSeriesSplit(n_splits = inner_n_folds).split(X_train)\n",
    "en_clf = ElasticNetCV(normalize = True, precompute = True, selection = 'random', max_iter = 10000, cv = en_tscv_inner_generator, random_state = 10)\n",
    "en_clf.fit(X_train, y_train)\n",
    "\n",
    "pred_train = en_clf.predict(X_train)\n",
    "y_pred_train = list(0 for i in range(len(pred_train)))\n",
    "for i in range(len(pred_train)):\n",
    "    if pred_train[i] <= 0.5:\n",
    "        y_pred_train[i] = 0\n",
    "    else:\n",
    "        y_pred_train[i] = 1\n",
    "en_train_score = accuracy_score(y_pred_train, y_train)\n",
    "print('Elastic net training accuracy: ', en_train_score)\n",
    "\n",
    "pred_test = en_clf.predict(X_test)\n",
    "y_pred_test = list(0 for i in range(len(pred_test)))\n",
    "for i in range(len(pred_test)):\n",
    "    if pred_test[i] <= 0.5:\n",
    "        y_pred_test[i] = 0\n",
    "    else:\n",
    "        y_pred_test[i] = 1\n",
    "en_test_score = accuracy_score(y_pred_test, y_test)\n",
    "print('Elastic net testing accuracy: ', en_test_score)\n",
    "\n",
    "en_coef = [en_clf.intercept_, en_clf.coef_]"
   ]
  },
  {
   "cell_type": "code",
   "execution_count": 22,
   "metadata": {},
   "outputs": [
    {
     "name": "stdout",
     "output_type": "stream",
     "text": [
      "Random forest training accuracy:  0.9636904519336567\n",
      "Random forest testing accuracy:  0.9492590206185567\n"
     ]
    }
   ],
   "source": [
    "## Random Forest\n",
    "grid = {\"max_depth\": sp_randint(1, 30),\n",
    "        \"min_samples_leaf\": sp_randint(2, 100),\n",
    "        \"max_features\": [\"sqrt\", \"log2\", None]}\n",
    "n_iter_search = 10\n",
    "rf_clf = RandomForestClassifier()\n",
    "        \n",
    "rf_tscv_inner_generator = TimeSeriesSplit(n_splits = inner_n_folds).split(X_train)\n",
    "rf_cv = RandomizedSearchCV(rf_clf, param_distributions = grid, n_iter = n_iter_search, cv = rf_tscv_inner_generator)\n",
    "rf_cv.fit(X_train, y_train) \n",
    "opt_params = rf_cv.cv_results_['params'][0]\n",
    "rf_clf = RandomForestClassifier(max_depth = opt_params['max_depth'], min_samples_leaf = opt_params['min_samples_leaf'], random_state = 10)\n",
    "rf_clf.fit(X_train, y_train)     \n",
    "\n",
    "rf_train_score = rf_clf.score(X_train, y_train, sample_weight = None) \n",
    "print('Random forest training accuracy: ', rf_train_score)  \n",
    "\n",
    "rf_test_score = rf_clf.score(X_test, y_test, sample_weight = None)\n",
    "print('Random forest testing accuracy: ', rf_test_score)  "
   ]
  },
  {
   "cell_type": "code",
   "execution_count": 23,
   "metadata": {},
   "outputs": [
    {
     "name": "stdout",
     "output_type": "stream",
     "text": [
      "KNN training accuracy:  0.9410326419169486\n",
      "KNN testing accuracy:  0.9321842783505154\n"
     ]
    }
   ],
   "source": [
    "## KNN\n",
    "val_score = list()\n",
    "cross_val_score_list = list()\n",
    "for k in range(1, 21, 1):\n",
    "    KNN_cf = KNeighborsClassifier(n_neighbors = k)\n",
    "    cross_val_score_list.append(np.average(cross_val_score(KNN_cf, \n",
    "                                                           X = X_train, \n",
    "                                                           y = y_train)))\n",
    "best_k = 1 + np.argmax(cross_val_score_list)\n",
    "\n",
    "knn_cf = KNeighborsClassifier(n_neighbors = best_k)\n",
    "knn_cf.fit(X_train, y_train)\n",
    "knn_train_score = knn_cf.score(X_train, y_train, sample_weight = None)\n",
    "print('KNN training accuracy: ', knn_train_score)\n",
    "knn_test_score = knn_cf.score(X_test, y_test, sample_weight = None)\n",
    "print('KNN testing accuracy: ', knn_test_score)"
   ]
  },
  {
   "cell_type": "markdown",
   "metadata": {},
   "source": [
    "## Grid Search"
   ]
  },
  {
   "cell_type": "code",
   "execution_count": 66,
   "metadata": {},
   "outputs": [],
   "source": [
    "from sklearn.metrics import confusion_matrix\n",
    "from sklearn.metrics import accuracy_score\n",
    "from sklearn.model_selection import GridSearchCV\n",
    "from sklearn.ensemble import RandomForestClassifier\n",
    "\n",
    "%matplotlib inline"
   ]
  },
  {
   "cell_type": "code",
   "execution_count": 147,
   "metadata": {},
   "outputs": [],
   "source": [
    "#Cross Validation parameter\n",
    "num_folds = 10\n",
    "scoring = 'accuracy'\n",
    "\n",
    "# Number of trees in random forest\n",
    "n_estimators = [int(x) for x in np.linspace(start = 100, stop = 300, num = 5)]\n",
    "# Number of features to consider at every split\n",
    "max_features = ['sqrt', 'log2']\n",
    "# Maximum number of levels in tree\n",
    "max_depth = [int(x) for x in np.linspace(10, 50, num = 5)]\n",
    "# Minimum number of samples required to split a node\n",
    "# min_samples_split = [2, 5, 8]\n",
    "# Minimum number of samples required at each leaf node\n",
    "# min_samples_leaf = [1, 3]\n",
    "\n",
    "param_grid = {'n_estimators': n_estimators,\n",
    "               'max_features': max_features,\n",
    "               'max_depth': max_depth}\n",
    "\n",
    "# model building\n",
    "model = RandomForestClassifier(random_state=1234)\n",
    "\n",
    "grid_1 = GridSearchCV(estimator = model, param_grid = param_grid, scoring = scoring, cv = num_folds, n_jobs=3)\n",
    "grid_result_1 = grid_1.fit(X_train, y_train)"
   ]
  },
  {
   "cell_type": "code",
   "execution_count": 148,
   "metadata": {
    "scrolled": true
   },
   "outputs": [
    {
     "name": "stdout",
     "output_type": "stream",
     "text": [
      "Best model Accuracy: 0.959575 using {'max_depth': 30, 'max_features': 'sqrt', 'n_estimators': 300}\n"
     ]
    }
   ],
   "source": [
    "print(\"Best model Accuracy: %f using %s\" % (grid_result_1.best_score_, grid_result_1.best_params_))"
   ]
  },
  {
   "cell_type": "code",
   "execution_count": 149,
   "metadata": {},
   "outputs": [],
   "source": [
    "fine_tuned_RF = grid_result_1.best_estimator_\n",
    "fine_tuned_RF.fit(X_train, y_train)\n",
    "y_test_pred = fine_tuned_RF.predict(X_test)"
   ]
  },
  {
   "cell_type": "code",
   "execution_count": 159,
   "metadata": {},
   "outputs": [
    {
     "name": "stdout",
     "output_type": "stream",
     "text": [
      "Confusion Matrix at the Threshold of 0.5\n",
      "                 pred_churned  pred_retained\n",
      "actual_churned            940            341\n",
      "actual_retained             9           4918\n",
      "Accuracy: 0.943\n"
     ]
    }
   ],
   "source": [
    "print(\"Confusion Matrix at the Threshold of 0.5\")\n",
    "print(pd.DataFrame(confusion_matrix(labels=[0, 1], y_pred=y_test_pred, y_true=y_test), \n",
    "                   columns=['pred_churned', 'pred_retained'], index=['actual_churned', 'actual_retained']))\n",
    "print(\"Accuracy: %.5s\" %(accuracy_score(y_pred=y_test_pred, y_true=y_test)))"
   ]
  },
  {
   "cell_type": "code",
   "execution_count": 160,
   "metadata": {},
   "outputs": [
    {
     "data": {
      "text/html": [
       "<div>\n",
       "<style scoped>\n",
       "    .dataframe tbody tr th:only-of-type {\n",
       "        vertical-align: middle;\n",
       "    }\n",
       "\n",
       "    .dataframe tbody tr th {\n",
       "        vertical-align: top;\n",
       "    }\n",
       "\n",
       "    .dataframe thead th {\n",
       "        text-align: right;\n",
       "    }\n",
       "</style>\n",
       "<table border=\"1\" class=\"dataframe\">\n",
       "  <thead>\n",
       "    <tr style=\"text-align: right;\">\n",
       "      <th></th>\n",
       "      <th>Threshold</th>\n",
       "      <th>accuracy</th>\n",
       "      <th>sum_fp_fn</th>\n",
       "    </tr>\n",
       "  </thead>\n",
       "  <tbody>\n",
       "    <tr>\n",
       "      <th>63</th>\n",
       "      <td>0.64</td>\n",
       "      <td>0.948131</td>\n",
       "      <td>322</td>\n",
       "    </tr>\n",
       "    <tr>\n",
       "      <th>65</th>\n",
       "      <td>0.66</td>\n",
       "      <td>0.948131</td>\n",
       "      <td>322</td>\n",
       "    </tr>\n",
       "    <tr>\n",
       "      <th>62</th>\n",
       "      <td>0.63</td>\n",
       "      <td>0.947970</td>\n",
       "      <td>323</td>\n",
       "    </tr>\n",
       "    <tr>\n",
       "      <th>64</th>\n",
       "      <td>0.65</td>\n",
       "      <td>0.947970</td>\n",
       "      <td>323</td>\n",
       "    </tr>\n",
       "    <tr>\n",
       "      <th>66</th>\n",
       "      <td>0.67</td>\n",
       "      <td>0.947970</td>\n",
       "      <td>323</td>\n",
       "    </tr>\n",
       "  </tbody>\n",
       "</table>\n",
       "</div>"
      ],
      "text/plain": [
       "    Threshold  accuracy  sum_fp_fn\n",
       "63       0.64  0.948131        322\n",
       "65       0.66  0.948131        322\n",
       "62       0.63  0.947970        323\n",
       "64       0.65  0.947970        323\n",
       "66       0.67  0.947970        323"
      ]
     },
     "execution_count": 160,
     "metadata": {},
     "output_type": "execute_result"
    }
   ],
   "source": [
    "proba_range = np.arange(0.01, 1, 0.01)\n",
    "accuracy_list = []\n",
    "fp_fn = []\n",
    "for threshold in proba_range:\n",
    "    y_pred_class_new = np.where(fine_tuned_RF.predict_proba(X_test)[:, 1] > threshold, 1, 0)\n",
    "    mat = confusion_matrix(y_test, y_pred_class_new)\n",
    "    fp_fn.append(mat[0, 1]+mat[1, 0])\n",
    "    accuracy_list.append(accuracy_score(y_pred=y_pred_class_new, y_true=y_test))\n",
    "threshold_mat = pd.DataFrame({'Threshold':proba_range, 'accuracy':accuracy_list, 'sum_fp_fn':fp_fn})\n",
    "threshold_mat.sort_values(by=['sum_fp_fn'], ascending=True).head()"
   ]
  },
  {
   "cell_type": "code",
   "execution_count": 167,
   "metadata": {},
   "outputs": [
    {
     "name": "stdout",
     "output_type": "stream",
     "text": [
      "Confusion Matrix at the Threshold of 0.64\n",
      "                 pred_churned  pred_retained\n",
      "actual_churned            984            297\n",
      "actual_retained            25           4902\n",
      "Accuracy: 0.948\n"
     ]
    }
   ],
   "source": [
    "best_threshold = threshold_mat.sort_values(by=['sum_fp_fn'], ascending=True).iloc[0, 0]\n",
    "y_pred_class_best = np.where(fine_tuned_RF.predict_proba(X_test)[:, 1] > best_threshold, 1, 0)\n",
    "print(\"Confusion Matrix at the Threshold of %s\" %(best_threshold))\n",
    "print(pd.DataFrame(confusion_matrix(labels=[0, 1], y_pred=y_pred_class_best, y_true=y_test), \n",
    "                   columns=['pred_churned', 'pred_retained'], index=['actual_churned', 'actual_retained']))\n",
    "print(\"Accuracy: %.5s\" %(accuracy_score(y_pred=y_pred_class_best, y_true=y_test)))"
   ]
  },
  {
   "cell_type": "markdown",
   "metadata": {},
   "source": [
    "## Feature Importance"
   ]
  },
  {
   "cell_type": "code",
   "execution_count": 168,
   "metadata": {},
   "outputs": [
    {
     "name": "stdout",
     "output_type": "stream",
     "text": [
      " Feature ranking\n",
      "\n",
      "1. esent: (0.654250)\n",
      "2. eopenrate: (0.115785)\n",
      "3. eclickrate: (0.054730)\n",
      "4. recency: (0.051907)\n",
      "5. avgorder: (0.040624)\n",
      "6. order_duration: (0.019357)\n",
      "7. ordfreq: (0.014949)\n",
      "8. paperless: (0.009993)\n",
      "9. favday_Monday: (0.004778)\n",
      "10. favday_Tuesday: (0.004672)\n",
      "11. refill: (0.004602)\n",
      "12. city_RIC: (0.004088)\n",
      "13. favday_Thursday: (0.004056)\n",
      "14. city_CHO: (0.004055)\n",
      "15. favday_Wednesday: (0.003997)\n",
      "16. city_DCX: (0.003899)\n",
      "17. doorstep: (0.001874)\n",
      "18. favday_Saturday: (0.001667)\n",
      "19. favday_Sunday: (0.000717)\n"
     ]
    }
   ],
   "source": [
    "importances = fine_tuned_RF.feature_importances_\n",
    "std = np.std([tree.feature_importances_ for tree in fine_tuned_RF.estimators_], axis=0)\n",
    "indices = np.argsort(importances)[::-1]\n",
    "\n",
    "# Print the feature ranking\n",
    "print(\" Feature ranking\\n\")\n",
    "\n",
    "i = 0\n",
    "for f in indices:\n",
    "    i = i + 1\n",
    "    print(\"%d. %s: (%f)\" % (i, X_train.columns[f], importances[f]))\n"
   ]
  },
  {
   "cell_type": "code",
   "execution_count": 182,
   "metadata": {
    "scrolled": true
   },
   "outputs": [
    {
     "data": {
      "image/png": "[encoded data removed]",
      "text/plain": [
       "<matplotlib.figure.Figure at 0x2c442811908>"
      ]
     },
     "metadata": {},
     "output_type": "display_data"
    }
   ],
   "source": [
    "indices = np.argsort(importances)\n",
    "plt.figure(1)\n",
    "plt.title('Feature Importances')\n",
    "plt.barh(range(len(indices)), importances[indices], color='b', align='center')\n",
    "plt.yticks(range(len(indices)), X_train.columns[indices])\n",
    "plt.xlabel('Relative Importance')\n",
    "plt.savefig('output.png', bbox_inches='tight', dpi = 100, transparent = False)\n",
    "plt.show()\n"
   ]
  },
  {
   "cell_type": "code",
   "execution_count": null,
   "metadata": {},
   "outputs": [],
   "source": []
  }
 ],
 "metadata": {
  "kernelspec": {
   "display_name": "Python 3",
   "language": "python",
   "name": "python3"
  },
  "language_info": {
   "codemirror_mode": {
    "name": "ipython",
    "version": 3
   },
   "file_extension": ".py",
   "mimetype": "text/x-python",
   "name": "python",
   "nbconvert_exporter": "python",
   "pygments_lexer": "ipython3",
   "version": "3.6.4"
  }
 },
 "nbformat": 4,
 "nbformat_minor": 2
}
