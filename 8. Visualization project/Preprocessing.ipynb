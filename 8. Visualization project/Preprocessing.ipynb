{
 "cells": [
  {
   "cell_type": "code",
   "execution_count": 187,
   "metadata": {
    "collapsed": true
   },
   "outputs": [],
   "source": [
    "import pandas as pd\n",
    "import numpy as np"
   ]
  },
  {
   "cell_type": "code",
   "execution_count": 188,
   "metadata": {
    "collapsed": true
   },
   "outputs": [],
   "source": [
    "table1 = pd.read_excel('dataset/selected_data.xlsx', sheetname='Table1')\n",
    "table2 = pd.read_excel('dataset/selected_data.xlsx', sheetname='Table2', header = 1)\n",
    "table3 = pd.read_excel('dataset/selected_data.xlsx', sheetname='Table3a', header = 8)\n",
    "table4 = pd.read_excel('dataset/selected_data.xlsx', sheetname='Table4ab', header = 0)\n",
    "table5 = pd.read_excel('dataset/selected_data.xlsx', sheetname='Table5', header = 1)\n",
    "table6 = pd.read_excel('dataset/selected_data.xlsx', sheetname='Table6ab', header = 1)\n",
    "table9 = pd.read_excel('dataset/selected_data.xlsx', sheetname='Table9')\n",
    "GDP = pd.read_csv('dataset/GDP.csv', header= None) # Souce: World Bank Group"
   ]
  },
  {
   "cell_type": "markdown",
   "metadata": {},
   "source": [
    "## Table1"
   ]
  },
  {
   "cell_type": "code",
   "execution_count": 189,
   "metadata": {
    "collapsed": true
   },
   "outputs": [],
   "source": [
    "table1_1 = pd.concat([table1.iloc[:, 0:2], table1.iloc[:, 4:21]], axis=1)\n",
    "# NA Value to minimum value in each row\n",
    "table1_1.replace('Unknown', np.nan,inplace=True )\n",
    "table1_1_1 = table1_1.iloc[:, 0:2]\n",
    "table1_1_2 = table1_1.iloc[:, 2:]\n",
    "table1_1_2 = table1_1_2.apply(lambda row: row.fillna(row.min()), axis=1).astype('int')\n",
    "table1_1 = pd.concat([table1_1_1, table1_1_2], axis=1)\n",
    "\n",
    "#Change the tidy form \n",
    "table1_1 = pd.melt(table1_1, id_vars=['Type', 'Category'], var_name='Year', value_name='n_of_threatened')"
   ]
  },
  {
   "cell_type": "markdown",
   "metadata": {},
   "source": [
    "## Table2"
   ]
  },
  {
   "cell_type": "code",
   "execution_count": 191,
   "metadata": {
    "collapsed": true,
    "scrolled": true
   },
   "outputs": [],
   "source": [
    "table2_1 = pd.melt(table2, id_vars=['Risk Level', 'Category'], var_name = 'Year', value_name='n_of_risk_level_change')"
   ]
  },
  {
   "cell_type": "markdown",
   "metadata": {},
   "source": [
    "## Table3a"
   ]
  },
  {
   "cell_type": "code",
   "execution_count": 192,
   "metadata": {
    "collapsed": true
   },
   "outputs": [],
   "source": [
    "table3_1 = table3[['Class*', 'EX', 'EW','CR(PE)**', '*', 'CR', 'EN','VU', 'NT', 'LR/cd', 'DD', 'LC']].iloc[1:32, :]\n",
    "table3_1.rename(columns={'Class*':'Category', 'CR(PE)**':'CR'}, inplace=True)\n",
    "table3_1 = pd.melt(table3_1, id_vars=['Category'], var_name='Red_List_category', value_name='n_of_threatened')"
   ]
  },
  {
   "cell_type": "markdown",
   "metadata": {},
   "source": [
    "## Table4ab"
   ]
  },
  {
   "cell_type": "code",
   "execution_count": 193,
   "metadata": {
    "collapsed": true
   },
   "outputs": [],
   "source": [
    "table4_1 = table4[['Animal/plant', 'Class', 'Group','EX','EW','CR','EN','VU']]\n",
    "table4_1 = pd.melt(table4_1, id_vars=['Animal/plant', 'Class', 'Group'], var_name='Red_List_category', value_name='n_of_threatened')"
   ]
  },
  {
   "cell_type": "markdown",
   "metadata": {},
   "source": [
    "## Table5"
   ]
  },
  {
   "cell_type": "code",
   "execution_count": 194,
   "metadata": {},
   "outputs": [],
   "source": [
    "GDP = GDP.iloc[:, 1:3]\n",
    "GDP.rename(columns={1:'Country', 2:'GDP(USD)'}, inplace=True )"
   ]
  },
  {
   "cell_type": "code",
   "execution_count": 195,
   "metadata": {},
   "outputs": [],
   "source": [
    "table5_1 = table5.iloc[:, :-1]\n",
    "table5_1 = pd.melt(table5_1, id_vars=['Continent', 'Country'], var_name = 'Category', value_name = 'n_of_threatened')"
   ]
  },
  {
   "cell_type": "code",
   "execution_count": 196,
   "metadata": {},
   "outputs": [],
   "source": [
    "table5_GDP = table5_1.groupby('Country').sum().reset_index()\n",
    "table5_GDP = pd.merge(left=table5_GDP, right = GDP, how='left')"
   ]
  },
  {
   "cell_type": "code",
   "execution_count": 203,
   "metadata": {},
   "outputs": [
    {
     "data": {
      "text/html": [
       "<div>\n",
       "<style>\n",
       "    .dataframe thead tr:only-child th {\n",
       "        text-align: right;\n",
       "    }\n",
       "\n",
       "    .dataframe thead th {\n",
       "        text-align: left;\n",
       "    }\n",
       "\n",
       "    .dataframe tbody tr th {\n",
       "        vertical-align: top;\n",
       "    }\n",
       "</style>\n",
       "<table border=\"1\" class=\"dataframe\">\n",
       "  <thead>\n",
       "    <tr style=\"text-align: right;\">\n",
       "      <th></th>\n",
       "      <th>Continent</th>\n",
       "      <th>Country</th>\n",
       "      <th>Mammals</th>\n",
       "      <th>Birds</th>\n",
       "      <th>Reptiles</th>\n",
       "      <th>Amphibians</th>\n",
       "      <th>Fishes</th>\n",
       "      <th>Molluscs</th>\n",
       "      <th>Other Inverts</th>\n",
       "      <th>Plants</th>\n",
       "      <th>Fungi &amp; Protists</th>\n",
       "      <th>Total</th>\n",
       "    </tr>\n",
       "  </thead>\n",
       "  <tbody>\n",
       "    <tr>\n",
       "      <th>0</th>\n",
       "      <td>AFRICA</td>\n",
       "      <td>Algeria</td>\n",
       "      <td>14</td>\n",
       "      <td>14</td>\n",
       "      <td>8</td>\n",
       "      <td>3</td>\n",
       "      <td>40</td>\n",
       "      <td>11</td>\n",
       "      <td>29</td>\n",
       "      <td>18</td>\n",
       "      <td>0</td>\n",
       "      <td>137</td>\n",
       "    </tr>\n",
       "    <tr>\n",
       "      <th>1</th>\n",
       "      <td>AFRICA</td>\n",
       "      <td>Egypt</td>\n",
       "      <td>17</td>\n",
       "      <td>14</td>\n",
       "      <td>12</td>\n",
       "      <td>0</td>\n",
       "      <td>53</td>\n",
       "      <td>0</td>\n",
       "      <td>56</td>\n",
       "      <td>3</td>\n",
       "      <td>0</td>\n",
       "      <td>155</td>\n",
       "    </tr>\n",
       "    <tr>\n",
       "      <th>2</th>\n",
       "      <td>AFRICA</td>\n",
       "      <td>Libya</td>\n",
       "      <td>10</td>\n",
       "      <td>7</td>\n",
       "      <td>6</td>\n",
       "      <td>0</td>\n",
       "      <td>32</td>\n",
       "      <td>0</td>\n",
       "      <td>4</td>\n",
       "      <td>3</td>\n",
       "      <td>0</td>\n",
       "      <td>62</td>\n",
       "    </tr>\n",
       "    <tr>\n",
       "      <th>3</th>\n",
       "      <td>AFRICA</td>\n",
       "      <td>Morocco</td>\n",
       "      <td>18</td>\n",
       "      <td>16</td>\n",
       "      <td>13</td>\n",
       "      <td>2</td>\n",
       "      <td>54</td>\n",
       "      <td>37</td>\n",
       "      <td>32</td>\n",
       "      <td>36</td>\n",
       "      <td>1</td>\n",
       "      <td>209</td>\n",
       "    </tr>\n",
       "    <tr>\n",
       "      <th>4</th>\n",
       "      <td>AFRICA</td>\n",
       "      <td>Tunisia</td>\n",
       "      <td>14</td>\n",
       "      <td>10</td>\n",
       "      <td>6</td>\n",
       "      <td>1</td>\n",
       "      <td>39</td>\n",
       "      <td>7</td>\n",
       "      <td>13</td>\n",
       "      <td>7</td>\n",
       "      <td>0</td>\n",
       "      <td>97</td>\n",
       "    </tr>\n",
       "  </tbody>\n",
       "</table>\n",
       "</div>"
      ],
      "text/plain": [
       "  Continent  Country  Mammals  Birds  Reptiles  Amphibians  Fishes  Molluscs  \\\n",
       "0    AFRICA  Algeria       14     14         8           3      40        11   \n",
       "1    AFRICA    Egypt       17     14        12           0      53         0   \n",
       "2    AFRICA    Libya       10      7         6           0      32         0   \n",
       "3    AFRICA  Morocco       18     16        13           2      54        37   \n",
       "4    AFRICA  Tunisia       14     10         6           1      39         7   \n",
       "\n",
       "   Other Inverts  Plants  Fungi & Protists  Total  \n",
       "0             29      18                 0    137  \n",
       "1             56       3                 0    155  \n",
       "2              4       3                 0     62  \n",
       "3             32      36                 1    209  \n",
       "4             13       7                 0     97  "
      ]
     },
     "execution_count": 203,
     "metadata": {},
     "output_type": "execute_result"
    }
   ],
   "source": [
    "table5.head()"
   ]
  },
  {
   "cell_type": "markdown",
   "metadata": {},
   "source": [
    "## Table6ab"
   ]
  },
  {
   "cell_type": "code",
   "execution_count": 199,
   "metadata": {
    "collapsed": true
   },
   "outputs": [],
   "source": [
    "tabl6_1=table6[['Animal/plant', 'Continent', 'Sub_Continent', 'Country', 'EX', 'EW', 'CR', 'EN', 'VU']]\n",
    "table6_1 = pd.melt(tabl6_1, id_vars=['Animal/plant', 'Continent', 'Sub_Continent', 'Country'], var_name = 'Red_List_category', value_name = 'n_of_threatened')"
   ]
  },
  {
   "cell_type": "markdown",
   "metadata": {},
   "source": [
    "## Export to csv dataset"
   ]
  },
  {
   "cell_type": "code",
   "execution_count": 200,
   "metadata": {
    "collapsed": true
   },
   "outputs": [],
   "source": [
    "table1_1.to_csv('table1.csv')\n",
    "table2_1.to_csv('table2.csv')\n",
    "table3_1.to_csv('table3.csv')\n",
    "table4_1.to_csv('table4.csv')\n",
    "table5_1.to_csv('table5.csv')\n",
    "table5_GDP.to_csv('table_GDP.csv')\n",
    "table6_1.to_csv('table6.csv')"
   ]
  }
 ],
 "metadata": {
  "kernelspec": {
   "display_name": "Python 3",
   "language": "python",
   "name": "python3"
  },
  "language_info": {
   "codemirror_mode": {
    "name": "ipython",
    "version": 3
   },
   "file_extension": ".py",
   "mimetype": "text/x-python",
   "name": "python",
   "nbconvert_exporter": "python",
   "pygments_lexer": "ipython3",
   "version": "3.6.3"
  }
 },
 "nbformat": 4,
 "nbformat_minor": 2
}
