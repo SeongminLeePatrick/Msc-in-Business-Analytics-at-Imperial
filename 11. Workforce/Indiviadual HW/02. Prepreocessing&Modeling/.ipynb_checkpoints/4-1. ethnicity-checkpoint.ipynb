{
 "cells": [
  {
   "cell_type": "markdown",
   "metadata": {},
   "source": [
    "<br>\n",
    "<center>\n",
    "<h1>Workforce Analytics</h1>\n",
    "<h2><i> - Seongmin Lee(CID: 01247436)  -</i></h2>"
   ]
  },
  {
   "cell_type": "markdown",
   "metadata": {},
   "source": [
    "# Ethnicity"
   ]
  },
  {
   "cell_type": "code",
   "execution_count": 2,
   "metadata": {
    "scrolled": false
   },
   "outputs": [
    {
     "name": "stderr",
     "output_type": "stream",
     "text": [
      "Using TensorFlow backend.\n",
      "C:\\Users\\seong\\AppData\\Local\\Continuum\\anaconda3\\lib\\site-packages\\h5py\\__init__.py:36: FutureWarning: Conversion of the second argument of issubdtype from `float` to `np.floating` is deprecated. In future, it will be treated as `np.float64 == np.dtype(float).type`.\n",
      "  from ._conv import register_converters as _register_converters\n"
     ]
    }
   ],
   "source": [
    "from ethnicolr import pred_wiki_ln\n",
    "import warnings\n",
    "import pandas as pd\n",
    "import numpy as np\n",
    "warnings.filterwarnings('ignore')\n",
    "\n",
    "def df_make(w):\n",
    "    df = pd.DataFrame()\n",
    "    df['last_name'] = w\n",
    "    return df\n",
    "\n",
    "def list_nested(l):\n",
    "    k = df_make(l)\n",
    "    pred_wiki_ln(k, 'last_name')\n",
    "    return [each.split(',')[0] for each in k.race]"
   ]
  },
  {
   "cell_type": "code",
   "execution_count": 6,
   "metadata": {
    "scrolled": true
   },
   "outputs": [
    {
     "name": "stdout",
     "output_type": "stream",
     "text": [
      "DONE 1421\n",
      "DONE 1421\n",
      "DONE 1421\n",
      "DONE 1421\n",
      "DONE 1421\n",
      "DONE 1421\n",
      "DONE 1421\n",
      "DONE 1421\n",
      "DONE 1421\n",
      "DONE 1421\n",
      "DONE 1421\n",
      "DONE 1421\n",
      "DONE 1421\n",
      "DONE 1421\n",
      "DONE 1421\n",
      "DONE 1421\n",
      "DONE 1421\n",
      "DONE 1421\n",
      "DONE 1421\n",
      "DONE 1421\n",
      "DONE 1421\n",
      "DONE 1421\n",
      "DONE 1421\n",
      "DONE 1421\n",
      "DONE 1421\n",
      "DONE 1421\n",
      "DONE 1421\n",
      "DONE 1421\n",
      "DONE 1421\n",
      "DONE 1421\n",
      "DONE 1421\n",
      "DONE 1421\n",
      "DONE 1421\n",
      "DONE 1421\n",
      "DONE 1421\n",
      "DONE 1421\n",
      "DONE 1421\n",
      "DONE 1421\n",
      "DONE 1421\n",
      "DONE 1421\n",
      "DONE 1421\n",
      "DONE 1421\n",
      "DONE 1421\n",
      "DONE 1421\n",
      "DONE 1421\n",
      "DONE 1421\n",
      "DONE 1421\n",
      "DONE 1421\n",
      "DONE 1421\n",
      "DONE 1421\n",
      "DONE 1421\n",
      "DONE 1421\n",
      "DONE 1421\n",
      "DONE 1421\n",
      "DONE 1421\n",
      "DONE 1421\n",
      "DONE 1421\n",
      "DONE 1421\n",
      "DONE 1421\n",
      "DONE 1421\n",
      "DONE 1421\n",
      "DONE 1421\n",
      "DONE 1421\n",
      "DONE 1421\n",
      "DONE 1421\n",
      "DONE 1421\n",
      "DONE 1421\n",
      "DONE 1421\n",
      "DONE 1421\n",
      "DONE 1421\n",
      "DONE 1421\n",
      "DONE 1421\n",
      "DONE 1421\n",
      "DONE 1421\n",
      "DONE 1421\n",
      "DONE 1421\n",
      "DONE 1421\n",
      "DONE 1421\n",
      "DONE 1421\n",
      "DONE 1421\n",
      "DONE 1421\n",
      "DONE 1421\n",
      "DONE 1421\n",
      "DONE 1421\n",
      "DONE 1421\n",
      "DONE 1421\n",
      "DONE 1421\n",
      "DONE 1421\n",
      "DONE 1421\n"
     ]
    }
   ],
   "source": [
    "WOS_df = pd.read_pickle('C:/Users/seong/Documents/00. Summer/1. Workforce/Individual HW/01. Crawling(WebOfScience)/data/final.pkl')\n",
    "for i in list(np.arange(0, 1495, 16)):\n",
    "    try:\n",
    "        df_eth = pd.read_pickle('./data/ethnictity_df.pkl')\n",
    "    except:\n",
    "        df_eth = pd.DataFrame(columns = ['names', 'ethnicity'])\n",
    "    if df_eth.shape[0] > i:            #df = 235 > i=250\n",
    "        print(\"DONE\", df_eth.shape[0])\n",
    "        continue\n",
    "    else:\n",
    "        start = df_eth.shape[0]\n",
    "        end = i\n",
    "        for j in WOS_df.co_author1[start:end]:\n",
    "            row_sc = df_eth.shape[0]\n",
    "            df_eth.loc[row_sc, 'names'] = j\n",
    "            df_eth.loc[row_sc, 'ethnicity'] = list_nested(j)\n",
    "            print(\"%dth. %s, %s\" %(row_sc+1, df_eth.loc[row_sc, 'names'], df_eth.loc[row_sc, 'ethnicity']))\n",
    "            df_eth.to_pickle('./data/ethnictity_df.pkl')"
   ]
  },
  {
   "cell_type": "code",
   "execution_count": 3,
   "metadata": {
    "scrolled": true
   },
   "outputs": [
    {
     "data": {
      "text/html": [
       "<div>\n",
       "<style scoped>\n",
       "    .dataframe tbody tr th:only-of-type {\n",
       "        vertical-align: middle;\n",
       "    }\n",
       "\n",
       "    .dataframe tbody tr th {\n",
       "        vertical-align: top;\n",
       "    }\n",
       "\n",
       "    .dataframe thead th {\n",
       "        text-align: right;\n",
       "    }\n",
       "</style>\n",
       "<table border=\"1\" class=\"dataframe\">\n",
       "  <thead>\n",
       "    <tr style=\"text-align: right;\">\n",
       "      <th></th>\n",
       "      <th>names</th>\n",
       "      <th>ethnicity</th>\n",
       "    </tr>\n",
       "  </thead>\n",
       "  <tbody>\n",
       "    <tr>\n",
       "      <th>0</th>\n",
       "      <td>[abadir, km, caggiano, g, talmain, g]</td>\n",
       "      <td>[GreaterAfrican, GreaterEuropean, GreaterEurop...</td>\n",
       "    </tr>\n",
       "    <tr>\n",
       "      <th>1</th>\n",
       "      <td>[abadir, km, distaso, w, giraitis, l]</td>\n",
       "      <td>[GreaterAfrican, GreaterEuropean, GreaterEurop...</td>\n",
       "    </tr>\n",
       "    <tr>\n",
       "      <th>2</th>\n",
       "      <td>[abadir, km, distaso, w, giraitis, l]</td>\n",
       "      <td>[GreaterAfrican, GreaterEuropean, GreaterEurop...</td>\n",
       "    </tr>\n",
       "    <tr>\n",
       "      <th>3</th>\n",
       "      <td>[abadir, km, distaso, w]</td>\n",
       "      <td>[GreaterAfrican, GreaterEuropean]</td>\n",
       "    </tr>\n",
       "    <tr>\n",
       "      <th>4</th>\n",
       "      <td>[abadir, km, distaso, w, giraltis, l]</td>\n",
       "      <td>[GreaterAfrican, GreaterEuropean, GreaterEurop...</td>\n",
       "    </tr>\n",
       "  </tbody>\n",
       "</table>\n",
       "</div>"
      ],
      "text/plain": [
       "                                   names  \\\n",
       "0  [abadir, km, caggiano, g, talmain, g]   \n",
       "1  [abadir, km, distaso, w, giraitis, l]   \n",
       "2  [abadir, km, distaso, w, giraitis, l]   \n",
       "3               [abadir, km, distaso, w]   \n",
       "4  [abadir, km, distaso, w, giraltis, l]   \n",
       "\n",
       "                                           ethnicity  \n",
       "0  [GreaterAfrican, GreaterEuropean, GreaterEurop...  \n",
       "1  [GreaterAfrican, GreaterEuropean, GreaterEurop...  \n",
       "2  [GreaterAfrican, GreaterEuropean, GreaterEurop...  \n",
       "3                  [GreaterAfrican, GreaterEuropean]  \n",
       "4  [GreaterAfrican, GreaterEuropean, GreaterEurop...  "
      ]
     },
     "execution_count": 3,
     "metadata": {},
     "output_type": "execute_result"
    }
   ],
   "source": [
    "pd.read_pickle('./data/ethnictity_df.pkl').head()"
   ]
  }
 ],
 "metadata": {
  "kernelspec": {
   "display_name": "Python 3",
   "language": "python",
   "name": "python3"
  },
  "language_info": {
   "codemirror_mode": {
    "name": "ipython",
    "version": 3
   },
   "file_extension": ".py",
   "mimetype": "text/x-python",
   "name": "python",
   "nbconvert_exporter": "python",
   "pygments_lexer": "ipython3",
   "version": "3.6.4"
  }
 },
 "nbformat": 4,
 "nbformat_minor": 2
}
