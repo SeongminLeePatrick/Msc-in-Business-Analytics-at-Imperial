{
 "cells": [
  {
   "cell_type": "markdown",
   "metadata": {},
   "source": [
    "<br>\n",
    "<center>\n",
    "<h1>Workforce Analytics</h1>\n",
    "<h2><i> - Seongmin Lee(CID: 01247436)  -</i></h2>"
   ]
  },
  {
   "cell_type": "markdown",
   "metadata": {},
   "source": [
    "# Preprocessing & Feature Engineering"
   ]
  },
  {
   "cell_type": "markdown",
   "metadata": {},
   "source": [
    "In the previous section, the data relevant to the publications' cited time has been scraped on the Web of Science. Based on the preprocessing of those datasets, features to predict the cited tiems will be generated in this section. The file name of the base dataset is the WOS_scraped_df_ver3, which includes the basic information on each publication. And the other datasets such as authors, references, journals, and research categories will be merged to the base dataset and re-formulated to new features. According to a article published by Canadian Center of Science and Education, there are 33 techniques to increase the citations(). "
   ]
  },
  {
   "cell_type": "code",
   "execution_count": 111,
   "metadata": {},
   "outputs": [],
   "source": [
    "import pandas as pd\n",
    "import numpy as np\n",
    "import networkx as nx\n",
    "import scipy as sp\n",
    "import matplotlib.pyplot as plt\n",
    "from bs4 import BeautifulSoup\n",
    "from selenium import webdriver\n",
    "from selenium.webdriver.chrome.options import Options\n",
    "import requests\n",
    "import re\n",
    "import sys\n",
    "import io\n",
    "import time\n",
    "import math\n",
    "from collections import Counter\n",
    "import datetime\n",
    "import warnings\n",
    "\n",
    "warnings.filterwarnings(\"ignore\")\n",
    "pd.set_option('display.max_columns', 500)"
   ]
  },
  {
   "cell_type": "code",
   "execution_count": 807,
   "metadata": {},
   "outputs": [
    {
     "data": {
      "text/html": [
       "<div>\n",
       "<style scoped>\n",
       "    .dataframe tbody tr th:only-of-type {\n",
       "        vertical-align: middle;\n",
       "    }\n",
       "\n",
       "    .dataframe tbody tr th {\n",
       "        vertical-align: top;\n",
       "    }\n",
       "\n",
       "    .dataframe thead th {\n",
       "        text-align: right;\n",
       "    }\n",
       "</style>\n",
       "<table border=\"1\" class=\"dataframe\">\n",
       "  <thead>\n",
       "    <tr style=\"text-align: right;\">\n",
       "      <th></th>\n",
       "      <th>WOS_URL</th>\n",
       "      <th>Title</th>\n",
       "      <th>co_author1</th>\n",
       "      <th>co_author2</th>\n",
       "      <th>journal_type</th>\n",
       "      <th>research_areas</th>\n",
       "      <th>WOS_cate</th>\n",
       "      <th>address</th>\n",
       "      <th>organization</th>\n",
       "      <th>date</th>\n",
       "      <th>cited_time</th>\n",
       "      <th>num_of_ref</th>\n",
       "      <th>abstract</th>\n",
       "      <th>keywords</th>\n",
       "      <th>publisher</th>\n",
       "    </tr>\n",
       "  </thead>\n",
       "  <tbody>\n",
       "    <tr>\n",
       "      <th>0</th>\n",
       "      <td>http://gateway.webofknowledge.com/gateway/Gate...</td>\n",
       "      <td>Nelson-Plosser revisited: The ACF approach</td>\n",
       "      <td>[abadir, km, caggiano, g, talmain, g]</td>\n",
       "      <td>[Abadir, Karim M, Caggiano, Giovanni, Talmain,...</td>\n",
       "      <td>JOURNAL OF ECONOMETRICS</td>\n",
       "      <td>[Business &amp; Economics,  Mathematics,  Mathemat...</td>\n",
       "      <td>[Economics,  Mathematics, Interdisciplinary Ap...</td>\n",
       "      <td>[Univ Glasgow, Glasgow G QQ, Lanark, Scotland,...</td>\n",
       "      <td>[Imperial College London, University of Glasgo...</td>\n",
       "      <td>13-Jul</td>\n",
       "      <td>5</td>\n",
       "      <td>42</td>\n",
       "      <td>We detect a new stylized fact that is common t...</td>\n",
       "      <td>[MACROECONOMIC TIME-SERIES, LONG-MEMORY, STOCK...</td>\n",
       "      <td>ELSEVIER SCIENCE SA, PO BOX 564, 1001 LAUSANNE...</td>\n",
       "    </tr>\n",
       "    <tr>\n",
       "      <th>1</th>\n",
       "      <td>http://gateway.webofknowledge.com/gateway/Gate...</td>\n",
       "      <td>An I(d) model with trend and cycles</td>\n",
       "      <td>[abadir, km, distaso, w, giraitis, l]</td>\n",
       "      <td>[Abadir, Karim M, Distaso, Walter, Giraitis, L...</td>\n",
       "      <td>JOURNAL OF ECONOMETRICS</td>\n",
       "      <td>[Business &amp; Economics,  Mathematics,  Mathemat...</td>\n",
       "      <td>[Economics,  Mathematics, Interdisciplinary Ap...</td>\n",
       "      <td>[Univ London, Dept Econ, London E NS, England,...</td>\n",
       "      <td>[Imperial College London, University of London]</td>\n",
       "      <td>11-Aug</td>\n",
       "      <td>5</td>\n",
       "      <td>22</td>\n",
       "      <td>This paper deals with models allowing for tren...</td>\n",
       "      <td>[LONG-RANGE DEPENDENCE, MEMORY STATIONARY ERRO...</td>\n",
       "      <td>ELSEVIER SCIENCE SA, PO BOX 564, 1001 LAUSANNE...</td>\n",
       "    </tr>\n",
       "  </tbody>\n",
       "</table>\n",
       "</div>"
      ],
      "text/plain": [
       "                                             WOS_URL  \\\n",
       "0  http://gateway.webofknowledge.com/gateway/Gate...   \n",
       "1  http://gateway.webofknowledge.com/gateway/Gate...   \n",
       "\n",
       "                                        Title  \\\n",
       "0  Nelson-Plosser revisited: The ACF approach   \n",
       "1         An I(d) model with trend and cycles   \n",
       "\n",
       "                              co_author1  \\\n",
       "0  [abadir, km, caggiano, g, talmain, g]   \n",
       "1  [abadir, km, distaso, w, giraitis, l]   \n",
       "\n",
       "                                          co_author2             journal_type  \\\n",
       "0  [Abadir, Karim M, Caggiano, Giovanni, Talmain,...  JOURNAL OF ECONOMETRICS   \n",
       "1  [Abadir, Karim M, Distaso, Walter, Giraitis, L...  JOURNAL OF ECONOMETRICS   \n",
       "\n",
       "                                      research_areas  \\\n",
       "0  [Business & Economics,  Mathematics,  Mathemat...   \n",
       "1  [Business & Economics,  Mathematics,  Mathemat...   \n",
       "\n",
       "                                            WOS_cate  \\\n",
       "0  [Economics,  Mathematics, Interdisciplinary Ap...   \n",
       "1  [Economics,  Mathematics, Interdisciplinary Ap...   \n",
       "\n",
       "                                             address  \\\n",
       "0  [Univ Glasgow, Glasgow G QQ, Lanark, Scotland,...   \n",
       "1  [Univ London, Dept Econ, London E NS, England,...   \n",
       "\n",
       "                                        organization    date  cited_time  \\\n",
       "0  [Imperial College London, University of Glasgo...  13-Jul           5   \n",
       "1    [Imperial College London, University of London]  11-Aug           5   \n",
       "\n",
       "   num_of_ref                                           abstract  \\\n",
       "0          42  We detect a new stylized fact that is common t...   \n",
       "1          22  This paper deals with models allowing for tren...   \n",
       "\n",
       "                                            keywords  \\\n",
       "0  [MACROECONOMIC TIME-SERIES, LONG-MEMORY, STOCK...   \n",
       "1  [LONG-RANGE DEPENDENCE, MEMORY STATIONARY ERRO...   \n",
       "\n",
       "                                           publisher  \n",
       "0  ELSEVIER SCIENCE SA, PO BOX 564, 1001 LAUSANNE...  \n",
       "1  ELSEVIER SCIENCE SA, PO BOX 564, 1001 LAUSANNE...  "
      ]
     },
     "execution_count": 807,
     "metadata": {},
     "output_type": "execute_result"
    }
   ],
   "source": [
    "# Base dataset\n",
    "WOS_df = pd.read_pickle('./data/WOS_scraped_df_ver3.pkl')\n",
    "WOS_df.head(2)"
   ]
  },
  {
   "cell_type": "markdown",
   "metadata": {},
   "source": [
    "## 1. Year since published\n",
    "\n",
    "As depicted below, the longer the year of a publcation is passed, the higher chances a publication gets to be cited. To control this factor, the \"yrs_since_published\" variable which is calculated by subtract 2019 to published years is created. "
   ]
  },
  {
   "cell_type": "code",
   "execution_count": 113,
   "metadata": {},
   "outputs": [],
   "source": [
    "# Call datetime class to now\n",
    "now = datetime.datetime.now()\n",
    "\n",
    "# By using regex, extract the numbers related to years\n",
    "number_only = [''.join(re.findall(r'\\d+', j)) for j in WOS_df.date]\n",
    "year_only = [i[-2:] for i in number_only]\n",
    "\n",
    "year_list = []\n",
    "for y in year_only:\n",
    "    if int(y) > int(str(now.year)[2:4]): # greater than 18\n",
    "        year_list.append('19' + y)\n",
    "    else:\n",
    "        year_list.append('20'+ y)\n",
    "WOS_df['published_yrs'] = year_list\n",
    "WOS_df['yrs_since_published'] = [now.year - int(y) + 1 for y in year_list]"
   ]
  },
  {
   "cell_type": "code",
   "execution_count": 114,
   "metadata": {
    "scrolled": true
   },
   "outputs": [
    {
     "data": {
      "text/html": [
       "<div>\n",
       "<style scoped>\n",
       "    .dataframe tbody tr th:only-of-type {\n",
       "        vertical-align: middle;\n",
       "    }\n",
       "\n",
       "    .dataframe tbody tr th {\n",
       "        vertical-align: top;\n",
       "    }\n",
       "\n",
       "    .dataframe thead th {\n",
       "        text-align: right;\n",
       "    }\n",
       "</style>\n",
       "<table border=\"1\" class=\"dataframe\">\n",
       "  <thead>\n",
       "    <tr style=\"text-align: right;\">\n",
       "      <th></th>\n",
       "      <th>Title</th>\n",
       "      <th>cited_time</th>\n",
       "      <th>yrs_since_published</th>\n",
       "      <th>published_yrs</th>\n",
       "    </tr>\n",
       "  </thead>\n",
       "  <tbody>\n",
       "    <tr>\n",
       "      <th>0</th>\n",
       "      <td>Nelson-Plosser revisited: The ACF approach</td>\n",
       "      <td>5</td>\n",
       "      <td>6</td>\n",
       "      <td>2013</td>\n",
       "    </tr>\n",
       "    <tr>\n",
       "      <th>1</th>\n",
       "      <td>An I(d) model with trend and cycles</td>\n",
       "      <td>5</td>\n",
       "      <td>8</td>\n",
       "      <td>2011</td>\n",
       "    </tr>\n",
       "    <tr>\n",
       "      <th>2</th>\n",
       "      <td>Two estimators of the long-run variance: Beyon...</td>\n",
       "      <td>9</td>\n",
       "      <td>10</td>\n",
       "      <td>2009</td>\n",
       "    </tr>\n",
       "    <tr>\n",
       "      <th>3</th>\n",
       "      <td>Testing joint hypotheses when one of the alter...</td>\n",
       "      <td>24</td>\n",
       "      <td>12</td>\n",
       "      <td>2007</td>\n",
       "    </tr>\n",
       "    <tr>\n",
       "      <th>4</th>\n",
       "      <td>Nonstationarity-extended local Whittle estimation</td>\n",
       "      <td>81</td>\n",
       "      <td>12</td>\n",
       "      <td>2007</td>\n",
       "    </tr>\n",
       "  </tbody>\n",
       "</table>\n",
       "</div>"
      ],
      "text/plain": [
       "                                               Title  cited_time  \\\n",
       "0         Nelson-Plosser revisited: The ACF approach           5   \n",
       "1                An I(d) model with trend and cycles           5   \n",
       "2  Two estimators of the long-run variance: Beyon...           9   \n",
       "3  Testing joint hypotheses when one of the alter...          24   \n",
       "4  Nonstationarity-extended local Whittle estimation          81   \n",
       "\n",
       "   yrs_since_published published_yrs  \n",
       "0                    6          2013  \n",
       "1                    8          2011  \n",
       "2                   10          2009  \n",
       "3                   12          2007  \n",
       "4                   12          2007  "
      ]
     },
     "execution_count": 114,
     "metadata": {},
     "output_type": "execute_result"
    }
   ],
   "source": [
    "WOS_df[['Title', 'cited_time', 'yrs_since_published', 'published_yrs']].head(5)"
   ]
  },
  {
   "cell_type": "code",
   "execution_count": 115,
   "metadata": {},
   "outputs": [
    {
     "data": {
      "image/png": "[encoded data removed]",
      "text/plain": [
       "<matplotlib.figure.Figure at 0x24630608e10>"
      ]
     },
     "metadata": {},
     "output_type": "display_data"
    }
   ],
   "source": [
    "WOS_df.groupby('yrs_since_published').mean()['cited_time'].plot(kind = 'bar')\n",
    "plt.ylabel('cited time on avg')\n",
    "plt.show()"
   ]
  },
  {
   "cell_type": "code",
   "execution_count": 722,
   "metadata": {},
   "outputs": [
    {
     "data": {
      "image/png": "[encoded data removed]",
      "text/plain": [
       "<matplotlib.figure.Figure at 0x24647be7b38>"
      ]
     },
     "metadata": {},
     "output_type": "display_data"
    }
   ],
   "source": [
    "plt.rcParams['figure.figsize']  = (5, 5)\n",
    "WOS_df['yrs_since_published'].hist(bins = 20)\n",
    "plt.xlabel('yrs_since_published')\n",
    "plt.ylabel('publication count')\n",
    "plt.show()"
   ]
  },
  {
   "cell_type": "markdown",
   "metadata": {},
   "source": [
    "## 2. Organization Country (Preprocessing Only)\n",
    "\n",
    "To measure diversity in terms of country, nation lists were extracted from the address column which includes the names of universities, address in details, and countries. The diversity factor will be generated in the latter section"
   ]
  },
  {
   "cell_type": "code",
   "execution_count": 117,
   "metadata": {},
   "outputs": [],
   "source": [
    "#Get the country name from the address column.\n",
    "states = [\"AL\", \"AK\", \"AZ\", \"AR\", \"CA\", \"CO\", \"CT\", \"DC\", \"DE\", \"FL\", \"GA\", \n",
    "          \"HI\", \"ID\", \"IL\", \"IN\", \"IA\", \"KS\", \"KY\", \"LA\", \"ME\", \"MD\", \n",
    "          \"MA\", \"MI\", \"MN\", \"MS\", \"MO\", \"MT\", \"NE\", \"NV\", \"NH\", \"NJ\", \n",
    "          \"NM\", \"NY\", \"NC\", \"ND\", \"OH\", \"OK\", \"OR\", \"PA\", \"RI\", \"SC\", \n",
    "          \"SD\", \"TN\", \"TX\", \"UT\", \"VT\", \"VA\", \"WA\", \"WV\", \"WI\", \"WY\"]\n",
    "\n",
    "address_list = []\n",
    "for i in list(WOS_df.address):\n",
    "    add_unit = []\n",
    "    for j in i:\n",
    "        if 'USA' in j.split(',')[-1].strip().upper():\n",
    "            add_unit.append('USA')\n",
    "        elif j.split(',')[-1].strip().upper() in states:\n",
    "            add_unit.append('USA')\n",
    "        elif 'CHINA' in j.split(',')[-1].strip().upper():\n",
    "            add_unit.append('CHINA')\n",
    "        else:\n",
    "            add_unit.append(j.split(',')[-1].strip().upper()) \n",
    "    if len(add_unit) == 0:\n",
    "        address_list.append(['ENGLAND'])\n",
    "    else:\n",
    "        address_list.append(list(add_unit))\n",
    "        \n",
    "WOS_df['organ_country'] = address_list"
   ]
  },
  {
   "cell_type": "code",
   "execution_count": 723,
   "metadata": {},
   "outputs": [
    {
     "data": {
      "text/html": [
       "<div>\n",
       "<style scoped>\n",
       "    .dataframe tbody tr th:only-of-type {\n",
       "        vertical-align: middle;\n",
       "    }\n",
       "\n",
       "    .dataframe tbody tr th {\n",
       "        vertical-align: top;\n",
       "    }\n",
       "\n",
       "    .dataframe thead th {\n",
       "        text-align: right;\n",
       "    }\n",
       "</style>\n",
       "<table border=\"1\" class=\"dataframe\">\n",
       "  <thead>\n",
       "    <tr style=\"text-align: right;\">\n",
       "      <th></th>\n",
       "      <th>Title</th>\n",
       "      <th>cited_time</th>\n",
       "      <th>address</th>\n",
       "      <th>organ_country</th>\n",
       "    </tr>\n",
       "  </thead>\n",
       "  <tbody>\n",
       "    <tr>\n",
       "      <th>0</th>\n",
       "      <td>Nelson-Plosser revisited: The ACF approach</td>\n",
       "      <td>5</td>\n",
       "      <td>[Univ Glasgow, Glasgow G QQ, Lanark, Scotland,...</td>\n",
       "      <td>[SCOTLAND, ENGLAND, ENGLAND, ITALY]</td>\n",
       "    </tr>\n",
       "    <tr>\n",
       "      <th>1</th>\n",
       "      <td>An I(d) model with trend and cycles</td>\n",
       "      <td>5</td>\n",
       "      <td>[Univ London, Dept Econ, London E NS, England,...</td>\n",
       "      <td>[ENGLAND, ENGLAND]</td>\n",
       "    </tr>\n",
       "    <tr>\n",
       "      <th>2</th>\n",
       "      <td>Two estimators of the long-run variance: Beyon...</td>\n",
       "      <td>9</td>\n",
       "      <td>[Univ London, Dept Econ, London E NS, England,...</td>\n",
       "      <td>[ENGLAND, ENGLAND]</td>\n",
       "    </tr>\n",
       "    <tr>\n",
       "      <th>3</th>\n",
       "      <td>Testing joint hypotheses when one of the alter...</td>\n",
       "      <td>24</td>\n",
       "      <td>[Univ London Imperial Coll Sci Technol  Med, L...</td>\n",
       "      <td>[ENGLAND]</td>\n",
       "    </tr>\n",
       "    <tr>\n",
       "      <th>4</th>\n",
       "      <td>Nonstationarity-extended local Whittle estimation</td>\n",
       "      <td>81</td>\n",
       "      <td>[Univ London Imperial Coll Sci Technol  Med, T...</td>\n",
       "      <td>[ENGLAND, ENGLAND]</td>\n",
       "    </tr>\n",
       "  </tbody>\n",
       "</table>\n",
       "</div>"
      ],
      "text/plain": [
       "                                               Title  cited_time  \\\n",
       "0         Nelson-Plosser revisited: The ACF approach           5   \n",
       "1                An I(d) model with trend and cycles           5   \n",
       "2  Two estimators of the long-run variance: Beyon...           9   \n",
       "3  Testing joint hypotheses when one of the alter...          24   \n",
       "4  Nonstationarity-extended local Whittle estimation          81   \n",
       "\n",
       "                                             address  \\\n",
       "0  [Univ Glasgow, Glasgow G QQ, Lanark, Scotland,...   \n",
       "1  [Univ London, Dept Econ, London E NS, England,...   \n",
       "2  [Univ London, Dept Econ, London E NS, England,...   \n",
       "3  [Univ London Imperial Coll Sci Technol  Med, L...   \n",
       "4  [Univ London Imperial Coll Sci Technol  Med, T...   \n",
       "\n",
       "                         organ_country  \n",
       "0  [SCOTLAND, ENGLAND, ENGLAND, ITALY]  \n",
       "1                   [ENGLAND, ENGLAND]  \n",
       "2                   [ENGLAND, ENGLAND]  \n",
       "3                            [ENGLAND]  \n",
       "4                   [ENGLAND, ENGLAND]  "
      ]
     },
     "execution_count": 723,
     "metadata": {},
     "output_type": "execute_result"
    }
   ],
   "source": [
    "WOS_df[['Title', 'cited_time', 'address', 'organ_country']].head(5)"
   ]
  },
  {
   "cell_type": "markdown",
   "metadata": {},
   "source": [
    "## 3. Authors"
   ]
  },
  {
   "cell_type": "markdown",
   "metadata": {},
   "source": [
    "### The number of the authors for each publication\n",
    "\n",
    "Authors-related indicators are primary keys to measure the publications performance in that a publication written by authors with dominant reputation will be more likely to be read or cited by other authors. Above all, the number of the co-authors could be the simplest, but the most effective variable to be created. As shown on the first chart, the larger the number of co-authors is , the higher cited time the publications mostly acquire."
   ]
  },
  {
   "cell_type": "code",
   "execution_count": 119,
   "metadata": {},
   "outputs": [],
   "source": [
    "# The number of the authors for each publication\n",
    "WOS_df['co_author_num'] = WOS_df['co_author1'].apply(lambda x:len(x))"
   ]
  },
  {
   "cell_type": "code",
   "execution_count": 120,
   "metadata": {},
   "outputs": [
    {
     "data": {
      "image/png": "[encoded data removed]",
      "text/plain": [
       "<matplotlib.figure.Figure at 0x246307d4b70>"
      ]
     },
     "metadata": {},
     "output_type": "display_data"
    }
   ],
   "source": [
    "WOS_df.groupby('co_author_num').mean()['cited_time'].plot(kind = 'bar')\n",
    "plt.xlabel('Number of Co-authors')\n",
    "plt.ylabel('cited time on avg')\n",
    "plt.show()"
   ]
  },
  {
   "cell_type": "markdown",
   "metadata": {},
   "source": [
    "### Odd number of the authors as a dummy (1 = odd-size group)\n",
    "\n",
    "According to a business journal in 2011, the odd-sized groups perform better than the even-sized groups. This is because the odd-sized groups have higher coalition due to not being evenly balanced, which mostly draws the better results(Menon and Phillips, 2011).  Therefore, I created the dummy labeld as 1 if either the number of the group member is odd and not a single author. As depicted below, the odd-sized group mostly gets higher number of citation than the even sized group and a group of single authors."
   ]
  },
  {
   "cell_type": "code",
   "execution_count": 121,
   "metadata": {},
   "outputs": [],
   "source": [
    "WOS_df['author_odd_num_dummy'] = np.where(np.logical_or((WOS_df['co_author_num']%2 == 0), (WOS_df['co_author_num'] == 1 )), 0, 1)"
   ]
  },
  {
   "cell_type": "code",
   "execution_count": 122,
   "metadata": {},
   "outputs": [
    {
     "data": {
      "image/png": "[encoded data removed]",
      "text/plain": [
       "<matplotlib.figure.Figure at 0x246308dc0b8>"
      ]
     },
     "metadata": {},
     "output_type": "display_data"
    }
   ],
   "source": [
    "WOS_df.groupby('author_odd_num_dummy').mean()['cited_time'].plot(kind = 'bar')\n",
    "plt.xlabel('even-sized&single author(0)     vs.     Odd-sized(1)')\n",
    "plt.ylabel('cited time on avg')\n",
    "plt.show()"
   ]
  },
  {
   "cell_type": "markdown",
   "metadata": {},
   "source": [
    "### The average h index of the authors\n",
    "\n",
    "The author.csv file demonstrates each author's performance in term of publication history. Among the acheivement indicators, h-index would be typical of measurement to authors' productivity. Therefore, the h index on average in the group of the authors for a publication is calculated as a metric of the publications performance. As shown in the below chart, the documents with the higher h index on average occupies on the upper right, which indicates the h index on average could be a metric to evaluate  publications quality."
   ]
  },
  {
   "cell_type": "code",
   "execution_count": 123,
   "metadata": {},
   "outputs": [
    {
     "data": {
      "text/html": [
       "<div>\n",
       "<style scoped>\n",
       "    .dataframe tbody tr th:only-of-type {\n",
       "        vertical-align: middle;\n",
       "    }\n",
       "\n",
       "    .dataframe tbody tr th {\n",
       "        vertical-align: top;\n",
       "    }\n",
       "\n",
       "    .dataframe thead th {\n",
       "        text-align: right;\n",
       "    }\n",
       "</style>\n",
       "<table border=\"1\" class=\"dataframe\">\n",
       "  <thead>\n",
       "    <tr style=\"text-align: right;\">\n",
       "      <th></th>\n",
       "      <th>name</th>\n",
       "      <th>name_id</th>\n",
       "      <th>ttl_publication</th>\n",
       "      <th>h-index</th>\n",
       "      <th>avg_citation_per_item</th>\n",
       "      <th>sum_of_times_cited</th>\n",
       "      <th>without_self_citations</th>\n",
       "      <th>citing_articles</th>\n",
       "      <th>without_self_citations_article</th>\n",
       "    </tr>\n",
       "  </thead>\n",
       "  <tbody>\n",
       "    <tr>\n",
       "      <th>0</th>\n",
       "      <td>Cosh, A</td>\n",
       "      <td>cosh, a</td>\n",
       "      <td>8</td>\n",
       "      <td>7</td>\n",
       "      <td>42.63</td>\n",
       "      <td>341</td>\n",
       "      <td>339</td>\n",
       "      <td>330</td>\n",
       "      <td>328</td>\n",
       "    </tr>\n",
       "    <tr>\n",
       "      <th>1</th>\n",
       "      <td>Hughes, A</td>\n",
       "      <td>hughes, a</td>\n",
       "      <td>39</td>\n",
       "      <td>17</td>\n",
       "      <td>32.54</td>\n",
       "      <td>1269</td>\n",
       "      <td>1257</td>\n",
       "      <td>1211</td>\n",
       "      <td>1202</td>\n",
       "    </tr>\n",
       "    <tr>\n",
       "      <th>2</th>\n",
       "      <td>Toms, S</td>\n",
       "      <td>toms, s</td>\n",
       "      <td>58</td>\n",
       "      <td>12</td>\n",
       "      <td>7.78</td>\n",
       "      <td>451</td>\n",
       "      <td>380</td>\n",
       "      <td>349</td>\n",
       "      <td>322</td>\n",
       "    </tr>\n",
       "    <tr>\n",
       "      <th>3</th>\n",
       "      <td>Wright, M</td>\n",
       "      <td>wright, m</td>\n",
       "      <td>318</td>\n",
       "      <td>68</td>\n",
       "      <td>49.07</td>\n",
       "      <td>15603</td>\n",
       "      <td>14181</td>\n",
       "      <td>9245</td>\n",
       "      <td>8992</td>\n",
       "    </tr>\n",
       "    <tr>\n",
       "      <th>4</th>\n",
       "      <td>Calzada, Joan</td>\n",
       "      <td>calzada, j</td>\n",
       "      <td>21</td>\n",
       "      <td>8</td>\n",
       "      <td>6.48</td>\n",
       "      <td>136</td>\n",
       "      <td>129</td>\n",
       "      <td>128</td>\n",
       "      <td>122</td>\n",
       "    </tr>\n",
       "  </tbody>\n",
       "</table>\n",
       "</div>"
      ],
      "text/plain": [
       "            name     name_id  ttl_publication  h-index  avg_citation_per_item  \\\n",
       "0        Cosh, A     cosh, a                8        7                  42.63   \n",
       "1      Hughes, A   hughes, a               39       17                  32.54   \n",
       "2        Toms, S     toms, s               58       12                   7.78   \n",
       "3      Wright, M   wright, m              318       68                  49.07   \n",
       "4  Calzada, Joan  calzada, j               21        8                   6.48   \n",
       "\n",
       "   sum_of_times_cited  without_self_citations  citing_articles  \\\n",
       "0                 341                     339              330   \n",
       "1                1269                    1257             1211   \n",
       "2                 451                     380              349   \n",
       "3               15603                   14181             9245   \n",
       "4                 136                     129              128   \n",
       "\n",
       "   without_self_citations_article  \n",
       "0                             328  \n",
       "1                            1202  \n",
       "2                             322  \n",
       "3                            8992  \n",
       "4                             122  "
      ]
     },
     "execution_count": 123,
     "metadata": {},
     "output_type": "execute_result"
    }
   ],
   "source": [
    "# Author Information\n",
    "authors_info = pd.read_csv('./data/Author.csv')\n",
    "authors_info.drop(columns = ['publication_url', 'authors_url'], axis = 1).head(5)"
   ]
  },
  {
   "cell_type": "code",
   "execution_count": 124,
   "metadata": {},
   "outputs": [],
   "source": [
    "avg_author_h_index = []\n",
    "for row, authors in enumerate(list(WOS_df.co_author1)):\n",
    "    h_index = 0\n",
    "    count = 0\n",
    "    for idx in range(len(authors)):\n",
    "        ind = authors_info[authors_info.name_id == str(authors[idx])].index[0]\n",
    "        h_index += float(authors_info.loc[ind, ('h-index')])\n",
    "        count+= 1\n",
    "    avg_author_h_index.append(float(h_index)/float(count))\n",
    "WOS_df['avg_authors_h_index'] = avg_author_h_index"
   ]
  },
  {
   "cell_type": "code",
   "execution_count": 724,
   "metadata": {},
   "outputs": [
    {
     "data": {
      "image/png": "[encoded data removed]",
      "text/plain": [
       "<matplotlib.figure.Figure at 0x24647bdfa90>"
      ]
     },
     "metadata": {},
     "output_type": "display_data"
    }
   ],
   "source": [
    "author_sub = WOS_df.groupby('avg_authors_h_index').mean()['cited_time'].reset_index()\n",
    "plt.scatter(x = list(author_sub.avg_authors_h_index), y = list(author_sub.cited_time))\n",
    "plt.xlabel('Authors H index on avg')\n",
    "plt.ylabel('cited time on avg')\n",
    "plt.ylim(0, 200)\n",
    "plt.show()"
   ]
  },
  {
   "cell_type": "code",
   "execution_count": 126,
   "metadata": {},
   "outputs": [
    {
     "data": {
      "text/html": [
       "<div>\n",
       "<style scoped>\n",
       "    .dataframe tbody tr th:only-of-type {\n",
       "        vertical-align: middle;\n",
       "    }\n",
       "\n",
       "    .dataframe tbody tr th {\n",
       "        vertical-align: top;\n",
       "    }\n",
       "\n",
       "    .dataframe thead th {\n",
       "        text-align: right;\n",
       "    }\n",
       "</style>\n",
       "<table border=\"1\" class=\"dataframe\">\n",
       "  <thead>\n",
       "    <tr style=\"text-align: right;\">\n",
       "      <th></th>\n",
       "      <th>Title</th>\n",
       "      <th>cited_time</th>\n",
       "      <th>avg_authors_h_index</th>\n",
       "      <th>co_author_num</th>\n",
       "    </tr>\n",
       "  </thead>\n",
       "  <tbody>\n",
       "    <tr>\n",
       "      <th>0</th>\n",
       "      <td>Nelson-Plosser revisited: The ACF approach</td>\n",
       "      <td>5</td>\n",
       "      <td>6.333333</td>\n",
       "      <td>3</td>\n",
       "    </tr>\n",
       "    <tr>\n",
       "      <th>1</th>\n",
       "      <td>An I(d) model with trend and cycles</td>\n",
       "      <td>5</td>\n",
       "      <td>7.333333</td>\n",
       "      <td>3</td>\n",
       "    </tr>\n",
       "    <tr>\n",
       "      <th>2</th>\n",
       "      <td>Two estimators of the long-run variance: Beyon...</td>\n",
       "      <td>9</td>\n",
       "      <td>7.333333</td>\n",
       "      <td>3</td>\n",
       "    </tr>\n",
       "    <tr>\n",
       "      <th>3</th>\n",
       "      <td>Testing joint hypotheses when one of the alter...</td>\n",
       "      <td>24</td>\n",
       "      <td>6.000000</td>\n",
       "      <td>2</td>\n",
       "    </tr>\n",
       "    <tr>\n",
       "      <th>4</th>\n",
       "      <td>Nonstationarity-extended local Whittle estimation</td>\n",
       "      <td>81</td>\n",
       "      <td>4.333333</td>\n",
       "      <td>3</td>\n",
       "    </tr>\n",
       "  </tbody>\n",
       "</table>\n",
       "</div>"
      ],
      "text/plain": [
       "                                               Title  cited_time  \\\n",
       "0         Nelson-Plosser revisited: The ACF approach           5   \n",
       "1                An I(d) model with trend and cycles           5   \n",
       "2  Two estimators of the long-run variance: Beyon...           9   \n",
       "3  Testing joint hypotheses when one of the alter...          24   \n",
       "4  Nonstationarity-extended local Whittle estimation          81   \n",
       "\n",
       "   avg_authors_h_index  co_author_num  \n",
       "0             6.333333              3  \n",
       "1             7.333333              3  \n",
       "2             7.333333              3  \n",
       "3             6.000000              2  \n",
       "4             4.333333              3  "
      ]
     },
     "execution_count": 126,
     "metadata": {},
     "output_type": "execute_result"
    }
   ],
   "source": [
    "WOS_df[['Title', 'cited_time', 'avg_authors_h_index', 'co_author_num']].head(5)"
   ]
  },
  {
   "cell_type": "markdown",
   "metadata": {},
   "source": [
    "## 4. Reference\n",
    "\n",
    "References are also "
   ]
  },
  {
   "cell_type": "code",
   "execution_count": 127,
   "metadata": {},
   "outputs": [
    {
     "data": {
      "text/html": [
       "<div>\n",
       "<style scoped>\n",
       "    .dataframe tbody tr th:only-of-type {\n",
       "        vertical-align: middle;\n",
       "    }\n",
       "\n",
       "    .dataframe tbody tr th {\n",
       "        vertical-align: top;\n",
       "    }\n",
       "\n",
       "    .dataframe thead th {\n",
       "        text-align: right;\n",
       "    }\n",
       "</style>\n",
       "<table border=\"1\" class=\"dataframe\">\n",
       "  <thead>\n",
       "    <tr style=\"text-align: right;\">\n",
       "      <th></th>\n",
       "      <th>citing_title</th>\n",
       "      <th>citing_year</th>\n",
       "      <th>ref_title</th>\n",
       "      <th>ref_year</th>\n",
       "      <th>ref_times_cited</th>\n",
       "    </tr>\n",
       "  </thead>\n",
       "  <tbody>\n",
       "    <tr>\n",
       "      <th>0</th>\n",
       "      <td>MANEUVERING IN POOR VISIBILITY: HOW FIRMS PLAY...</td>\n",
       "      <td>18-Apr</td>\n",
       "      <td>What is not a real option: Considering boundar...</td>\n",
       "      <td>04-Jan</td>\n",
       "      <td>222</td>\n",
       "    </tr>\n",
       "    <tr>\n",
       "      <th>1</th>\n",
       "      <td>MANEUVERING IN POOR VISIBILITY: HOW FIRMS PLAY...</td>\n",
       "      <td>18-Apr</td>\n",
       "      <td>Match your innovation strategy to your innovat...</td>\n",
       "      <td>06-Apr</td>\n",
       "      <td>247</td>\n",
       "    </tr>\n",
       "    <tr>\n",
       "      <th>2</th>\n",
       "      <td>MANEUVERING IN POOR VISIBILITY: HOW FIRMS PLAY...</td>\n",
       "      <td>18-Apr</td>\n",
       "      <td>NaN</td>\n",
       "      <td>2012</td>\n",
       "      <td>14</td>\n",
       "    </tr>\n",
       "    <tr>\n",
       "      <th>3</th>\n",
       "      <td>MANEUVERING IN POOR VISIBILITY: HOW FIRMS PLAY...</td>\n",
       "      <td>18-Apr</td>\n",
       "      <td>INTRODUCTION: COLLABORATION AND COMPETITION IN...</td>\n",
       "      <td>2013</td>\n",
       "      <td>2</td>\n",
       "    </tr>\n",
       "    <tr>\n",
       "      <th>4</th>\n",
       "      <td>MANEUVERING IN POOR VISIBILITY: HOW FIRMS PLAY...</td>\n",
       "      <td>18-Apr</td>\n",
       "      <td>Innovation ecosystems and the pace of substitu...</td>\n",
       "      <td>16-Apr</td>\n",
       "      <td>26</td>\n",
       "    </tr>\n",
       "  </tbody>\n",
       "</table>\n",
       "</div>"
      ],
      "text/plain": [
       "                                        citing_title citing_year  \\\n",
       "0  MANEUVERING IN POOR VISIBILITY: HOW FIRMS PLAY...      18-Apr   \n",
       "1  MANEUVERING IN POOR VISIBILITY: HOW FIRMS PLAY...      18-Apr   \n",
       "2  MANEUVERING IN POOR VISIBILITY: HOW FIRMS PLAY...      18-Apr   \n",
       "3  MANEUVERING IN POOR VISIBILITY: HOW FIRMS PLAY...      18-Apr   \n",
       "4  MANEUVERING IN POOR VISIBILITY: HOW FIRMS PLAY...      18-Apr   \n",
       "\n",
       "                                           ref_title ref_year ref_times_cited  \n",
       "0  What is not a real option: Considering boundar...   04-Jan             222  \n",
       "1  Match your innovation strategy to your innovat...   06-Apr             247  \n",
       "2                                                NaN     2012              14  \n",
       "3  INTRODUCTION: COLLABORATION AND COMPETITION IN...     2013               2  \n",
       "4  Innovation ecosystems and the pace of substitu...   16-Apr              26  "
      ]
     },
     "execution_count": 127,
     "metadata": {},
     "output_type": "execute_result"
    }
   ],
   "source": [
    "# Reference Information\n",
    "ref = pd.read_csv('./data/Reference.csv')\n",
    "ref = ref[ref.ref_year != 'no_reference'] #delete the no reference lines\n",
    "ref.drop(columns = ['publication_url'], axis =1).head(5)"
   ]
  },
  {
   "cell_type": "code",
   "execution_count": 128,
   "metadata": {},
   "outputs": [
    {
     "name": "stdout",
     "output_type": "stream",
     "text": [
      "The number of the missing values in the ref_year column: 371\n"
     ]
    }
   ],
   "source": [
    "print('The number of the missing values in the ref_year column:', ref.isnull().sum()['ref_year'])"
   ]
  },
  {
   "cell_type": "markdown",
   "metadata": {},
   "source": [
    "### Web-scraping the google scholar to fill the na values in the \"ref_year\" column"
   ]
  },
  {
   "cell_type": "code",
   "execution_count": 129,
   "metadata": {},
   "outputs": [
    {
     "data": {
      "text/html": [
       "<div>\n",
       "<style scoped>\n",
       "    .dataframe tbody tr th:only-of-type {\n",
       "        vertical-align: middle;\n",
       "    }\n",
       "\n",
       "    .dataframe tbody tr th {\n",
       "        vertical-align: top;\n",
       "    }\n",
       "\n",
       "    .dataframe thead th {\n",
       "        text-align: right;\n",
       "    }\n",
       "</style>\n",
       "<table border=\"1\" class=\"dataframe\">\n",
       "  <thead>\n",
       "    <tr style=\"text-align: right;\">\n",
       "      <th></th>\n",
       "      <th>citing_title</th>\n",
       "      <th>ref_title</th>\n",
       "      <th>ref_year</th>\n",
       "    </tr>\n",
       "  </thead>\n",
       "  <tbody>\n",
       "    <tr>\n",
       "      <th>3545</th>\n",
       "      <td>Knowledge Worker Mobility in Context: Pushing ...</td>\n",
       "      <td>Social ties, prior experience, and venture cre...</td>\n",
       "      <td>NaN</td>\n",
       "    </tr>\n",
       "    <tr>\n",
       "      <th>3937</th>\n",
       "      <td>Toward an integrated approach to nutritional q...</td>\n",
       "      <td>Access to adequate food: new indicators to tra...</td>\n",
       "      <td>NaN</td>\n",
       "    </tr>\n",
       "    <tr>\n",
       "      <th>3946</th>\n",
       "      <td>Toward an integrated approach to nutritional q...</td>\n",
       "      <td>The Implications of a changing climate on glob...</td>\n",
       "      <td>NaN</td>\n",
       "    </tr>\n",
       "    <tr>\n",
       "      <th>5043</th>\n",
       "      <td>Game On? Smoking Cessation Through the Gamific...</td>\n",
       "      <td>Qual Res Psychol Internet</td>\n",
       "      <td>NaN</td>\n",
       "    </tr>\n",
       "    <tr>\n",
       "      <th>5327</th>\n",
       "      <td>Equity impacts of price policies to promote he...</td>\n",
       "      <td>Responding to the challenge of resource mobili...</td>\n",
       "      <td>NaN</td>\n",
       "    </tr>\n",
       "  </tbody>\n",
       "</table>\n",
       "</div>"
      ],
      "text/plain": [
       "                                           citing_title  \\\n",
       "3545  Knowledge Worker Mobility in Context: Pushing ...   \n",
       "3937  Toward an integrated approach to nutritional q...   \n",
       "3946  Toward an integrated approach to nutritional q...   \n",
       "5043  Game On? Smoking Cessation Through the Gamific...   \n",
       "5327  Equity impacts of price policies to promote he...   \n",
       "\n",
       "                                              ref_title ref_year  \n",
       "3545  Social ties, prior experience, and venture cre...      NaN  \n",
       "3937  Access to adequate food: new indicators to tra...      NaN  \n",
       "3946  The Implications of a changing climate on glob...      NaN  \n",
       "5043                          Qual Res Psychol Internet      NaN  \n",
       "5327  Responding to the challenge of resource mobili...      NaN  "
      ]
     },
     "execution_count": 129,
     "metadata": {},
     "output_type": "execute_result"
    }
   ],
   "source": [
    "# filter the na values in the ref_year column\n",
    "na_ref_year_df = ref[(ref.ref_year.isnull() == True) & (ref.ref_title.isnull() == False)]\n",
    "na_ref_year_df[['citing_title', 'ref_title', 'ref_year']].head(5)"
   ]
  },
  {
   "cell_type": "code",
   "execution_count": 130,
   "metadata": {
    "scrolled": true
   },
   "outputs": [],
   "source": [
    "# Web-scarape the google scholar\n",
    "year_list = []\n",
    "chrome_options = Options()\n",
    "chrome_options.add_argument('--lang=en-us')\n",
    "driver = webdriver.Chrome(chrome_options=chrome_options,executable_path=r\"C:/Users/seong/Downloads/chrome/chromedriver\")\n",
    "\n",
    "#Search the titles of the references and parsing the year\n",
    "for title in list(na_ref_year_df.ref_title):\n",
    "    driver.get('https://scholar.google.co.uk/schhp?hl=en&as_sdt=0,5')\n",
    "    driver.implicitly_wait(5)\n",
    "    driver.find_element_by_xpath('//*[@id=\"gs_hdr_tsi\"]').send_keys(title)\n",
    "    driver.implicitly_wait(5)\n",
    "    driver.find_element_by_xpath('//*[@id=\"gs_hdr_tsb\"]/span/span[1]').click()\n",
    "    driver.implicitly_wait(5)\n",
    "    web_soup = BeautifulSoup(driver.page_source, \"html.parser\")\n",
    "    time.sleep(5)\n",
    "    year_parsing = web_soup.select_one('div.gs_a').text\n",
    "    try:\n",
    "        year = int(re.findall(r'\\d+', year_parsing)[0])\n",
    "    except:\n",
    "        year = np.nan\n",
    "    year_list.append(year)\n",
    "driver.quit()\n",
    "\n",
    "na_ref_year_df['ref_year'] = year_list\n",
    "#Manually adding by searching\n",
    "na_ref_year_df.loc[5043, 'ref_year'] = 2016.0"
   ]
  },
  {
   "cell_type": "code",
   "execution_count": 131,
   "metadata": {},
   "outputs": [],
   "source": [
    "#Fill the na values in the ref dataframe with the scraped date string\n",
    "for ind in list(na_ref_year_df.index):\n",
    "    ref.loc[ind, 'ref_year'] = na_ref_year_df.loc[ind, 'ref_year']"
   ]
  },
  {
   "cell_type": "code",
   "execution_count": 132,
   "metadata": {},
   "outputs": [
    {
     "name": "stdout",
     "output_type": "stream",
     "text": [
      "The number of the missing values in the ref_year column: 284\n"
     ]
    }
   ],
   "source": [
    "print('The number of the missing values in the ref_year column:', ref.isnull().sum()['ref_year'])"
   ]
  },
  {
   "cell_type": "markdown",
   "metadata": {},
   "source": [
    "### Preprocessing the date strings to extract the year only"
   ]
  },
  {
   "cell_type": "code",
   "execution_count": 133,
   "metadata": {},
   "outputs": [],
   "source": [
    "not_null_ref = ref[ref.ref_year.isnull() == False]\n",
    "not_null_ref.ref_year = not_null_ref.ref_year.astype(str)\n",
    "\n",
    "number_only = [''.join(re.findall(r'\\d+', j)) for j in list(not_null_ref.ref_year)]\n",
    "year_only = [i[-2:] for i in number_only]\n",
    "year_list = []\n",
    "for y in year_only:\n",
    "    if int(y) > int(str(now.year)[2:4]): # greater than 18\n",
    "        year_list.append('19' + y)\n",
    "    else:\n",
    "        year_list.append('20'+ y)\n",
    "not_null_ref['ref_year'] = year_list  \n",
    "\n",
    "for ind in list(not_null_ref.index):\n",
    "    ref.loc[ind, 'refined_year'] = not_null_ref.loc[ind, 'ref_year']"
   ]
  },
  {
   "cell_type": "markdown",
   "metadata": {},
   "source": [
    "### Fill the na values in the ref_year column with the references' year on average in each publication"
   ]
  },
  {
   "cell_type": "code",
   "execution_count": 134,
   "metadata": {},
   "outputs": [],
   "source": [
    "for url in list(ref.publication_url.unique()):\n",
    "    url_group_year = ref[ref.publication_url == url]\n",
    "    try:\n",
    "        na_list_index = url_group_year[url_group_year.refined_year.isnull()].index\n",
    "        mean_year_of_group = url_group_year[url_group_year.refined_year.isnull() == False]['refined_year'].values.astype(int).mean().astype(int)\n",
    "        ref.loc[list(na_list_index), 'refined_year'] = mean_year_of_group \n",
    "    except:\n",
    "        continue # No na values, then continue the loop\n",
    "               \n",
    "ref.refined_year = ref.refined_year.astype(int)\n",
    "ref.reset_index(inplace= True)"
   ]
  },
  {
   "cell_type": "code",
   "execution_count": 135,
   "metadata": {},
   "outputs": [
    {
     "name": "stdout",
     "output_type": "stream",
     "text": [
      "The number of the missing values in the ref_year column: 0\n"
     ]
    }
   ],
   "source": [
    "print('The number of the missing values in the ref_year column:', ref.isnull().sum()['refined_year'])"
   ]
  },
  {
   "cell_type": "markdown",
   "metadata": {},
   "source": [
    "### Yearly Citation Number"
   ]
  },
  {
   "cell_type": "code",
   "execution_count": 445,
   "metadata": {
    "scrolled": false
   },
   "outputs": [],
   "source": [
    "# yearly_citation_num = credibility\n",
    "ref['yearly_citation_num'] = [int(ref.loc[i,'ref_times_cited'])/(now.year + 1 - ref.loc[i, 'refined_year']) for i in range(len(ref))]"
   ]
  },
  {
   "cell_type": "code",
   "execution_count": 137,
   "metadata": {},
   "outputs": [
    {
     "data": {
      "text/html": [
       "<div>\n",
       "<style scoped>\n",
       "    .dataframe tbody tr th:only-of-type {\n",
       "        vertical-align: middle;\n",
       "    }\n",
       "\n",
       "    .dataframe tbody tr th {\n",
       "        vertical-align: top;\n",
       "    }\n",
       "\n",
       "    .dataframe thead th {\n",
       "        text-align: right;\n",
       "    }\n",
       "</style>\n",
       "<table border=\"1\" class=\"dataframe\">\n",
       "  <thead>\n",
       "    <tr style=\"text-align: right;\">\n",
       "      <th></th>\n",
       "      <th>citing_title</th>\n",
       "      <th>ref_title</th>\n",
       "      <th>ref_year</th>\n",
       "      <th>ref_times_cited</th>\n",
       "      <th>refined_year</th>\n",
       "      <th>yearly_citation_num</th>\n",
       "    </tr>\n",
       "  </thead>\n",
       "  <tbody>\n",
       "    <tr>\n",
       "      <th>0</th>\n",
       "      <td>MANEUVERING IN POOR VISIBILITY: HOW FIRMS PLAY...</td>\n",
       "      <td>What is not a real option: Considering boundar...</td>\n",
       "      <td>04-Jan</td>\n",
       "      <td>222</td>\n",
       "      <td>2004</td>\n",
       "      <td>14.800000</td>\n",
       "    </tr>\n",
       "    <tr>\n",
       "      <th>1</th>\n",
       "      <td>MANEUVERING IN POOR VISIBILITY: HOW FIRMS PLAY...</td>\n",
       "      <td>Match your innovation strategy to your innovat...</td>\n",
       "      <td>06-Apr</td>\n",
       "      <td>247</td>\n",
       "      <td>2006</td>\n",
       "      <td>19.000000</td>\n",
       "    </tr>\n",
       "    <tr>\n",
       "      <th>2</th>\n",
       "      <td>MANEUVERING IN POOR VISIBILITY: HOW FIRMS PLAY...</td>\n",
       "      <td>NaN</td>\n",
       "      <td>2012</td>\n",
       "      <td>14</td>\n",
       "      <td>2012</td>\n",
       "      <td>2.000000</td>\n",
       "    </tr>\n",
       "    <tr>\n",
       "      <th>3</th>\n",
       "      <td>MANEUVERING IN POOR VISIBILITY: HOW FIRMS PLAY...</td>\n",
       "      <td>INTRODUCTION: COLLABORATION AND COMPETITION IN...</td>\n",
       "      <td>2013</td>\n",
       "      <td>2</td>\n",
       "      <td>2013</td>\n",
       "      <td>0.333333</td>\n",
       "    </tr>\n",
       "    <tr>\n",
       "      <th>4</th>\n",
       "      <td>MANEUVERING IN POOR VISIBILITY: HOW FIRMS PLAY...</td>\n",
       "      <td>Innovation ecosystems and the pace of substitu...</td>\n",
       "      <td>16-Apr</td>\n",
       "      <td>26</td>\n",
       "      <td>2016</td>\n",
       "      <td>8.666667</td>\n",
       "    </tr>\n",
       "  </tbody>\n",
       "</table>\n",
       "</div>"
      ],
      "text/plain": [
       "                                        citing_title  \\\n",
       "0  MANEUVERING IN POOR VISIBILITY: HOW FIRMS PLAY...   \n",
       "1  MANEUVERING IN POOR VISIBILITY: HOW FIRMS PLAY...   \n",
       "2  MANEUVERING IN POOR VISIBILITY: HOW FIRMS PLAY...   \n",
       "3  MANEUVERING IN POOR VISIBILITY: HOW FIRMS PLAY...   \n",
       "4  MANEUVERING IN POOR VISIBILITY: HOW FIRMS PLAY...   \n",
       "\n",
       "                                           ref_title ref_year ref_times_cited  \\\n",
       "0  What is not a real option: Considering boundar...   04-Jan             222   \n",
       "1  Match your innovation strategy to your innovat...   06-Apr             247   \n",
       "2                                                NaN     2012              14   \n",
       "3  INTRODUCTION: COLLABORATION AND COMPETITION IN...     2013               2   \n",
       "4  Innovation ecosystems and the pace of substitu...   16-Apr              26   \n",
       "\n",
       "   refined_year  yearly_citation_num  \n",
       "0          2004            14.800000  \n",
       "1          2006            19.000000  \n",
       "2          2012             2.000000  \n",
       "3          2013             0.333333  \n",
       "4          2016             8.666667  "
      ]
     },
     "execution_count": 137,
     "metadata": {},
     "output_type": "execute_result"
    }
   ],
   "source": [
    "ref[['citing_title', 'ref_title', 'ref_year', 'ref_times_cited', 'refined_year', 'yearly_citation_num']].head(5)"
   ]
  },
  {
   "cell_type": "markdown",
   "metadata": {},
   "source": [
    "### Group by each publication, and summate the yearly citation number with the relevant references"
   ]
  },
  {
   "cell_type": "code",
   "execution_count": 492,
   "metadata": {},
   "outputs": [],
   "source": [
    "ref_url_groupby = ref.groupby('publication_url').mean()['yearly_citation_num'].reset_index()\n",
    "ref_url_groupby.rename(columns={'yearly_citation_num':'ref_yearly_cited_avg'}, inplace= True)"
   ]
  },
  {
   "cell_type": "markdown",
   "metadata": {},
   "source": [
    "### Merge the ref dataframe with the WOS_df dataframe"
   ]
  },
  {
   "cell_type": "code",
   "execution_count": 493,
   "metadata": {},
   "outputs": [],
   "source": [
    "# Merge key = publication URL on the Web of Science\n",
    "merged_WOS_df = WOS_df.merge(right = ref_url_groupby, how = 'left', left_on = ['WOS_URL'], right_on = ['publication_url'])\n",
    "merged_WOS_df['ref_yearly_cited_avg'] = merged_WOS_df['ref_yearly_cited_avg'].fillna(value=0)\n",
    "merged_WOS_df.drop(columns=['publication_url'], axis=1, inplace=True)"
   ]
  },
  {
   "cell_type": "code",
   "execution_count": 494,
   "metadata": {
    "scrolled": true
   },
   "outputs": [
    {
     "data": {
      "text/html": [
       "<div>\n",
       "<style scoped>\n",
       "    .dataframe tbody tr th:only-of-type {\n",
       "        vertical-align: middle;\n",
       "    }\n",
       "\n",
       "    .dataframe tbody tr th {\n",
       "        vertical-align: top;\n",
       "    }\n",
       "\n",
       "    .dataframe thead th {\n",
       "        text-align: right;\n",
       "    }\n",
       "</style>\n",
       "<table border=\"1\" class=\"dataframe\">\n",
       "  <thead>\n",
       "    <tr style=\"text-align: right;\">\n",
       "      <th></th>\n",
       "      <th>Title</th>\n",
       "      <th>ref_yearly_cited_avg</th>\n",
       "      <th>num_of_ref</th>\n",
       "      <th>cited_time</th>\n",
       "    </tr>\n",
       "  </thead>\n",
       "  <tbody>\n",
       "    <tr>\n",
       "      <th>0</th>\n",
       "      <td>Nelson-Plosser revisited: The ACF approach</td>\n",
       "      <td>18.801852</td>\n",
       "      <td>42</td>\n",
       "      <td>5</td>\n",
       "    </tr>\n",
       "    <tr>\n",
       "      <th>1</th>\n",
       "      <td>An I(d) model with trend and cycles</td>\n",
       "      <td>3.940034</td>\n",
       "      <td>22</td>\n",
       "      <td>5</td>\n",
       "    </tr>\n",
       "    <tr>\n",
       "      <th>2</th>\n",
       "      <td>Two estimators of the long-run variance: Beyon...</td>\n",
       "      <td>26.560935</td>\n",
       "      <td>21</td>\n",
       "      <td>9</td>\n",
       "    </tr>\n",
       "    <tr>\n",
       "      <th>3</th>\n",
       "      <td>Testing joint hypotheses when one of the alter...</td>\n",
       "      <td>10.841103</td>\n",
       "      <td>58</td>\n",
       "      <td>24</td>\n",
       "    </tr>\n",
       "    <tr>\n",
       "      <th>4</th>\n",
       "      <td>Nonstationarity-extended local Whittle estimation</td>\n",
       "      <td>6.388188</td>\n",
       "      <td>21</td>\n",
       "      <td>81</td>\n",
       "    </tr>\n",
       "  </tbody>\n",
       "</table>\n",
       "</div>"
      ],
      "text/plain": [
       "                                               Title  ref_yearly_cited_avg  \\\n",
       "0         Nelson-Plosser revisited: The ACF approach             18.801852   \n",
       "1                An I(d) model with trend and cycles              3.940034   \n",
       "2  Two estimators of the long-run variance: Beyon...             26.560935   \n",
       "3  Testing joint hypotheses when one of the alter...             10.841103   \n",
       "4  Nonstationarity-extended local Whittle estimation              6.388188   \n",
       "\n",
       "   num_of_ref  cited_time  \n",
       "0          42           5  \n",
       "1          22           5  \n",
       "2          21           9  \n",
       "3          58          24  \n",
       "4          21          81  "
      ]
     },
     "execution_count": 494,
     "metadata": {},
     "output_type": "execute_result"
    }
   ],
   "source": [
    "merged_WOS_df[['Title', 'ref_yearly_cited_avg', 'num_of_ref', 'cited_time']].head(5)"
   ]
  },
  {
   "cell_type": "code",
   "execution_count": 495,
   "metadata": {},
   "outputs": [
    {
     "data": {
      "image/png": "[encoded data removed]",
      "text/plain": [
       "<matplotlib.figure.Figure at 0x2463d97ad68>"
      ]
     },
     "metadata": {},
     "output_type": "display_data"
    }
   ],
   "source": [
    "ref_sub = merged_WOS_df.groupby('num_of_ref').mean()['cited_time'].reset_index()\n",
    "plt.scatter(x = list(ref_sub.num_of_ref), y = list(ref_sub.cited_time))\n",
    "plt.xlabel('num_of_ref')\n",
    "plt.ylabel('cited_time')\n",
    "plt.show()"
   ]
  },
  {
   "cell_type": "code",
   "execution_count": 777,
   "metadata": {},
   "outputs": [
    {
     "data": {
      "image/png": "[encoded data removed]",
      "text/plain": [
       "<matplotlib.figure.Figure at 0x24647d76550>"
      ]
     },
     "metadata": {},
     "output_type": "display_data"
    }
   ],
   "source": [
    "ref_sub2 = merged_WOS_df.groupby('ref_yearly_cited_avg').mean()['cited_time'].reset_index()\n",
    "plt.scatter(x = list(ref_sub2.ref_yearly_cited_avg), y = list(ref_sub2.cited_time))\n",
    "plt.xlabel('ref_yearly_cited_avg')\n",
    "plt.ylabel('cited_time')\n",
    "plt.ylim(-10, 500)\n",
    "plt.xlim(-10, 100)\n",
    "plt.show()"
   ]
  },
  {
   "cell_type": "markdown",
   "metadata": {},
   "source": [
    "## 5. Organization\n",
    "\n",
    "Most of the co-authors belonged to certain organizations when they published the papers. The quality of the publications has an effect on the university rankings. Reversely, the institution's level might help to form a group of competent authors or more likely to secure the funding. The dataset in the organizationbyResearchArea folder contains category normalized impact factors and ranking by each research field and universities as shown below. According to the indicator handbook on Web of Scienc, \"The Category Normalized Citation Impact (CNCI) of a document is calculated by dividing the actual count of citing items by the expected citation rate for documents with the same document type, year of publication and subject area\" (InCites INDICATORS HANDBOOK, 2014, p.11.). Therefore, the organization ranking and category normalized citation impact on average in each research field has been aggregated for each publication. As shown in the below charts, the both variables seems relevant to the cited time."
   ]
  },
  {
   "cell_type": "code",
   "execution_count": 735,
   "metadata": {},
   "outputs": [
    {
     "name": "stdout",
     "output_type": "stream",
     "text": [
      "=== Research Field: Anesthesiology ===\n"
     ]
    },
    {
     "data": {
      "text/html": [
       "<div>\n",
       "<style scoped>\n",
       "    .dataframe tbody tr th:only-of-type {\n",
       "        vertical-align: middle;\n",
       "    }\n",
       "\n",
       "    .dataframe tbody tr th {\n",
       "        vertical-align: top;\n",
       "    }\n",
       "\n",
       "    .dataframe thead th {\n",
       "        text-align: right;\n",
       "    }\n",
       "</style>\n",
       "<table border=\"1\" class=\"dataframe\">\n",
       "  <thead>\n",
       "    <tr style=\"text-align: right;\">\n",
       "      <th></th>\n",
       "      <th>Name</th>\n",
       "      <th>Rank</th>\n",
       "      <th>Web of Science Documents</th>\n",
       "      <th>Category Normalized Citation Impact</th>\n",
       "      <th>Times Cited</th>\n",
       "      <th>% Docs Cited</th>\n",
       "    </tr>\n",
       "  </thead>\n",
       "  <tbody>\n",
       "    <tr>\n",
       "      <th>0</th>\n",
       "      <td>University of California System</td>\n",
       "      <td>1.0</td>\n",
       "      <td>6276.0</td>\n",
       "      <td>1.45</td>\n",
       "      <td>136231.0</td>\n",
       "      <td>72.34</td>\n",
       "    </tr>\n",
       "    <tr>\n",
       "      <th>1</th>\n",
       "      <td>Harvard University</td>\n",
       "      <td>2.0</td>\n",
       "      <td>5845.0</td>\n",
       "      <td>1.33</td>\n",
       "      <td>105297.0</td>\n",
       "      <td>70.88</td>\n",
       "    </tr>\n",
       "    <tr>\n",
       "      <th>2</th>\n",
       "      <td>University of California San Francisco</td>\n",
       "      <td>3.0</td>\n",
       "      <td>2814.0</td>\n",
       "      <td>1.62</td>\n",
       "      <td>74494.0</td>\n",
       "      <td>74.88</td>\n",
       "    </tr>\n",
       "    <tr>\n",
       "      <th>3</th>\n",
       "      <td>University of Toronto</td>\n",
       "      <td>4.0</td>\n",
       "      <td>3839.0</td>\n",
       "      <td>1.43</td>\n",
       "      <td>72983.0</td>\n",
       "      <td>74.58</td>\n",
       "    </tr>\n",
       "    <tr>\n",
       "      <th>4</th>\n",
       "      <td>University of London</td>\n",
       "      <td>5.0</td>\n",
       "      <td>3787.0</td>\n",
       "      <td>1.49</td>\n",
       "      <td>67801.0</td>\n",
       "      <td>69.26</td>\n",
       "    </tr>\n",
       "  </tbody>\n",
       "</table>\n",
       "</div>"
      ],
      "text/plain": [
       "                                     Name  Rank  Web of Science Documents  \\\n",
       "0         University of California System   1.0                    6276.0   \n",
       "1                      Harvard University   2.0                    5845.0   \n",
       "2  University of California San Francisco   3.0                    2814.0   \n",
       "3                   University of Toronto   4.0                    3839.0   \n",
       "4                    University of London   5.0                    3787.0   \n",
       "\n",
       "   Category Normalized Citation Impact  Times Cited  % Docs Cited  \n",
       "0                                 1.45     136231.0         72.34  \n",
       "1                                 1.33     105297.0         70.88  \n",
       "2                                 1.62      74494.0         74.88  \n",
       "3                                 1.43      72983.0         74.58  \n",
       "4                                 1.49      67801.0         69.26  "
      ]
     },
     "execution_count": 735,
     "metadata": {},
     "output_type": "execute_result"
    }
   ],
   "source": [
    "print(\"=== Research Field: Anesthesiology ===\")\n",
    "pd.read_csv('./data/organizationbyResearchArea/Anesthesiology.csv').head(5)"
   ]
  },
  {
   "cell_type": "code",
   "execution_count": 737,
   "metadata": {},
   "outputs": [
    {
     "name": "stdout",
     "output_type": "stream",
     "text": [
      "The number of the target research categories: 94\n"
     ]
    }
   ],
   "source": [
    "#research field filter\n",
    "re_area = []\n",
    "for r_list in merged_WOS_df.WOS_cate:\n",
    "    for r_ele in r_list:\n",
    "        if not r_ele.strip() in re_area:\n",
    "            re_area.append(r_ele.strip())\n",
    "print(\"The number of the target research categories:\", len(re_area))"
   ]
  },
  {
   "cell_type": "markdown",
   "metadata": {},
   "source": [
    "### Category impact factor and  Ranking on average by a group of the institution in each publication"
   ]
  },
  {
   "cell_type": "code",
   "execution_count": 498,
   "metadata": {},
   "outputs": [],
   "source": [
    "for idx, r_list in enumerate(list(merged_WOS_df.WOS_cate)): # list research fields\n",
    "    ranking_avg = [] # initialize\n",
    "    cate_impact_factor = [] # initialize\n",
    "    for r_ele in r_list:  # loop each element of the research fields\n",
    "        area_df = pd.read_csv('./data/organizationbyResearchArea/'+str(r_ele.strip())+'.csv') # access the indicators dataset in each field\n",
    "        ranking = 0\n",
    "        cate_i_f = 0\n",
    "        count = 0\n",
    "        for uni in list(merged_WOS_df.loc[idx, 'organization']): # loop the university list\n",
    "            try:\n",
    "                index_loc = area_df.Name[area_df.Name == uni].index[0] # find university name index\n",
    "                ranking += area_df.loc[index_loc, 'Rank'] # Sum of Ranking\n",
    "                cate_i_f += area_df.loc[index_loc, 'Category Normalized Citation Impact'] #Sum of CNCI\n",
    "                count+=1\n",
    "            except:\n",
    "                pass\n",
    "        ranking_avg.append(ranking / float(count)) # average ranking in the single research field\n",
    "        cate_impact_factor.append(cate_i_f / float(count)) # average CNCI in the single research field\n",
    "    merged_WOS_df.loc[idx, 'avg_organ_ranking'] = sum(ranking_avg) / float(len(ranking_avg)) # average ranking with all the research fields\n",
    "    merged_WOS_df.loc[idx, 'avg_organ_cate_impact_factor'] = sum(cate_impact_factor) / float(len(ranking_avg)) # average CNCI with all the research fields"
   ]
  },
  {
   "cell_type": "code",
   "execution_count": 499,
   "metadata": {},
   "outputs": [
    {
     "data": {
      "text/html": [
       "<div>\n",
       "<style scoped>\n",
       "    .dataframe tbody tr th:only-of-type {\n",
       "        vertical-align: middle;\n",
       "    }\n",
       "\n",
       "    .dataframe tbody tr th {\n",
       "        vertical-align: top;\n",
       "    }\n",
       "\n",
       "    .dataframe thead th {\n",
       "        text-align: right;\n",
       "    }\n",
       "</style>\n",
       "<table border=\"1\" class=\"dataframe\">\n",
       "  <thead>\n",
       "    <tr style=\"text-align: right;\">\n",
       "      <th></th>\n",
       "      <th>Title</th>\n",
       "      <th>WOS_cate</th>\n",
       "      <th>organization</th>\n",
       "      <th>avg_organ_ranking</th>\n",
       "      <th>avg_organ_cate_impact_factor</th>\n",
       "      <th>cited_time</th>\n",
       "    </tr>\n",
       "  </thead>\n",
       "  <tbody>\n",
       "    <tr>\n",
       "      <th>0</th>\n",
       "      <td>Nelson-Plosser revisited: The ACF approach</td>\n",
       "      <td>[Economics,  Mathematics, Interdisciplinary Ap...</td>\n",
       "      <td>[Imperial College London, University of Glasgo...</td>\n",
       "      <td>224.888889</td>\n",
       "      <td>1.106667</td>\n",
       "      <td>5</td>\n",
       "    </tr>\n",
       "    <tr>\n",
       "      <th>1</th>\n",
       "      <td>An I(d) model with trend and cycles</td>\n",
       "      <td>[Economics,  Mathematics, Interdisciplinary Ap...</td>\n",
       "      <td>[Imperial College London, University of London]</td>\n",
       "      <td>55.000000</td>\n",
       "      <td>1.478333</td>\n",
       "      <td>5</td>\n",
       "    </tr>\n",
       "    <tr>\n",
       "      <th>2</th>\n",
       "      <td>Two estimators of the long-run variance: Beyon...</td>\n",
       "      <td>[Economics,  Mathematics, Interdisciplinary Ap...</td>\n",
       "      <td>[Imperial College London, University of London]</td>\n",
       "      <td>55.000000</td>\n",
       "      <td>1.478333</td>\n",
       "      <td>9</td>\n",
       "    </tr>\n",
       "    <tr>\n",
       "      <th>3</th>\n",
       "      <td>Testing joint hypotheses when one of the alter...</td>\n",
       "      <td>[Economics,  Mathematics, Interdisciplinary Ap...</td>\n",
       "      <td>[Imperial College London]</td>\n",
       "      <td>103.333333</td>\n",
       "      <td>1.310000</td>\n",
       "      <td>24</td>\n",
       "    </tr>\n",
       "    <tr>\n",
       "      <th>4</th>\n",
       "      <td>Nonstationarity-extended local Whittle estimation</td>\n",
       "      <td>[Economics,  Mathematics, Interdisciplinary Ap...</td>\n",
       "      <td>[Imperial College London, University of London]</td>\n",
       "      <td>55.000000</td>\n",
       "      <td>1.478333</td>\n",
       "      <td>81</td>\n",
       "    </tr>\n",
       "  </tbody>\n",
       "</table>\n",
       "</div>"
      ],
      "text/plain": [
       "                                               Title  \\\n",
       "0         Nelson-Plosser revisited: The ACF approach   \n",
       "1                An I(d) model with trend and cycles   \n",
       "2  Two estimators of the long-run variance: Beyon...   \n",
       "3  Testing joint hypotheses when one of the alter...   \n",
       "4  Nonstationarity-extended local Whittle estimation   \n",
       "\n",
       "                                            WOS_cate  \\\n",
       "0  [Economics,  Mathematics, Interdisciplinary Ap...   \n",
       "1  [Economics,  Mathematics, Interdisciplinary Ap...   \n",
       "2  [Economics,  Mathematics, Interdisciplinary Ap...   \n",
       "3  [Economics,  Mathematics, Interdisciplinary Ap...   \n",
       "4  [Economics,  Mathematics, Interdisciplinary Ap...   \n",
       "\n",
       "                                        organization  avg_organ_ranking  \\\n",
       "0  [Imperial College London, University of Glasgo...         224.888889   \n",
       "1    [Imperial College London, University of London]          55.000000   \n",
       "2    [Imperial College London, University of London]          55.000000   \n",
       "3                          [Imperial College London]         103.333333   \n",
       "4    [Imperial College London, University of London]          55.000000   \n",
       "\n",
       "   avg_organ_cate_impact_factor  cited_time  \n",
       "0                      1.106667           5  \n",
       "1                      1.478333           5  \n",
       "2                      1.478333           9  \n",
       "3                      1.310000          24  \n",
       "4                      1.478333          81  "
      ]
     },
     "execution_count": 499,
     "metadata": {},
     "output_type": "execute_result"
    }
   ],
   "source": [
    "merged_WOS_df[['Title', 'WOS_cate', 'organization', 'avg_organ_ranking', 'avg_organ_cate_impact_factor', 'cited_time']].head(5)"
   ]
  },
  {
   "cell_type": "code",
   "execution_count": 763,
   "metadata": {
    "scrolled": true
   },
   "outputs": [
    {
     "data": {
      "image/png": "[encoded data removed]",
      "text/plain": [
       "<matplotlib.figure.Figure at 0x2464852eb00>"
      ]
     },
     "metadata": {},
     "output_type": "display_data"
    }
   ],
   "source": [
    "ranking_sub = merged_WOS_df.groupby('avg_organ_ranking').mean()['cited_time'].reset_index()\n",
    "plt.scatter(x = list(ranking_sub.avg_organ_ranking), y = list(ranking_sub.cited_time))\n",
    "plt.xlabel('avg_organ_ranking')\n",
    "plt.ylabel('cited_time')\n",
    "plt.ylim(0, 300)\n",
    "plt.xlim(0, 1000)\n",
    "plt.show()"
   ]
  },
  {
   "cell_type": "code",
   "execution_count": 753,
   "metadata": {},
   "outputs": [
    {
     "data": {
      "image/png": "[encoded data removed]",
      "text/plain": [
       "<matplotlib.figure.Figure at 0x246481992b0>"
      ]
     },
     "metadata": {},
     "output_type": "display_data"
    }
   ],
   "source": [
    "organization_sub = merged_WOS_df.groupby('avg_organ_cate_impact_factor').mean()['cited_time'].reset_index()\n",
    "plt.scatter(x = list(organization_sub['avg_organ_cate_impact_factor']), y = list(organization_sub['cited_time']))\n",
    "plt.xlabel('avg_organ_cate_impact_factor')\n",
    "plt.ylabel('cited_time')\n",
    "plt.ylim(0, 500)\n",
    "plt.xlim(0, 3)\n",
    "plt.show()"
   ]
  },
  {
   "cell_type": "markdown",
   "metadata": {},
   "source": [
    "## 6. Research Field\n",
    "\n",
    "Although being generated by the business school professors at imperial college london, the target publications covers the 94 research categories which accounts for about 41.6% of the total categories defined by the Web of Science. In other words, there might be siginifcantly different impact factors on which research fields a publication covers. In addition, the dataset about the research categories is in the panel format, which helped to measure the impact factor during a certain period. Based on matching the research field and published year, the data in the column of the \"aggregate impact factor\", which is the cited time in two years divided by the number of the items in two years, has been added on average. "
   ]
  },
  {
   "cell_type": "code",
   "execution_count": 754,
   "metadata": {},
   "outputs": [
    {
     "data": {
      "text/html": [
       "<div>\n",
       "<style scoped>\n",
       "    .dataframe tbody tr th:only-of-type {\n",
       "        vertical-align: middle;\n",
       "    }\n",
       "\n",
       "    .dataframe tbody tr th {\n",
       "        vertical-align: top;\n",
       "    }\n",
       "\n",
       "    .dataframe thead th {\n",
       "        text-align: right;\n",
       "    }\n",
       "</style>\n",
       "<table border=\"1\" class=\"dataframe\">\n",
       "  <thead>\n",
       "    <tr style=\"text-align: right;\">\n",
       "      <th></th>\n",
       "      <th>category1</th>\n",
       "      <th>year</th>\n",
       "      <th>journal_num</th>\n",
       "      <th>articles</th>\n",
       "      <th>total_cites</th>\n",
       "      <th>median_impact_factor</th>\n",
       "      <th>aggregate_impact_factor</th>\n",
       "      <th>aggregate_immediacy_index</th>\n",
       "      <th>aggregate_cited_half_life</th>\n",
       "      <th>aggregate_citing_half_life</th>\n",
       "    </tr>\n",
       "  </thead>\n",
       "  <tbody>\n",
       "    <tr>\n",
       "      <th>0</th>\n",
       "      <td>ACOUSTICS</td>\n",
       "      <td>2016.0</td>\n",
       "      <td>31.0</td>\n",
       "      <td>5,088</td>\n",
       "      <td>160,629</td>\n",
       "      <td>1.547</td>\n",
       "      <td>2.102</td>\n",
       "      <td>0.528</td>\n",
       "      <td>&gt;10.0</td>\n",
       "      <td>9.6</td>\n",
       "    </tr>\n",
       "    <tr>\n",
       "      <th>1</th>\n",
       "      <td>ACOUSTICS</td>\n",
       "      <td>2015.0</td>\n",
       "      <td>32.0</td>\n",
       "      <td>4,916</td>\n",
       "      <td>138,295</td>\n",
       "      <td>1.103</td>\n",
       "      <td>1.853</td>\n",
       "      <td>0.446</td>\n",
       "      <td>9.6</td>\n",
       "      <td>9.6</td>\n",
       "    </tr>\n",
       "    <tr>\n",
       "      <th>2</th>\n",
       "      <td>ACOUSTICS</td>\n",
       "      <td>2014.0</td>\n",
       "      <td>31.0</td>\n",
       "      <td>4,273</td>\n",
       "      <td>125,484</td>\n",
       "      <td>0.912</td>\n",
       "      <td>1.741</td>\n",
       "      <td>0.400</td>\n",
       "      <td>9.6</td>\n",
       "      <td>9.7</td>\n",
       "    </tr>\n",
       "    <tr>\n",
       "      <th>3</th>\n",
       "      <td>ACOUSTICS</td>\n",
       "      <td>2013.0</td>\n",
       "      <td>30.0</td>\n",
       "      <td>4,355</td>\n",
       "      <td>117,073</td>\n",
       "      <td>1.107</td>\n",
       "      <td>1.840</td>\n",
       "      <td>0.357</td>\n",
       "      <td>9.2</td>\n",
       "      <td>9.5</td>\n",
       "    </tr>\n",
       "    <tr>\n",
       "      <th>4</th>\n",
       "      <td>ACOUSTICS</td>\n",
       "      <td>2012.0</td>\n",
       "      <td>31.0</td>\n",
       "      <td>4,139</td>\n",
       "      <td>111,560</td>\n",
       "      <td>1.097</td>\n",
       "      <td>1.710</td>\n",
       "      <td>0.332</td>\n",
       "      <td>9.1</td>\n",
       "      <td>9.5</td>\n",
       "    </tr>\n",
       "  </tbody>\n",
       "</table>\n",
       "</div>"
      ],
      "text/plain": [
       "   category1    year  journal_num articles total_cites median_impact_factor  \\\n",
       "0  ACOUSTICS  2016.0         31.0    5,088     160,629                1.547   \n",
       "1  ACOUSTICS  2015.0         32.0    4,916     138,295                1.103   \n",
       "2  ACOUSTICS  2014.0         31.0    4,273     125,484                0.912   \n",
       "3  ACOUSTICS  2013.0         30.0    4,355     117,073                1.107   \n",
       "4  ACOUSTICS  2012.0         31.0    4,139     111,560                1.097   \n",
       "\n",
       "  aggregate_impact_factor aggregate_immediacy_index aggregate_cited_half_life  \\\n",
       "0                   2.102                     0.528                     >10.0   \n",
       "1                   1.853                     0.446                       9.6   \n",
       "2                   1.741                     0.400                       9.6   \n",
       "3                   1.840                     0.357                       9.2   \n",
       "4                   1.710                     0.332                       9.1   \n",
       "\n",
       "  aggregate_citing_half_life  \n",
       "0                        9.6  \n",
       "1                        9.6  \n",
       "2                        9.7  \n",
       "3                        9.5  \n",
       "4                        9.5  "
      ]
     },
     "execution_count": 754,
     "metadata": {},
     "output_type": "execute_result"
    }
   ],
   "source": [
    "cate_df = pd.read_csv('./data/Category.csv')\n",
    "cate_df = cate_df.replace('Not Available', np.nan)\n",
    "cate_df = cate_df.dropna(how='any', axis=0)\n",
    "cate_df.drop(columns = ['page_url' ,'category2', 'edition'], axis = 1).head(5)"
   ]
  },
  {
   "cell_type": "code",
   "execution_count": 755,
   "metadata": {},
   "outputs": [],
   "source": [
    "def list_avg(list_array):\n",
    "    j = 0.0\n",
    "    count = 0.0\n",
    "    for i in list_array:\n",
    "        j += i\n",
    "        count += 1\n",
    "    return j/count"
   ]
  },
  {
   "cell_type": "code",
   "execution_count": 756,
   "metadata": {},
   "outputs": [],
   "source": [
    "row_line = 0\n",
    "for cate, yrs in zip(list(merged_WOS_df.WOS_cate), list(merged_WOS_df.published_yrs)):\n",
    "    sum_avg_cate_impact_factor = 0\n",
    "    for c in cate:\n",
    "        try:\n",
    "            filtered_df = cate_df[cate_df.category1 == c.strip().upper()]\n",
    "            start = filtered_df.index[0]\n",
    "            end = filtered_df[filtered_df.year == float(yrs)].index[0]\n",
    "            aggregate_impact_factor = [float(i) for i in list(filtered_df.loc[start:end,'aggregate_impact_factor'])]\n",
    "            sum_avg_cate_impact_factor += list_avg(aggregate_impact_factor)\n",
    "        except:\n",
    "            filtered_df = cate_df[cate_df.category1 == c.strip().upper()]\n",
    "            if filtered_df.shape[0] == 0:\n",
    "                continue\n",
    "            else:\n",
    "                start = filtered_df.index[0]\n",
    "                end = start + filtered_df.shape[0] - 1\n",
    "                aggregate_impact_factor = [float(i) for i in list(filtered_df.loc[start:end,'aggregate_impact_factor'])]\n",
    "                sum_avg_cate_impact_factor += list_avg(aggregate_impact_factor)\n",
    "    merged_WOS_df.loc[row_line, 'avg_research_field_impact_factor'] = sum_avg_cate_impact_factor/len(cate)\n",
    "    row_line += 1"
   ]
  },
  {
   "cell_type": "code",
   "execution_count": 757,
   "metadata": {},
   "outputs": [
    {
     "data": {
      "text/html": [
       "<div>\n",
       "<style scoped>\n",
       "    .dataframe tbody tr th:only-of-type {\n",
       "        vertical-align: middle;\n",
       "    }\n",
       "\n",
       "    .dataframe tbody tr th {\n",
       "        vertical-align: top;\n",
       "    }\n",
       "\n",
       "    .dataframe thead th {\n",
       "        text-align: right;\n",
       "    }\n",
       "</style>\n",
       "<table border=\"1\" class=\"dataframe\">\n",
       "  <thead>\n",
       "    <tr style=\"text-align: right;\">\n",
       "      <th></th>\n",
       "      <th>Title</th>\n",
       "      <th>WOS_cate</th>\n",
       "      <th>published_yrs</th>\n",
       "      <th>avg_research_field_impact_factor</th>\n",
       "      <th>cited_time</th>\n",
       "    </tr>\n",
       "  </thead>\n",
       "  <tbody>\n",
       "    <tr>\n",
       "      <th>0</th>\n",
       "      <td>Nelson-Plosser revisited: The ACF approach</td>\n",
       "      <td>[Economics,  Mathematics, Interdisciplinary Ap...</td>\n",
       "      <td>2013</td>\n",
       "      <td>1.401417</td>\n",
       "      <td>5</td>\n",
       "    </tr>\n",
       "    <tr>\n",
       "      <th>1</th>\n",
       "      <td>An I(d) model with trend and cycles</td>\n",
       "      <td>[Economics,  Mathematics, Interdisciplinary Ap...</td>\n",
       "      <td>2011</td>\n",
       "      <td>1.362444</td>\n",
       "      <td>5</td>\n",
       "    </tr>\n",
       "    <tr>\n",
       "      <th>2</th>\n",
       "      <td>Two estimators of the long-run variance: Beyon...</td>\n",
       "      <td>[Economics,  Mathematics, Interdisciplinary Ap...</td>\n",
       "      <td>2009</td>\n",
       "      <td>1.346792</td>\n",
       "      <td>9</td>\n",
       "    </tr>\n",
       "    <tr>\n",
       "      <th>3</th>\n",
       "      <td>Testing joint hypotheses when one of the alter...</td>\n",
       "      <td>[Economics,  Mathematics, Interdisciplinary Ap...</td>\n",
       "      <td>2007</td>\n",
       "      <td>1.318733</td>\n",
       "      <td>24</td>\n",
       "    </tr>\n",
       "    <tr>\n",
       "      <th>4</th>\n",
       "      <td>Nonstationarity-extended local Whittle estimation</td>\n",
       "      <td>[Economics,  Mathematics, Interdisciplinary Ap...</td>\n",
       "      <td>2007</td>\n",
       "      <td>1.318733</td>\n",
       "      <td>81</td>\n",
       "    </tr>\n",
       "  </tbody>\n",
       "</table>\n",
       "</div>"
      ],
      "text/plain": [
       "                                               Title  \\\n",
       "0         Nelson-Plosser revisited: The ACF approach   \n",
       "1                An I(d) model with trend and cycles   \n",
       "2  Two estimators of the long-run variance: Beyon...   \n",
       "3  Testing joint hypotheses when one of the alter...   \n",
       "4  Nonstationarity-extended local Whittle estimation   \n",
       "\n",
       "                                            WOS_cate published_yrs  \\\n",
       "0  [Economics,  Mathematics, Interdisciplinary Ap...          2013   \n",
       "1  [Economics,  Mathematics, Interdisciplinary Ap...          2011   \n",
       "2  [Economics,  Mathematics, Interdisciplinary Ap...          2009   \n",
       "3  [Economics,  Mathematics, Interdisciplinary Ap...          2007   \n",
       "4  [Economics,  Mathematics, Interdisciplinary Ap...          2007   \n",
       "\n",
       "   avg_research_field_impact_factor  cited_time  \n",
       "0                          1.401417           5  \n",
       "1                          1.362444           5  \n",
       "2                          1.346792           9  \n",
       "3                          1.318733          24  \n",
       "4                          1.318733          81  "
      ]
     },
     "execution_count": 757,
     "metadata": {},
     "output_type": "execute_result"
    }
   ],
   "source": [
    "merged_WOS_df[['Title', 'WOS_cate', 'published_yrs', 'avg_research_field_impact_factor', 'cited_time']].head(5)"
   ]
  },
  {
   "cell_type": "code",
   "execution_count": 760,
   "metadata": {},
   "outputs": [
    {
     "data": {
      "image/png": "[encoded data removed]",
      "text/plain": [
       "<matplotlib.figure.Figure at 0x246482c70b8>"
      ]
     },
     "metadata": {},
     "output_type": "display_data"
    }
   ],
   "source": [
    "research_sub = merged_WOS_df.groupby('avg_research_field_impact_factor').mean()['cited_time'].reset_index()\n",
    "plt.scatter(x = list(research_sub['avg_research_field_impact_factor']), y = list(research_sub['cited_time']))\n",
    "plt.xlabel('avg_research_field_impact_factor')\n",
    "plt.ylabel('cited_time')\n",
    "plt.xlim(0, 3)\n",
    "plt.ylim(0, 300)\n",
    "plt.show()"
   ]
  },
  {
   "cell_type": "markdown",
   "metadata": {},
   "source": [
    "## 7. Journal\n",
    "\n",
    "The number of the readers on an article contributing to New York Times would be higher than the one writing for a local newpaper. In other words for publications, the influence or clout of a journal might be the important indicator to predict the cited time of a publication. In the same way of the \"avg_research_field_impact_factor\" variable above, the journal impact factor on average from the published year to the lastest year has been created. According to the InCites Indicator Handbook published in 2014 by the Web of Science, journal impact factor is the number of the cited times divided by the items published over the past 2 years in each journal(InCites INDICATORS HANDBOOK, 2014, p.7)."
   ]
  },
  {
   "cell_type": "code",
   "execution_count": 507,
   "metadata": {
    "scrolled": true
   },
   "outputs": [
    {
     "data": {
      "text/html": [
       "<div>\n",
       "<style scoped>\n",
       "    .dataframe tbody tr th:only-of-type {\n",
       "        vertical-align: middle;\n",
       "    }\n",
       "\n",
       "    .dataframe tbody tr th {\n",
       "        vertical-align: top;\n",
       "    }\n",
       "\n",
       "    .dataframe thead th {\n",
       "        text-align: right;\n",
       "    }\n",
       "</style>\n",
       "<table border=\"1\" class=\"dataframe\">\n",
       "  <thead>\n",
       "    <tr style=\"text-align: right;\">\n",
       "      <th></th>\n",
       "      <th>journal_type_main_page</th>\n",
       "      <th>year</th>\n",
       "      <th>journal_impact_factor</th>\n",
       "    </tr>\n",
       "  </thead>\n",
       "  <tbody>\n",
       "    <tr>\n",
       "      <th>0</th>\n",
       "      <td>JOURNAL OF ECONOMETRICS</td>\n",
       "      <td>2016</td>\n",
       "      <td>1.633</td>\n",
       "    </tr>\n",
       "    <tr>\n",
       "      <th>1</th>\n",
       "      <td>JOURNAL OF ECONOMETRICS</td>\n",
       "      <td>2015</td>\n",
       "      <td>1.611</td>\n",
       "    </tr>\n",
       "    <tr>\n",
       "      <th>2</th>\n",
       "      <td>JOURNAL OF ECONOMETRICS</td>\n",
       "      <td>2014</td>\n",
       "      <td>1.600</td>\n",
       "    </tr>\n",
       "    <tr>\n",
       "      <th>3</th>\n",
       "      <td>JOURNAL OF ECONOMETRICS</td>\n",
       "      <td>2013</td>\n",
       "      <td>1.533</td>\n",
       "    </tr>\n",
       "    <tr>\n",
       "      <th>4</th>\n",
       "      <td>JOURNAL OF ECONOMETRICS</td>\n",
       "      <td>2012</td>\n",
       "      <td>1.710</td>\n",
       "    </tr>\n",
       "  </tbody>\n",
       "</table>\n",
       "</div>"
      ],
      "text/plain": [
       "    journal_type_main_page  year  journal_impact_factor\n",
       "0  JOURNAL OF ECONOMETRICS  2016                  1.633\n",
       "1  JOURNAL OF ECONOMETRICS  2015                  1.611\n",
       "2  JOURNAL OF ECONOMETRICS  2014                  1.600\n",
       "3  JOURNAL OF ECONOMETRICS  2013                  1.533\n",
       "4  JOURNAL OF ECONOMETRICS  2012                  1.710"
      ]
     },
     "execution_count": 507,
     "metadata": {},
     "output_type": "execute_result"
    }
   ],
   "source": [
    "journal_type = pd.read_csv('./data/Journal_type.csv')\n",
    "refined_journal_df = journal_type[['journal_type_main_page', 'year', 'journal_impact_factor']]\n",
    "refined_journal_df = refined_journal_df[refined_journal_df.journal_impact_factor.isnull() == False]\n",
    "refined_journal_df.head(5)"
   ]
  },
  {
   "cell_type": "code",
   "execution_count": 508,
   "metadata": {},
   "outputs": [],
   "source": [
    "row_line = 0\n",
    "for t, yrs in zip(list(merged_WOS_df.journal_type), list(merged_WOS_df.published_yrs)):\n",
    "    avg_impact_factor = 0\n",
    "    try:\n",
    "        filtered_df = refined_journal_df[refined_journal_df.journal_type_main_page == t.split(',')[0].strip().upper()]\n",
    "        start = filtered_df.index[0] # latest yrs index\n",
    "        end = filtered_df[filtered_df.year == float(yrs.strip())].index[0]\n",
    "        journal_impact_factors = [float(i) for i in list(filtered_df.loc[start:end,'journal_impact_factor'])]\n",
    "        avg_impact_factor += list_avg(journal_impact_factors)\n",
    "    except:\n",
    "        filtered_df = refined_journal_df[refined_journal_df.journal_type_main_page ==  t.split(',')[0].strip().upper()]\n",
    "        if filtered_df.shape[0] == 0:\n",
    "            merged_WOS_df.loc[row_line, 'avg_journal_impact_factor'] = 0\n",
    "            row_line += 1\n",
    "            continue\n",
    "        else:\n",
    "            start = filtered_df.index[0]\n",
    "            end = start + filtered_df.shape[0] - 1\n",
    "            journal_impact_factors = [float(i) for i in list(filtered_df.loc[start:end,'journal_impact_factor'])]\n",
    "            avg_impact_factor += list_avg(journal_impact_factors)\n",
    "    merged_WOS_df.loc[row_line, 'avg_journal_impact_factor'] = avg_impact_factor\n",
    "    row_line += 1"
   ]
  },
  {
   "cell_type": "code",
   "execution_count": 509,
   "metadata": {},
   "outputs": [
    {
     "data": {
      "text/html": [
       "<div>\n",
       "<style scoped>\n",
       "    .dataframe tbody tr th:only-of-type {\n",
       "        vertical-align: middle;\n",
       "    }\n",
       "\n",
       "    .dataframe tbody tr th {\n",
       "        vertical-align: top;\n",
       "    }\n",
       "\n",
       "    .dataframe thead th {\n",
       "        text-align: right;\n",
       "    }\n",
       "</style>\n",
       "<table border=\"1\" class=\"dataframe\">\n",
       "  <thead>\n",
       "    <tr style=\"text-align: right;\">\n",
       "      <th></th>\n",
       "      <th>Title</th>\n",
       "      <th>journal_type</th>\n",
       "      <th>published_yrs</th>\n",
       "      <th>avg_journal_impact_factor</th>\n",
       "      <th>cited_time</th>\n",
       "    </tr>\n",
       "  </thead>\n",
       "  <tbody>\n",
       "    <tr>\n",
       "      <th>0</th>\n",
       "      <td>Nelson-Plosser revisited: The ACF approach</td>\n",
       "      <td>JOURNAL OF ECONOMETRICS</td>\n",
       "      <td>2013</td>\n",
       "      <td>1.594250</td>\n",
       "      <td>5</td>\n",
       "    </tr>\n",
       "    <tr>\n",
       "      <th>1</th>\n",
       "      <td>An I(d) model with trend and cycles</td>\n",
       "      <td>JOURNAL OF ECONOMETRICS</td>\n",
       "      <td>2011</td>\n",
       "      <td>1.572667</td>\n",
       "      <td>5</td>\n",
       "    </tr>\n",
       "    <tr>\n",
       "      <th>2</th>\n",
       "      <td>Two estimators of the long-run variance: Beyon...</td>\n",
       "      <td>JOURNAL OF ECONOMETRICS</td>\n",
       "      <td>2009</td>\n",
       "      <td>1.644125</td>\n",
       "      <td>9</td>\n",
       "    </tr>\n",
       "    <tr>\n",
       "      <th>3</th>\n",
       "      <td>Testing joint hypotheses when one of the alter...</td>\n",
       "      <td>JOURNAL OF ECONOMETRICS</td>\n",
       "      <td>2007</td>\n",
       "      <td>1.693300</td>\n",
       "      <td>24</td>\n",
       "    </tr>\n",
       "    <tr>\n",
       "      <th>4</th>\n",
       "      <td>Nonstationarity-extended local Whittle estimation</td>\n",
       "      <td>JOURNAL OF ECONOMETRICS</td>\n",
       "      <td>2007</td>\n",
       "      <td>1.693300</td>\n",
       "      <td>81</td>\n",
       "    </tr>\n",
       "  </tbody>\n",
       "</table>\n",
       "</div>"
      ],
      "text/plain": [
       "                                               Title             journal_type  \\\n",
       "0         Nelson-Plosser revisited: The ACF approach  JOURNAL OF ECONOMETRICS   \n",
       "1                An I(d) model with trend and cycles  JOURNAL OF ECONOMETRICS   \n",
       "2  Two estimators of the long-run variance: Beyon...  JOURNAL OF ECONOMETRICS   \n",
       "3  Testing joint hypotheses when one of the alter...  JOURNAL OF ECONOMETRICS   \n",
       "4  Nonstationarity-extended local Whittle estimation  JOURNAL OF ECONOMETRICS   \n",
       "\n",
       "  published_yrs  avg_journal_impact_factor  cited_time  \n",
       "0          2013                   1.594250           5  \n",
       "1          2011                   1.572667           5  \n",
       "2          2009                   1.644125           9  \n",
       "3          2007                   1.693300          24  \n",
       "4          2007                   1.693300          81  "
      ]
     },
     "execution_count": 509,
     "metadata": {},
     "output_type": "execute_result"
    }
   ],
   "source": [
    "merged_WOS_df[['Title', 'journal_type', 'published_yrs', 'avg_journal_impact_factor', 'cited_time']].head(5)"
   ]
  },
  {
   "cell_type": "code",
   "execution_count": 766,
   "metadata": {},
   "outputs": [
    {
     "data": {
      "image/png": "[encoded data removed]",
      "text/plain": [
       "<matplotlib.figure.Figure at 0x24648500208>"
      ]
     },
     "metadata": {},
     "output_type": "display_data"
    }
   ],
   "source": [
    "journal_sub = merged_WOS_df.groupby('avg_journal_impact_factor').mean()['cited_time'].reset_index()\n",
    "plt.scatter(x = list(journal_sub.avg_journal_impact_factor), y = list(journal_sub.cited_time))\n",
    "plt.xlabel('avg_journal_impact_factor')\n",
    "plt.ylabel('cited_time')\n",
    "plt.xlim(0, 10)\n",
    "plt.ylim(0, 300)\n",
    "plt.show()"
   ]
  },
  {
   "cell_type": "markdown",
   "metadata": {},
   "source": [
    "## 8. Diversity"
   ]
  },
  {
   "cell_type": "markdown",
   "metadata": {},
   "source": [
    "### Ethnicity (diversity)\n",
    "\n",
    "When it comes to diversity, I have divided it into three parts: ethnicity, institution, and  organization country. First of all, based upon the last names of the target authors, their ethnicities can be estimated by using the python package called \"ethnicolr.\" The basic idea of ethnicity is authors with different growth background might look at a topic and solve it in a different way. In other words, the ethnicity diversity might help to creates environment of thesis-antithesis-synthesis paradigm. "
   ]
  },
  {
   "cell_type": "code",
   "execution_count": null,
   "metadata": {},
   "outputs": [],
   "source": [
    "from ethnicolr import pred_wiki_ln\n",
    "import warnings\n",
    "import pandas as pd\n",
    "import numpy as np\n",
    "warnings.filterwarnings('ignore')\n",
    "\n",
    "def df_make(w):\n",
    "    df = pd.DataFrame()\n",
    "    df['last_name'] = w\n",
    "    return df\n",
    "\n",
    "def list_nested(l):\n",
    "    k = df_make(l)\n",
    "    pred_wiki_ln(k, 'last_name')\n",
    "    return [each.split(',')[0] for each in k.race]"
   ]
  },
  {
   "cell_type": "code",
   "execution_count": null,
   "metadata": {},
   "outputs": [],
   "source": [
    "WOS_df = pd.read_pickle('C:/Users/seong/Documents/00. Summer/1. Workforce/Individual HW/01. Crawling(WebOfScience)/data/final.pkl')\n",
    "for i in list(np.arange(0, 1495, 16)):\n",
    "    try:\n",
    "        df_eth = pd.read_pickle('./data/ethnictity_df.pkl')\n",
    "    except:\n",
    "        df_eth = pd.DataFrame(columns = ['names', 'ethnicity'])\n",
    "    if df_eth.shape[0] > i:            #df = 235 > i=250\n",
    "        print(\"DONE\", df_eth.shape[0])\n",
    "        continue\n",
    "    else:\n",
    "        start = df_eth.shape[0]\n",
    "        end = i\n",
    "        for j in WOS_df.co_author1[start:end]:\n",
    "            row_sc = df_eth.shape[0]\n",
    "            df_eth.loc[row_sc, 'names'] = j\n",
    "            df_eth.loc[row_sc, 'ethnicity'] = list_nested(j)\n",
    "            print(\"%dth. %s, %s\" %(row_sc+1, df_eth.loc[row_sc, 'names'], df_eth.loc[row_sc, 'ethnicity']))\n",
    "            df_eth.to_pickle('./data/ethnictity_df.pkl')"
   ]
  },
  {
   "cell_type": "code",
   "execution_count": 511,
   "metadata": {},
   "outputs": [],
   "source": [
    "ethnicity = pd.read_pickle('./data/ethnictity_df.pkl')\n",
    "merged_WOS_df['ethnicity'] = ethnicity['ethnicity']"
   ]
  },
  {
   "cell_type": "code",
   "execution_count": 512,
   "metadata": {
    "scrolled": true
   },
   "outputs": [],
   "source": [
    "merged_WOS_df['eth_diversity'] = merged_WOS_df['ethnicity'].apply(lambda x: len(list(set(x))))"
   ]
  },
  {
   "cell_type": "code",
   "execution_count": 513,
   "metadata": {},
   "outputs": [
    {
     "data": {
      "text/plain": [
       "1    1165\n",
       "2     236\n",
       "3      20\n",
       "Name: eth_diversity, dtype: int64"
      ]
     },
     "execution_count": 513,
     "metadata": {},
     "output_type": "execute_result"
    }
   ],
   "source": [
    "merged_WOS_df.eth_diversity.value_counts()"
   ]
  },
  {
   "cell_type": "code",
   "execution_count": 514,
   "metadata": {},
   "outputs": [
    {
     "data": {
      "text/plain": [
       "<bound method NDFrame.head of eth_diversity\n",
       "1    37.55\n",
       "2    36.90\n",
       "3    84.05\n",
       "Name: cited_time, dtype: float64>"
      ]
     },
     "execution_count": 514,
     "metadata": {},
     "output_type": "execute_result"
    }
   ],
   "source": [
    "eth_sub = merged_WOS_df.groupby('eth_diversity').mean()['cited_time'].reset_index()\n",
    "eth_sub.eth_diversity = eth_sub.eth_diversity.round(2)\n",
    "eth_sub.cited_time = eth_sub.cited_time.round(2)\n",
    "eth_sub.index = eth_sub.eth_diversity\n",
    "eth_sub = eth_sub['cited_time']\n",
    "eth_sub.head"
   ]
  },
  {
   "cell_type": "code",
   "execution_count": 515,
   "metadata": {
    "scrolled": true
   },
   "outputs": [
    {
     "data": {
      "image/png": "[encoded data removed]",
      "text/plain": [
       "<matplotlib.figure.Figure at 0x2463fae7668>"
      ]
     },
     "metadata": {},
     "output_type": "display_data"
    }
   ],
   "source": [
    "eth_sub.plot(kind = 'bar')\n",
    "plt.xlabel('The set number of ethicity')\n",
    "plt.ylabel('cited time')\n",
    "plt.show()"
   ]
  },
  {
   "cell_type": "markdown",
   "metadata": {},
   "source": [
    "### Organization Country (diversity)\n",
    "\n",
    "In the dataset, most of the organizations of the co-authors groups are from one or two countries. The diversity of organization is related to building a generalized theory. For example, it might be harder for a group of authors at imperial collage london to generalize a theory to be able to be applied to not only England but also other countries due to exceptional cases not happening in England. However, a publication written by a group of authors based in different countries would be proven in a wider way, which might lead to a greater article."
   ]
  },
  {
   "cell_type": "code",
   "execution_count": 543,
   "metadata": {},
   "outputs": [],
   "source": [
    "merged_WOS_df['num_country_set'] = merged_WOS_df['organ_country'].apply(lambda x: len(list(set(x)))) "
   ]
  },
  {
   "cell_type": "code",
   "execution_count": 767,
   "metadata": {},
   "outputs": [
    {
     "name": "stdout",
     "output_type": "stream",
     "text": [
      "number of Country in set on count\n"
     ]
    },
    {
     "data": {
      "text/plain": [
       "1     720\n",
       "2     441\n",
       "3     164\n",
       "4      62\n",
       "5      15\n",
       "7       4\n",
       "6       4\n",
       "12      3\n",
       "11      3\n",
       "10      2\n",
       "15      1\n",
       "13      1\n",
       "8       1\n",
       "Name: num_country_set, dtype: int64"
      ]
     },
     "execution_count": 767,
     "metadata": {},
     "output_type": "execute_result"
    }
   ],
   "source": [
    "print(\"number of Country in set on count\")\n",
    "merged_WOS_df.num_country_set.value_counts()"
   ]
  },
  {
   "cell_type": "code",
   "execution_count": 545,
   "metadata": {},
   "outputs": [
    {
     "data": {
      "image/png": "[encoded data removed]",
      "text/plain": [
       "<matplotlib.figure.Figure at 0x246402f4eb8>"
      ]
     },
     "metadata": {},
     "output_type": "display_data"
    }
   ],
   "source": [
    "merged_WOS_df.groupby('num_country_set').mean()['cited_time'].plot(kind = 'bar')\n",
    "plt.xlabel('number of Country in set')\n",
    "plt.ylabel('cited time')\n",
    "plt.show()"
   ]
  },
  {
   "cell_type": "code",
   "execution_count": 546,
   "metadata": {},
   "outputs": [],
   "source": [
    "for i, num in enumerate(list(merged_WOS_df['num_country_set'])):\n",
    "    if num == 1:\n",
    "        merged_WOS_df.loc[i, 'organ_country_diversity'] = 1\n",
    "    elif num == 2:\n",
    "        merged_WOS_df.loc[i, 'organ_country_diversity'] = 2     \n",
    "    elif num == 3:\n",
    "        merged_WOS_df.loc[i, 'organ_country_diversity'] = 3\n",
    "    else:\n",
    "        merged_WOS_df.loc[i, 'organ_country_diversity'] = 4"
   ]
  },
  {
   "cell_type": "code",
   "execution_count": 547,
   "metadata": {},
   "outputs": [
    {
     "data": {
      "image/png": "[encoded data removed]",
      "text/plain": [
       "<matplotlib.figure.Figure at 0x24640495a58>"
      ]
     },
     "metadata": {},
     "output_type": "display_data"
    }
   ],
   "source": [
    "merged_WOS_df.groupby('organ_country_diversity').mean()['cited_time'].plot(kind = 'bar')\n",
    "plt.ylabel('cited time')\n",
    "plt.show()"
   ]
  },
  {
   "cell_type": "code",
   "execution_count": 549,
   "metadata": {},
   "outputs": [
    {
     "data": {
      "text/html": [
       "<div>\n",
       "<style scoped>\n",
       "    .dataframe tbody tr th:only-of-type {\n",
       "        vertical-align: middle;\n",
       "    }\n",
       "\n",
       "    .dataframe tbody tr th {\n",
       "        vertical-align: top;\n",
       "    }\n",
       "\n",
       "    .dataframe thead th {\n",
       "        text-align: right;\n",
       "    }\n",
       "</style>\n",
       "<table border=\"1\" class=\"dataframe\">\n",
       "  <thead>\n",
       "    <tr style=\"text-align: right;\">\n",
       "      <th></th>\n",
       "      <th>Title</th>\n",
       "      <th>ethnicity</th>\n",
       "      <th>eth_diversity</th>\n",
       "      <th>organ_country</th>\n",
       "      <th>num_country_set</th>\n",
       "      <th>organ_country_diversity</th>\n",
       "    </tr>\n",
       "  </thead>\n",
       "  <tbody>\n",
       "    <tr>\n",
       "      <th>0</th>\n",
       "      <td>Nelson-Plosser revisited: The ACF approach</td>\n",
       "      <td>[GreaterAfrican, GreaterEuropean, GreaterEurop...</td>\n",
       "      <td>2</td>\n",
       "      <td>[SCOTLAND, ENGLAND, ENGLAND, ITALY]</td>\n",
       "      <td>3</td>\n",
       "      <td>3.0</td>\n",
       "    </tr>\n",
       "    <tr>\n",
       "      <th>1</th>\n",
       "      <td>An I(d) model with trend and cycles</td>\n",
       "      <td>[GreaterAfrican, GreaterEuropean, GreaterEurop...</td>\n",
       "      <td>2</td>\n",
       "      <td>[ENGLAND, ENGLAND]</td>\n",
       "      <td>1</td>\n",
       "      <td>1.0</td>\n",
       "    </tr>\n",
       "    <tr>\n",
       "      <th>2</th>\n",
       "      <td>Two estimators of the long-run variance: Beyon...</td>\n",
       "      <td>[GreaterAfrican, GreaterEuropean, GreaterEurop...</td>\n",
       "      <td>2</td>\n",
       "      <td>[ENGLAND, ENGLAND]</td>\n",
       "      <td>1</td>\n",
       "      <td>1.0</td>\n",
       "    </tr>\n",
       "    <tr>\n",
       "      <th>3</th>\n",
       "      <td>Testing joint hypotheses when one of the alter...</td>\n",
       "      <td>[GreaterAfrican, GreaterEuropean]</td>\n",
       "      <td>2</td>\n",
       "      <td>[ENGLAND]</td>\n",
       "      <td>1</td>\n",
       "      <td>1.0</td>\n",
       "    </tr>\n",
       "    <tr>\n",
       "      <th>4</th>\n",
       "      <td>Nonstationarity-extended local Whittle estimation</td>\n",
       "      <td>[GreaterAfrican, GreaterEuropean, GreaterEurop...</td>\n",
       "      <td>2</td>\n",
       "      <td>[ENGLAND, ENGLAND]</td>\n",
       "      <td>1</td>\n",
       "      <td>1.0</td>\n",
       "    </tr>\n",
       "  </tbody>\n",
       "</table>\n",
       "</div>"
      ],
      "text/plain": [
       "                                               Title  \\\n",
       "0         Nelson-Plosser revisited: The ACF approach   \n",
       "1                An I(d) model with trend and cycles   \n",
       "2  Two estimators of the long-run variance: Beyon...   \n",
       "3  Testing joint hypotheses when one of the alter...   \n",
       "4  Nonstationarity-extended local Whittle estimation   \n",
       "\n",
       "                                           ethnicity  eth_diversity  \\\n",
       "0  [GreaterAfrican, GreaterEuropean, GreaterEurop...              2   \n",
       "1  [GreaterAfrican, GreaterEuropean, GreaterEurop...              2   \n",
       "2  [GreaterAfrican, GreaterEuropean, GreaterEurop...              2   \n",
       "3                  [GreaterAfrican, GreaterEuropean]              2   \n",
       "4  [GreaterAfrican, GreaterEuropean, GreaterEurop...              2   \n",
       "\n",
       "                         organ_country  num_country_set  \\\n",
       "0  [SCOTLAND, ENGLAND, ENGLAND, ITALY]                3   \n",
       "1                   [ENGLAND, ENGLAND]                1   \n",
       "2                   [ENGLAND, ENGLAND]                1   \n",
       "3                            [ENGLAND]                1   \n",
       "4                   [ENGLAND, ENGLAND]                1   \n",
       "\n",
       "   organ_country_diversity  \n",
       "0                      3.0  \n",
       "1                      1.0  \n",
       "2                      1.0  \n",
       "3                      1.0  \n",
       "4                      1.0  "
      ]
     },
     "execution_count": 549,
     "metadata": {},
     "output_type": "execute_result"
    }
   ],
   "source": [
    "merged_WOS_df[['Title', 'ethnicity', 'eth_diversity', 'organ_country', 'num_country_set', 'organ_country_diversity']].head(5)"
   ]
  },
  {
   "cell_type": "markdown",
   "metadata": {},
   "source": [
    "### Institution (diversity)\n",
    "\n",
    "Finally, in terms of institution diversity, it would be critical if, in a group of multiple organizations, each has a stronger academic field than one another.  As a result, a publication with an academic diversity might have higher uniqueness enhanced by fusion research."
   ]
  },
  {
   "cell_type": "code",
   "execution_count": 556,
   "metadata": {},
   "outputs": [],
   "source": [
    "merged_WOS_df['num_uni_set'] = merged_WOS_df['organization'].apply(lambda x: len(list(set(x)))) "
   ]
  },
  {
   "cell_type": "code",
   "execution_count": 557,
   "metadata": {},
   "outputs": [
    {
     "name": "stdout",
     "output_type": "stream",
     "text": [
      "number of Country in set by count\n"
     ]
    },
    {
     "data": {
      "text/plain": [
       "1     466\n",
       "2     382\n",
       "3     265\n",
       "4     147\n",
       "5      71\n",
       "6      42\n",
       "7      18\n",
       "8       9\n",
       "9       5\n",
       "12      3\n",
       "16      2\n",
       "10      1\n",
       "50      1\n",
       "30      1\n",
       "13      1\n",
       "15      1\n",
       "19      1\n",
       "21      1\n",
       "22      1\n",
       "23      1\n",
       "25      1\n",
       "11      1\n",
       "Name: num_uni_set, dtype: int64"
      ]
     },
     "execution_count": 557,
     "metadata": {},
     "output_type": "execute_result"
    }
   ],
   "source": [
    "print(\"number of Country in set by count\")\n",
    "merged_WOS_df.num_uni_set.value_counts()"
   ]
  },
  {
   "cell_type": "code",
   "execution_count": 558,
   "metadata": {},
   "outputs": [
    {
     "data": {
      "image/png": "[encoded data removed]",
      "text/plain": [
       "<matplotlib.figure.Figure at 0x24640fd1978>"
      ]
     },
     "metadata": {},
     "output_type": "display_data"
    }
   ],
   "source": [
    "merged_WOS_df.groupby('num_uni_set').mean()['cited_time'].plot(kind = 'bar')\n",
    "plt.xlabel('number of univ in set')\n",
    "plt.ylabel('cited time')\n",
    "plt.show()"
   ]
  },
  {
   "cell_type": "code",
   "execution_count": 560,
   "metadata": {},
   "outputs": [],
   "source": [
    "for i, num in enumerate(list(merged_WOS_df['num_uni_set'])):\n",
    "    if num == 1:\n",
    "        merged_WOS_df.loc[i, 'univ_diversity'] = 1\n",
    "    elif num == 2:\n",
    "        merged_WOS_df.loc[i, 'univ_diversity'] = 2     \n",
    "    elif num == 3:\n",
    "        merged_WOS_df.loc[i, 'univ_diversity'] = 3\n",
    "    elif num == 4:\n",
    "        merged_WOS_df.loc[i, 'univ_diversity'] = 4\n",
    "    else:\n",
    "        merged_WOS_df.loc[i, 'univ_diversity'] = 5"
   ]
  },
  {
   "cell_type": "code",
   "execution_count": 561,
   "metadata": {},
   "outputs": [
    {
     "data": {
      "image/png": "[encoded data removed]",
      "text/plain": [
       "<matplotlib.figure.Figure at 0x24640623e48>"
      ]
     },
     "metadata": {},
     "output_type": "display_data"
    }
   ],
   "source": [
    "merged_WOS_df.groupby('univ_diversity').mean()['cited_time'].plot(kind = 'bar')\n",
    "plt.ylabel('cited time')\n",
    "plt.show()"
   ]
  },
  {
   "cell_type": "markdown",
   "metadata": {},
   "source": [
    "## 9. Take the log to the cited time"
   ]
  },
  {
   "cell_type": "code",
   "execution_count": 522,
   "metadata": {},
   "outputs": [],
   "source": [
    "merged_WOS_df['log_cited_time'] = merged_WOS_df['cited_time'].apply(lambda x: math.log(x+1))"
   ]
  },
  {
   "cell_type": "markdown",
   "metadata": {},
   "source": [
    "## 10. Title+Keywords similar to Abstract\n",
    "\n",
    "From the information search perspective, it is crucial to set the right titles and keywords for a publication because the publication are more likely to be shown on the top search result. Furthermore, if the title and keywords are highly similiar to the abstract, readers would continue to look into the publication. This could be a readers' citing journey."
   ]
  },
  {
   "cell_type": "code",
   "execution_count": 768,
   "metadata": {},
   "outputs": [],
   "source": [
    "import nltk\n",
    "\n",
    "def extract_nouns(text):\n",
    "    # use tokenizer to split text into individual words\n",
    "    words = nltk.word_tokenize(text)    \n",
    "    # use tagger to categorize all words\n",
    "    tags = nltk.pos_tag(words)\n",
    "    # keep nouns only (nn, nns, nnp, nnps)\n",
    "    only_nouns = []\n",
    "    for word, pos in tags: \n",
    "        if (pos == 'NN' or pos == 'NNS' or pos == 'NNP' or pos == 'NNPS'):\n",
    "            only_nouns.append(word.lower())\n",
    "    return only_nouns  \n",
    "\n",
    "def intersect(a, b):\n",
    "    return list(set(a) & set(b))\n",
    "def union (a,b):\n",
    "    return  list(set(a).union(b))\n",
    "       \n",
    "def similarity(lst1, lst2):\n",
    "    numerator =  len(intersect(lst1,lst2))\n",
    "    denom = len(union(lst1,lst2))\n",
    "    if not denom:\n",
    "        sim = 0\n",
    "    else:\n",
    "        sim = round(float(numerator)/denom,3)\n",
    "    return sim   "
   ]
  },
  {
   "cell_type": "code",
   "execution_count": 609,
   "metadata": {},
   "outputs": [],
   "source": [
    "df = merged_WOS_df.copy()\n",
    "df.dropna(axis=0, how='any', inplace=True)"
   ]
  },
  {
   "cell_type": "code",
   "execution_count": 611,
   "metadata": {},
   "outputs": [],
   "source": [
    "sim_list = []\n",
    "for idx in range(len(df)):\n",
    "    title_keyword = extract_nouns(list(df.Title)[idx])+[i.lower() for i in list(df.keywords)[idx]]\n",
    "    abstract_nouns = extract_nouns(list(df.abstract)[idx])\n",
    "    sim_list.append(similarity(title_keyword, abstract_nouns))\n",
    "df['sim'] = sim_list"
   ]
  },
  {
   "cell_type": "code",
   "execution_count": 612,
   "metadata": {},
   "outputs": [
    {
     "data": {
      "image/png": "[encoded data removed]",
      "text/plain": [
       "<matplotlib.figure.Figure at 0x2463f6193c8>"
      ]
     },
     "metadata": {},
     "output_type": "display_data"
    }
   ],
   "source": [
    "sim_sub = df.groupby('sim').mean()['cited_time'].reset_index()\n",
    "plt.scatter(x = list(sim_sub.sim), y = list(sim_sub.cited_time))\n",
    "plt.ylabel('cited tiem')\n",
    "plt.xlabel('similarity')\n",
    "plt.show()"
   ]
  },
  {
   "cell_type": "code",
   "execution_count": 613,
   "metadata": {},
   "outputs": [],
   "source": [
    "keyword_dummy = []\n",
    "for i, j in enumerate(list(df.keywords)):\n",
    "    if len(j) > 0:\n",
    "        keyword_dummy.append(int(1))\n",
    "    else:\n",
    "        keyword_dummy.append(int(0))\n",
    "df['keyword_provided_dummy'] = keyword_dummy"
   ]
  },
  {
   "cell_type": "code",
   "execution_count": 614,
   "metadata": {},
   "outputs": [
    {
     "data": {
      "image/png": "[encoded data removed]",
      "text/plain": [
       "<matplotlib.figure.Figure at 0x2463f5c52b0>"
      ]
     },
     "metadata": {},
     "output_type": "display_data"
    }
   ],
   "source": [
    "df.groupby('keyword_provided_dummy').mean()['cited_time'].plot(kind = 'bar')\n",
    "plt.ylabel('cited tiem')\n",
    "plt.show()"
   ]
  },
  {
   "cell_type": "markdown",
   "metadata": {},
   "source": [
    "## 11. Preprocessing and Feature Engineering Result\n",
    "\n",
    "Throughout the preprocessing and feature engineering, 15 independent variables have been created for the 1,160 data lines. The descriptions of each predictor is as following:\n",
    "\n",
    "1. **yrs_since_published**: year pass since published. ex) published year: 2018 -> yrs_since_published: 1\n",
    "2. **co_author_num**: the number of the co-authors\n",
    "3. **avg_authors_h_index**: authors' h-index on average\n",
    "4. **author_odd_num_dummy**: 1 if the number of co-authors is odd and greater than 1. Otherwise, 0.\n",
    "5. **num_of_ref**: the number of the references for a publication\n",
    "6. **ref_yearly_cited_avg**: the cited time of the references on average for a publication\n",
    "7. **avg_organ_ranking**: a mean of the ranking of the organizations in the relevant research categories\n",
    "8. **avg_organ_cate_impact_factor**: a mean of the category impact factor in the relevant research categories\n",
    "9. **avg_research_field_impact_factor**: a mean of impact factor in the relevant research categories\n",
    "10. **avg_journal_impact_factor**: a mean of impact factor in the relevant journal\n",
    "11. **eth_diversity**: predicted ethnicity count in set\n",
    "12. **organ_country_diversity**: the number of the countries of the institutions in set\n",
    "13. **univ_diversity**: the number of the the institutions in set\n",
    "14. **sim**: similiarity between title+keywords and abstract\n",
    "15. **keyword_provided_dummy**: 1 if keywords are provided. Otherwise, 0."
   ]
  },
  {
   "cell_type": "code",
   "execution_count": 616,
   "metadata": {
    "scrolled": true
   },
   "outputs": [
    {
     "data": {
      "text/html": [
       "<div>\n",
       "<style scoped>\n",
       "    .dataframe tbody tr th:only-of-type {\n",
       "        vertical-align: middle;\n",
       "    }\n",
       "\n",
       "    .dataframe tbody tr th {\n",
       "        vertical-align: top;\n",
       "    }\n",
       "\n",
       "    .dataframe thead th {\n",
       "        text-align: right;\n",
       "    }\n",
       "</style>\n",
       "<table border=\"1\" class=\"dataframe\">\n",
       "  <thead>\n",
       "    <tr style=\"text-align: right;\">\n",
       "      <th></th>\n",
       "      <th>log_cited_time</th>\n",
       "      <th>cited_time</th>\n",
       "      <th>yrs_since_published</th>\n",
       "      <th>co_author_num</th>\n",
       "      <th>avg_authors_h_index</th>\n",
       "      <th>author_odd_num_dummy</th>\n",
       "      <th>num_of_ref</th>\n",
       "      <th>ref_yearly_cited_avg</th>\n",
       "      <th>avg_organ_ranking</th>\n",
       "      <th>avg_organ_cate_impact_factor</th>\n",
       "      <th>avg_research_field_impact_factor</th>\n",
       "      <th>avg_journal_impact_factor</th>\n",
       "      <th>eth_diversity</th>\n",
       "      <th>organ_country_diversity</th>\n",
       "      <th>univ_diversity</th>\n",
       "      <th>sim</th>\n",
       "      <th>keyword_dummy</th>\n",
       "    </tr>\n",
       "  </thead>\n",
       "  <tbody>\n",
       "    <tr>\n",
       "      <th>0</th>\n",
       "      <td>1.791759</td>\n",
       "      <td>5</td>\n",
       "      <td>6</td>\n",
       "      <td>3</td>\n",
       "      <td>6.333333</td>\n",
       "      <td>1</td>\n",
       "      <td>42</td>\n",
       "      <td>18.801852</td>\n",
       "      <td>224.888889</td>\n",
       "      <td>1.106667</td>\n",
       "      <td>1.015583</td>\n",
       "      <td>1.594250</td>\n",
       "      <td>2</td>\n",
       "      <td>3.0</td>\n",
       "      <td>3.0</td>\n",
       "      <td>0.021</td>\n",
       "      <td>1</td>\n",
       "    </tr>\n",
       "    <tr>\n",
       "      <th>1</th>\n",
       "      <td>1.791759</td>\n",
       "      <td>5</td>\n",
       "      <td>8</td>\n",
       "      <td>3</td>\n",
       "      <td>7.333333</td>\n",
       "      <td>1</td>\n",
       "      <td>22</td>\n",
       "      <td>3.940034</td>\n",
       "      <td>55.000000</td>\n",
       "      <td>1.478333</td>\n",
       "      <td>0.968000</td>\n",
       "      <td>1.572667</td>\n",
       "      <td>2</td>\n",
       "      <td>1.0</td>\n",
       "      <td>2.0</td>\n",
       "      <td>0.036</td>\n",
       "      <td>1</td>\n",
       "    </tr>\n",
       "    <tr>\n",
       "      <th>2</th>\n",
       "      <td>2.302585</td>\n",
       "      <td>9</td>\n",
       "      <td>10</td>\n",
       "      <td>3</td>\n",
       "      <td>7.333333</td>\n",
       "      <td>1</td>\n",
       "      <td>21</td>\n",
       "      <td>26.560935</td>\n",
       "      <td>55.000000</td>\n",
       "      <td>1.478333</td>\n",
       "      <td>0.946708</td>\n",
       "      <td>1.644125</td>\n",
       "      <td>2</td>\n",
       "      <td>1.0</td>\n",
       "      <td>2.0</td>\n",
       "      <td>0.093</td>\n",
       "      <td>1</td>\n",
       "    </tr>\n",
       "    <tr>\n",
       "      <th>3</th>\n",
       "      <td>3.218876</td>\n",
       "      <td>24</td>\n",
       "      <td>12</td>\n",
       "      <td>2</td>\n",
       "      <td>6.000000</td>\n",
       "      <td>0</td>\n",
       "      <td>58</td>\n",
       "      <td>10.841103</td>\n",
       "      <td>103.333333</td>\n",
       "      <td>1.310000</td>\n",
       "      <td>0.923567</td>\n",
       "      <td>1.693300</td>\n",
       "      <td>2</td>\n",
       "      <td>1.0</td>\n",
       "      <td>1.0</td>\n",
       "      <td>0.042</td>\n",
       "      <td>1</td>\n",
       "    </tr>\n",
       "    <tr>\n",
       "      <th>4</th>\n",
       "      <td>4.406719</td>\n",
       "      <td>81</td>\n",
       "      <td>12</td>\n",
       "      <td>3</td>\n",
       "      <td>4.333333</td>\n",
       "      <td>1</td>\n",
       "      <td>21</td>\n",
       "      <td>6.388188</td>\n",
       "      <td>55.000000</td>\n",
       "      <td>1.478333</td>\n",
       "      <td>0.923567</td>\n",
       "      <td>1.693300</td>\n",
       "      <td>2</td>\n",
       "      <td>1.0</td>\n",
       "      <td>2.0</td>\n",
       "      <td>0.051</td>\n",
       "      <td>1</td>\n",
       "    </tr>\n",
       "  </tbody>\n",
       "</table>\n",
       "</div>"
      ],
      "text/plain": [
       "   log_cited_time  cited_time  yrs_since_published  co_author_num  \\\n",
       "0        1.791759           5                    6              3   \n",
       "1        1.791759           5                    8              3   \n",
       "2        2.302585           9                   10              3   \n",
       "3        3.218876          24                   12              2   \n",
       "4        4.406719          81                   12              3   \n",
       "\n",
       "   avg_authors_h_index  author_odd_num_dummy  num_of_ref  \\\n",
       "0             6.333333                     1          42   \n",
       "1             7.333333                     1          22   \n",
       "2             7.333333                     1          21   \n",
       "3             6.000000                     0          58   \n",
       "4             4.333333                     1          21   \n",
       "\n",
       "   ref_yearly_cited_avg  avg_organ_ranking  avg_organ_cate_impact_factor  \\\n",
       "0             18.801852         224.888889                      1.106667   \n",
       "1              3.940034          55.000000                      1.478333   \n",
       "2             26.560935          55.000000                      1.478333   \n",
       "3             10.841103         103.333333                      1.310000   \n",
       "4              6.388188          55.000000                      1.478333   \n",
       "\n",
       "   avg_research_field_impact_factor  avg_journal_impact_factor  eth_diversity  \\\n",
       "0                          1.015583                   1.594250              2   \n",
       "1                          0.968000                   1.572667              2   \n",
       "2                          0.946708                   1.644125              2   \n",
       "3                          0.923567                   1.693300              2   \n",
       "4                          0.923567                   1.693300              2   \n",
       "\n",
       "   organ_country_diversity  univ_diversity    sim  keyword_dummy  \n",
       "0                      3.0             3.0  0.021              1  \n",
       "1                      1.0             2.0  0.036              1  \n",
       "2                      1.0             2.0  0.093              1  \n",
       "3                      1.0             1.0  0.042              1  \n",
       "4                      1.0             2.0  0.051              1  "
      ]
     },
     "execution_count": 616,
     "metadata": {},
     "output_type": "execute_result"
    }
   ],
   "source": [
    "final_df = df[['log_cited_time', 'cited_time', 'yrs_since_published',\\\n",
    "               'co_author_num','avg_authors_h_index', 'author_odd_num_dummy',\\\n",
    "               'num_of_ref', 'ref_yearly_cited_avg', \\\n",
    "               'avg_organ_ranking', 'avg_organ_cate_impact_factor',\\\n",
    "               'avg_research_field_impact_factor', 'avg_journal_impact_factor',\\\n",
    "               'eth_diversity', 'organ_country_diversity','univ_diversity', 'sim', 'keyword_provided_dummy']]\n",
    "final_df.head(5)"
   ]
  },
  {
   "cell_type": "code",
   "execution_count": 617,
   "metadata": {
    "scrolled": true
   },
   "outputs": [],
   "source": [
    "final_df.to_pickle('./data/final_df.pkl')"
   ]
  },
  {
   "cell_type": "markdown",
   "metadata": {},
   "source": [
    "# Model Building\n",
    "\n",
    "This section is divided into three parts: 1. Multicollinearity, 2. Feature Selection, 3. Model Evaluation. As shown on the scatter plot, the data points seem like the exponential distribution, which describes that a majority of the dataset are skewed to the left side. There are multiple modeling options such as negative binomial regression(NB regression), posisson refression, or linear regression with taking the log of the target variable specially for the dependent variable like the number of even occurrence. The linear regression and NB regression will be executed."
   ]
  },
  {
   "cell_type": "code",
   "execution_count": 577,
   "metadata": {},
   "outputs": [],
   "source": [
    "import statsmodels.api as sm\n",
    "import statsmodels.formula.api as smf\n",
    "import statsmodels.stats.api as sms\n",
    "import statsmodels.api as sm\n",
    "import matplotlib.pyplot as plt\n",
    "\n",
    "%matplotlib inline\n",
    "\n",
    "final_df = pd.read_pickle('./data/final_df.pkl')"
   ]
  },
  {
   "cell_type": "code",
   "execution_count": 619,
   "metadata": {},
   "outputs": [
    {
     "data": {
      "image/png": "[encoded data removed]",
      "text/plain": [
       "<matplotlib.figure.Figure at 0x246401d0ac8>"
      ]
     },
     "metadata": {},
     "output_type": "display_data"
    }
   ],
   "source": [
    "df_sub = final_df.cited_time.value_counts().reset_index()\n",
    "df_sub = df_sub.rename(columns={'index':'cited_time', 'cited_time':'count'})\n",
    "df_sub = df_sub.sort_values(by='cited_time')\n",
    "plt.scatter(list(df_sub['cited_time']),  list(df_sub['count']))\n",
    "plt.xlabel('Cited Time')\n",
    "plt.ylabel('Count')\n",
    "plt.ylim([-1, 50])\n",
    "plt.show()"
   ]
  },
  {
   "cell_type": "markdown",
   "metadata": {},
   "source": [
    "## 1. Multicollinearity\n",
    "\n",
    "Multicollinearity can cause mis-interepreting the effect of the independet variables in the models. The best way to solve the issue is removing the varaibles above the variance inflation factor(VIF) of 10 and highly correlated variables. By using the function \"variance_inflation_factor\" in the statesmodels package, the VIF was calculated. As a result, there are four variables above the VIF of 10, which are \"avg_organ_cate_impact_factor\", \"avg_research_field_impact_factor\", \"organ_country_diversity\", and \"keyword_dummy\". In addition, as depicted in the heatmap, \"organ_country_diversity\" is highly correlated to the \"univ_diversity.\""
   ]
  },
  {
   "cell_type": "code",
   "execution_count": 604,
   "metadata": {},
   "outputs": [],
   "source": [
    "from statsmodels.stats.outliers_influence import variance_inflation_factor"
   ]
  },
  {
   "cell_type": "code",
   "execution_count": 778,
   "metadata": {},
   "outputs": [
    {
     "name": "stdout",
     "output_type": "stream",
     "text": [
      "yrs_since_published : 3.90090441320032\n",
      "co_author_num : 2.9695249773625907\n",
      "avg_authors_h_index : 3.9818259523667496\n",
      "author_odd_num_dummy : 1.7924320378463383\n",
      "num_of_ref : 4.7570205726977965\n",
      "ref_yearly_cited_avg : 2.8961087474700014\n",
      "avg_organ_ranking : 2.066031781222488\n",
      "avg_organ_cate_impact_factor : 14.749269849733485\n",
      "avg_research_field_impact_factor : 12.777011900756749\n",
      "avg_journal_impact_factor : 2.0622136079271125\n",
      "eth_diversity : 9.206783186684389\n",
      "organ_country_diversity : 10.059379430828633\n",
      "univ_diversity : 9.21223314955914\n",
      "sim : 4.9389443210440955\n",
      "keyword_dummy : 12.127617847109583\n"
     ]
    }
   ],
   "source": [
    "X = final_df.drop(columns = ['log_cited_time', 'cited_time'], axis = 1)\n",
    "y = final_df['log_cited_time']\n",
    "\n",
    "for i in range(X.shape[1]):\n",
    "    vif = variance_inflation_factor(X.values, i)\n",
    "    print(X.columns[i],':',vif)"
   ]
  },
  {
   "cell_type": "code",
   "execution_count": 781,
   "metadata": {},
   "outputs": [
    {
     "data": {
      "image/png": "[encoded data removed]",
      "text/plain": [
       "<matplotlib.figure.Figure at 0x2464874efd0>"
      ]
     },
     "metadata": {},
     "output_type": "display_data"
    }
   ],
   "source": [
    "import matplotlib.pyplot as plt\n",
    "import seaborn as sns\n",
    "corr_df = X.corr()\n",
    "sns.heatmap(corr_df, cmap='RdBu_r')\n",
    "plt.show()"
   ]
  },
  {
   "cell_type": "markdown",
   "metadata": {},
   "source": [
    "## 2. Feature Selection\n",
    "\n",
    "The Random Forest(RF) regressor will be used to select the predictors by measuring the feature importances. To find out the best hyper parameters of the RF model, the grid search method has been applied with the cross validation of k = 20. As a result, the optimal model has built on the max feature = and the number of estimators = . The results of Random Forest Regression with log(cited_time) as target variable shows that yrs_since_published, avg_journal_impact_factor, and avg_authors_h_index are the top3 important variables as below. Based on the previous VIF, correlation heatmap, and the current RF feature importances, the two feature groups has been formulated as below.\n",
    "\n",
    "1. all_varaibles_group : 15 variables\n",
    "2. truncated_group_1: 12 variables below the VIF of 10\n",
    "3. truncated_group_2: 11 variables excluding \"organ_country_diversity\" with high correlation and the variables with VIF above 10"
   ]
  },
  {
   "cell_type": "code",
   "execution_count": 622,
   "metadata": {},
   "outputs": [],
   "source": [
    "from sklearn.ensemble import RandomForestRegressor\n",
    "from sklearn.model_selection import KFold, GridSearchCV\n",
    "from sklearn.metrics import mean_squared_error\n",
    "from sklearn.model_selection import train_test_split"
   ]
  },
  {
   "cell_type": "code",
   "execution_count": 623,
   "metadata": {},
   "outputs": [],
   "source": [
    "# adding dep_var to employees_final2\n",
    "X = final_df.drop(columns = ['log_cited_time', 'cited_time'], axis = 1)\n",
    "y = final_df['log_cited_time']\n",
    "                                \n",
    "X_train, X_test, y_train, y_test = train_test_split(X, y, test_size = 0.20, random_state = 42)"
   ]
  },
  {
   "cell_type": "code",
   "execution_count": 624,
   "metadata": {},
   "outputs": [],
   "source": [
    "kfold = KFold(n_splits=20, shuffle=True, random_state=1234)\n",
    "scoring='neg_mean_squared_error'\n",
    "n_jobs=-1\n",
    "\n",
    "model = RandomForestRegressor()\n",
    "param = {\n",
    "    'n_estimators': [50, 150, 250, 350, 450, 550, 650],\n",
    "    'max_features': [3, 4, 5, 6, 7, 8, 9, 10, 11, 12, 13]\n",
    "}"
   ]
  },
  {
   "cell_type": "code",
   "execution_count": 625,
   "metadata": {},
   "outputs": [
    {
     "name": "stdout",
     "output_type": "stream",
     "text": [
      "Best neg_mean_squared_error: -0.818357 \n",
      "Parameters {'max_features': 8, 'n_estimators': 300}\n"
     ]
    }
   ],
   "source": [
    "gridsearch = GridSearchCV(estimator=model, param_grid=param, cv=kfold, scoring=scoring, n_jobs=n_jobs)\n",
    "grid_result = gridsearch.fit(X_train, y_train)\n",
    "print(\"Best neg_mean_squared_error: %f \\nParameters %s\" % (grid_result.best_score_, grid_result.best_params_))"
   ]
  },
  {
   "cell_type": "code",
   "execution_count": 626,
   "metadata": {},
   "outputs": [
    {
     "name": "stdout",
     "output_type": "stream",
     "text": [
      "RMSE Train: 0.33331618543754177\n",
      "RMSE Test: 0.8492561543542569\n",
      "R^2 Train: 0.9495722997993324\n",
      "R^2 test: 0.6029493100890939\n"
     ]
    }
   ],
   "source": [
    "fine_tuned_scaled_rf = grid_result.best_estimator_\n",
    "y_train_hat = fine_tuned_scaled_rf.predict(X_train)\n",
    "y_test_hat = fine_tuned_scaled_rf.predict(X_test)\n",
    "rmse_train = np.sqrt(mean_squared_error(y_train, y_train_hat))\n",
    "rmse_test = np.sqrt(mean_squared_error(y_test, y_test_hat))\n",
    "r2_train = fine_tuned_scaled_rf.score(X_train, y_train)\n",
    "r2_test = fine_tuned_scaled_rf.score(X_test, y_test)\n",
    "\n",
    "print(\"RMSE Train:\",rmse_train)\n",
    "print(\"RMSE Test:\",rmse_test)\n",
    "\n",
    "print(\"R^2 Train:\",r2_train)\n",
    "print(\"R^2 test:\",r2_test)"
   ]
  },
  {
   "cell_type": "code",
   "execution_count": 787,
   "metadata": {},
   "outputs": [
    {
     "name": "stdout",
     "output_type": "stream",
     "text": [
      "1 . yrs_since_published 0.3805602744872444\n",
      "2 . avg_journal_impact_factor 0.1938370390862591\n",
      "3 . avg_authors_h_index 0.07014976057885913\n",
      "4 . num_of_ref 0.06550836162589303\n",
      "5 . ref_yearly_cited_avg 0.052996698784764186\n",
      "6 . avg_organ_ranking 0.048095282890634417\n",
      "7 . avg_organ_cate_impact_factor 0.04688034124303395\n",
      "8 . avg_research_field_impact_factor 0.042947727306582306\n",
      "9 . sim 0.03519804305042866\n",
      "10 . co_author_num 0.022493561628197104\n",
      "11 . univ_diversity 0.015536690321099757\n",
      "12 . organ_country_diversity 0.01147251300962133\n",
      "13 . keyword_dummy 0.005585374500497264\n",
      "14 . eth_diversity 0.004934827963493646\n",
      "15 . author_odd_num_dummy 0.003803503523391695\n"
     ]
    },
    {
     "data": {
      "text/plain": [
       "Text(0.5,1,'Results of Random Forest Regression with log(cited_time) as target variable')"
      ]
     },
     "execution_count": 787,
     "metadata": {},
     "output_type": "execute_result"
    },
    {
     "data": {
      "image/png": "[encoded data removed]",
      "text/plain": [
       "<matplotlib.figure.Figure at 0x24648baff98>"
      ]
     },
     "metadata": {},
     "output_type": "display_data"
    }
   ],
   "source": [
    "# Sorting features by their score\n",
    "features, importances = zip(*sorted(zip(list(X.columns), fine_tuned_scaled_rf.feature_importances_), key=lambda x: x[1], reverse=True))\n",
    "\n",
    "# Printing out the results \n",
    "num = 0\n",
    "for f, i in zip(features, importances):\n",
    "    num += 1\n",
    "    print(num,\".\", f, i)\n",
    "\n",
    "# Sorting features by their score\n",
    "features, importances = zip(*sorted(zip(list(X.columns), fine_tuned_scaled_rf.feature_importances_), key=lambda x: x[1]))\n",
    "    \n",
    "# Creating pos, a list containing indexes of unknown_by_yr\n",
    "yPos = range(len(features))\n",
    "       \n",
    "# Plotting the horizontal bar chart\n",
    "plt.barh(yPos,  importances,  height = 0.4, color='green') \n",
    "\n",
    "# Setting xticks to have the same `pos` as bars \n",
    "plt.yticks(yPos, features)\n",
    "\n",
    "# Setting xlabel\n",
    "plt.xlabel('Feature Importance')\n",
    "\n",
    "#  Setting a title, and axes labels\n",
    "plt.title('Results of Random Forest Regression with log(cited_time) as target variable')"
   ]
  },
  {
   "cell_type": "code",
   "execution_count": 647,
   "metadata": {},
   "outputs": [],
   "source": [
    "def remove_all_high_VIF(df, predictors, threshold=10):        \n",
    "    columns = predictors\n",
    "    df = df[columns].copy()\n",
    "    \n",
    "    dropped = True\n",
    "    while dropped:\n",
    "        dropped = False\n",
    "        vif_vals = [variance_inflation_factor(df.values, i) for i in range(df.shape[1])]        \n",
    "        max_vif = max(vif_vals)\n",
    "        if max_vif > threshold:\n",
    "            max_vif_index = vif_vals.index(max_vif)\n",
    "            print('Dropped:',columns[max_vif_index],max_vif)\n",
    "            del columns[max_vif_index]\n",
    "            df = df[columns]\n",
    "            dropped = True\n",
    "\n",
    "    predictors = columns\n",
    "    return predictors"
   ]
  },
  {
   "cell_type": "code",
   "execution_count": 798,
   "metadata": {},
   "outputs": [
    {
     "name": "stdout",
     "output_type": "stream",
     "text": [
      "Dropped: avg_organ_cate_impact_factor 14.749269849733485\n",
      "Dropped: avg_research_field_impact_factor 11.766898678113215\n",
      "Dropped: keyword_dummy 10.688702486378041\n",
      "\n",
      "\n",
      "=== VIF values ===\n",
      "yrs_since_published : 3.383085406086865\n",
      "co_author_num : 2.9444950105138132\n",
      "avg_authors_h_index : 3.682942984386974\n",
      "author_odd_num_dummy : 1.7749172157764286\n",
      "num_of_ref : 4.287995333982694\n",
      "ref_yearly_cited_avg : 2.669588279309444\n",
      "avg_organ_ranking : 1.8774641692558296\n",
      "avg_journal_impact_factor : 1.830875464030131\n",
      "eth_diversity : 7.334181547106275\n",
      "organ_country_diversity : 9.961159248839476\n",
      "univ_diversity : 8.957003022356279\n",
      "sim : 4.567565666433964\n"
     ]
    }
   ],
   "source": [
    "trunc_columns = remove_all_high_VIF(final_df, list(X.columns))\n",
    "f = final_df[trunc_columns]\n",
    "print(\"\\n\")\n",
    "print(\"=== VIF values ===\")\n",
    "for i in range(f.shape[1]):\n",
    "    vif = variance_inflation_factor(f.values, i)\n",
    "    print(f.columns[i],':', vif)"
   ]
  },
  {
   "cell_type": "code",
   "execution_count": 800,
   "metadata": {},
   "outputs": [
    {
     "name": "stdout",
     "output_type": "stream",
     "text": [
      "Dropped: organ_country_diversity\n",
      "\n",
      "=== VIF values ===\n",
      "yrs_since_published : 3.3543116808486997\n",
      "co_author_num : 2.925985754897916\n",
      "avg_authors_h_index : 3.6519804490448786\n",
      "author_odd_num_dummy : 1.7737311580567001\n",
      "num_of_ref : 4.17381964304202\n",
      "ref_yearly_cited_avg : 2.64830095195021\n",
      "avg_organ_ranking : 1.7865384470460273\n",
      "avg_journal_impact_factor : 1.8308626933942633\n",
      "eth_diversity : 7.227460845115375\n",
      "univ_diversity : 5.484518864721818\n",
      "sim : 4.553519214985548\n"
     ]
    }
   ],
   "source": [
    "# drop organ_country_diversity due to high correlation\n",
    "trunc_columns2 = ['yrs_since_published', 'co_author_num', 'avg_authors_h_index', 'author_odd_num_dummy', 'num_of_ref', 'ref_yearly_cited_avg', 'avg_organ_ranking', 'avg_journal_impact_factor', 'eth_diversity', 'univ_diversity', 'sim']\n",
    "print(\"Dropped: organ_country_diversity\\n\")\n",
    "print(\"=== VIF values ===\")\n",
    "\n",
    "f = final_df[trunc_columns2]\n",
    "for i in range(f.shape[1]):\n",
    "    vif = variance_inflation_factor(f.values, i)\n",
    "    print(f.columns[i],':',vif)"
   ]
  },
  {
   "cell_type": "markdown",
   "metadata": {},
   "source": [
    "## 3-1. Model Evaluation (Linear Regression)\n",
    "\n",
    "To compare the three models' performance, the dataset is splitted into 80% of the trainset and 20% of the testset. For the regressor trained with all of the variables, the adjusted R square is 0.874 and the Root mean square error(RMSE) is 1.084, which are the best among the three models. The results of the other two regressors have simliar to each other, which is the adjusted R square of 0.872 and the RMSE of 1.091. In terms of interpretation, it is important to select an unbiased model which satisfies the gauss-markov theorem. Therefore, the last model with the features without multicollinearity issue has been selected to interpret the casual effects."
   ]
  },
  {
   "cell_type": "code",
   "execution_count": 794,
   "metadata": {},
   "outputs": [
    {
     "name": "stdout",
     "output_type": "stream",
     "text": [
      "=== Full Model Performance in testset ===\n",
      "R2 for the full model is: 0.87364\n",
      "RMSE for the full model is: 1.08409\n",
      "\n",
      "=== Truncated Model 1 Performance in testset ===\n",
      "R2 for the truncated model is: 0.87242\n",
      "RMSE for the truncated model is: 1.09149\n",
      "\n",
      "=== Truncated Model 2 Performance in testset(trunc1+'organ_country_diversity' dropped) ===\n",
      "R2 for the truncated model is: 0.87252\n",
      "RMSE for the truncated model is: 1.09318\n"
     ]
    }
   ],
   "source": [
    "# Regression using all variables\n",
    "import statsmodels.api as sm\n",
    "from sklearn.metrics import mean_squared_error\n",
    "\n",
    "# Regression using all variables\n",
    "X_train, X_test, y_train, y_test = train_test_split(X, y, test_size = 0.2, random_state = 123)\n",
    "\n",
    "# fit the model onto the training sample\n",
    "model = sm.OLS(y_train, X_train).fit()\n",
    "y_hat = model.predict(X_test) # make the predictions by the model\n",
    "rmse_full =  np.sqrt(mean_squared_error(y_test, y_hat))\n",
    "\n",
    "# Regression using truncated variables (1)\n",
    "X_train, X_test, y_train, y_test = train_test_split(X[trunc_columns], y, test_size = 0.2, random_state = 123)\n",
    "\n",
    "model_trunc1 = sm.OLS(y_train, X_train).fit()\n",
    "y_hat_trunc1 = model_trunc1.predict(X_test) # make the predictions by the model\n",
    "rmse_trunc1 =  np.sqrt(mean_squared_error(y_test, y_hat_trunc1))\n",
    "\n",
    "# Regression using truncated variables (2)\n",
    "X_train, X_test, y_train, y_test = train_test_split(X[trunc_columns2], y, test_size = 0.2, random_state = 123)\n",
    "\n",
    "model_trunc2 = sm.OLS(y_train, X_train).fit()\n",
    "y_hat_trunc2 = model_trunc2.predict(X_test) # make the predictions by the model\n",
    "rmse_trunc2 =  np.sqrt(mean_squared_error(y_test, y_hat_trunc2))\n",
    "\n",
    "\n",
    "print(\"=== Full Model Performance in testset ===\")\n",
    "print(\"Adjusted R2 for the full model is: %s\"  %(round(model.rsquared_adj, 5)))\n",
    "print(\"RMSE for the full model is: %s\\n\" %(round(rmse_full, 5)))\n",
    "\n",
    "print(\"=== Truncated Model 1 Performance in testset ===\")\n",
    "print(\"Adjusted R2 for the truncated model is: %s\" %(round(model_trunc1.rsquared_adj, 5)))\n",
    "print(\"RMSE for the truncated model is: %s\\n\" %(round(rmse_trunc1, 5)))\n",
    "\n",
    "print(\"=== Truncated Model 2 Performance in testset(trunc1+'organ_country_diversity' dropped) ===\")\n",
    "print(\"Adjusted R2 for the truncated model is: %s\" %(round(model_trunc2.rsquared_adj, 5)))\n",
    "print(\"RMSE for the truncated model is: %s\" %(round(rmse_trunc2, 5)))"
   ]
  },
  {
   "cell_type": "markdown",
   "metadata": {},
   "source": [
    "## 3-2. Model Interpretation (Linear Regression)\n",
    "\n",
    "Above all, the similiary between the title+keywords and the abstract for a publication is not only statistically significant, but economically significant, which indicates that the more words from title or keywords a researcher put in a publication, the higher chances the publication gets to be cited. So, an author should not only set a right title and keywords, but the reletive words should be shown up in the abstract part as many as possible for citation. // Secondly, the period since published is statistically and economically significant which indicates that the one year passed will increase the number of citation by 13%.  The institution diversity is also statistically significant which demonstrates that a publication added with the one more unique organization will increase the cited time by about 10%. Also, which journal a publication comes out in has a positive effect on the cited time. To be specific, a unit increase of the journal impact factor will rise the citation by 9%. When it comes to references, it is important for authors to know that both of quality and quantity of references in the publication have a positive effect on the citation. "
   ]
  },
  {
   "cell_type": "code",
   "execution_count": 806,
   "metadata": {},
   "outputs": [
    {
     "name": "stdout",
     "output_type": "stream",
     "text": [
      "                            OLS Regression Results                            \n",
      "==============================================================================\n",
      "Dep. Variable:         log_cited_time   R-squared:                       0.874\n",
      "Model:                            OLS   Adj. R-squared:                  0.873\n",
      "Method:                 Least Squares   F-statistic:                     578.4\n",
      "Date:                Thu, 21 Jun 2018   Prob (F-statistic):               0.00\n",
      "Time:                        11:31:50   Log-Likelihood:                -1434.8\n",
      "No. Observations:                 928   AIC:                             2892.\n",
      "Df Residuals:                     917   BIC:                             2945.\n",
      "Df Model:                          11                                         \n",
      "Covariance Type:            nonrobust                                         \n",
      "=============================================================================================\n",
      "                                coef    std err          t      P>|t|      [0.025      0.975]\n",
      "---------------------------------------------------------------------------------------------\n",
      "yrs_since_published           0.1296      0.006     22.041      0.000       0.118       0.141\n",
      "co_author_num                 0.0192      0.014      1.392      0.164      -0.008       0.046\n",
      "avg_authors_h_index           0.0146      0.003      4.587      0.000       0.008       0.021\n",
      "author_odd_num_dummy          0.1137      0.078      1.451      0.147      -0.040       0.267\n",
      "num_of_ref                    0.0096      0.001      7.330      0.000       0.007       0.012\n",
      "ref_yearly_cited_avg          0.0105      0.003      4.163      0.000       0.006       0.015\n",
      "avg_organ_ranking            -0.0008      0.000     -5.043      0.000      -0.001      -0.000\n",
      "avg_journal_impact_factor     0.0888      0.013      6.786      0.000       0.063       0.114\n",
      "eth_diversity                 0.0211      0.078      0.271      0.786      -0.131       0.174\n",
      "univ_diversity                0.0979      0.030      3.213      0.001       0.038       0.158\n",
      "sim                           1.5090      0.653      2.313      0.021       0.228       2.790\n",
      "==============================================================================\n",
      "Omnibus:                       38.782   Durbin-Watson:                   2.079\n",
      "Prob(Omnibus):                  0.000   Jarque-Bera (JB):               43.411\n",
      "Skew:                          -0.482   Prob(JB):                     3.74e-10\n",
      "Kurtosis:                       3.439   Cond. No.                     5.44e+03\n",
      "==============================================================================\n",
      "\n",
      "Warnings:\n",
      "[1] Standard Errors assume that the covariance matrix of the errors is correctly specified.\n",
      "[2] The condition number is large, 5.44e+03. This might indicate that there are\n",
      "strong multicollinearity or other numerical problems.\n"
     ]
    }
   ],
   "source": [
    "print(model_trunc2.summary())"
   ]
  },
  {
   "cell_type": "markdown",
   "metadata": {},
   "source": [
    "# Reference\n",
    "\n",
    "InCites INDICATORS HANDBOOK. (2014). [ebook] Thomson Reuters, p.7&11. Available at: http://ipscience-help.thomsonreuters.com/inCites2Live/8980-TRS/version/default/part/AttachmentData/data/InCites-Indicators-Handbook-6%2019.pdf [Accessed 20 Jun. 2018].\n",
    "\n",
    "Menon, T. and Phillips, K. (2011). Getting Even or Being at Odds? Cohesion in Even- and Odd-Sized Small Groups. Organization Science, 22(3), pp.738-753.\n",
    "\n"
   ]
  },
  {
   "cell_type": "code",
   "execution_count": null,
   "metadata": {},
   "outputs": [],
   "source": []
  }
 ],
 "metadata": {
  "kernelspec": {
   "display_name": "Python 3",
   "language": "python",
   "name": "python3"
  },
  "language_info": {
   "codemirror_mode": {
    "name": "ipython",
    "version": 3
   },
   "file_extension": ".py",
   "mimetype": "text/x-python",
   "name": "python",
   "nbconvert_exporter": "python",
   "pygments_lexer": "ipython3",
   "version": "3.6.4"
  }
 },
 "nbformat": 4,
 "nbformat_minor": 2
}
