{
 "cells": [
  {
   "cell_type": "code",
   "execution_count": 4,
   "metadata": {},
   "outputs": [],
   "source": [
    "import pandas as pd"
   ]
  },
  {
   "cell_type": "code",
   "execution_count": 67,
   "metadata": {
    "scrolled": true
   },
   "outputs": [
    {
     "name": "stdout",
     "output_type": "stream",
     "text": [
      "index 1153\n",
      "1148    Expanding the Content Domain of Workplace Aggr...\n",
      "1149    The Dark Side of Groups: A \"Gang at Work\" in E...\n",
      "1150    What's in a Name? Just the Essence of One's Pr...\n",
      "1151    Resisting Organizational-Level Corruption: An ...\n",
      "1152    Corrupt organizations or organizations of corr...\n",
      "1153    Association between market concentration of ho...\n",
      "Name: Title, dtype: object\n",
      "1148    Expanding the Content Domain of Workplace Aggr...\n",
      "1149    The Dark Side of Groups: A \"Gang at Work\" in E...\n",
      "1150    What's in a Name? Just the Essence of One's Pr...\n",
      "1151    Resisting Organizational-Level Corruption: An ...\n",
      "1152    Corrupt organizations or organizations of corr...\n",
      "1153    Association between market concentration of ho...\n",
      "Name: Title, dtype: object\n"
     ]
    }
   ],
   "source": [
    "a = pd.read_csv('./data/WOS_scraped_df_ver3.csv')\n",
    "b = pd.read_pickle('./data/final.pkl')\n",
    "b.reset_index(drop=True, inplace=True)\n",
    "print(\"index\", a.shape[0]-1)\n",
    "check_index = a.shape[0]-1\n",
    "print(a.loc[(check_index-5):check_index, 'Title'])\n",
    "print(b.loc[(check_index-5):check_index, 'Title'])"
   ]
  },
  {
   "cell_type": "code",
   "execution_count": 51,
   "metadata": {},
   "outputs": [
    {
     "data": {
      "text/plain": [
       "(1421, 24)"
      ]
     },
     "execution_count": 51,
     "metadata": {},
     "output_type": "execute_result"
    }
   ],
   "source": [
    "pd.read_pickle('./data/final.pkl').shape"
   ]
  },
  {
   "cell_type": "code",
   "execution_count": 50,
   "metadata": {
    "scrolled": true
   },
   "outputs": [
    {
     "data": {
      "text/plain": [
       "Title                                  0\n",
       "person_ID                              0\n",
       "WOS_URL                                0\n",
       "co_author1                             0\n",
       "co_author2                             0\n",
       "journal_type                           0\n",
       "research_areas                         0\n",
       "WOS_cate                               0\n",
       "address                                0\n",
       "date                                   0\n",
       "cited_time                             0\n",
       "num_of_ref                             0\n",
       "abstract                             261\n",
       "keywords                               0\n",
       "publisher                              0\n",
       "published_yrs                          0\n",
       "author_univ                            0\n",
       "univ_country                           0\n",
       "author_univ_num                        0\n",
       "univ_country_num                       0\n",
       "co_author_num                          0\n",
       "research_areas_num                     0\n",
       "WOS_category_num                       0\n",
       "log_cited_time                         0\n",
       "author_h_index_sum                     0\n",
       "author_publication_sum                 0\n",
       "author_avg_citation_per_item           0\n",
       "ref_yearly_cited_sum(credibility)      0\n",
       "dtype: int64"
      ]
     },
     "execution_count": 50,
     "metadata": {},
     "output_type": "execute_result"
    }
   ],
   "source": [
    "merged_WOS_df = pd.read_pickle('C:/Users/seong/Documents/00. Summer/1. Workforce/Individual HW/02. Prepreocessing/data/WOS_author_ref_df_0613.pkl')\n",
    "merged_WOS_df.isnull().sum()"
   ]
  },
  {
   "cell_type": "code",
   "execution_count": 49,
   "metadata": {},
   "outputs": [],
   "source": [
    "merged_WOS_df[['WOS_URL', 'abstract']].to_csv('processing.csv', index = None)"
   ]
  },
  {
   "cell_type": "code",
   "execution_count": null,
   "metadata": {},
   "outputs": [],
   "source": []
  }
 ],
 "metadata": {
  "kernelspec": {
   "display_name": "Python 3",
   "language": "python",
   "name": "python3"
  },
  "language_info": {
   "codemirror_mode": {
    "name": "ipython",
    "version": 3
   },
   "file_extension": ".py",
   "mimetype": "text/x-python",
   "name": "python",
   "nbconvert_exporter": "python",
   "pygments_lexer": "ipython3",
   "version": "3.6.4"
  }
 },
 "nbformat": 4,
 "nbformat_minor": 2
}
