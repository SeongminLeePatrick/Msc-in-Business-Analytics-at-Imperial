{
 "cells": [
  {
   "cell_type": "markdown",
   "metadata": {},
   "source": [
    "#### Machine Learning Group Homework 4: K-Means Clustering \n",
    "\n",
    "#### Group L"
   ]
  },
  {
   "cell_type": "markdown",
   "metadata": {},
   "source": [
    "##### 1. Explore the website http://sofifa.com."
   ]
  },
  {
   "cell_type": "markdown",
   "metadata": {},
   "source": [
    "press 'All' tab, then https://sofifa.com/players?offset=0 (page1) https://sofifa.com/players?offset=80 (page2) : Page  \n",
    "press 'flag' then https://sofifa.com/players?na=52 (Argentinia) https://sofifa.com/players?na=14 (England) : Nation Code  \n",
    "press 'next'tab in the bottoom  https://sofifa.com/players?na=52&offset=80  : Nation code + page  \n",
    "press an individual player https://sofifa.com/player/142959 (each players' id for the attributes)  "
   ]
  },
  {
   "cell_type": "markdown",
   "metadata": {},
   "source": [
    "###### Import Modules"
   ]
  },
  {
   "cell_type": "code",
   "execution_count": 1,
   "metadata": {
    "collapsed": true
   },
   "outputs": [],
   "source": [
    "# scrape data\n",
    "import pandas as pd\n",
    "from bs4 import BeautifulSoup\n",
    "import requests\n",
    "import re\n",
    "import unicodedata\n",
    "\n",
    "# machine learning\n",
    "from sklearn.cluster import KMeans \n",
    "from sklearn.preprocessing import StandardScaler \n",
    "from sklearn.manifold import TSNE\n",
    "import matplotlib.pyplot as plt\n",
    "import numpy as np\n",
    "%matplotlib inline"
   ]
  },
  {
   "cell_type": "markdown",
   "metadata": {},
   "source": [
    "##### 2. Explain in detail the code below. "
   ]
  },
  {
   "cell_type": "markdown",
   "metadata": {},
   "source": [
    "To extract the each players' attributes, we need to get the players number id (eg: \"https://sofifa.com/player/142959\") . \n",
    " \n",
    "1. The `requests.get()` function creates a request object for each page  \n",
    " \n",
    "2. Each page's content (html tag and content) is downloaded and parsed by the `BeautifulSoup()` function with the argument `html.parser`  \n",
    " \n",
    "3. The `find_all()` function of the BeautifulSoup object is used to get the all the links on the page, referenced by the html `a` tag.  \n",
    " \n",
    "4. The `href` tag is used to locate and extract the hyperlinks for all links on the page\n",
    " \n",
    "5. The links variable (`for j,link in enumerate(links)`) stores links for each player's attributes page, ie: \"https://sofifa.com/player/142959\"  "
   ]
  },
  {
   "cell_type": "code",
   "execution_count": 2,
   "metadata": {
    "collapsed": true
   },
   "outputs": [],
   "source": [
    "attributes=['Crossing','Finishing','Heading accuracy',\n",
    " 'Short passing','Volleys','Dribbling','Curve',\n",
    " 'Free kick accuracy','Long passing','Ball control','Acceleration',\n",
    " 'Sprint speed','Agility','Reactions','Balance',\n",
    " 'Shot power','Jumping','Stamina','Strength',\n",
    " 'Long shots','Aggression','Interceptions','Positioning',\n",
    " 'Vision','Penalties','Composure','Marking',\n",
    " 'Standing tackle','Sliding tackle','GK diving',\n",
    " 'GK handling','GK kicking','GK positioning','GK reflexes']"
   ]
  },
  {
   "cell_type": "code",
   "execution_count": 3,
   "metadata": {
    "collapsed": true
   },
   "outputs": [],
   "source": [
    "links=[]   #get all argentinian players\n",
    "for offset in ['0','80','160','240','320','400','480','560']:\n",
    "    page=requests.get('http://sofifa.com/players?na=52&offset='+offset) \n",
    "    # request page information from server\n",
    "    soup=BeautifulSoup(page.content,'html.parser')\n",
    "    # stores the content of the page's html\n",
    "    for link in soup.find_all('a'):\n",
    "        # find all html link tags (a)\n",
    "        links.append(link.get('href'))\n",
    "        # get all hyperlink references\n",
    "links=['http://sofifa.com'+l for l in links if 'player/'in l]  \n",
    "# if the link contains /player, indicates that it is a link to a player's page, where the player's id is in the url \n",
    "# appends the first part of the url to the second part containing player's id"
   ]
  },
  {
   "cell_type": "code",
   "execution_count": 4,
   "metadata": {
    "collapsed": true
   },
   "outputs": [],
   "source": [
    "#pattern regular expression \n",
    "pattern=r\"\"\"\\s*([\\w\\s]*?)\\s*FIFA\"\"\"   #file starts with empty spaces... players name...FIFA...other stuff     \n",
    "# the regular expression looks for each player's name and only grabs text that matches the pattern\n",
    "for attr in attributes:\n",
    "    pattern+=r\"\"\".*?(\\d*\\s*\"\"\"+attr+r\"\"\")\"\"\"  #for each attribute we have other stuff..number..attribute..other stuff\n",
    "pat=re.compile(pattern, re.DOTALL)    #parsing multiline text"
   ]
  },
  {
   "cell_type": "code",
   "execution_count": 5,
   "metadata": {
    "collapsed": false
   },
   "outputs": [],
   "source": [
    "rows=[]\n",
    "links=links[10:]\n",
    "\n",
    "for j, link in enumerate(links):\n",
    "# for j,link in enumerate(links):\n",
    "#     print j,link\n",
    "    # start building a list of attributes for each player\n",
    "    # each player has its own row of attributes\n",
    "    row=[link]\n",
    "    playerpage=requests.get(link)\n",
    "    # request page information from server\n",
    "    playersoup=BeautifulSoup(playerpage.content,'html.parser')\n",
    "    # stores content of page's html\n",
    "    text=playersoup.get_text()\n",
    "    # get text without html tags\n",
    "    text=unicodedata.normalize('NFKD', text).encode('ascii','ignore') #unicode NFKD normalization\n",
    "    a=pat.match(text.decode('utf-8')) #decode according to utf-8 standard\n",
    "    row.append(a.group(1))\n",
    "    # appends the players name to the row of player data\n",
    "\n",
    "    for i in range(2,len(attributes)+2):\n",
    "        row.append(int(a.group(i).split()[0]))\n",
    "        # append each of the player's attributes defined above to the row of player data\n",
    "\n",
    "    rows.append(row)\n",
    "    # appends the row containing all the player's data to a list containing all rows of player data"
   ]
  },
  {
   "cell_type": "code",
   "execution_count": 6,
   "metadata": {
    "collapsed": true
   },
   "outputs": [],
   "source": [
    "df=pd.DataFrame(rows,columns=['link','name']+attributes)\n",
    "# convert list of rows to dataframe\n",
    "df.to_csv('ArgentinaPlayers.csv',index=False)\n",
    "# export to csv"
   ]
  },
  {
   "cell_type": "markdown",
   "metadata": {},
   "source": [
    "##### 3. Change the code to download the first 480 English players instead."
   ]
  },
  {
   "cell_type": "markdown",
   "metadata": {},
   "source": [
    "In order to scrape data for English players, the part of the URL that points to the English player needs to be changed. In the above code, `na=54` corresponds to the code for Argentinian players. This part of the url needs to be changed to `na=14`. \n",
    "To scrape the first 480 players, the offset needs to be modified as well. Each page lists 80 players, thus the offset needs to range from 0 to 400, by increments of 80."
   ]
  },
  {
   "cell_type": "code",
   "execution_count": 7,
   "metadata": {
    "collapsed": true
   },
   "outputs": [],
   "source": [
    "links=[]\n",
    "for offset in ['0','80','160','240','320','400']:\n",
    "    page=requests.get('http://sofifa.com/players?na=14&offset='+offset) \n",
    "    soup=BeautifulSoup(page.content,'html.parser')\n",
    "    for link in soup.find_all('a'):\n",
    "        links.append(link.get('href'))\n",
    "links=['http://sofifa.com'+l for l in links if 'player/'in l]  "
   ]
  },
  {
   "cell_type": "code",
   "execution_count": 8,
   "metadata": {
    "collapsed": true
   },
   "outputs": [],
   "source": [
    "pattern=r\"\"\"\\s*([\\w\\s]*?|[\\w\\-\\w\\s]*?|[\\w\\'\\w\\s]*?)\\s*FIFA\"\"\"    #file starts with empty spaces... players name...FIFA...other stuff     \n",
    "for attr in attributes:\n",
    "    pattern+=r\"\"\".*?(\\d*\\s*\"\"\"+attr+r\"\"\")\"\"\"  #for each attribute we have other stuff..number..attribute..other stuff\n",
    "pat=re.compile(pattern, re.DOTALL)    #parsing multiline text"
   ]
  },
  {
   "cell_type": "code",
   "execution_count": 9,
   "metadata": {
    "collapsed": false
   },
   "outputs": [],
   "source": [
    "rows=[]\n",
    "links=links[10:]\n",
    "\n",
    "for j, link in enumerate(links):\n",
    "    row=[link]\n",
    "    playerpage=requests.get(link)\n",
    "    playersoup=BeautifulSoup(playerpage.content,'html.parser')\n",
    "    text=playersoup.get_text()\n",
    "    text=unicodedata.normalize('NFKD', text).encode('ascii','ignore')\n",
    "    a=pat.match(text.decode('utf-8'))\n",
    "    row.append(a.group(1))\n",
    "\n",
    "    for i in range(2,len(attributes)+2):\n",
    "        row.append(int(a.group(i).split()[0]))\n",
    "\n",
    "    rows.append(row)"
   ]
  },
  {
   "cell_type": "code",
   "execution_count": 10,
   "metadata": {
    "collapsed": false
   },
   "outputs": [
    {
     "name": "stdout",
     "output_type": "stream",
     "text": [
      "Number of players is : 470\n"
     ]
    }
   ],
   "source": [
    "print(\"Number of players is : {}\".format(len(rows)))"
   ]
  },
  {
   "cell_type": "code",
   "execution_count": 11,
   "metadata": {
    "collapsed": true
   },
   "outputs": [],
   "source": [
    "df=pd.DataFrame(rows,columns=['link','name']+attributes)\n",
    "# convert list of rows to dataframe\n",
    "df.to_csv('EnglandPlayers.csv',index=False)\n",
    "# export to csv"
   ]
  },
  {
   "cell_type": "markdown",
   "metadata": {},
   "source": [
    "##### 4. Use the sklearn.cluster.KMeans Python class to cluster the players into 4 clusters. "
   ]
  },
  {
   "cell_type": "code",
   "execution_count": 12,
   "metadata": {
    "collapsed": false
   },
   "outputs": [
    {
     "data": {
      "text/plain": [
       "array([[ 11.,  16.,  12., ...,  72.,  78.,  85.],\n",
       "       [ 77.,  81.,  75., ...,  13.,   8.,   7.],\n",
       "       [ 86.,  63.,  74., ...,  10.,  13.,  12.],\n",
       "       ..., \n",
       "       [ 55.,  30.,  60., ...,  14.,  15.,  14.],\n",
       "       [ 42.,  67.,  66., ...,   8.,   7.,   8.],\n",
       "       [ 56.,  25.,  62., ...,  14.,  13.,   9.]])"
      ]
     },
     "execution_count": 12,
     "metadata": {},
     "output_type": "execute_result"
    }
   ],
   "source": [
    "# Prepare data\n",
    "X = df.iloc[:,2:].values * 1.0 # multiply by 1.0 to transform \"int\" to \"float\"\n",
    "X"
   ]
  },
  {
   "cell_type": "code",
   "execution_count": 13,
   "metadata": {
    "collapsed": true
   },
   "outputs": [],
   "source": [
    "# Scale transformation\n",
    "sdscaler = StandardScaler()\n",
    "X_scale = sdscaler.fit_transform(X)"
   ]
  },
  {
   "cell_type": "code",
   "execution_count": 14,
   "metadata": {
    "collapsed": false
   },
   "outputs": [
    {
     "data": {
      "text/plain": [
       "array([3, 2, 2, 2, 2, 2, 1, 2, 3, 3, 1, 2, 0, 0, 1, 0, 2, 1, 2, 2, 0, 2, 3,\n",
       "       1, 2, 2, 2, 2, 2, 2, 2, 0, 0, 0, 2, 3, 2, 2, 1, 2, 1, 0, 0, 2, 2, 0,\n",
       "       3, 1, 1, 2, 0, 0, 2, 2, 1, 2, 0, 2, 1, 0, 1, 2, 2, 2, 1, 1, 1, 0, 0,\n",
       "       0, 0, 0, 2, 2, 3, 2, 2, 1, 2, 2, 2, 0, 0, 2, 1, 0, 2, 2, 0, 2, 2, 0,\n",
       "       0, 2, 2, 2, 2, 2, 3, 1, 2, 1, 2, 2, 2, 2, 0, 1, 2, 0, 2, 1, 2, 1, 3,\n",
       "       3, 2, 3, 0, 2, 0, 1, 2, 1, 2, 2, 0, 0, 0, 2, 2, 1, 3, 2, 3, 1, 2, 2,\n",
       "       0, 0, 1, 3, 0, 2, 0, 0, 2, 1, 2, 2, 2, 1, 2, 1, 0, 3, 0, 0, 0, 2, 2,\n",
       "       0, 2, 2, 0, 3, 2, 2, 2, 1, 0, 1, 2, 2, 1, 3, 0, 1, 1, 3, 1, 2, 2, 0,\n",
       "       1, 0, 0, 1, 0, 1, 2, 2, 0, 1, 2, 1, 1, 0, 2, 2, 0, 2, 2, 0, 1, 0, 2,\n",
       "       0, 2, 1, 0, 1, 1, 2, 3, 1, 1, 1, 2, 0, 0, 1, 0, 0, 3, 2, 1, 1, 0, 3,\n",
       "       0, 0, 2, 0, 0, 2, 1, 2, 2, 3, 2, 2, 0, 0, 2, 0, 1, 2, 2, 2, 2, 0, 1,\n",
       "       0, 0, 0, 2, 1, 1, 0, 0, 1, 1, 0, 2, 1, 1, 2, 2, 2, 0, 2, 0, 0, 3, 2,\n",
       "       2, 0, 1, 2, 0, 2, 2, 3, 0, 1, 1, 0, 1, 1, 2, 1, 2, 3, 2, 0, 2, 1, 2,\n",
       "       1, 1, 1, 1, 2, 1, 0, 1, 0, 2, 1, 1, 0, 2, 1, 1, 0, 3, 1, 1, 2, 1, 2,\n",
       "       0, 1, 0, 2, 1, 0, 0, 1, 1, 2, 2, 2, 0, 1, 1, 2, 0, 0, 0, 0, 3, 1, 0,\n",
       "       2, 1, 2, 0, 3, 1, 0, 2, 2, 2, 0, 2, 2, 0, 3, 0, 1, 2, 2, 0, 0, 0, 2,\n",
       "       0, 2, 0, 1, 0, 0, 1, 1, 1, 1, 1, 0, 2, 0, 1, 0, 0, 3, 0, 3, 3, 2, 1,\n",
       "       0, 2, 0, 0, 0, 1, 2, 0, 1, 2, 1, 0, 2, 1, 0, 1, 2, 1, 0, 0, 2, 0, 0,\n",
       "       0, 2, 2, 0, 1, 3, 1, 0, 0, 1, 1, 2, 1, 1, 1, 0, 2, 1, 0, 2, 0, 2, 1,\n",
       "       1, 1, 1, 0, 0, 1, 3, 2, 1, 0, 0, 2, 0, 0, 1, 2, 2, 3, 2, 2, 0, 2, 1,\n",
       "       1, 0, 2, 1, 0, 0, 0, 1, 0, 1], dtype=int32)"
      ]
     },
     "execution_count": 14,
     "metadata": {},
     "output_type": "execute_result"
    }
   ],
   "source": [
    "# Kmeans model\n",
    "kmeans = KMeans(n_clusters=4)\n",
    "predict_label = kmeans.fit_predict(X_scale)\n",
    "predict_label"
   ]
  },
  {
   "cell_type": "markdown",
   "metadata": {},
   "source": [
    "###### Visualization"
   ]
  },
  {
   "cell_type": "code",
   "execution_count": 15,
   "metadata": {
    "collapsed": true
   },
   "outputs": [],
   "source": [
    "# reduce the data to 2-dimension using t-SNE\n",
    "tsne= TSNE(learning_rate=50)\n",
    "data_for_visualization = tsne.fit_transform(X_scale)"
   ]
  },
  {
   "cell_type": "code",
   "execution_count": 16,
   "metadata": {
    "collapsed": false
   },
   "outputs": [
    {
     "data": {
      "image/png": "[encoded data removed]",
      "text/plain": [
       "<matplotlib.figure.Figure at 0x11b5a2a58>"
      ]
     },
     "metadata": {},
     "output_type": "display_data"
    }
   ],
   "source": [
    "predictions = pd.DataFrame(predict_label, columns = ['label'])\n",
    "color_dict = {0:'red', 1:'cyan', 2:'pink', 3:'orange'}\n",
    "color = predictions.replace({'label': {0:'red', 1:'cyan', 2:'pink', 3:'orange'}})\n",
    "color = list(color['label'])\n",
    "plt.scatter(data_for_visualization[:,0], data_for_visualization[:,1], c=color)\n",
    "plt.show()"
   ]
  },
  {
   "cell_type": "markdown",
   "metadata": {},
   "source": [
    "#### 5. By inspecting the clusters and looking up individual players online, try to assign meaningful labels to the clusters."
   ]
  },
  {
   "cell_type": "code",
   "execution_count": 62,
   "metadata": {
    "collapsed": false
   },
   "outputs": [
    {
     "data": {
      "text/html": [
       "<div>\n",
       "<table border=\"1\" class=\"dataframe\">\n",
       "  <thead>\n",
       "    <tr style=\"text-align: right;\">\n",
       "      <th></th>\n",
       "      <th>link</th>\n",
       "      <th>name</th>\n",
       "      <th>Crossing</th>\n",
       "      <th>Finishing</th>\n",
       "      <th>Heading accuracy</th>\n",
       "      <th>Short passing</th>\n",
       "      <th>Volleys</th>\n",
       "      <th>Dribbling</th>\n",
       "      <th>Curve</th>\n",
       "      <th>Free kick accuracy</th>\n",
       "      <th>...</th>\n",
       "      <th>Composure</th>\n",
       "      <th>Marking</th>\n",
       "      <th>Standing tackle</th>\n",
       "      <th>Sliding tackle</th>\n",
       "      <th>GK diving</th>\n",
       "      <th>GK handling</th>\n",
       "      <th>GK kicking</th>\n",
       "      <th>GK positioning</th>\n",
       "      <th>GK reflexes</th>\n",
       "      <th>cluster_ID</th>\n",
       "    </tr>\n",
       "  </thead>\n",
       "  <tbody>\n",
       "    <tr>\n",
       "      <th>0</th>\n",
       "      <td>http://sofifa.com/player/203042</td>\n",
       "      <td>Jack Butland</td>\n",
       "      <td>11</td>\n",
       "      <td>16</td>\n",
       "      <td>12</td>\n",
       "      <td>36</td>\n",
       "      <td>12</td>\n",
       "      <td>21</td>\n",
       "      <td>12</td>\n",
       "      <td>14</td>\n",
       "      <td>...</td>\n",
       "      <td>59</td>\n",
       "      <td>16</td>\n",
       "      <td>13</td>\n",
       "      <td>11</td>\n",
       "      <td>81</td>\n",
       "      <td>83</td>\n",
       "      <td>72</td>\n",
       "      <td>78</td>\n",
       "      <td>85</td>\n",
       "      <td>3</td>\n",
       "    </tr>\n",
       "    <tr>\n",
       "      <th>1</th>\n",
       "      <td>http://sofifa.com/player/54050</td>\n",
       "      <td>Wayne Rooney</td>\n",
       "      <td>77</td>\n",
       "      <td>81</td>\n",
       "      <td>75</td>\n",
       "      <td>81</td>\n",
       "      <td>84</td>\n",
       "      <td>73</td>\n",
       "      <td>84</td>\n",
       "      <td>81</td>\n",
       "      <td>...</td>\n",
       "      <td>88</td>\n",
       "      <td>48</td>\n",
       "      <td>51</td>\n",
       "      <td>37</td>\n",
       "      <td>10</td>\n",
       "      <td>11</td>\n",
       "      <td>13</td>\n",
       "      <td>8</td>\n",
       "      <td>7</td>\n",
       "      <td>2</td>\n",
       "    </tr>\n",
       "    <tr>\n",
       "      <th>2</th>\n",
       "      <td>http://sofifa.com/player/163631</td>\n",
       "      <td>Leighton Baines</td>\n",
       "      <td>86</td>\n",
       "      <td>63</td>\n",
       "      <td>74</td>\n",
       "      <td>79</td>\n",
       "      <td>63</td>\n",
       "      <td>78</td>\n",
       "      <td>81</td>\n",
       "      <td>81</td>\n",
       "      <td>...</td>\n",
       "      <td>81</td>\n",
       "      <td>78</td>\n",
       "      <td>81</td>\n",
       "      <td>78</td>\n",
       "      <td>8</td>\n",
       "      <td>15</td>\n",
       "      <td>10</td>\n",
       "      <td>13</td>\n",
       "      <td>12</td>\n",
       "      <td>2</td>\n",
       "    </tr>\n",
       "    <tr>\n",
       "      <th>3</th>\n",
       "      <td>http://sofifa.com/player/169595</td>\n",
       "      <td>Danny Rose</td>\n",
       "      <td>81</td>\n",
       "      <td>57</td>\n",
       "      <td>62</td>\n",
       "      <td>76</td>\n",
       "      <td>64</td>\n",
       "      <td>79</td>\n",
       "      <td>64</td>\n",
       "      <td>57</td>\n",
       "      <td>...</td>\n",
       "      <td>75</td>\n",
       "      <td>82</td>\n",
       "      <td>84</td>\n",
       "      <td>85</td>\n",
       "      <td>10</td>\n",
       "      <td>11</td>\n",
       "      <td>8</td>\n",
       "      <td>13</td>\n",
       "      <td>13</td>\n",
       "      <td>2</td>\n",
       "    </tr>\n",
       "    <tr>\n",
       "      <th>4</th>\n",
       "      <td>http://sofifa.com/player/194957</td>\n",
       "      <td>Phil Jones</td>\n",
       "      <td>64</td>\n",
       "      <td>50</td>\n",
       "      <td>78</td>\n",
       "      <td>75</td>\n",
       "      <td>60</td>\n",
       "      <td>60</td>\n",
       "      <td>38</td>\n",
       "      <td>35</td>\n",
       "      <td>...</td>\n",
       "      <td>72</td>\n",
       "      <td>79</td>\n",
       "      <td>81</td>\n",
       "      <td>82</td>\n",
       "      <td>10</td>\n",
       "      <td>8</td>\n",
       "      <td>6</td>\n",
       "      <td>16</td>\n",
       "      <td>11</td>\n",
       "      <td>2</td>\n",
       "    </tr>\n",
       "  </tbody>\n",
       "</table>\n",
       "<p>5 rows × 37 columns</p>\n",
       "</div>"
      ],
      "text/plain": [
       "                              link             name  Crossing  Finishing  \\\n",
       "0  http://sofifa.com/player/203042     Jack Butland        11         16   \n",
       "1   http://sofifa.com/player/54050     Wayne Rooney        77         81   \n",
       "2  http://sofifa.com/player/163631  Leighton Baines        86         63   \n",
       "3  http://sofifa.com/player/169595       Danny Rose        81         57   \n",
       "4  http://sofifa.com/player/194957       Phil Jones        64         50   \n",
       "\n",
       "   Heading accuracy  Short passing  Volleys  Dribbling  Curve  \\\n",
       "0                12             36       12         21     12   \n",
       "1                75             81       84         73     84   \n",
       "2                74             79       63         78     81   \n",
       "3                62             76       64         79     64   \n",
       "4                78             75       60         60     38   \n",
       "\n",
       "   Free kick accuracy     ...      Composure  Marking  Standing tackle  \\\n",
       "0                  14     ...             59       16               13   \n",
       "1                  81     ...             88       48               51   \n",
       "2                  81     ...             81       78               81   \n",
       "3                  57     ...             75       82               84   \n",
       "4                  35     ...             72       79               81   \n",
       "\n",
       "   Sliding tackle  GK diving  GK handling  GK kicking  GK positioning  \\\n",
       "0              11         81           83          72              78   \n",
       "1              37         10           11          13               8   \n",
       "2              78          8           15          10              13   \n",
       "3              85         10           11           8              13   \n",
       "4              82         10            8           6              16   \n",
       "\n",
       "   GK reflexes  cluster_ID  \n",
       "0           85           3  \n",
       "1            7           2  \n",
       "2           12           2  \n",
       "3           13           2  \n",
       "4           11           2  \n",
       "\n",
       "[5 rows x 37 columns]"
      ]
     },
     "execution_count": 62,
     "metadata": {},
     "output_type": "execute_result"
    }
   ],
   "source": [
    "# View for analysis\n",
    "results_df = pd.concat([pd.DataFrame(df), pd.DataFrame(predict_label)], axis = 1)\n",
    "results_df.columns = [              'link',               'name',           'Crossing',\n",
    "                'Finishing',   'Heading accuracy',      'Short passing',\n",
    "                  'Volleys',          'Dribbling',              'Curve',\n",
    "       'Free kick accuracy',       'Long passing',       'Ball control',\n",
    "             'Acceleration',       'Sprint speed',            'Agility',\n",
    "                'Reactions',            'Balance',         'Shot power',\n",
    "                  'Jumping',            'Stamina',           'Strength',\n",
    "               'Long shots',         'Aggression',      'Interceptions',\n",
    "              'Positioning',             'Vision',          'Penalties',\n",
    "                'Composure',            'Marking',    'Standing tackle',\n",
    "           'Sliding tackle',          'GK diving',        'GK handling',\n",
    "               'GK kicking',     'GK positioning',        'GK reflexes',\n",
    "                          'cluster_ID']\n",
    "results_df.head()"
   ]
  },
  {
   "cell_type": "markdown",
   "metadata": {},
   "source": [
    "Cluster 1 – All rounders  \n",
    "\n",
    "This large cluster represents the ‘well-rounded footballers’ who tend to not be overly reliant or dominant in one skill or area. Rather, they can defend, attack and pass. This cluster also includes the more tactical and creative players who have good vision and strong passing ability, and who tend to sit in central positions on the field (e.g. central midfield and central defending midfield).  \n",
    "\n",
    "Cluster 2 – Heavy duty and defensive  \n",
    "\n",
    "Cluster 2 contains your classic bullying English defenders who have endurance, strength and aggression. Their strong defensive qualities make up for their weaker touch and finesse on the ball. They thus tend to have lower scores in more technical areas such as passing and dribbling.   \n",
    "\n",
    "Cluster 3 - Goalkeepers  \n",
    "\n",
    "Cluster 3 contains the goalkeeper and is the easiest to identify. These players have strong scores in the goalkeeping categories but generally lower scores in the rest.  \n",
    "\n",
    "Cluster 4 – Technical attackers   \n",
    "\n",
    "Cluster 4 contains attacking minded players who have strong technical abilities on the ball such as dribbling and ball control. They also tend have good movement, speed, acceleration and agility. Defensively however they are very poor. These are the players who are often brought on towards the end of a drawn game by managers looking for the win. \n"
   ]
  },
  {
   "cell_type": "code",
   "execution_count": 67,
   "metadata": {
    "collapsed": false
   },
   "outputs": [
    {
     "data": {
      "text/html": [
       "<div>\n",
       "<table border=\"1\" class=\"dataframe\">\n",
       "  <thead>\n",
       "    <tr style=\"text-align: right;\">\n",
       "      <th></th>\n",
       "      <th>link</th>\n",
       "      <th>name</th>\n",
       "      <th>Crossing</th>\n",
       "      <th>Finishing</th>\n",
       "      <th>Heading accuracy</th>\n",
       "      <th>Short passing</th>\n",
       "      <th>Volleys</th>\n",
       "      <th>Dribbling</th>\n",
       "      <th>Curve</th>\n",
       "      <th>Free kick accuracy</th>\n",
       "      <th>...</th>\n",
       "      <th>Composure</th>\n",
       "      <th>Marking</th>\n",
       "      <th>Standing tackle</th>\n",
       "      <th>Sliding tackle</th>\n",
       "      <th>GK diving</th>\n",
       "      <th>GK handling</th>\n",
       "      <th>GK kicking</th>\n",
       "      <th>GK positioning</th>\n",
       "      <th>GK reflexes</th>\n",
       "      <th>cluster_ID</th>\n",
       "    </tr>\n",
       "  </thead>\n",
       "  <tbody>\n",
       "    <tr>\n",
       "      <th>0</th>\n",
       "      <td>http://sofifa.com/player/203042</td>\n",
       "      <td>Jack Butland</td>\n",
       "      <td>11</td>\n",
       "      <td>16</td>\n",
       "      <td>12</td>\n",
       "      <td>36</td>\n",
       "      <td>12</td>\n",
       "      <td>21</td>\n",
       "      <td>12</td>\n",
       "      <td>14</td>\n",
       "      <td>...</td>\n",
       "      <td>59</td>\n",
       "      <td>16</td>\n",
       "      <td>13</td>\n",
       "      <td>11</td>\n",
       "      <td>81</td>\n",
       "      <td>83</td>\n",
       "      <td>72</td>\n",
       "      <td>78</td>\n",
       "      <td>85</td>\n",
       "      <td>Attackers</td>\n",
       "    </tr>\n",
       "    <tr>\n",
       "      <th>1</th>\n",
       "      <td>http://sofifa.com/player/54050</td>\n",
       "      <td>Wayne Rooney</td>\n",
       "      <td>77</td>\n",
       "      <td>81</td>\n",
       "      <td>75</td>\n",
       "      <td>81</td>\n",
       "      <td>84</td>\n",
       "      <td>73</td>\n",
       "      <td>84</td>\n",
       "      <td>81</td>\n",
       "      <td>...</td>\n",
       "      <td>88</td>\n",
       "      <td>48</td>\n",
       "      <td>51</td>\n",
       "      <td>37</td>\n",
       "      <td>10</td>\n",
       "      <td>11</td>\n",
       "      <td>13</td>\n",
       "      <td>8</td>\n",
       "      <td>7</td>\n",
       "      <td>Goalkeepers</td>\n",
       "    </tr>\n",
       "    <tr>\n",
       "      <th>2</th>\n",
       "      <td>http://sofifa.com/player/163631</td>\n",
       "      <td>Leighton Baines</td>\n",
       "      <td>86</td>\n",
       "      <td>63</td>\n",
       "      <td>74</td>\n",
       "      <td>79</td>\n",
       "      <td>63</td>\n",
       "      <td>78</td>\n",
       "      <td>81</td>\n",
       "      <td>81</td>\n",
       "      <td>...</td>\n",
       "      <td>81</td>\n",
       "      <td>78</td>\n",
       "      <td>81</td>\n",
       "      <td>78</td>\n",
       "      <td>8</td>\n",
       "      <td>15</td>\n",
       "      <td>10</td>\n",
       "      <td>13</td>\n",
       "      <td>12</td>\n",
       "      <td>Goalkeepers</td>\n",
       "    </tr>\n",
       "    <tr>\n",
       "      <th>3</th>\n",
       "      <td>http://sofifa.com/player/169595</td>\n",
       "      <td>Danny Rose</td>\n",
       "      <td>81</td>\n",
       "      <td>57</td>\n",
       "      <td>62</td>\n",
       "      <td>76</td>\n",
       "      <td>64</td>\n",
       "      <td>79</td>\n",
       "      <td>64</td>\n",
       "      <td>57</td>\n",
       "      <td>...</td>\n",
       "      <td>75</td>\n",
       "      <td>82</td>\n",
       "      <td>84</td>\n",
       "      <td>85</td>\n",
       "      <td>10</td>\n",
       "      <td>11</td>\n",
       "      <td>8</td>\n",
       "      <td>13</td>\n",
       "      <td>13</td>\n",
       "      <td>Goalkeepers</td>\n",
       "    </tr>\n",
       "    <tr>\n",
       "      <th>4</th>\n",
       "      <td>http://sofifa.com/player/194957</td>\n",
       "      <td>Phil Jones</td>\n",
       "      <td>64</td>\n",
       "      <td>50</td>\n",
       "      <td>78</td>\n",
       "      <td>75</td>\n",
       "      <td>60</td>\n",
       "      <td>60</td>\n",
       "      <td>38</td>\n",
       "      <td>35</td>\n",
       "      <td>...</td>\n",
       "      <td>72</td>\n",
       "      <td>79</td>\n",
       "      <td>81</td>\n",
       "      <td>82</td>\n",
       "      <td>10</td>\n",
       "      <td>8</td>\n",
       "      <td>6</td>\n",
       "      <td>16</td>\n",
       "      <td>11</td>\n",
       "      <td>Goalkeepers</td>\n",
       "    </tr>\n",
       "  </tbody>\n",
       "</table>\n",
       "<p>5 rows × 37 columns</p>\n",
       "</div>"
      ],
      "text/plain": [
       "                              link             name  Crossing  Finishing  \\\n",
       "0  http://sofifa.com/player/203042     Jack Butland        11         16   \n",
       "1   http://sofifa.com/player/54050     Wayne Rooney        77         81   \n",
       "2  http://sofifa.com/player/163631  Leighton Baines        86         63   \n",
       "3  http://sofifa.com/player/169595       Danny Rose        81         57   \n",
       "4  http://sofifa.com/player/194957       Phil Jones        64         50   \n",
       "\n",
       "   Heading accuracy  Short passing  Volleys  Dribbling  Curve  \\\n",
       "0                12             36       12         21     12   \n",
       "1                75             81       84         73     84   \n",
       "2                74             79       63         78     81   \n",
       "3                62             76       64         79     64   \n",
       "4                78             75       60         60     38   \n",
       "\n",
       "   Free kick accuracy     ...       Composure  Marking  Standing tackle  \\\n",
       "0                  14     ...              59       16               13   \n",
       "1                  81     ...              88       48               51   \n",
       "2                  81     ...              81       78               81   \n",
       "3                  57     ...              75       82               84   \n",
       "4                  35     ...              72       79               81   \n",
       "\n",
       "   Sliding tackle  GK diving  GK handling  GK kicking  GK positioning  \\\n",
       "0              11         81           83          72              78   \n",
       "1              37         10           11          13               8   \n",
       "2              78          8           15          10              13   \n",
       "3              85         10           11           8              13   \n",
       "4              82         10            8           6              16   \n",
       "\n",
       "   GK reflexes   cluster_ID  \n",
       "0           85    Attackers  \n",
       "1            7  Goalkeepers  \n",
       "2           12  Goalkeepers  \n",
       "3           13  Goalkeepers  \n",
       "4           11  Goalkeepers  \n",
       "\n",
       "[5 rows x 37 columns]"
      ]
     },
     "execution_count": 67,
     "metadata": {},
     "output_type": "execute_result"
    }
   ],
   "source": [
    "# Give meaningful names to cluster IDs\n",
    "position_dict = {0: 'All Rounders', 1: 'Defense', 2: 'Goalkeepers', 3: 'Attackers'}\n",
    "results_df.replace({'cluster_ID': {0: 'All Rounders', 1: 'Defense', 2: 'Goalkeepers', 3: 'Attackers'}}, inplace=True)\n",
    "# results_df['Cluster_ID'] = results_df['label'].map({'name 1': 'label 1', 'name2': 'label 2', 'name3': 'label 3', 'name 4': 'label 4'})\n",
    "results_df.head()"
   ]
  },
  {
   "cell_type": "markdown",
   "metadata": {},
   "source": [
    "##### 6. For each of your 4 clusters from Step 4, compute the cluster centroid. Assign the new player to the nearest cluster based on the distance to the cluster centroids, using only the available attributes. "
   ]
  },
  {
   "cell_type": "code",
   "execution_count": 64,
   "metadata": {
    "collapsed": false
   },
   "outputs": [
    {
     "data": {
      "text/plain": [
       "array([[-0.11426437, -0.18995365, -1.00456469,  0.71585326, -1.00802794,\n",
       "         0.06396841, -0.27501327],\n",
       "       [ 0.69444263, -0.34039432,  0.76162091, -0.80851533,  0.79680941,\n",
       "        -0.18209159, -0.26734673],\n",
       "       [ 0.11322062,  0.42335052,  0.64768328,  0.46133938,  0.63805646,\n",
       "         0.66598123, -0.28735553],\n",
       "       [-2.54702521, -0.01067347, -1.6588778 , -2.24573691, -1.72464359,\n",
       "        -2.77151103,  3.44917912]])"
      ]
     },
     "execution_count": 64,
     "metadata": {},
     "output_type": "execute_result"
    }
   ],
   "source": [
    "select_list = [2, 13, 21, 22, 28, 3, 32] # create a list for target columns\n",
    "df_selected = df.iloc[:,select_list]\n",
    "center_value = kmeans.cluster_centers_[:, [2, 13, 21, 22, 28, 3, 32]] # select relative data in cluster center\n",
    "center_value # the center of 5 clusters"
   ]
  },
  {
   "cell_type": "code",
   "execution_count": 65,
   "metadata": {
    "collapsed": false
   },
   "outputs": [
    {
     "data": {
      "text/plain": [
       "array([[-0.62045   , -1.9986872 , -0.89877066, -1.08199709,  0.42538246,\n",
       "        -0.576029  , -0.03370571]])"
      ]
     },
     "execution_count": 65,
     "metadata": {},
     "output_type": "execute_result"
    }
   ],
   "source": [
    "new_player = np.array([45, 40, 35, 45, 60, 40, 15]).reshape(1,-1)*1.0 # multiply by 1.0 to transform \"int\" to \"float\"\n",
    "sdscaler.fit(df_selected.values * 1.0)\n",
    "new_player_scaled = sdscaler.transform(new_player)\n",
    "new_player_scaled # new player' attribute after scaling"
   ]
  },
  {
   "cell_type": "code",
   "execution_count": 68,
   "metadata": {
    "collapsed": false
   },
   "outputs": [
    {
     "name": "stdout",
     "output_type": "stream",
     "text": [
      "new_player_cluster : 1\n",
      "color of the cluter: cyan \n",
      " position of the player: Defense\n"
     ]
    }
   ],
   "source": [
    "new_player_cluster = np.argmin(np.sum((center_value - new_player_scaled)**2, axis = 1))\n",
    "print(\"new_player_cluster : %d\\ncolor of the cluter: %s \\n position of the player: %s\" %(new_player_cluster, color_dict[new_player_cluster], position_dict[new_player_cluster])) "
   ]
  }
 ],
 "metadata": {
  "anaconda-cloud": {},
  "kernelspec": {
   "display_name": "Python [default]",
   "language": "python",
   "name": "python3"
  },
  "language_info": {
   "codemirror_mode": {
    "name": "ipython",
    "version": 3
   },
   "file_extension": ".py",
   "mimetype": "text/x-python",
   "name": "python",
   "nbconvert_exporter": "python",
   "pygments_lexer": "ipython3",
   "version": "3.5.2"
  }
 },
 "nbformat": 4,
 "nbformat_minor": 2
}
