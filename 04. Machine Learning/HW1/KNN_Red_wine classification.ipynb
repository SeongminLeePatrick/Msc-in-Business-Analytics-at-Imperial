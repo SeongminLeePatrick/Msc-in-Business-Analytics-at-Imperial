{
 "cells": [
  {
   "cell_type": "markdown",
   "metadata": {},
   "source": [
    "# K-Nearest Neighbours for Red Wine Classification\n",
    "### November 30 2017"
   ]
  },
  {
   "cell_type": "markdown",
   "metadata": {},
   "source": [
    "## 1. Import required module and dataset"
   ]
  },
  {
   "cell_type": "code",
   "execution_count": 133,
   "metadata": {
    "collapsed": true
   },
   "outputs": [],
   "source": [
    "import pandas as pd\n",
    "import numpy as np\n",
    "import matplotlib.pyplot as plt\n",
    "from sklearn.neighbors import KNeighborsClassifier\n",
    "from sklearn.preprocessing import StandardScaler\n",
    "from sklearn.model_selection import GridSearchCV\n",
    "from sklearn.metrics import confusion_matrix\n",
    "from sklearn.model_selection import train_test_split\n",
    "from sklearn.utils import shuffle\n",
    "from sklearn import metrics\n",
    "\n",
    "%matplotlib inline"
   ]
  },
  {
   "cell_type": "code",
   "execution_count": 134,
   "metadata": {
    "collapsed": true
   },
   "outputs": [],
   "source": [
    "url_red = 'http://archive.ics.uci.edu/ml/machine-learning-databases/wine-quality/winequality-red.csv'\n",
    "url_wh = 'http://archive.ics.uci.edu/ml/machine-learning-databases/wine-quality/winequality-white.csv'"
   ]
  },
  {
   "cell_type": "code",
   "execution_count": 135,
   "metadata": {
    "collapsed": true
   },
   "outputs": [],
   "source": [
    "data = pd.read_csv(url_red, delimiter= ';')\n",
    "red = data"
   ]
  },
  {
   "cell_type": "code",
   "execution_count": 136,
   "metadata": {},
   "outputs": [
    {
     "data": {
      "text/html": [
       "<div>\n",
       "<style scoped>\n",
       "    .dataframe tbody tr th:only-of-type {\n",
       "        vertical-align: middle;\n",
       "    }\n",
       "\n",
       "    .dataframe tbody tr th {\n",
       "        vertical-align: top;\n",
       "    }\n",
       "\n",
       "    .dataframe thead th {\n",
       "        text-align: right;\n",
       "    }\n",
       "</style>\n",
       "<table border=\"1\" class=\"dataframe\">\n",
       "  <thead>\n",
       "    <tr style=\"text-align: right;\">\n",
       "      <th></th>\n",
       "      <th>fixed acidity</th>\n",
       "      <th>volatile acidity</th>\n",
       "      <th>citric acid</th>\n",
       "      <th>residual sugar</th>\n",
       "      <th>chlorides</th>\n",
       "      <th>free sulfur dioxide</th>\n",
       "      <th>total sulfur dioxide</th>\n",
       "      <th>density</th>\n",
       "      <th>pH</th>\n",
       "      <th>sulphates</th>\n",
       "      <th>alcohol</th>\n",
       "      <th>quality</th>\n",
       "    </tr>\n",
       "  </thead>\n",
       "  <tbody>\n",
       "    <tr>\n",
       "      <th>0</th>\n",
       "      <td>7.4</td>\n",
       "      <td>0.70</td>\n",
       "      <td>0.00</td>\n",
       "      <td>1.9</td>\n",
       "      <td>0.076</td>\n",
       "      <td>11.0</td>\n",
       "      <td>34.0</td>\n",
       "      <td>0.9978</td>\n",
       "      <td>3.51</td>\n",
       "      <td>0.56</td>\n",
       "      <td>9.4</td>\n",
       "      <td>5</td>\n",
       "    </tr>\n",
       "    <tr>\n",
       "      <th>1</th>\n",
       "      <td>7.8</td>\n",
       "      <td>0.88</td>\n",
       "      <td>0.00</td>\n",
       "      <td>2.6</td>\n",
       "      <td>0.098</td>\n",
       "      <td>25.0</td>\n",
       "      <td>67.0</td>\n",
       "      <td>0.9968</td>\n",
       "      <td>3.20</td>\n",
       "      <td>0.68</td>\n",
       "      <td>9.8</td>\n",
       "      <td>5</td>\n",
       "    </tr>\n",
       "    <tr>\n",
       "      <th>2</th>\n",
       "      <td>7.8</td>\n",
       "      <td>0.76</td>\n",
       "      <td>0.04</td>\n",
       "      <td>2.3</td>\n",
       "      <td>0.092</td>\n",
       "      <td>15.0</td>\n",
       "      <td>54.0</td>\n",
       "      <td>0.9970</td>\n",
       "      <td>3.26</td>\n",
       "      <td>0.65</td>\n",
       "      <td>9.8</td>\n",
       "      <td>5</td>\n",
       "    </tr>\n",
       "    <tr>\n",
       "      <th>3</th>\n",
       "      <td>11.2</td>\n",
       "      <td>0.28</td>\n",
       "      <td>0.56</td>\n",
       "      <td>1.9</td>\n",
       "      <td>0.075</td>\n",
       "      <td>17.0</td>\n",
       "      <td>60.0</td>\n",
       "      <td>0.9980</td>\n",
       "      <td>3.16</td>\n",
       "      <td>0.58</td>\n",
       "      <td>9.8</td>\n",
       "      <td>6</td>\n",
       "    </tr>\n",
       "    <tr>\n",
       "      <th>4</th>\n",
       "      <td>7.4</td>\n",
       "      <td>0.70</td>\n",
       "      <td>0.00</td>\n",
       "      <td>1.9</td>\n",
       "      <td>0.076</td>\n",
       "      <td>11.0</td>\n",
       "      <td>34.0</td>\n",
       "      <td>0.9978</td>\n",
       "      <td>3.51</td>\n",
       "      <td>0.56</td>\n",
       "      <td>9.4</td>\n",
       "      <td>5</td>\n",
       "    </tr>\n",
       "  </tbody>\n",
       "</table>\n",
       "</div>"
      ],
      "text/plain": [
       "   fixed acidity  volatile acidity  citric acid  residual sugar  chlorides  \\\n",
       "0            7.4              0.70         0.00             1.9      0.076   \n",
       "1            7.8              0.88         0.00             2.6      0.098   \n",
       "2            7.8              0.76         0.04             2.3      0.092   \n",
       "3           11.2              0.28         0.56             1.9      0.075   \n",
       "4            7.4              0.70         0.00             1.9      0.076   \n",
       "\n",
       "   free sulfur dioxide  total sulfur dioxide  density    pH  sulphates  \\\n",
       "0                 11.0                  34.0   0.9978  3.51       0.56   \n",
       "1                 25.0                  67.0   0.9968  3.20       0.68   \n",
       "2                 15.0                  54.0   0.9970  3.26       0.65   \n",
       "3                 17.0                  60.0   0.9980  3.16       0.58   \n",
       "4                 11.0                  34.0   0.9978  3.51       0.56   \n",
       "\n",
       "   alcohol  quality  \n",
       "0      9.4        5  \n",
       "1      9.8        5  \n",
       "2      9.8        5  \n",
       "3      9.8        6  \n",
       "4      9.4        5  "
      ]
     },
     "execution_count": 136,
     "metadata": {},
     "output_type": "execute_result"
    }
   ],
   "source": [
    "red.head()"
   ]
  },
  {
   "cell_type": "code",
   "execution_count": 137,
   "metadata": {
    "scrolled": true
   },
   "outputs": [
    {
     "data": {
      "text/plain": [
       "array([[<matplotlib.axes._subplots.AxesSubplot object at 0x0000014EEFB122E8>,\n",
       "        <matplotlib.axes._subplots.AxesSubplot object at 0x0000014EEFAC98D0>,\n",
       "        <matplotlib.axes._subplots.AxesSubplot object at 0x0000014EEF997E10>],\n",
       "       [<matplotlib.axes._subplots.AxesSubplot object at 0x0000014EEDE4CB00>,\n",
       "        <matplotlib.axes._subplots.AxesSubplot object at 0x0000014EEF46D4A8>,\n",
       "        <matplotlib.axes._subplots.AxesSubplot object at 0x0000014EEF46D4E0>],\n",
       "       [<matplotlib.axes._subplots.AxesSubplot object at 0x0000014EEFAA0BE0>,\n",
       "        <matplotlib.axes._subplots.AxesSubplot object at 0x0000014EEFA2D668>,\n",
       "        <matplotlib.axes._subplots.AxesSubplot object at 0x0000014EEFA6ABA8>],\n",
       "       [<matplotlib.axes._subplots.AxesSubplot object at 0x0000014EEF9C3B70>,\n",
       "        <matplotlib.axes._subplots.AxesSubplot object at 0x0000014EEFBA2198>,\n",
       "        <matplotlib.axes._subplots.AxesSubplot object at 0x0000014EEFBDA208>]], dtype=object)"
      ]
     },
     "execution_count": 137,
     "metadata": {},
     "output_type": "execute_result"
    },
    {
     "data": {
      "image/png": "[encoded data removed]",
      "text/plain": [
       "<matplotlib.figure.Figure at 0x14eefb1e6d8>"
      ]
     },
     "metadata": {},
     "output_type": "display_data"
    }
   ],
   "source": [
    "red.hist(figsize=(10, 10), layout=(4, 3))"
   ]
  },
  {
   "cell_type": "markdown",
   "metadata": {},
   "source": [
    "## 2. Preprocessing"
   ]
  },
  {
   "cell_type": "markdown",
   "metadata": {},
   "source": [
    "### 2-1. Missing values Check "
   ]
  },
  {
   "cell_type": "code",
   "execution_count": 138,
   "metadata": {
    "scrolled": true
   },
   "outputs": [
    {
     "data": {
      "text/plain": [
       "fixed acidity           float64\n",
       "volatile acidity        float64\n",
       "citric acid             float64\n",
       "residual sugar          float64\n",
       "chlorides               float64\n",
       "free sulfur dioxide     float64\n",
       "total sulfur dioxide    float64\n",
       "density                 float64\n",
       "pH                      float64\n",
       "sulphates               float64\n",
       "alcohol                 float64\n",
       "quality                   int64\n",
       "dtype: object"
      ]
     },
     "execution_count": 138,
     "metadata": {},
     "output_type": "execute_result"
    }
   ],
   "source": [
    "red.dtypes"
   ]
  },
  {
   "cell_type": "code",
   "execution_count": 139,
   "metadata": {
    "scrolled": false
   },
   "outputs": [
    {
     "data": {
      "text/html": [
       "<div>\n",
       "<style scoped>\n",
       "    .dataframe tbody tr th:only-of-type {\n",
       "        vertical-align: middle;\n",
       "    }\n",
       "\n",
       "    .dataframe tbody tr th {\n",
       "        vertical-align: top;\n",
       "    }\n",
       "\n",
       "    .dataframe thead th {\n",
       "        text-align: right;\n",
       "    }\n",
       "</style>\n",
       "<table border=\"1\" class=\"dataframe\">\n",
       "  <thead>\n",
       "    <tr style=\"text-align: right;\">\n",
       "      <th></th>\n",
       "      <th>fixed acidity</th>\n",
       "      <th>volatile acidity</th>\n",
       "      <th>citric acid</th>\n",
       "      <th>residual sugar</th>\n",
       "      <th>chlorides</th>\n",
       "      <th>free sulfur dioxide</th>\n",
       "      <th>total sulfur dioxide</th>\n",
       "      <th>density</th>\n",
       "      <th>pH</th>\n",
       "      <th>sulphates</th>\n",
       "      <th>alcohol</th>\n",
       "      <th>quality</th>\n",
       "    </tr>\n",
       "  </thead>\n",
       "  <tbody>\n",
       "    <tr>\n",
       "      <th>count</th>\n",
       "      <td>1599.000000</td>\n",
       "      <td>1599.000000</td>\n",
       "      <td>1599.000000</td>\n",
       "      <td>1599.000000</td>\n",
       "      <td>1599.000000</td>\n",
       "      <td>1599.000000</td>\n",
       "      <td>1599.000000</td>\n",
       "      <td>1599.000000</td>\n",
       "      <td>1599.000000</td>\n",
       "      <td>1599.000000</td>\n",
       "      <td>1599.000000</td>\n",
       "      <td>1599.000000</td>\n",
       "    </tr>\n",
       "    <tr>\n",
       "      <th>mean</th>\n",
       "      <td>8.319637</td>\n",
       "      <td>0.527821</td>\n",
       "      <td>0.270976</td>\n",
       "      <td>2.538806</td>\n",
       "      <td>0.087467</td>\n",
       "      <td>15.874922</td>\n",
       "      <td>46.467792</td>\n",
       "      <td>0.996747</td>\n",
       "      <td>3.311113</td>\n",
       "      <td>0.658149</td>\n",
       "      <td>10.422983</td>\n",
       "      <td>5.636023</td>\n",
       "    </tr>\n",
       "    <tr>\n",
       "      <th>std</th>\n",
       "      <td>1.741096</td>\n",
       "      <td>0.179060</td>\n",
       "      <td>0.194801</td>\n",
       "      <td>1.409928</td>\n",
       "      <td>0.047065</td>\n",
       "      <td>10.460157</td>\n",
       "      <td>32.895324</td>\n",
       "      <td>0.001887</td>\n",
       "      <td>0.154386</td>\n",
       "      <td>0.169507</td>\n",
       "      <td>1.065668</td>\n",
       "      <td>0.807569</td>\n",
       "    </tr>\n",
       "    <tr>\n",
       "      <th>min</th>\n",
       "      <td>4.600000</td>\n",
       "      <td>0.120000</td>\n",
       "      <td>0.000000</td>\n",
       "      <td>0.900000</td>\n",
       "      <td>0.012000</td>\n",
       "      <td>1.000000</td>\n",
       "      <td>6.000000</td>\n",
       "      <td>0.990070</td>\n",
       "      <td>2.740000</td>\n",
       "      <td>0.330000</td>\n",
       "      <td>8.400000</td>\n",
       "      <td>3.000000</td>\n",
       "    </tr>\n",
       "    <tr>\n",
       "      <th>25%</th>\n",
       "      <td>7.100000</td>\n",
       "      <td>0.390000</td>\n",
       "      <td>0.090000</td>\n",
       "      <td>1.900000</td>\n",
       "      <td>0.070000</td>\n",
       "      <td>7.000000</td>\n",
       "      <td>22.000000</td>\n",
       "      <td>0.995600</td>\n",
       "      <td>3.210000</td>\n",
       "      <td>0.550000</td>\n",
       "      <td>9.500000</td>\n",
       "      <td>5.000000</td>\n",
       "    </tr>\n",
       "    <tr>\n",
       "      <th>50%</th>\n",
       "      <td>7.900000</td>\n",
       "      <td>0.520000</td>\n",
       "      <td>0.260000</td>\n",
       "      <td>2.200000</td>\n",
       "      <td>0.079000</td>\n",
       "      <td>14.000000</td>\n",
       "      <td>38.000000</td>\n",
       "      <td>0.996750</td>\n",
       "      <td>3.310000</td>\n",
       "      <td>0.620000</td>\n",
       "      <td>10.200000</td>\n",
       "      <td>6.000000</td>\n",
       "    </tr>\n",
       "    <tr>\n",
       "      <th>75%</th>\n",
       "      <td>9.200000</td>\n",
       "      <td>0.640000</td>\n",
       "      <td>0.420000</td>\n",
       "      <td>2.600000</td>\n",
       "      <td>0.090000</td>\n",
       "      <td>21.000000</td>\n",
       "      <td>62.000000</td>\n",
       "      <td>0.997835</td>\n",
       "      <td>3.400000</td>\n",
       "      <td>0.730000</td>\n",
       "      <td>11.100000</td>\n",
       "      <td>6.000000</td>\n",
       "    </tr>\n",
       "    <tr>\n",
       "      <th>max</th>\n",
       "      <td>15.900000</td>\n",
       "      <td>1.580000</td>\n",
       "      <td>1.000000</td>\n",
       "      <td>15.500000</td>\n",
       "      <td>0.611000</td>\n",
       "      <td>72.000000</td>\n",
       "      <td>289.000000</td>\n",
       "      <td>1.003690</td>\n",
       "      <td>4.010000</td>\n",
       "      <td>2.000000</td>\n",
       "      <td>14.900000</td>\n",
       "      <td>8.000000</td>\n",
       "    </tr>\n",
       "  </tbody>\n",
       "</table>\n",
       "</div>"
      ],
      "text/plain": [
       "       fixed acidity  volatile acidity  citric acid  residual sugar  \\\n",
       "count    1599.000000       1599.000000  1599.000000     1599.000000   \n",
       "mean        8.319637          0.527821     0.270976        2.538806   \n",
       "std         1.741096          0.179060     0.194801        1.409928   \n",
       "min         4.600000          0.120000     0.000000        0.900000   \n",
       "25%         7.100000          0.390000     0.090000        1.900000   \n",
       "50%         7.900000          0.520000     0.260000        2.200000   \n",
       "75%         9.200000          0.640000     0.420000        2.600000   \n",
       "max        15.900000          1.580000     1.000000       15.500000   \n",
       "\n",
       "         chlorides  free sulfur dioxide  total sulfur dioxide      density  \\\n",
       "count  1599.000000          1599.000000           1599.000000  1599.000000   \n",
       "mean      0.087467            15.874922             46.467792     0.996747   \n",
       "std       0.047065            10.460157             32.895324     0.001887   \n",
       "min       0.012000             1.000000              6.000000     0.990070   \n",
       "25%       0.070000             7.000000             22.000000     0.995600   \n",
       "50%       0.079000            14.000000             38.000000     0.996750   \n",
       "75%       0.090000            21.000000             62.000000     0.997835   \n",
       "max       0.611000            72.000000            289.000000     1.003690   \n",
       "\n",
       "                pH    sulphates      alcohol      quality  \n",
       "count  1599.000000  1599.000000  1599.000000  1599.000000  \n",
       "mean      3.311113     0.658149    10.422983     5.636023  \n",
       "std       0.154386     0.169507     1.065668     0.807569  \n",
       "min       2.740000     0.330000     8.400000     3.000000  \n",
       "25%       3.210000     0.550000     9.500000     5.000000  \n",
       "50%       3.310000     0.620000    10.200000     6.000000  \n",
       "75%       3.400000     0.730000    11.100000     6.000000  \n",
       "max       4.010000     2.000000    14.900000     8.000000  "
      ]
     },
     "execution_count": 139,
     "metadata": {},
     "output_type": "execute_result"
    }
   ],
   "source": [
    "red.describe()"
   ]
  },
  {
   "cell_type": "markdown",
   "metadata": {},
   "source": [
    "### 2-2. Create new column to re-label"
   ]
  },
  {
   "cell_type": "code",
   "execution_count": 140,
   "metadata": {
    "scrolled": true
   },
   "outputs": [
    {
     "data": {
      "text/plain": [
       "5    681\n",
       "6    638\n",
       "7    199\n",
       "4     53\n",
       "8     18\n",
       "3     10\n",
       "Name: quality, dtype: int64"
      ]
     },
     "execution_count": 140,
     "metadata": {},
     "output_type": "execute_result"
    }
   ],
   "source": [
    "red.quality.value_counts()"
   ]
  },
  {
   "cell_type": "code",
   "execution_count": 141,
   "metadata": {
    "collapsed": true
   },
   "outputs": [],
   "source": [
    "# quality values mapping\n",
    "# 3, 4, 5 are equal to 0 and 6, 7, 8  are equal to 1\n",
    "# 1 for good quality and 0 for not good quality\n",
    "red['good_wine'] = red.quality.map({3:0, 4:0, 5:0, 6:1, 7:1, 8:1}) "
   ]
  },
  {
   "cell_type": "code",
   "execution_count": 142,
   "metadata": {
    "scrolled": false
   },
   "outputs": [
    {
     "data": {
      "text/html": [
       "<div>\n",
       "<style scoped>\n",
       "    .dataframe tbody tr th:only-of-type {\n",
       "        vertical-align: middle;\n",
       "    }\n",
       "\n",
       "    .dataframe tbody tr th {\n",
       "        vertical-align: top;\n",
       "    }\n",
       "\n",
       "    .dataframe thead th {\n",
       "        text-align: right;\n",
       "    }\n",
       "</style>\n",
       "<table border=\"1\" class=\"dataframe\">\n",
       "  <thead>\n",
       "    <tr style=\"text-align: right;\">\n",
       "      <th></th>\n",
       "      <th>fixed acidity</th>\n",
       "      <th>volatile acidity</th>\n",
       "      <th>citric acid</th>\n",
       "      <th>residual sugar</th>\n",
       "      <th>chlorides</th>\n",
       "      <th>free sulfur dioxide</th>\n",
       "      <th>total sulfur dioxide</th>\n",
       "      <th>density</th>\n",
       "      <th>pH</th>\n",
       "      <th>sulphates</th>\n",
       "      <th>alcohol</th>\n",
       "      <th>quality</th>\n",
       "      <th>good_wine</th>\n",
       "    </tr>\n",
       "  </thead>\n",
       "  <tbody>\n",
       "    <tr>\n",
       "      <th>1340</th>\n",
       "      <td>7.5</td>\n",
       "      <td>0.510</td>\n",
       "      <td>0.02</td>\n",
       "      <td>1.7</td>\n",
       "      <td>0.084</td>\n",
       "      <td>13.0</td>\n",
       "      <td>31.0</td>\n",
       "      <td>0.99538</td>\n",
       "      <td>3.36</td>\n",
       "      <td>0.54</td>\n",
       "      <td>10.5</td>\n",
       "      <td>6</td>\n",
       "      <td>1</td>\n",
       "    </tr>\n",
       "    <tr>\n",
       "      <th>537</th>\n",
       "      <td>8.1</td>\n",
       "      <td>0.825</td>\n",
       "      <td>0.24</td>\n",
       "      <td>2.1</td>\n",
       "      <td>0.084</td>\n",
       "      <td>5.0</td>\n",
       "      <td>13.0</td>\n",
       "      <td>0.99720</td>\n",
       "      <td>3.37</td>\n",
       "      <td>0.77</td>\n",
       "      <td>10.7</td>\n",
       "      <td>6</td>\n",
       "      <td>1</td>\n",
       "    </tr>\n",
       "    <tr>\n",
       "      <th>1338</th>\n",
       "      <td>6.0</td>\n",
       "      <td>0.500</td>\n",
       "      <td>0.00</td>\n",
       "      <td>1.4</td>\n",
       "      <td>0.057</td>\n",
       "      <td>15.0</td>\n",
       "      <td>26.0</td>\n",
       "      <td>0.99448</td>\n",
       "      <td>3.36</td>\n",
       "      <td>0.45</td>\n",
       "      <td>9.5</td>\n",
       "      <td>5</td>\n",
       "      <td>0</td>\n",
       "    </tr>\n",
       "    <tr>\n",
       "      <th>51</th>\n",
       "      <td>6.6</td>\n",
       "      <td>0.520</td>\n",
       "      <td>0.04</td>\n",
       "      <td>2.2</td>\n",
       "      <td>0.069</td>\n",
       "      <td>8.0</td>\n",
       "      <td>15.0</td>\n",
       "      <td>0.99560</td>\n",
       "      <td>3.40</td>\n",
       "      <td>0.63</td>\n",
       "      <td>9.4</td>\n",
       "      <td>6</td>\n",
       "      <td>1</td>\n",
       "    </tr>\n",
       "    <tr>\n",
       "      <th>495</th>\n",
       "      <td>10.7</td>\n",
       "      <td>0.350</td>\n",
       "      <td>0.53</td>\n",
       "      <td>2.6</td>\n",
       "      <td>0.070</td>\n",
       "      <td>5.0</td>\n",
       "      <td>16.0</td>\n",
       "      <td>0.99720</td>\n",
       "      <td>3.15</td>\n",
       "      <td>0.65</td>\n",
       "      <td>11.0</td>\n",
       "      <td>8</td>\n",
       "      <td>1</td>\n",
       "    </tr>\n",
       "    <tr>\n",
       "      <th>1510</th>\n",
       "      <td>6.4</td>\n",
       "      <td>0.360</td>\n",
       "      <td>0.21</td>\n",
       "      <td>2.2</td>\n",
       "      <td>0.047</td>\n",
       "      <td>26.0</td>\n",
       "      <td>48.0</td>\n",
       "      <td>0.99661</td>\n",
       "      <td>3.47</td>\n",
       "      <td>0.77</td>\n",
       "      <td>9.7</td>\n",
       "      <td>6</td>\n",
       "      <td>1</td>\n",
       "    </tr>\n",
       "    <tr>\n",
       "      <th>161</th>\n",
       "      <td>7.6</td>\n",
       "      <td>0.680</td>\n",
       "      <td>0.02</td>\n",
       "      <td>1.3</td>\n",
       "      <td>0.072</td>\n",
       "      <td>9.0</td>\n",
       "      <td>20.0</td>\n",
       "      <td>0.99650</td>\n",
       "      <td>3.17</td>\n",
       "      <td>1.08</td>\n",
       "      <td>9.2</td>\n",
       "      <td>4</td>\n",
       "      <td>0</td>\n",
       "    </tr>\n",
       "    <tr>\n",
       "      <th>990</th>\n",
       "      <td>7.7</td>\n",
       "      <td>0.390</td>\n",
       "      <td>0.12</td>\n",
       "      <td>1.7</td>\n",
       "      <td>0.097</td>\n",
       "      <td>19.0</td>\n",
       "      <td>27.0</td>\n",
       "      <td>0.99596</td>\n",
       "      <td>3.16</td>\n",
       "      <td>0.49</td>\n",
       "      <td>9.4</td>\n",
       "      <td>5</td>\n",
       "      <td>0</td>\n",
       "    </tr>\n",
       "    <tr>\n",
       "      <th>1091</th>\n",
       "      <td>7.9</td>\n",
       "      <td>0.340</td>\n",
       "      <td>0.42</td>\n",
       "      <td>2.0</td>\n",
       "      <td>0.086</td>\n",
       "      <td>8.0</td>\n",
       "      <td>19.0</td>\n",
       "      <td>0.99546</td>\n",
       "      <td>3.35</td>\n",
       "      <td>0.60</td>\n",
       "      <td>11.4</td>\n",
       "      <td>6</td>\n",
       "      <td>1</td>\n",
       "    </tr>\n",
       "    <tr>\n",
       "      <th>517</th>\n",
       "      <td>10.4</td>\n",
       "      <td>0.610</td>\n",
       "      <td>0.49</td>\n",
       "      <td>2.1</td>\n",
       "      <td>0.200</td>\n",
       "      <td>5.0</td>\n",
       "      <td>16.0</td>\n",
       "      <td>0.99940</td>\n",
       "      <td>3.16</td>\n",
       "      <td>0.63</td>\n",
       "      <td>8.4</td>\n",
       "      <td>3</td>\n",
       "      <td>0</td>\n",
       "    </tr>\n",
       "  </tbody>\n",
       "</table>\n",
       "</div>"
      ],
      "text/plain": [
       "      fixed acidity  volatile acidity  citric acid  residual sugar  chlorides  \\\n",
       "1340            7.5             0.510         0.02             1.7      0.084   \n",
       "537             8.1             0.825         0.24             2.1      0.084   \n",
       "1338            6.0             0.500         0.00             1.4      0.057   \n",
       "51              6.6             0.520         0.04             2.2      0.069   \n",
       "495            10.7             0.350         0.53             2.6      0.070   \n",
       "1510            6.4             0.360         0.21             2.2      0.047   \n",
       "161             7.6             0.680         0.02             1.3      0.072   \n",
       "990             7.7             0.390         0.12             1.7      0.097   \n",
       "1091            7.9             0.340         0.42             2.0      0.086   \n",
       "517            10.4             0.610         0.49             2.1      0.200   \n",
       "\n",
       "      free sulfur dioxide  total sulfur dioxide  density    pH  sulphates  \\\n",
       "1340                 13.0                  31.0  0.99538  3.36       0.54   \n",
       "537                   5.0                  13.0  0.99720  3.37       0.77   \n",
       "1338                 15.0                  26.0  0.99448  3.36       0.45   \n",
       "51                    8.0                  15.0  0.99560  3.40       0.63   \n",
       "495                   5.0                  16.0  0.99720  3.15       0.65   \n",
       "1510                 26.0                  48.0  0.99661  3.47       0.77   \n",
       "161                   9.0                  20.0  0.99650  3.17       1.08   \n",
       "990                  19.0                  27.0  0.99596  3.16       0.49   \n",
       "1091                  8.0                  19.0  0.99546  3.35       0.60   \n",
       "517                   5.0                  16.0  0.99940  3.16       0.63   \n",
       "\n",
       "      alcohol  quality  good_wine  \n",
       "1340     10.5        6          1  \n",
       "537      10.7        6          1  \n",
       "1338      9.5        5          0  \n",
       "51        9.4        6          1  \n",
       "495      11.0        8          1  \n",
       "1510      9.7        6          1  \n",
       "161       9.2        4          0  \n",
       "990       9.4        5          0  \n",
       "1091     11.4        6          1  \n",
       "517       8.4        3          0  "
      ]
     },
     "execution_count": 142,
     "metadata": {},
     "output_type": "execute_result"
    }
   ],
   "source": [
    "red.sample(n = 10)"
   ]
  },
  {
   "cell_type": "code",
   "execution_count": 143,
   "metadata": {
    "scrolled": true
   },
   "outputs": [
    {
     "data": {
      "text/plain": [
       "1    855\n",
       "0    744\n",
       "Name: good_wine, dtype: int64"
      ]
     },
     "execution_count": 143,
     "metadata": {},
     "output_type": "execute_result"
    }
   ],
   "source": [
    "#Good wine value distribution\n",
    "red.good_wine.value_counts()"
   ]
  },
  {
   "cell_type": "markdown",
   "metadata": {},
   "source": [
    "### 2-3. Split data into train and test set"
   ]
  },
  {
   "cell_type": "code",
   "execution_count": 144,
   "metadata": {
    "collapsed": true
   },
   "outputs": [],
   "source": [
    "X = red.drop(['quality','good_wine'], axis = 1)\n",
    "y = red['good_wine']"
   ]
  },
  {
   "cell_type": "code",
   "execution_count": 145,
   "metadata": {
    "collapsed": true
   },
   "outputs": [],
   "source": [
    "#Train(50%), Test(50%) dataset split by shuffling\n",
    "X_train, X_test, y_train, y_test = train_test_split(X, y, test_size = 0.5, random_state = 123, shuffle = True)"
   ]
  },
  {
   "cell_type": "markdown",
   "metadata": {},
   "source": [
    "### 2-4. Normalise the data according to the Z-score transform"
   ]
  },
  {
   "cell_type": "code",
   "execution_count": 146,
   "metadata": {
    "collapsed": true,
    "scrolled": true
   },
   "outputs": [],
   "source": [
    "#Independent Variables Standarsation\n",
    "scaler = StandardScaler()\n",
    "scaler.fit(X_train)\n",
    "X_train_norm = scaler.transform(X_train)\n",
    "X_test_norm = scaler.transform(X_test)"
   ]
  },
  {
   "cell_type": "markdown",
   "metadata": {},
   "source": [
    "## 3. Parameter selection for KNN model"
   ]
  },
  {
   "cell_type": "markdown",
   "metadata": {},
   "source": [
    "### 3-1. Train the KNN classifiers for number of neighbors = 1, 6.., 500 through K-Fold Cross-validation(K = 5)"
   ]
  },
  {
   "cell_type": "code",
   "execution_count": 147,
   "metadata": {
    "collapsed": true
   },
   "outputs": [],
   "source": [
    "neighbors = list(np.arange(1, 500, 5))\n",
    "param_grid = {'n_neighbors':neighbors}\n",
    "\n",
    "knn = KNeighborsClassifier()\n",
    "\n",
    "grid = GridSearchCV(estimator=knn, param_grid=param_grid, scoring='accuracy', cv=5)\n",
    "grid_result = grid.fit(X_train_norm, y_train)"
   ]
  },
  {
   "cell_type": "code",
   "execution_count": 148,
   "metadata": {},
   "outputs": [
    {
     "name": "stdout",
     "output_type": "stream",
     "text": [
      "Highest Accuracy: 0.757196 with the 51 of neighbors\n",
      "\n",
      "Accuracy: 0.719583\tstd: 0.023566\tusing {'n_neighbors': 1}\n",
      "Accuracy: 0.715715\tstd: 0.043615\tusing {'n_neighbors': 6}\n",
      "Accuracy: 0.752193\tstd: 0.020332\tusing {'n_neighbors': 11}\n",
      "Accuracy: 0.738513\tstd: 0.022427\tusing {'n_neighbors': 16}\n",
      "Accuracy: 0.740998\tstd: 0.026992\tusing {'n_neighbors': 21}\n",
      "Accuracy: 0.737146\tstd: 0.021558\tusing {'n_neighbors': 26}\n",
      "Accuracy: 0.729693\tstd: 0.011245\tusing {'n_neighbors': 31}\n",
      "Accuracy: 0.734708\tstd: 0.011202\tusing {'n_neighbors': 36}\n",
      "Accuracy: 0.747240\tstd: 0.015607\tusing {'n_neighbors': 41}\n",
      "Accuracy: 0.748529\tstd: 0.019428\tusing {'n_neighbors': 46}\n",
      "Accuracy: 0.757256\tstd: 0.013945\tusing {'n_neighbors': 51}\n",
      "Accuracy: 0.745982\tstd: 0.017204\tusing {'n_neighbors': 56}\n",
      "Accuracy: 0.749709\tstd: 0.009854\tusing {'n_neighbors': 61}\n",
      "Accuracy: 0.749678\tstd: 0.009004\tusing {'n_neighbors': 66}\n",
      "Accuracy: 0.743467\tstd: 0.009394\tusing {'n_neighbors': 71}\n",
      "Accuracy: 0.750967\tstd: 0.012136\tusing {'n_neighbors': 76}\n",
      "Accuracy: 0.739709\tstd: 0.010711\tusing {'n_neighbors': 81}\n",
      "Accuracy: 0.745920\tstd: 0.007751\tusing {'n_neighbors': 86}\n",
      "Accuracy: 0.744724\tstd: 0.014758\tusing {'n_neighbors': 91}\n",
      "Accuracy: 0.749756\tstd: 0.024688\tusing {'n_neighbors': 96}\n",
      "Accuracy: 0.742287\tstd: 0.026487\tusing {'n_neighbors': 101}\n",
      "Accuracy: 0.742240\tstd: 0.022879\tusing {'n_neighbors': 106}\n",
      "Accuracy: 0.739724\tstd: 0.027763\tusing {'n_neighbors': 111}\n",
      "Accuracy: 0.744724\tstd: 0.017684\tusing {'n_neighbors': 116}\n",
      "Accuracy: 0.739740\tstd: 0.020343\tusing {'n_neighbors': 121}\n",
      "Accuracy: 0.739740\tstd: 0.022895\tusing {'n_neighbors': 126}\n",
      "Accuracy: 0.741013\tstd: 0.026772\tusing {'n_neighbors': 131}\n",
      "Accuracy: 0.736013\tstd: 0.030255\tusing {'n_neighbors': 136}\n",
      "Accuracy: 0.737287\tstd: 0.027450\tusing {'n_neighbors': 141}\n",
      "Accuracy: 0.734755\tstd: 0.022947\tusing {'n_neighbors': 146}\n",
      "Accuracy: 0.734755\tstd: 0.025542\tusing {'n_neighbors': 151}\n",
      "Accuracy: 0.736029\tstd: 0.025541\tusing {'n_neighbors': 156}\n",
      "Accuracy: 0.734740\tstd: 0.022809\tusing {'n_neighbors': 161}\n",
      "Accuracy: 0.739755\tstd: 0.025601\tusing {'n_neighbors': 166}\n",
      "Accuracy: 0.738466\tstd: 0.014740\tusing {'n_neighbors': 171}\n",
      "Accuracy: 0.734787\tstd: 0.024523\tusing {'n_neighbors': 176}\n",
      "Accuracy: 0.730982\tstd: 0.016573\tusing {'n_neighbors': 181}\n",
      "Accuracy: 0.731013\tstd: 0.019139\tusing {'n_neighbors': 186}\n",
      "Accuracy: 0.729755\tstd: 0.021689\tusing {'n_neighbors': 191}\n",
      "Accuracy: 0.729755\tstd: 0.022757\tusing {'n_neighbors': 196}\n",
      "Accuracy: 0.736013\tstd: 0.020938\tusing {'n_neighbors': 201}\n",
      "Accuracy: 0.738544\tstd: 0.027471\tusing {'n_neighbors': 206}\n",
      "Accuracy: 0.742318\tstd: 0.028151\tusing {'n_neighbors': 211}\n",
      "Accuracy: 0.743576\tstd: 0.029083\tusing {'n_neighbors': 216}\n",
      "Accuracy: 0.747303\tstd: 0.021140\tusing {'n_neighbors': 221}\n",
      "Accuracy: 0.743498\tstd: 0.012869\tusing {'n_neighbors': 226}\n",
      "Accuracy: 0.742302\tstd: 0.021319\tusing {'n_neighbors': 231}\n",
      "Accuracy: 0.744849\tstd: 0.028686\tusing {'n_neighbors': 236}\n",
      "Accuracy: 0.746060\tstd: 0.022091\tusing {'n_neighbors': 241}\n",
      "Accuracy: 0.743576\tstd: 0.027119\tusing {'n_neighbors': 246}\n",
      "Accuracy: 0.746060\tstd: 0.022455\tusing {'n_neighbors': 251}\n",
      "Accuracy: 0.747318\tstd: 0.025359\tusing {'n_neighbors': 256}\n",
      "Accuracy: 0.744818\tstd: 0.024284\tusing {'n_neighbors': 261}\n",
      "Accuracy: 0.746045\tstd: 0.021222\tusing {'n_neighbors': 266}\n",
      "Accuracy: 0.744818\tstd: 0.025862\tusing {'n_neighbors': 271}\n",
      "Accuracy: 0.738544\tstd: 0.024446\tusing {'n_neighbors': 276}\n",
      "Accuracy: 0.739771\tstd: 0.019481\tusing {'n_neighbors': 281}\n",
      "Accuracy: 0.739755\tstd: 0.017575\tusing {'n_neighbors': 286}\n",
      "Accuracy: 0.744724\tstd: 0.013644\tusing {'n_neighbors': 291}\n",
      "Accuracy: 0.738466\tstd: 0.012409\tusing {'n_neighbors': 296}\n",
      "Accuracy: 0.739740\tstd: 0.019510\tusing {'n_neighbors': 301}\n",
      "Accuracy: 0.743513\tstd: 0.020926\tusing {'n_neighbors': 306}\n",
      "Accuracy: 0.739709\tstd: 0.016426\tusing {'n_neighbors': 311}\n",
      "Accuracy: 0.744740\tstd: 0.013849\tusing {'n_neighbors': 316}\n",
      "Accuracy: 0.740982\tstd: 0.019569\tusing {'n_neighbors': 321}\n",
      "Accuracy: 0.738451\tstd: 0.017742\tusing {'n_neighbors': 326}\n",
      "Accuracy: 0.730966\tstd: 0.017214\tusing {'n_neighbors': 331}\n",
      "Accuracy: 0.729693\tstd: 0.019011\tusing {'n_neighbors': 336}\n",
      "Accuracy: 0.727161\tstd: 0.012654\tusing {'n_neighbors': 341}\n",
      "Accuracy: 0.728403\tstd: 0.012897\tusing {'n_neighbors': 346}\n",
      "Accuracy: 0.724630\tstd: 0.016669\tusing {'n_neighbors': 351}\n",
      "Accuracy: 0.724645\tstd: 0.015889\tusing {'n_neighbors': 356}\n",
      "Accuracy: 0.718403\tstd: 0.018368\tusing {'n_neighbors': 361}\n",
      "Accuracy: 0.724630\tstd: 0.013525\tusing {'n_neighbors': 366}\n",
      "Accuracy: 0.717098\tstd: 0.013067\tusing {'n_neighbors': 371}\n",
      "Accuracy: 0.713372\tstd: 0.014764\tusing {'n_neighbors': 376}\n",
      "Accuracy: 0.709629\tstd: 0.019641\tusing {'n_neighbors': 381}\n",
      "Accuracy: 0.709614\tstd: 0.015926\tusing {'n_neighbors': 386}\n",
      "Accuracy: 0.707145\tstd: 0.017168\tusing {'n_neighbors': 391}\n",
      "Accuracy: 0.702145\tstd: 0.017601\tusing {'n_neighbors': 396}\n",
      "Accuracy: 0.703340\tstd: 0.019399\tusing {'n_neighbors': 401}\n",
      "Accuracy: 0.699582\tstd: 0.012161\tusing {'n_neighbors': 406}\n",
      "Accuracy: 0.694566\tstd: 0.009854\tusing {'n_neighbors': 411}\n",
      "Accuracy: 0.692066\tstd: 0.013219\tusing {'n_neighbors': 416}\n",
      "Accuracy: 0.688277\tstd: 0.017001\tusing {'n_neighbors': 421}\n",
      "Accuracy: 0.686988\tstd: 0.026141\tusing {'n_neighbors': 426}\n",
      "Accuracy: 0.673261\tstd: 0.023522\tusing {'n_neighbors': 431}\n",
      "Accuracy: 0.678261\tstd: 0.019697\tusing {'n_neighbors': 436}\n",
      "Accuracy: 0.672003\tstd: 0.020122\tusing {'n_neighbors': 441}\n",
      "Accuracy: 0.664534\tstd: 0.018652\tusing {'n_neighbors': 446}\n",
      "Accuracy: 0.658276\tstd: 0.024384\tusing {'n_neighbors': 451}\n",
      "Accuracy: 0.649486\tstd: 0.028424\tusing {'n_neighbors': 456}\n",
      "Accuracy: 0.635681\tstd: 0.034181\tusing {'n_neighbors': 461}\n",
      "Accuracy: 0.628181\tstd: 0.037857\tusing {'n_neighbors': 466}\n",
      "Accuracy: 0.615649\tstd: 0.033261\tusing {'n_neighbors': 471}\n",
      "Accuracy: 0.608149\tstd: 0.031007\tusing {'n_neighbors': 476}\n",
      "Accuracy: 0.590632\tstd: 0.031174\tusing {'n_neighbors': 481}\n",
      "Accuracy: 0.589390\tstd: 0.035457\tusing {'n_neighbors': 486}\n",
      "Accuracy: 0.573179\tstd: 0.020858\tusing {'n_neighbors': 491}\n",
      "Accuracy: 0.574421\tstd: 0.023010\tusing {'n_neighbors': 496}\n"
     ]
    },
    {
     "name": "stderr",
     "output_type": "stream",
     "text": [
      "C:\\Users\\min\\Anaconda3\\lib\\site-packages\\sklearn\\model_selection\\_search.py:761: DeprecationWarning: The grid_scores_ attribute was deprecated in version 0.18 in favor of the more elaborate cv_results_ attribute. The grid_scores_ attribute will not be available from 0.20\n",
      "  DeprecationWarning)\n"
     ]
    }
   ],
   "source": [
    "print(\"Highest Accuracy: %f with the %d of neighbors\\n\" %(grid_result.best_score_, grid_result.best_params_['n_neighbors']))\n",
    "for param, name, score in grid_result.grid_scores_:\n",
    "    print(\"Accuracy: %f\\tstd: %f\\tusing %r\" %(score.mean(), score.std(), param))"
   ]
  },
  {
   "cell_type": "code",
   "execution_count": 149,
   "metadata": {
    "collapsed": true
   },
   "outputs": [],
   "source": [
    "result = pd.DataFrame(columns=('accuracy', 'num_of_neighbors'))"
   ]
  },
  {
   "cell_type": "code",
   "execution_count": 150,
   "metadata": {
    "scrolled": true
   },
   "outputs": [
    {
     "name": "stderr",
     "output_type": "stream",
     "text": [
      "C:\\Users\\min\\Anaconda3\\lib\\site-packages\\sklearn\\model_selection\\_search.py:761: DeprecationWarning: The grid_scores_ attribute was deprecated in version 0.18 in favor of the more elaborate cv_results_ attribute. The grid_scores_ attribute will not be available from 0.20\n",
      "  DeprecationWarning)\n"
     ]
    }
   ],
   "source": [
    "for param, name, score in grid_result.grid_scores_:\n",
    "    result.loc[len(result)] = [score.mean(), param['n_neighbors']]"
   ]
  },
  {
   "cell_type": "code",
   "execution_count": 184,
   "metadata": {
    "scrolled": true
   },
   "outputs": [
    {
     "data": {
      "image/png": "[encoded data removed]",
      "text/plain": [
       "<matplotlib.figure.Figure at 0x14ef25e9278>"
      ]
     },
     "metadata": {},
     "output_type": "display_data"
    }
   ],
   "source": [
    "plt.rcParams['figure.figsize'] = (10, 5)\n",
    "plt.scatter(result['num_of_neighbors'], result['accuracy'])\n",
    "plt.plot([51, 51], [0.55, 0.78],  color = 'red', linewidth=3, linestyle = '--')\n",
    "plt.xlabel('number of neighbors')\n",
    "plt.ylabel('mean of accuracy')\n",
    "plt.title('Mean of accuracy by the numboer of neighbors')\n",
    "plt.show()"
   ]
  },
  {
   "cell_type": "markdown",
   "metadata": {},
   "source": [
    "### 3-2. Best Model Selection (k = 51)"
   ]
  },
  {
   "cell_type": "code",
   "execution_count": 152,
   "metadata": {},
   "outputs": [
    {
     "data": {
      "text/plain": [
       "KNeighborsClassifier(algorithm='auto', leaf_size=30, metric='minkowski',\n",
       "           metric_params=None, n_jobs=1, n_neighbors=51, p=2,\n",
       "           weights='uniform')"
      ]
     },
     "execution_count": 152,
     "metadata": {},
     "output_type": "execute_result"
    }
   ],
   "source": [
    "best_knn = grid_result.best_estimator_\n",
    "best_knn"
   ]
  },
  {
   "cell_type": "code",
   "execution_count": 153,
   "metadata": {
    "collapsed": true
   },
   "outputs": [],
   "source": [
    "y_pred = best_knn.predict(X_test_norm)"
   ]
  },
  {
   "cell_type": "markdown",
   "metadata": {},
   "source": [
    "### Confusion Matrix"
   ]
  },
  {
   "cell_type": "code",
   "execution_count": 154,
   "metadata": {
    "scrolled": false
   },
   "outputs": [
    {
     "name": "stdout",
     "output_type": "stream",
     "text": [
      "Confusion Matrix \n",
      "   TP  TN\n",
      " [[254  88]\n",
      " [133 325]] \n",
      "   FP  FN\n",
      "Sensitivity: 74.3%\n",
      "Specificity: 71.0%\n",
      "Accuracy   : 72.4%\n",
      "Gerneralisation Error : 27.6%\n"
     ]
    }
   ],
   "source": [
    "cm = confusion_matrix(y_test, y_pred) # should use y_pred as 1st parameter and y_test 2nd, please double check\n",
    "print('Confusion Matrix \\n   TP  TN\\n', cm,'\\n   FP  FN')\n",
    "sensitivity = (254/(254+88))*100\n",
    "specificity = (325/(133+325))*100\n",
    "print(\"Sensitivity: %.1f%%\\nSpecificity: %.1f%%\" %(sensitivity, specificity))\n",
    "print(\"Accuracy   : %.1f%%\" %(best_knn.score(X_test_norm, y_test)*100))\n",
    "print(\"Gerneralisation Error : %.1f%%\" %((1-best_knn.score(X_test_norm, y_test))*100))"
   ]
  },
  {
   "cell_type": "markdown",
   "metadata": {},
   "source": [
    "## How do you judge whether the classifier is well-suited for the data set?\n",
    " - •\tBefore applying the K-Nearest Neighbours ML technique, we checked the dataset for missing values, categorical values, and rare “classes of interest” (by looking at the output distribution), which would have required a strategic oversampling technique. Fortunately, the dataset was clean and well distributed, and so we only had to normalise the training dataset in the pre-processing phase. The best training model with k = 51 neighbours was built through 5-Fold cross-validation. This technique reduces the variance of the misclassification rate. Using cross-validation, our best accuracy was 75.7% with a test accuracy using the trained model of 72.4%. The accuracy difference is a mere 3.3% as the trained classifier has low variance. On top of that, we also found that the sensitivity (74.3%) and specificity (71.0%) were very close to the accuracy (72.4%) on the test dataset, which indicates that final classifier is unbiased. However, regarding the accuracy itself, it is hard to judge whether the final model with k = 51 is well-suited to classify the quality of a bottle of wine. If a wine manufacturer uses this classifier to check if the product meets specifications, about 27 bottles out of every 100 will be misclassified. Therefore, the final classifier has low variance but high bias for the data set. "
   ]
  },
  {
   "cell_type": "code",
   "execution_count": null,
   "metadata": {
    "collapsed": true
   },
   "outputs": [],
   "source": []
  }
 ],
 "metadata": {
  "kernelspec": {
   "display_name": "Python 3",
   "language": "python",
   "name": "python3"
  },
  "language_info": {
   "codemirror_mode": {
    "name": "ipython",
    "version": 3
   },
   "file_extension": ".py",
   "mimetype": "text/x-python",
   "name": "python",
   "nbconvert_exporter": "python",
   "pygments_lexer": "ipython3",
   "version": "3.6.3"
  }
 },
 "nbformat": 4,
 "nbformat_minor": 2
}
