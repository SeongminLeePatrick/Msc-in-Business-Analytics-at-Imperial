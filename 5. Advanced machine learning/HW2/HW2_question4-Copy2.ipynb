{
 "cells": [
  {
   "cell_type": "markdown",
   "metadata": {},
   "source": [
    "# Question 4"
   ]
  },
  {
   "cell_type": "code",
   "execution_count": 1,
   "metadata": {
    "collapsed": true
   },
   "outputs": [],
   "source": [
    "import pandas as pd\n",
    "import numpy as np\n",
    "import matplotlib.pyplot as plt\n",
    "from sklearn.linear_model import LogisticRegression\n",
    "from sklearn.tree import DecisionTreeClassifier\n",
    "from sklearn.ensemble import RandomForestClassifier\n",
    "from sklearn.ensemble import BaggingClassifier\n",
    "from sklearn.model_selection import GridSearchCV\n",
    "from sklearn.model_selection import train_test_split\n",
    "from sklearn.metrics import roc_curve, auc\n",
    "from sklearn import metrics\n",
    "\n",
    "%matplotlib inline"
   ]
  },
  {
   "cell_type": "code",
   "execution_count": 2,
   "metadata": {
    "collapsed": true,
    "scrolled": true
   },
   "outputs": [],
   "source": [
    "dataset = pd.read_csv('Tahoe_Healthcare_Data.csv')"
   ]
  },
  {
   "cell_type": "code",
   "execution_count": 3,
   "metadata": {
    "collapsed": true
   },
   "outputs": [],
   "source": [
    "X = dataset.iloc[:,0:6]\n",
    "y = dataset['readmit30']"
   ]
  },
  {
   "cell_type": "code",
   "execution_count": 4,
   "metadata": {
    "collapsed": true
   },
   "outputs": [],
   "source": [
    "X_train, X_test, y_train, y_test = train_test_split(X, y, test_size = 0.2, random_state = 123)"
   ]
  },
  {
   "cell_type": "markdown",
   "metadata": {},
   "source": [
    "## 1. Logistic Regression"
   ]
  },
  {
   "cell_type": "code",
   "execution_count": 5,
   "metadata": {},
   "outputs": [
    {
     "name": "stdout",
     "output_type": "stream",
     "text": [
      "Best Accuracy: 0.803743 using {'C': 0.1, 'penalty': 'l1'}\n"
     ]
    },
    {
     "data": {
      "text/plain": [
       "LogisticRegression(C=0.1, class_weight=None, dual=False, fit_intercept=True,\n",
       "          intercept_scaling=1, max_iter=100, multi_class='ovr', n_jobs=1,\n",
       "          penalty='l1', random_state=123, solver='liblinear', tol=0.0001,\n",
       "          verbose=0, warm_start=False)"
      ]
     },
     "execution_count": 5,
     "metadata": {},
     "output_type": "execute_result"
    }
   ],
   "source": [
    "#Logistic Regression\n",
    "penalty = ['l1']\n",
    "C = [0.0001, 0.001, 0.01, 0.1, 0.5, 1, 10, 100, 1000]\n",
    "param_grid = {'penalty':penalty, 'C':C}\n",
    "scoring = 'accuracy'\n",
    "\n",
    "logistic_model = LogisticRegression(random_state = 123)\n",
    "\n",
    "grid_lr = GridSearchCV(cv=5, estimator=logistic_model, param_grid=param_grid, scoring= scoring)\n",
    "grid_lr.fit(X, y)\n",
    "\n",
    "print(\"Best Accuracy: %f using %s\" %(grid_lr.best_score_, grid_lr.best_params_))\n",
    "LR_tuned_model = grid_lr.best_estimator_\n",
    "LR_tuned_model.fit(X_train, y_train)"
   ]
  },
  {
   "cell_type": "code",
   "execution_count": 6,
   "metadata": {
    "collapsed": true,
    "scrolled": true
   },
   "outputs": [],
   "source": [
    "y_pred = LR_tuned_model.predict(X_test)\n",
    "y_proba = LR_tuned_model.predict_proba(X_test)\n",
    "\n",
    "LR_fpr, LR_tpr, _ = roc_curve(y_true= y_test, y_score=y_proba[:, 1])\n",
    "LR_roc_auc = auc(LR_fpr, LR_tpr)"
   ]
  },
  {
   "cell_type": "markdown",
   "metadata": {},
   "source": [
    "## 2. CART"
   ]
  },
  {
   "cell_type": "code",
   "execution_count": 7,
   "metadata": {},
   "outputs": [
    {
     "name": "stdout",
     "output_type": "stream",
     "text": [
      "Best Accuracy: 0.786876 using {'class_weight': None, 'max_depth': 4}\n"
     ]
    },
    {
     "data": {
      "text/plain": [
       "DecisionTreeClassifier(class_weight=None, criterion='gini', max_depth=4,\n",
       "            max_features=None, max_leaf_nodes=None,\n",
       "            min_impurity_decrease=0.0, min_impurity_split=None,\n",
       "            min_samples_leaf=1, min_samples_split=2,\n",
       "            min_weight_fraction_leaf=0.0, presort=False, random_state=123,\n",
       "            splitter='best')"
      ]
     },
     "execution_count": 7,
     "metadata": {},
     "output_type": "execute_result"
    }
   ],
   "source": [
    "#CART\n",
    "class_weight_set = [None, 'balanced']\n",
    "max_depth_set = [3, 4, 5, 6, 7, 8, 9, 10]\n",
    "params = {'max_depth':max_depth_set, 'class_weight':class_weight_set}\n",
    "scoring = 'accuracy'\n",
    "\n",
    "CART= DecisionTreeClassifier(random_state = 123)\n",
    "\n",
    "grid_cart = GridSearchCV(cv=5, estimator=CART, param_grid=params, scoring=scoring)\n",
    "grid_cart.fit(X_train, y_train)\n",
    "\n",
    "print(\"Best Accuracy: %f using %s\" %(grid_cart.best_score_, grid_cart.best_params_))\n",
    "CART_tuned_model = grid_cart.best_estimator_\n",
    "CART_tuned_model.fit(X_train, y_train)"
   ]
  },
  {
   "cell_type": "code",
   "execution_count": 8,
   "metadata": {
    "collapsed": true
   },
   "outputs": [],
   "source": [
    "y_pred = CART_tuned_model.predict(X_test)\n",
    "y_proba = CART_tuned_model.predict_proba(X_test)\n",
    "\n",
    "CART_fpr, CART_tpr, _ = roc_curve(y_true= y_test, y_score=y_proba[:, 1])\n",
    "CART_roc_auc = auc(CART_fpr, CART_tpr)"
   ]
  },
  {
   "cell_type": "markdown",
   "metadata": {},
   "source": [
    "## 3. Random Forest"
   ]
  },
  {
   "cell_type": "code",
   "execution_count": 9,
   "metadata": {
    "scrolled": true
   },
   "outputs": [
    {
     "name": "stdout",
     "output_type": "stream",
     "text": [
      "Best Accuracy: 0.795720 using {'max_depth': 10, 'max_features': 'auto', 'min_samples_leaf': 4, 'min_samples_split': 10, 'n_estimators': 700}\n"
     ]
    },
    {
     "data": {
      "text/plain": [
       "RandomForestClassifier(bootstrap=True, class_weight=None, criterion='gini',\n",
       "            max_depth=10, max_features='auto', max_leaf_nodes=None,\n",
       "            min_impurity_decrease=0.0, min_impurity_split=None,\n",
       "            min_samples_leaf=4, min_samples_split=10,\n",
       "            min_weight_fraction_leaf=0.0, n_estimators=700, n_jobs=1,\n",
       "            oob_score=False, random_state=123, verbose=0, warm_start=False)"
      ]
     },
     "execution_count": 9,
     "metadata": {},
     "output_type": "execute_result"
    }
   ],
   "source": [
    "# RF\n",
    "n_estimators_set = [100, 300, 500, 700, 900]\n",
    "max_features_set = ['auto', 'sqrt']\n",
    "max_depth_set = [5, 10, 20, 30]\n",
    "min_samples_split_set = [2, 5, 10]\n",
    "min_samples_leaf_set = [1, 2, 4]\n",
    "\n",
    "scoring = 'accuracy'\n",
    "params = {'n_estimators':n_estimators_set, 'max_features':max_features_set, \n",
    "          'max_depth': max_depth_set,'min_samples_split':min_samples_split_set,\n",
    "          'min_samples_leaf': min_samples_leaf_set}\n",
    "\n",
    "RF = RandomForestClassifier(random_state = 123)\n",
    "\n",
    "grid_rf = GridSearchCV(cv = 5, estimator=RF, param_grid=params, scoring = scoring)\n",
    "grid_rf.fit(X_train, y_train)\n",
    "\n",
    "print(\"Best Accuracy: %f using %s\" %(grid_rf.best_score_, grid_rf.best_params_))\n",
    "RF_tuned_model = grid_rf.best_estimator_\n",
    "RF_tuned_model.fit(X_train, y_train)"
   ]
  },
  {
   "cell_type": "code",
   "execution_count": 10,
   "metadata": {
    "collapsed": true
   },
   "outputs": [],
   "source": [
    "y_pred = RF_tuned_model.predict(X_test)\n",
    "y_proba = RF_tuned_model.predict_proba(X_test)\n",
    "\n",
    "RF_fpr, RF_tpr, _ = roc_curve(y_true=y_test,y_score=y_proba[:, 1])\n",
    "RF_roc_auc = auc(RF_fpr, RF_tpr)"
   ]
  },
  {
   "cell_type": "markdown",
   "metadata": {},
   "source": [
    "## 4. Bagging"
   ]
  },
  {
   "cell_type": "code",
   "execution_count": 11,
   "metadata": {},
   "outputs": [
    {
     "name": "stdout",
     "output_type": "stream",
     "text": [
      "Best Accuracy: 0.784879 using {'max_features': 4, 'n_estimators': 100}\n"
     ]
    },
    {
     "data": {
      "text/plain": [
       "BaggingClassifier(base_estimator=DecisionTreeClassifier(class_weight=None, criterion='gini', max_depth=None,\n",
       "            max_features=None, max_leaf_nodes=None,\n",
       "            min_impurity_decrease=0.0, min_impurity_split=None,\n",
       "            min_samples_leaf=1, min_samples_split=2,\n",
       "            min_weight_fraction_leaf=0.0, presort=False, random_state=123,\n",
       "            splitter='best'),\n",
       "         bootstrap=True, bootstrap_features=False, max_features=4,\n",
       "         max_samples=1.0, n_estimators=100, n_jobs=1, oob_score=False,\n",
       "         random_state=None, verbose=0, warm_start=False)"
      ]
     },
     "execution_count": 11,
     "metadata": {},
     "output_type": "execute_result"
    }
   ],
   "source": [
    "#Bagging\n",
    "n_estimators_set = [100, 300, 500, 700, 900, 1100, 1300]\n",
    "max_features_set = [1, 2, 3, 4, 5, 6]\n",
    "scoring = 'accuracy'\n",
    "\n",
    "params_set = {'n_estimators':n_estimators_set, 'max_features':max_features_set}\n",
    "\n",
    "cart = DecisionTreeClassifier(random_state=123)\n",
    "Bagging = BaggingClassifier(base_estimator=cart)\n",
    "\n",
    "grid_bagging= GridSearchCV(cv=5, estimator=Bagging, param_grid = params_set, scoring=scoring)\n",
    "grid_bagging.fit(X_train, y_train)\n",
    "\n",
    "print(\"Best Accuracy: %f using %s\" %(grid_bagging.best_score_, grid_bagging.best_params_))\n",
    "Bagging_tuned_model = grid_bagging.best_estimator_\n",
    "Bagging_tuned_model.fit(X_train, y_train)"
   ]
  },
  {
   "cell_type": "code",
   "execution_count": 12,
   "metadata": {
    "collapsed": true
   },
   "outputs": [],
   "source": [
    "y_pred = Bagging_tuned_model.predict(X_test)\n",
    "y_proba = Bagging_tuned_model.predict_proba(X_test)\n",
    "\n",
    "Bagging_fpr, Bagging_tpr, _ = roc_curve(y_score=y_proba[:, 1], y_true=y_test)\n",
    "Bagging_roc_auc = auc(Bagging_fpr, Bagging_tpr)"
   ]
  },
  {
   "cell_type": "markdown",
   "metadata": {},
   "source": [
    "## 5. Model Comparison in Area Under Curve"
   ]
  },
  {
   "cell_type": "code",
   "execution_count": 13,
   "metadata": {},
   "outputs": [
    {
     "data": {
      "image/png": "[encoded data removed]",
      "text/plain": [
       "<matplotlib.figure.Figure at 0x2cc5ebe5a90>"
      ]
     },
     "metadata": {},
     "output_type": "display_data"
    },
    {
     "name": "stdout",
     "output_type": "stream",
     "text": [
      "\n",
      "Area under Curve(AUC) in the testset\n",
      "\n",
      "Random Forest : 0.793 using {'max_depth': 10, 'max_features': 'auto', 'min_samples_leaf': 4, 'min_samples_split': 10, 'n_estimators': 700}\n",
      "Logistic Regression : 0.810 using {'C': 0.1, 'penalty': 'l1'}\n",
      "Decision Tree : 0.789 using {'class_weight': None, 'max_depth': 4}\n",
      "Bagging : 0.740 using {'max_features': 4, 'n_estimators': 100}\n"
     ]
    }
   ],
   "source": [
    "plt.rcParams['figure.figsize'] = (6, 6)\n",
    "plt.title('Receiver Operating Characteristic\\n', fontsize = 15)\n",
    "plt.plot(RF_fpr, RF_tpr, 'g', label = 'RF AUC = %0.3f' % RF_roc_auc)\n",
    "plt.plot(LR_fpr, LR_tpr, 'b', label = 'LR AUC = %0.3f' % LR_roc_auc)\n",
    "plt.plot(CART_fpr, CART_tpr, 'r', label = 'CART AUC = %0.3f' % CART_roc_auc)\n",
    "plt.plot(Bagging_fpr, Bagging_tpr, 'orange', label = 'Bagging AUC = %0.3f' %Bagging_roc_auc)\n",
    "plt.plot([0, 1], [0, 1],'r--')\n",
    "plt.xlim([0, 1])\n",
    "plt.ylim([0, 1])\n",
    "plt.ylabel('True Positive Rate', fontsize =15)\n",
    "plt.xlabel('False Positive Rate', fontsize = 15)\n",
    "#plt.text(x = 0.41, y = 0.28, s='Logistic AUC = 0.79', fontsize = 15, color = 'b')\n",
    "#plt.text(x = 0.4, y = 0.2, s='Severity AUC = 0.66', fontsize = 15, color = 'g')\n",
    "plt.legend(fontsize = 13, loc = 'lower right')\n",
    "plt.savefig('ROC_curve.png', bbox_inches='tight')\n",
    "plt.show()\n",
    "print(\"\\nArea under Curve(AUC) in the testset\\n\")\n",
    "print(\"Random Forest : %0.3f using %s\" %(RF_roc_auc, grid_rf.best_params_))\n",
    "print(\"Logistic Regression : %0.3f using %s\" %(LR_roc_auc, grid_lr.best_params_))\n",
    "print(\"Decision Tree : %0.3f using %s\" %(CART_roc_auc, grid_cart.best_params_))\n",
    "print(\"Bagging : %0.3f using %s\" %(Bagging_roc_auc, grid_bagging.best_params_))"
   ]
  },
  {
   "cell_type": "markdown",
   "metadata": {},
   "source": [
    "To find out the best classifier in the five fold cross-validation method, the grid search has been applied to optimise the parameters as above. As a result, by changing the seed, there are many turnovers between the random forest and logistic regression in terms of the area under curve. Although it is arduous to point out the best model among the four classifiers, there is a certain tendency that the two models always perform better than the deicision tree and bagging models. Furthermore, considering that the grid search for the random forest is required to make use of a lot more expensive computation than the other models, the logistic regression classifier is a better option to apply in view of the time-efficiency."
   ]
  },
  {
   "cell_type": "markdown",
   "metadata": {},
   "source": [
    "## Question 2"
   ]
  },
  {
   "cell_type": "markdown",
   "metadata": {},
   "source": [
    "### i)"
   ]
  },
  {
   "cell_type": "markdown",
   "metadata": {},
   "source": [
    "Normal approximation"
   ]
  },
  {
   "cell_type": "markdown",
   "metadata": {},
   "source": [
    "### ii)"
   ]
  },
  {
   "cell_type": "markdown",
   "metadata": {},
   "source": []
  },
  {
   "cell_type": "markdown",
   "metadata": {},
   "source": [
    "### iii)"
   ]
  },
  {
   "cell_type": "markdown",
   "metadata": {},
   "source": []
  },
  {
   "cell_type": "markdown",
   "metadata": {},
   "source": [
    "### iV)"
   ]
  },
  {
   "cell_type": "markdown",
   "metadata": {},
   "source": [
    "If each parking lot has a different capacity for parking, then the p hat could be biased. "
   ]
  },
  {
   "cell_type": "markdown",
   "metadata": {
    "collapsed": true
   },
   "source": [
    "## Question 3"
   ]
  },
  {
   "cell_type": "code",
   "execution_count": 14,
   "metadata": {
    "collapsed": true
   },
   "outputs": [],
   "source": [
    "scafflaw_result = [{'x': 4, 'z':12}, {'x': 3, 'z':8}, {'x': 3, 'z':9}, \n",
    "                   {'x': 3, 'z':16}, {'x': 2, 'z':7}, {'x': 4, 'z':15},\n",
    "                   {'x': 4, 'z':10}, {'x': 3, 'z':15}, {'x': 2, 'z':6},\n",
    "                   {'x': 1, 'z':12}, {'x': 3, 'z':8}, {'x': 2, 'z':14}]\n",
    "\n",
    "data_scff = pd.DataFrame(columns=['x', 'z'], data=scafflaw_result)"
   ]
  },
  {
   "cell_type": "code",
   "execution_count": 15,
   "metadata": {},
   "outputs": [
    {
     "data": {
      "text/html": [
       "<div>\n",
       "<style>\n",
       "    .dataframe thead tr:only-child th {\n",
       "        text-align: right;\n",
       "    }\n",
       "\n",
       "    .dataframe thead th {\n",
       "        text-align: left;\n",
       "    }\n",
       "\n",
       "    .dataframe tbody tr th {\n",
       "        vertical-align: top;\n",
       "    }\n",
       "</style>\n",
       "<table border=\"1\" class=\"dataframe\">\n",
       "  <thead>\n",
       "    <tr style=\"text-align: right;\">\n",
       "      <th></th>\n",
       "      <th>x</th>\n",
       "      <th>z</th>\n",
       "    </tr>\n",
       "  </thead>\n",
       "  <tbody>\n",
       "    <tr>\n",
       "      <th>0</th>\n",
       "      <td>4</td>\n",
       "      <td>12</td>\n",
       "    </tr>\n",
       "    <tr>\n",
       "      <th>1</th>\n",
       "      <td>3</td>\n",
       "      <td>8</td>\n",
       "    </tr>\n",
       "    <tr>\n",
       "      <th>2</th>\n",
       "      <td>3</td>\n",
       "      <td>9</td>\n",
       "    </tr>\n",
       "    <tr>\n",
       "      <th>3</th>\n",
       "      <td>3</td>\n",
       "      <td>16</td>\n",
       "    </tr>\n",
       "    <tr>\n",
       "      <th>4</th>\n",
       "      <td>2</td>\n",
       "      <td>7</td>\n",
       "    </tr>\n",
       "    <tr>\n",
       "      <th>5</th>\n",
       "      <td>4</td>\n",
       "      <td>15</td>\n",
       "    </tr>\n",
       "    <tr>\n",
       "      <th>6</th>\n",
       "      <td>4</td>\n",
       "      <td>10</td>\n",
       "    </tr>\n",
       "    <tr>\n",
       "      <th>7</th>\n",
       "      <td>3</td>\n",
       "      <td>15</td>\n",
       "    </tr>\n",
       "    <tr>\n",
       "      <th>8</th>\n",
       "      <td>2</td>\n",
       "      <td>6</td>\n",
       "    </tr>\n",
       "    <tr>\n",
       "      <th>9</th>\n",
       "      <td>1</td>\n",
       "      <td>12</td>\n",
       "    </tr>\n",
       "    <tr>\n",
       "      <th>10</th>\n",
       "      <td>3</td>\n",
       "      <td>8</td>\n",
       "    </tr>\n",
       "    <tr>\n",
       "      <th>11</th>\n",
       "      <td>2</td>\n",
       "      <td>14</td>\n",
       "    </tr>\n",
       "  </tbody>\n",
       "</table>\n",
       "</div>"
      ],
      "text/plain": [
       "    x   z\n",
       "0   4  12\n",
       "1   3   8\n",
       "2   3   9\n",
       "3   3  16\n",
       "4   2   7\n",
       "5   4  15\n",
       "6   4  10\n",
       "7   3  15\n",
       "8   2   6\n",
       "9   1  12\n",
       "10  3   8\n",
       "11  2  14"
      ]
     },
     "execution_count": 15,
     "metadata": {},
     "output_type": "execute_result"
    }
   ],
   "source": [
    "data_scff"
   ]
  },
  {
   "cell_type": "markdown",
   "metadata": {},
   "source": [
    "### i)"
   ]
  },
  {
   "cell_type": "code",
   "execution_count": 16,
   "metadata": {},
   "outputs": [
    {
     "name": "stdout",
     "output_type": "stream",
     "text": [
      "p_hat: 0.258\n"
     ]
    }
   ],
   "source": [
    "p_hat = data_scff.x.sum()/data_scff.z.sum()\n",
    "print(\"p_hat: %0.3f\" %(p_hat))"
   ]
  },
  {
   "cell_type": "markdown",
   "metadata": {},
   "source": [
    "### ii)"
   ]
  },
  {
   "cell_type": "code",
   "execution_count": 17,
   "metadata": {
    "scrolled": true
   },
   "outputs": [
    {
     "data": {
      "image/png": "[encoded data removed]",
      "text/plain": [
       "<matplotlib.figure.Figure at 0x2cc5ec7e390>"
      ]
     },
     "metadata": {},
     "output_type": "display_data"
    }
   ],
   "source": [
    "data_scff.hist()\n",
    "plt.show()"
   ]
  },
  {
   "cell_type": "markdown",
   "metadata": {},
   "source": [
    "### iii) Emperical Distribution"
   ]
  },
  {
   "cell_type": "markdown",
   "metadata": {},
   "source": [
    "### iv)"
   ]
  },
  {
   "cell_type": "code",
   "execution_count": 18,
   "metadata": {},
   "outputs": [
    {
     "name": "stdout",
     "output_type": "stream",
     "text": [
      "Bootstrap : p_hat_b: 0.260, std: 0.029\n",
      "Original  : p_hat: 0.258\n"
     ]
    }
   ],
   "source": [
    "proba_list = []\n",
    "for i in range(1000):\n",
    "    sampling = data_scff.sample(n = 12, replace = True)\n",
    "    proba = sampling.x.sum()/sampling.z.sum()\n",
    "    proba_list.append(proba)\n",
    "\n",
    "print(\"Bootstrap : p_hat_b: %0.3f, std: %0.3f\" %(np.mean(proba_list), np.std(proba_list)))\n",
    "#original dataset\n",
    "print(\"Original  : p_hat: %0.3f\" %(data_scff.x.sum()/data_scff.z.sum()))"
   ]
  },
  {
   "cell_type": "code",
   "execution_count": 19,
   "metadata": {},
   "outputs": [
    {
     "data": {
      "text/plain": [
       "0.0026701173975421377"
      ]
     },
     "execution_count": 19,
     "metadata": {},
     "output_type": "execute_result"
    }
   ],
   "source": [
    "np.mean(proba_list) - p_hat"
   ]
  },
  {
   "cell_type": "markdown",
   "metadata": {},
   "source": [
    "### V)"
   ]
  },
  {
   "cell_type": "code",
   "execution_count": 20,
   "metadata": {
    "scrolled": true
   },
   "outputs": [
    {
     "name": "stdout",
     "output_type": "stream",
     "text": [
      "p_hat at the 95% Confidence interval: 0.204 < p_hat < 0.318\n"
     ]
    }
   ],
   "source": [
    "# confidence intervals\n",
    "alpha = 0.95\n",
    "ordered = np.sort(proba_list)\n",
    "p = ((1.0-alpha)/2.0) * 100\n",
    "lower = max(0.0, np.percentile(ordered, p))\n",
    "p = (alpha+((1.0-alpha)/2.0)) * 100\n",
    "upper = min(1.0, np.percentile(ordered, p))\n",
    "\n",
    "print(\"p_hat at the 95%% Confidence interval: %0.3f < p_hat < %0.3f\" %(lower, upper))"
   ]
  },
  {
   "cell_type": "markdown",
   "metadata": {},
   "source": [
    "### Vi)"
   ]
  },
  {
   "cell_type": "code",
   "execution_count": 21,
   "metadata": {
    "scrolled": true
   },
   "outputs": [
    {
     "data": {
      "image/png": "[encoded data removed]",
      "text/plain": [
       "<matplotlib.figure.Figure at 0x2cc5ebe5208>"
      ]
     },
     "metadata": {},
     "output_type": "display_data"
    }
   ],
   "source": [
    "pd.DataFrame(proba_list).hist()\n",
    "plt.axvline(x=[np.mean(proba_list)], color = 'b', linestyle='--')\n",
    "plt.xlabel('p_hat', fontsize = 15)\n",
    "plt.title('Histogram via Bootstrap', fontsize = 15)\n",
    "#plt.text(x = 0.37, y = 230, s='p_hat: ', fontsize = 15, color = 'b')\n",
    "#plt.text(x = 0.37, y = 200, s='Saving Cost = $503,200', fontsize = 15, color = 'b')\n",
    "plt.show()"
   ]
  },
  {
   "cell_type": "code",
   "execution_count": null,
   "metadata": {
    "collapsed": true
   },
   "outputs": [],
   "source": []
  }
 ],
 "metadata": {
  "kernelspec": {
   "display_name": "Python 3",
   "language": "python",
   "name": "python3"
  },
  "language_info": {
   "codemirror_mode": {
    "name": "ipython",
    "version": 3
   },
   "file_extension": ".py",
   "mimetype": "text/x-python",
   "name": "python",
   "nbconvert_exporter": "python",
   "pygments_lexer": "ipython3",
   "version": "3.6.3"
  }
 },
 "nbformat": 4,
 "nbformat_minor": 2
}
