{
 "cells": [
  {
   "cell_type": "markdown",
   "metadata": {},
   "source": [
    "# Question 4"
   ]
  },
  {
   "cell_type": "code",
   "execution_count": 1,
   "metadata": {
    "collapsed": true
   },
   "outputs": [],
   "source": [
    "import pandas as pd\n",
    "import numpy as np\n",
    "import matplotlib.pyplot as plt\n",
    "from sklearn.linear_model import LogisticRegression\n",
    "from sklearn.tree import DecisionTreeClassifier\n",
    "from sklearn.ensemble import RandomForestClassifier\n",
    "from sklearn.ensemble import BaggingClassifier\n",
    "from sklearn.model_selection import GridSearchCV\n",
    "from sklearn.model_selection import train_test_split\n",
    "from sklearn.metrics import roc_curve, auc\n",
    "from sklearn import metrics\n",
    "\n",
    "%matplotlib inline"
   ]
  },
  {
   "cell_type": "code",
   "execution_count": 2,
   "metadata": {
    "collapsed": true,
    "scrolled": true
   },
   "outputs": [],
   "source": [
    "dataset = pd.read_csv('Tahoe_Healthcare_Data.csv')\n",
    "X = dataset.iloc[:,0:6]\n",
    "y = dataset['readmit30']\n",
    "X_train, X_test, y_train, y_test = train_test_split(X, y, test_size = 0.2, \n",
    "                                                    random_state = 321)"
   ]
  },
  {
   "cell_type": "markdown",
   "metadata": {},
   "source": [
    "## Logistic Regression"
   ]
  },
  {
   "cell_type": "code",
   "execution_count": 26,
   "metadata": {},
   "outputs": [
    {
     "name": "stdout",
     "output_type": "stream",
     "text": [
      "Best Accuracy: 0.803743 using {'C': 0.1, 'penalty': 'l1'}\n"
     ]
    },
    {
     "data": {
      "text/plain": [
       "LogisticRegression(C=0.1, class_weight=None, dual=False, fit_intercept=True,\n",
       "          intercept_scaling=1, max_iter=100, multi_class='ovr', n_jobs=1,\n",
       "          penalty='l1', random_state=123, solver='liblinear', tol=0.0001,\n",
       "          verbose=0, warm_start=False)"
      ]
     },
     "execution_count": 26,
     "metadata": {},
     "output_type": "execute_result"
    }
   ],
   "source": [
    "#Logistic Regression\n",
    "penalty = ['l1']\n",
    "C = [0.0001, 0.001, 0.01, 0.1, 0.5, 1, 10, 100, 1000]\n",
    "param_grid = {'penalty':penalty, 'C':C}\n",
    "scoring = 'accuracy'\n",
    "\n",
    "logistic_model = LogisticRegression(random_state = 123)\n",
    "\n",
    "grid_lr = GridSearchCV(cv=5, estimator=logistic_model, \n",
    "                       param_grid=param_grid, scoring= scoring)\n",
    "grid_lr.fit(X, y)\n",
    "\n",
    "print(\"Best Accuracy: %f using %s\" %(grid_lr.best_score_, \n",
    "                                     grid_lr.best_params_))\n",
    "LR_tuned_model = grid_lr.best_estimator_\n",
    "LR_tuned_model.fit(X_train, y_train)"
   ]
  },
  {
   "cell_type": "code",
   "execution_count": 27,
   "metadata": {
    "collapsed": true,
    "scrolled": true
   },
   "outputs": [],
   "source": [
    "y_pred = LR_tuned_model.predict(X_test)\n",
    "y_proba = LR_tuned_model.predict_proba(X_test)\n",
    "\n",
    "LR_fpr, LR_tpr, _ = roc_curve(y_true= y_test, y_score=y_proba[:, 1])\n",
    "LR_roc_auc = auc(LR_fpr, LR_tpr)"
   ]
  },
  {
   "cell_type": "markdown",
   "metadata": {},
   "source": [
    "## CART"
   ]
  },
  {
   "cell_type": "code",
   "execution_count": 28,
   "metadata": {
    "scrolled": true
   },
   "outputs": [
    {
     "name": "stdout",
     "output_type": "stream",
     "text": [
      "Best Accuracy: 0.792582 using {'class_weight': None, 'max_depth': 4}\n"
     ]
    },
    {
     "data": {
      "text/plain": [
       "DecisionTreeClassifier(class_weight=None, criterion='gini', max_depth=4,\n",
       "            max_features=None, max_leaf_nodes=None,\n",
       "            min_impurity_decrease=0.0, min_impurity_split=None,\n",
       "            min_samples_leaf=1, min_samples_split=2,\n",
       "            min_weight_fraction_leaf=0.0, presort=False, random_state=123,\n",
       "            splitter='best')"
      ]
     },
     "execution_count": 28,
     "metadata": {},
     "output_type": "execute_result"
    }
   ],
   "source": [
    "#CART\n",
    "class_weight_set = [None, 'balanced']\n",
    "max_depth_set = [3, 4, 5, 6, 7, 8, 9, 10]\n",
    "params = {'max_depth':max_depth_set, 'class_weight':class_weight_set}\n",
    "scoring = 'accuracy'\n",
    "\n",
    "CART= DecisionTreeClassifier(random_state = 123)\n",
    "\n",
    "grid_cart = GridSearchCV(cv=5, estimator=CART, \n",
    "                         param_grid=params, scoring=scoring)\n",
    "grid_cart.fit(X_train, y_train)\n",
    "\n",
    "print(\"Best Accuracy: %f using %s\" %(grid_cart.best_score_, \n",
    "                                     grid_cart.best_params_))\n",
    "CART_tuned_model = grid_cart.best_estimator_\n",
    "CART_tuned_model.fit(X_train, y_train)"
   ]
  },
  {
   "cell_type": "code",
   "execution_count": 29,
   "metadata": {
    "collapsed": true
   },
   "outputs": [],
   "source": [
    "y_pred = CART_tuned_model.predict(X_test)\n",
    "y_proba = CART_tuned_model.predict_proba(X_test)\n",
    "\n",
    "CART_fpr, CART_tpr, _ = roc_curve(y_true= y_test, \n",
    "                                  y_score=y_proba[:, 1])\n",
    "CART_roc_auc = auc(CART_fpr, CART_tpr)"
   ]
  },
  {
   "cell_type": "markdown",
   "metadata": {},
   "source": [
    "## Random Forest"
   ]
  },
  {
   "cell_type": "code",
   "execution_count": 3,
   "metadata": {
    "scrolled": false
   },
   "outputs": [
    {
     "name": "stdout",
     "output_type": "stream",
     "text": [
      "Best Accuracy: 0.801712 with the number of features: 6\n"
     ]
    }
   ],
   "source": [
    "# RF\n",
    "#n_estimators_set = [100, 300, 500, 700, 900]\n",
    "#max_features_set = ['auto',1, 2, 3, 4, 5, 6]\n",
    "#min_samples_split_set = [2, 5, 10]\n",
    "#min_samples_leaf_set = [1, 2, 4]\n",
    "#max_depth_set = [5, 10, 20, 30]\n",
    "n_estimators_set = [900]\n",
    "max_features_set = [6]\n",
    "max_depth_set = [5]\n",
    "\n",
    "\n",
    "rf_models = dict()\n",
    "\n",
    "scoring = 'accuracy'\n",
    "\n",
    "for m in max_features_set:\n",
    "    params = {'n_estimators':n_estimators_set,'max_depth': max_depth_set}\n",
    "    RF = RandomForestClassifier(random_state = 123, max_features=m)\n",
    "    grid_rf = GridSearchCV(cv = 5, estimator=RF, param_grid=params, \n",
    "                           scoring = scoring, n_jobs= -1)\n",
    "    grid_rf.fit(X_train, y_train)\n",
    "    rf_models[m] = grid_rf.best_estimator_\n",
    "    print(\"Best Accuracy: %f with the number of features: %s\" \n",
    "          %(grid_rf.best_score_,  m))\n",
    "    \n",
    "#RF_tuned_model = grid_rf.best_estimator_\n",
    "#RF_tuned_model.fit(X_train, y_train)"
   ]
  },
  {
   "cell_type": "code",
   "execution_count": 31,
   "metadata": {
    "scrolled": true
   },
   "outputs": [
    {
     "data": {
      "text/plain": [
       "RandomForestClassifier(bootstrap=True, class_weight=None, criterion='gini',\n",
       "            max_depth=5, max_features=4, max_leaf_nodes=None,\n",
       "            min_impurity_decrease=0.0, min_impurity_split=None,\n",
       "            min_samples_leaf=1, min_samples_split=2,\n",
       "            min_weight_fraction_leaf=0.0, n_estimators=900, n_jobs=1,\n",
       "            oob_score=False, random_state=123, verbose=0, warm_start=False)"
      ]
     },
     "execution_count": 31,
     "metadata": {},
     "output_type": "execute_result"
    }
   ],
   "source": [
    "RF_tuned_model = rf_models[4] # best model at m = 4\n",
    "RF_tuned_model.fit(X_train, y_train)"
   ]
  },
  {
   "cell_type": "code",
   "execution_count": 32,
   "metadata": {
    "collapsed": true
   },
   "outputs": [],
   "source": [
    "y_pred = RF_tuned_model.predict(X_test)\n",
    "y_proba = RF_tuned_model.predict_proba(X_test)\n",
    "\n",
    "RF_fpr, RF_tpr, _ = roc_curve(y_true=y_test,\n",
    "                              y_score=y_proba[:, 1])\n",
    "RF_roc_auc = auc(RF_fpr, RF_tpr)"
   ]
  },
  {
   "cell_type": "markdown",
   "metadata": {},
   "source": [
    "## Bagging"
   ]
  },
  {
   "cell_type": "code",
   "execution_count": 4,
   "metadata": {
    "scrolled": false
   },
   "outputs": [
    {
     "name": "stdout",
     "output_type": "stream",
     "text": [
      "Best Accuracy: 0.798859 using {'max_features': 6, 'n_estimators': 900}\n"
     ]
    },
    {
     "data": {
      "text/plain": [
       "BaggingClassifier(base_estimator=DecisionTreeClassifier(class_weight=None, criterion='gini', max_depth=5,\n",
       "            max_features=None, max_leaf_nodes=None,\n",
       "            min_impurity_decrease=0.0, min_impurity_split=None,\n",
       "            min_samples_leaf=1, min_samples_split=2,\n",
       "            min_weight_fraction_leaf=0.0, presort=False, random_state=123,\n",
       "            splitter='best'),\n",
       "         bootstrap=True, bootstrap_features=False, max_features=6,\n",
       "         max_samples=1.0, n_estimators=900, n_jobs=1, oob_score=False,\n",
       "         random_state=None, verbose=0, warm_start=False)"
      ]
     },
     "execution_count": 4,
     "metadata": {},
     "output_type": "execute_result"
    }
   ],
   "source": [
    "#Bagging\n",
    "#n_estimators_set = [100, 300, 500, 700, 900, 1100, 1300]\n",
    "#max_features_set = [1, 2, 3, 4, 5, 6]\n",
    "n_estimators_set = [900]\n",
    "max_features_set = [6]\n",
    "scoring = 'accuracy'\n",
    "\n",
    "params_set = {'n_estimators':n_estimators_set, \n",
    "              'max_features':max_features_set}\n",
    "\n",
    "cart = DecisionTreeClassifier(random_state=123, max_depth= 5)\n",
    "Bagging = BaggingClassifier(base_estimator=cart)\n",
    "\n",
    "grid_bagging= GridSearchCV(cv=5, estimator=Bagging, param_grid = params_set, \n",
    "                           scoring=scoring, n_jobs=-1)\n",
    "grid_bagging.fit(X_train, y_train)\n",
    "\n",
    "print(\"Best Accuracy: %f using %s\" %(grid_bagging.best_score_, \n",
    "                                     grid_bagging.best_params_))\n",
    "Bagging_tuned_model = grid_bagging.best_estimator_\n",
    "Bagging_tuned_model.fit(X_train, y_train)"
   ]
  },
  {
   "cell_type": "code",
   "execution_count": 34,
   "metadata": {
    "collapsed": true
   },
   "outputs": [],
   "source": [
    "y_pred = Bagging_tuned_model.predict(X_test)\n",
    "y_proba = Bagging_tuned_model.predict_proba(X_test)\n",
    "\n",
    "Bagging_fpr, Bagging_tpr, _ = roc_curve(y_score=y_proba[:, 1], \n",
    "                                        y_true=y_test)\n",
    "Bagging_roc_auc = auc(Bagging_fpr, Bagging_tpr)"
   ]
  },
  {
   "cell_type": "markdown",
   "metadata": {},
   "source": [
    "## Model Comparison in Area Under Curve"
   ]
  },
  {
   "cell_type": "code",
   "execution_count": 36,
   "metadata": {
    "scrolled": false
   },
   "outputs": [
    {
     "data": {
      "image/png": "[encoded data removed]",
      "text/plain": [
       "<matplotlib.figure.Figure at 0x1a77000bb38>"
      ]
     },
     "metadata": {},
     "output_type": "display_data"
    },
    {
     "name": "stdout",
     "output_type": "stream",
     "text": [
      "Area under Curve(AUC) in the testset\n",
      "\n",
      "Random Forest : 0.788 using the number of features: 4\n",
      "Logistic Regression : 0.783 using {'C': 0.1, 'penalty': 'l1'}\n",
      "Decision Tree : 0.762 using {'class_weight': None, 'max_depth': 4}\n",
      "Bagging : 0.744 using {'max_features': 4, 'n_estimators': 1100}\n"
     ]
    }
   ],
   "source": [
    "plt.rcParams['figure.figsize'] = (4, 4)\n",
    "plt.title('Receiver Operating Characteristic\\n', fontsize = 15)\n",
    "plt.plot(RF_fpr, RF_tpr, 'g', label = 'RF AUC = %0.3f' % RF_roc_auc)\n",
    "plt.plot(LR_fpr, LR_tpr, 'b', label = 'LR AUC = %0.3f' % LR_roc_auc)\n",
    "plt.plot(CART_fpr, CART_tpr, 'r', label = 'CART AUC = %0.3f' % CART_roc_auc)\n",
    "plt.plot(Bagging_fpr, Bagging_tpr, 'orange', label = 'Bagging AUC = %0.3f' %Bagging_roc_auc)\n",
    "plt.plot([0, 1], [0, 1],'r--')\n",
    "plt.xlim([0, 1])\n",
    "plt.ylim([0, 1])\n",
    "plt.ylabel('True Positive Rate', fontsize =15)\n",
    "plt.xlabel('False Positive Rate', fontsize = 15)\n",
    "#plt.text(x = 0.41, y = 0.28, s='Logistic AUC = 0.79', fontsize = 15, color = 'b')\n",
    "#plt.text(x = 0.4, y = 0.2, s='Severity AUC = 0.66', fontsize = 15, color = 'g')\n",
    "plt.legend(fontsize = 13, loc = 'lower right')\n",
    "plt.savefig('ROC_curve.png', bbox_inches='tight')\n",
    "plt.show()\n",
    "print(\"Area under Curve(AUC) in the testset\\n\")\n",
    "print(\"Random Forest : %0.3f using the number of features: 4\" %(RF_roc_auc))\n",
    "print(\"Logistic Regression : %0.3f using %s\" %(LR_roc_auc, grid_lr.best_params_))\n",
    "print(\"Decision Tree : %0.3f using %s\" %(CART_roc_auc, grid_cart.best_params_))\n",
    "print(\"Bagging : %0.3f using %s\" %(Bagging_roc_auc, grid_bagging.best_params_))"
   ]
  },
  {
   "cell_type": "markdown",
   "metadata": {},
   "source": [
    "To find out the best classifier in the five fold cross-validation method, the grid search has been applied to optimise the parameters as above. As a result, by changing the seed, there are many turnovers between the random forest and logistic regression in terms of the area under curve. Although it is arduous to point out the best model among the four classifiers, there is a certain tendency that the random forest and logistic regression always perform better than the deicision tree and bagging models. The best number of the features on the random forest is 4 with the 900 estimator, which gives the best AUC of 0.788. In addition, the logistic regression has the best outcome applied by the lasso regression with lambda of 0.1. Overall, considering that the grid search for the random forest is required to make use of a lot more expensive computation than the other models, the logistic regression classifier is a better option to use for saving the cost in terms of time-efficiency. "
   ]
  }
 ],
 "metadata": {
  "kernelspec": {
   "display_name": "Python 3",
   "language": "python",
   "name": "python3"
  },
  "language_info": {
   "codemirror_mode": {
    "name": "ipython",
    "version": 3
   },
   "file_extension": ".py",
   "mimetype": "text/x-python",
   "name": "python",
   "nbconvert_exporter": "python",
   "pygments_lexer": "ipython3",
   "version": "3.6.3"
  }
 },
 "nbformat": 4,
 "nbformat_minor": 2
}
